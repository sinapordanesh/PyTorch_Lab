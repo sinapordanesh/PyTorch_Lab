{
  "cells": [
    {
      "cell_type": "markdown",
      "metadata": {
        "id": "2RjSNIzW2JPr"
      },
      "source": [
        "# Clustering"
      ]
    },
    {
      "cell_type": "markdown",
      "metadata": {
        "id": "mFftSYG02JPs"
      },
      "source": [
        "Clustering techniques are unsupervised learning algorithms that try to group unlabelled data into \"clusters\", using the (typically spatial) structure of the data itself. It has many [applications](https://en.wikipedia.org/wiki/Cluster_analysis#Applications).\n",
        "\n",
        "The easiest way to demonstrate how clustering works is to simply generate some data and show them in action. We'll start off by importing the libraries we'll be using today."
      ]
    },
    {
      "cell_type": "code",
      "execution_count": 1,
      "metadata": {
        "id": "0-K0Jh112JPs"
      },
      "outputs": [],
      "source": [
        "import math, matplotlib.pyplot as plt, operator, torch\n",
        "from functools import partial"
      ]
    },
    {
      "cell_type": "code",
      "execution_count": 2,
      "metadata": {
        "id": "TSNIGKt12JPs"
      },
      "outputs": [],
      "source": [
        "torch.manual_seed(42)\n",
        "torch.set_printoptions(precision=3, linewidth=140, sci_mode=False)"
      ]
    },
    {
      "cell_type": "markdown",
      "metadata": {
        "id": "RhfHQ7ub2JPt"
      },
      "source": [
        "## Create data"
      ]
    },
    {
      "cell_type": "code",
      "execution_count": 3,
      "metadata": {
        "id": "5PxHdgRX2JPt"
      },
      "outputs": [],
      "source": [
        "n_clusters=6\n",
        "n_samples =250"
      ]
    },
    {
      "cell_type": "markdown",
      "metadata": {
        "id": "m4lj4ha52JPt"
      },
      "source": [
        "To generate our data, we're going to pick 6 random points, which we'll call centroids, and for each point we're going to generate 250 random points about it."
      ]
    },
    {
      "cell_type": "code",
      "execution_count": 4,
      "metadata": {
        "id": "Mz3Y2qGH2JPt"
      },
      "outputs": [],
      "source": [
        "centroids = torch.rand(n_clusters, 2)*70-35"
      ]
    },
    {
      "cell_type": "code",
      "execution_count": 5,
      "metadata": {
        "id": "W2RRKPbB2JPt"
      },
      "outputs": [],
      "source": [
        "from torch.distributions.multivariate_normal import MultivariateNormal\n",
        "from torch import tensor"
      ]
    },
    {
      "cell_type": "code",
      "execution_count": 6,
      "metadata": {
        "id": "X_0Dwqbk2JPt"
      },
      "outputs": [],
      "source": [
        "def sample(m): return MultivariateNormal(m, torch.diag(tensor([5.,5.]))).sample((n_samples,))"
      ]
    },
    {
      "cell_type": "code",
      "execution_count": 8,
      "metadata": {
        "id": "2-H9NyH92JPt",
        "outputId": "5356269f-9a69-492c-ba21-8cd86aff5cd6",
        "colab": {
          "base_uri": "https://localhost:8080/"
        }
      },
      "outputs": [
        {
          "output_type": "execute_result",
          "data": {
            "text/plain": [
              "torch.Size([1500, 2])"
            ]
          },
          "metadata": {},
          "execution_count": 8
        }
      ],
      "source": [
        "slices = [sample(c) for c in centroids]\n",
        "data = torch.cat(slices)\n",
        "data.shape"
      ]
    },
    {
      "cell_type": "markdown",
      "metadata": {
        "id": "Fh4rQQcn2JPt"
      },
      "source": [
        "Below we can see each centroid marked w/ X, and the coloring associated to each respective cluster."
      ]
    },
    {
      "cell_type": "code",
      "execution_count": 9,
      "metadata": {
        "id": "NCmWrB0m2JPt"
      },
      "outputs": [],
      "source": [
        "def plot_data(centroids, data, n_samples, ax=None):\n",
        "    if ax is None: _,ax = plt.subplots()\n",
        "    for i, centroid in enumerate(centroids):\n",
        "        samples = data[i*n_samples:(i+1)*n_samples]\n",
        "        ax.scatter(samples[:,0], samples[:,1], s=1)\n",
        "        ax.plot(*centroid, markersize=10, marker=\"x\", color='k', mew=5)\n",
        "        ax.plot(*centroid, markersize=5, marker=\"x\", color='m', mew=2)"
      ]
    },
    {
      "cell_type": "code",
      "execution_count": 10,
      "metadata": {
        "id": "wNxSes9W2JPt",
        "outputId": "415b25a1-fa9f-4e8e-f8a1-43df82f5b381",
        "colab": {
          "base_uri": "https://localhost:8080/",
          "height": 430
        }
      },
      "outputs": [
        {
          "output_type": "display_data",
          "data": {
            "text/plain": [
              "<Figure size 640x480 with 1 Axes>"
            ],
            "image/png": "[encoded data removed]"
          },
          "metadata": {}
        }
      ],
      "source": [
        "plot_data(centroids, data, n_samples)"
      ]
    },
    {
      "cell_type": "markdown",
      "metadata": {
        "id": "J352DQ822JPu"
      },
      "source": [
        "## Mean shift"
      ]
    },
    {
      "cell_type": "markdown",
      "metadata": {
        "id": "mWa-TW8l2JPu"
      },
      "source": [
        "Most people that have come across clustering algorithms have learnt about **k-means**. Mean shift clustering is a newer and less well-known approach, but it has some important advantages:\n",
        "* It doesn't require selecting the number of clusters in advance, but instead just requires a **bandwidth** to be specified, which can be easily chosen automatically\n",
        "* It can handle clusters of any shape, whereas k-means (without using special extensions) requires that clusters be roughly ball shaped."
      ]
    },
    {
      "cell_type": "markdown",
      "metadata": {
        "id": "Aao25Gxb2JPu"
      },
      "source": [
        "The algorithm is as follows:\n",
        "* For each data point x in the sample X, find the distance between that point x and every other point in X\n",
        "* Create weights for each point in X by using the **Gaussian kernel** of that point's distance to x\n",
        "    * This weighting approach penalizes points further away from x\n",
        "    * The rate at which the weights fall to zero is determined by the **bandwidth**, which is the standard deviation of the Gaussian\n",
        "* Update x as the weighted average of all other points in X, weighted based on the previous step\n",
        "\n",
        "This will iteratively push points that are close together even closer until they are next to each other."
      ]
    },
    {
      "cell_type": "code",
      "execution_count": 11,
      "metadata": {
        "id": "2pkEw1Jo2JPu",
        "outputId": "2614b3f0-91f8-4f93-d565-2b487798af9a",
        "colab": {
          "base_uri": "https://localhost:8080/"
        }
      },
      "outputs": [
        {
          "output_type": "execute_result",
          "data": {
            "text/plain": [
              "tensor([ 9.235, 11.651])"
            ]
          },
          "metadata": {},
          "execution_count": 11
        }
      ],
      "source": [
        "midp = data.mean(0)\n",
        "midp"
      ]
    },
    {
      "cell_type": "code",
      "execution_count": 12,
      "metadata": {
        "id": "HDYXojMG2JPu",
        "outputId": "af48d688-e645-4eac-9237-885afbfb9902",
        "colab": {
          "base_uri": "https://localhost:8080/",
          "height": 430
        }
      },
      "outputs": [
        {
          "output_type": "display_data",
          "data": {
            "text/plain": [
              "<Figure size 640x480 with 1 Axes>"
            ],
            "image/png": "[encoded data removed]"
          },
          "metadata": {}
        }
      ],
      "source": [
        "plot_data([midp]*6, data, n_samples)"
      ]
    },
    {
      "cell_type": "markdown",
      "metadata": {
        "id": "w_RqIXEA2JPu"
      },
      "source": [
        "So here's the definition of the gaussian kernel, which you may remember from high school...\n",
        " This person at the science march certainly remembered!\n",
        "\n",
        "<img src=\"http://i.imgur.com/nijQLHw.jpg\" width=400>"
      ]
    },
    {
      "cell_type": "code",
      "execution_count": 13,
      "metadata": {
        "id": "VYCOEzgR2JPu"
      },
      "outputs": [],
      "source": [
        "def gaussian(d, bw): return torch.exp(-0.5*((d/bw))**2) / (bw*math.sqrt(2*math.pi))"
      ]
    },
    {
      "cell_type": "code",
      "execution_count": 14,
      "metadata": {
        "id": "2wnFjRyo2JPu"
      },
      "outputs": [],
      "source": [
        "def plot_func(f):\n",
        "    x = torch.linspace(0,10,100)\n",
        "    plt.plot(x, f(x))"
      ]
    },
    {
      "cell_type": "code",
      "execution_count": 15,
      "metadata": {
        "id": "KGyg1YZb2JPu",
        "outputId": "30e287b6-663b-49f9-ee54-448af7097f33",
        "colab": {
          "base_uri": "https://localhost:8080/",
          "height": 430
        }
      },
      "outputs": [
        {
          "output_type": "display_data",
          "data": {
            "text/plain": [
              "<Figure size 640x480 with 1 Axes>"
            ],
            "image/png": "[encoded data removed]"
          },
          "metadata": {}
        }
      ],
      "source": [
        "plot_func(partial(gaussian, bw=2.5))"
      ]
    },
    {
      "cell_type": "code",
      "source": [
        "plot_func(lambda x: gaussian(x, bw=2.5))"
      ],
      "metadata": {
        "id": "zP0I4bJE5h0U",
        "outputId": "889d2ff8-a20c-4ae1-b7b3-319ea9eee737",
        "colab": {
          "base_uri": "https://localhost:8080/",
          "height": 430
        }
      },
      "execution_count": 21,
      "outputs": [
        {
          "output_type": "display_data",
          "data": {
            "text/plain": [
              "<Figure size 640x480 with 1 Axes>"
            ],
            "image/png": "[encoded data removed]"
          },
          "metadata": {}
        }
      ]
    },
    {
      "cell_type": "code",
      "source": [
        "f = partial(gaussian, bw=2.5)"
      ],
      "metadata": {
        "id": "PrIFklps5OEX"
      },
      "execution_count": 18,
      "outputs": []
    },
    {
      "cell_type": "code",
      "source": [
        "f(tensor(3))"
      ],
      "metadata": {
        "id": "eOjZGVOb5VZi",
        "outputId": "a7421d7e-eeba-4b96-d2f9-9448ddcead80",
        "colab": {
          "base_uri": "https://localhost:8080/"
        }
      },
      "execution_count": 20,
      "outputs": [
        {
          "output_type": "execute_result",
          "data": {
            "text/plain": [
              "tensor(0.078)"
            ]
          },
          "metadata": {},
          "execution_count": 20
        }
      ]
    },
    {
      "cell_type": "code",
      "execution_count": 16,
      "metadata": {
        "id": "6fJ9t9yE2JPu",
        "outputId": "d3f7ad49-a23f-4515-8f7f-27a89352582f",
        "colab": {
          "base_uri": "https://localhost:8080/"
        }
      },
      "outputs": [
        {
          "output_type": "execute_result",
          "data": {
            "text/plain": [
              "functools.partial"
            ]
          },
          "metadata": {},
          "execution_count": 16
        }
      ],
      "source": [
        "partial"
      ]
    },
    {
      "cell_type": "markdown",
      "metadata": {
        "id": "z5P4wNfN2JPu"
      },
      "source": [
        "In our implementation, we choose the bandwidth to be 2.5.\n",
        "\n",
        "One easy way to choose bandwidth is to find which bandwidth covers one third of the data."
      ]
    },
    {
      "cell_type": "code",
      "execution_count": 22,
      "metadata": {
        "id": "cgHqVO2E2JPu"
      },
      "outputs": [],
      "source": [
        "def tri(d, i): return (-d+i).clamp_min(0)/i"
      ]
    },
    {
      "cell_type": "code",
      "execution_count": 23,
      "metadata": {
        "id": "plPOhrmU2JPu",
        "outputId": "19269531-e449-481e-85a6-930dd8eb3234",
        "colab": {
          "base_uri": "https://localhost:8080/",
          "height": 430
        }
      },
      "outputs": [
        {
          "output_type": "display_data",
          "data": {
            "text/plain": [
              "<Figure size 640x480 with 1 Axes>"
            ],
            "image/png": "[encoded data removed]"
          },
          "metadata": {}
        }
      ],
      "source": [
        "plot_func(partial(tri, i=8))"
      ]
    },
    {
      "cell_type": "code",
      "execution_count": 24,
      "metadata": {
        "id": "H7HSfKhG2JPu"
      },
      "outputs": [],
      "source": [
        "X = data.clone()\n",
        "x = data[0]"
      ]
    },
    {
      "cell_type": "code",
      "execution_count": 25,
      "metadata": {
        "id": "aeOIQnOV2JPu",
        "outputId": "1966f82d-591f-4580-e223-3ac6e24d4b19",
        "colab": {
          "base_uri": "https://localhost:8080/"
        }
      },
      "outputs": [
        {
          "output_type": "execute_result",
          "data": {
            "text/plain": [
              "tensor([28.975, 30.296])"
            ]
          },
          "metadata": {},
          "execution_count": 25
        }
      ],
      "source": [
        "x"
      ]
    },
    {
      "cell_type": "code",
      "execution_count": 26,
      "metadata": {
        "id": "8M5h_nQO2JPu",
        "outputId": "6828f93b-446f-47c8-e28a-78f5e262b397",
        "colab": {
          "base_uri": "https://localhost:8080/"
        }
      },
      "outputs": [
        {
          "output_type": "execute_result",
          "data": {
            "text/plain": [
              "(torch.Size([2]), torch.Size([1500, 2]), torch.Size([1, 2]))"
            ]
          },
          "metadata": {},
          "execution_count": 26
        }
      ],
      "source": [
        "x.shape,X.shape,x[None].shape"
      ]
    },
    {
      "cell_type": "code",
      "execution_count": 27,
      "metadata": {
        "id": "27IynyCG2JPu",
        "outputId": "07720154-2249-4724-dfce-dda40e1ea857",
        "colab": {
          "base_uri": "https://localhost:8080/"
        }
      },
      "outputs": [
        {
          "output_type": "execute_result",
          "data": {
            "text/plain": [
              "tensor([[ 0.000,  0.000],\n",
              "        [ 3.733, -0.919],\n",
              "        [ 4.491,  4.927],\n",
              "        [ 3.239,  3.227],\n",
              "        [ 2.154,  2.058],\n",
              "        [ 1.199, -0.452],\n",
              "        [ 1.869,  1.225],\n",
              "        [ 3.434,  0.535]])"
            ]
          },
          "metadata": {},
          "execution_count": 27
        }
      ],
      "source": [
        "(x[None]-X)[:8]"
      ]
    },
    {
      "cell_type": "code",
      "execution_count": 28,
      "metadata": {
        "id": "e_Nom0kp2JPu",
        "outputId": "4e6cfa11-0c85-48e9-89af-35ce57d5ade6",
        "colab": {
          "base_uri": "https://localhost:8080/"
        }
      },
      "outputs": [
        {
          "output_type": "execute_result",
          "data": {
            "text/plain": [
              "tensor([[ 0.000,  0.000],\n",
              "        [ 3.733, -0.919],\n",
              "        [ 4.491,  4.927],\n",
              "        [ 3.239,  3.227],\n",
              "        [ 2.154,  2.058],\n",
              "        [ 1.199, -0.452],\n",
              "        [ 1.869,  1.225],\n",
              "        [ 3.434,  0.535]])"
            ]
          },
          "metadata": {},
          "execution_count": 28
        }
      ],
      "source": [
        "(x-X)[:8]"
      ]
    },
    {
      "cell_type": "code",
      "source": [
        "dist2 = torch.sqrt(\n",
        "    torch.einsum('bi,bi->b', x, x) +\n",
        "    torch.einsum('bi,bi->b', X, X) -\n",
        "    2 * torch.einsum('bi,bi->b', x, X)\n",
        ")\n",
        "dist2[:8]"
      ],
      "metadata": {
        "id": "gwRhOwz-937F",
        "outputId": "b825d558-75e6-4601-ac60-1310a34d8852",
        "colab": {
          "base_uri": "https://localhost:8080/",
          "height": 358
        }
      },
      "execution_count": 32,
      "outputs": [
        {
          "output_type": "error",
          "ename": "RuntimeError",
          "evalue": "einsum(): the number of subscripts in the equation (2) does not match the number of dimensions (1) for operand 0 and no ellipsis was given",
          "traceback": [
            "\u001b[0;31m---------------------------------------------------------------------------\u001b[0m",
            "\u001b[0;31mRuntimeError\u001b[0m                              Traceback (most recent call last)",
            "\u001b[0;32m<ipython-input-32-1ed4f1dc4eb3>\u001b[0m in \u001b[0;36m<cell line: 1>\u001b[0;34m()\u001b[0m\n\u001b[1;32m      1\u001b[0m dist2 = torch.sqrt(\n\u001b[0;32m----> 2\u001b[0;31m     \u001b[0mtorch\u001b[0m\u001b[0;34m.\u001b[0m\u001b[0meinsum\u001b[0m\u001b[0;34m(\u001b[0m\u001b[0;34m'bi,bi->b'\u001b[0m\u001b[0;34m,\u001b[0m \u001b[0mx\u001b[0m\u001b[0;34m,\u001b[0m \u001b[0mx\u001b[0m\u001b[0;34m)\u001b[0m \u001b[0;34m+\u001b[0m\u001b[0;34m\u001b[0m\u001b[0;34m\u001b[0m\u001b[0m\n\u001b[0m\u001b[1;32m      3\u001b[0m     \u001b[0mtorch\u001b[0m\u001b[0;34m.\u001b[0m\u001b[0meinsum\u001b[0m\u001b[0;34m(\u001b[0m\u001b[0;34m'bi,bi->b'\u001b[0m\u001b[0;34m,\u001b[0m \u001b[0mX\u001b[0m\u001b[0;34m,\u001b[0m \u001b[0mX\u001b[0m\u001b[0;34m)\u001b[0m \u001b[0;34m-\u001b[0m\u001b[0;34m\u001b[0m\u001b[0;34m\u001b[0m\u001b[0m\n\u001b[1;32m      4\u001b[0m     \u001b[0;36m2\u001b[0m \u001b[0;34m*\u001b[0m \u001b[0mtorch\u001b[0m\u001b[0;34m.\u001b[0m\u001b[0meinsum\u001b[0m\u001b[0;34m(\u001b[0m\u001b[0;34m'bi,bi->b'\u001b[0m\u001b[0;34m,\u001b[0m \u001b[0mx\u001b[0m\u001b[0;34m,\u001b[0m \u001b[0mX\u001b[0m\u001b[0;34m)\u001b[0m\u001b[0;34m\u001b[0m\u001b[0;34m\u001b[0m\u001b[0m\n\u001b[1;32m      5\u001b[0m )\n",
            "\u001b[0;32m/usr/local/lib/python3.10/dist-packages/torch/functional.py\u001b[0m in \u001b[0;36meinsum\u001b[0;34m(*args)\u001b[0m\n\u001b[1;32m    384\u001b[0m         \u001b[0;31m# the path for contracting 0 or 1 time(s) is already optimized\u001b[0m\u001b[0;34m\u001b[0m\u001b[0;34m\u001b[0m\u001b[0m\n\u001b[1;32m    385\u001b[0m         \u001b[0;31m# or the user has disabled using opt_einsum\u001b[0m\u001b[0;34m\u001b[0m\u001b[0;34m\u001b[0m\u001b[0m\n\u001b[0;32m--> 386\u001b[0;31m         \u001b[0;32mreturn\u001b[0m \u001b[0m_VF\u001b[0m\u001b[0;34m.\u001b[0m\u001b[0meinsum\u001b[0m\u001b[0;34m(\u001b[0m\u001b[0mequation\u001b[0m\u001b[0;34m,\u001b[0m \u001b[0moperands\u001b[0m\u001b[0;34m)\u001b[0m  \u001b[0;31m# type: ignore[attr-defined]\u001b[0m\u001b[0;34m\u001b[0m\u001b[0;34m\u001b[0m\u001b[0m\n\u001b[0m\u001b[1;32m    387\u001b[0m \u001b[0;34m\u001b[0m\u001b[0m\n\u001b[1;32m    388\u001b[0m     \u001b[0mpath\u001b[0m \u001b[0;34m=\u001b[0m \u001b[0;32mNone\u001b[0m\u001b[0;34m\u001b[0m\u001b[0;34m\u001b[0m\u001b[0m\n",
            "\u001b[0;31mRuntimeError\u001b[0m: einsum(): the number of subscripts in the equation (2) does not match the number of dimensions (1) for operand 0 and no ellipsis was given"
          ]
        }
      ]
    },
    {
      "cell_type": "code",
      "execution_count": 29,
      "metadata": {
        "id": "4XC7yekK2JPu",
        "outputId": "2dc44cc7-d430-409c-f102-1a5dd597ab46",
        "colab": {
          "base_uri": "https://localhost:8080/"
        }
      },
      "outputs": [
        {
          "output_type": "execute_result",
          "data": {
            "text/plain": [
              "tensor([0.000, 3.844, 6.667, 4.572, 2.979, 1.281, 2.235, 3.476])"
            ]
          },
          "metadata": {},
          "execution_count": 29
        }
      ],
      "source": [
        " # rewrite using torch.einsum\n",
        "dist = ((x-X)**2).sum(1).sqrt()\n",
        "dist[:8]"
      ]
    },
    {
      "cell_type": "code",
      "execution_count": 30,
      "metadata": {
        "id": "fes2uj0I2JPu",
        "outputId": "6c8b5216-2952-4e0c-c9a8-dd461410d82c",
        "colab": {
          "base_uri": "https://localhost:8080/"
        }
      },
      "outputs": [
        {
          "output_type": "execute_result",
          "data": {
            "text/plain": [
              "tensor([    0.160,     0.049,     0.005,  ...,     0.000,     0.000,     0.000])"
            ]
          },
          "metadata": {},
          "execution_count": 30
        }
      ],
      "source": [
        "weight = gaussian(dist, 2.5)\n",
        "weight"
      ]
    },
    {
      "cell_type": "code",
      "execution_count": 33,
      "metadata": {
        "id": "_xyGgYFZ2JPv",
        "outputId": "75ffff0e-8279-4391-a1c0-919c9bc3d2bd",
        "colab": {
          "base_uri": "https://localhost:8080/"
        }
      },
      "outputs": [
        {
          "output_type": "execute_result",
          "data": {
            "text/plain": [
              "(torch.Size([1500]), torch.Size([1500, 2]))"
            ]
          },
          "metadata": {},
          "execution_count": 33
        }
      ],
      "source": [
        "weight.shape,X.shape"
      ]
    },
    {
      "cell_type": "code",
      "execution_count": 34,
      "metadata": {
        "id": "mbYuU2F92JPv",
        "outputId": "e83c5b2b-8d03-497e-f217-96cbe8a77246",
        "colab": {
          "base_uri": "https://localhost:8080/"
        }
      },
      "outputs": [
        {
          "output_type": "execute_result",
          "data": {
            "text/plain": [
              "torch.Size([1500, 1])"
            ]
          },
          "metadata": {},
          "execution_count": 34
        }
      ],
      "source": [
        "weight[:,None].shape"
      ]
    },
    {
      "cell_type": "code",
      "execution_count": 35,
      "metadata": {
        "id": "s_Nah3KC2JPv",
        "outputId": "06e8fcfb-3f09-4b8a-fa65-75ff007b2d92",
        "colab": {
          "base_uri": "https://localhost:8080/"
        }
      },
      "outputs": [
        {
          "output_type": "execute_result",
          "data": {
            "text/plain": [
              "tensor([[    4.624,     4.835],\n",
              "        [    1.235,     1.527],\n",
              "        [    0.112,     0.116],\n",
              "        ...,\n",
              "        [    0.000,     0.000],\n",
              "        [    0.000,     0.000],\n",
              "        [    0.000,     0.000]])"
            ]
          },
          "metadata": {},
          "execution_count": 35
        }
      ],
      "source": [
        "weight[:,None]*X"
      ]
    },
    {
      "cell_type": "code",
      "execution_count": 38,
      "metadata": {
        "id": "KcrVFXKN2JPv"
      },
      "outputs": [],
      "source": [
        "def one_update(X):\n",
        "    for i, x in enumerate(X):\n",
        "        dist = torch.sqrt(((x-X)**2).sum(1))\n",
        "#         weight = gaussian(dist, 2.5)\n",
        "        weight = tri(dist, 8)\n",
        "        X[i] = (weight[:,None]*X).sum(0)/weight.sum()"
      ]
    },
    {
      "cell_type": "code",
      "execution_count": 36,
      "metadata": {
        "id": "IQ1VjmJw2JPv"
      },
      "outputs": [],
      "source": [
        "def meanshift(data):\n",
        "    X = data.clone()\n",
        "    for it in range(5): one_update(X)\n",
        "    return X"
      ]
    },
    {
      "cell_type": "code",
      "execution_count": 39,
      "metadata": {
        "id": "ycaInMVe2JPy",
        "outputId": "62bb6092-20a6-4d7e-f5ee-5166d832a559",
        "colab": {
          "base_uri": "https://localhost:8080/"
        }
      },
      "outputs": [
        {
          "output_type": "stream",
          "name": "stdout",
          "text": [
            "CPU times: user 923 ms, sys: 951 µs, total: 923 ms\n",
            "Wall time: 925 ms\n"
          ]
        }
      ],
      "source": [
        "%time X=meanshift(data)"
      ]
    },
    {
      "cell_type": "code",
      "execution_count": 40,
      "metadata": {
        "id": "VwTv3OU32JPy",
        "outputId": "060bbf8b-86de-4f2a-939a-a35227ab1690",
        "colab": {
          "base_uri": "https://localhost:8080/",
          "height": 430
        }
      },
      "outputs": [
        {
          "output_type": "display_data",
          "data": {
            "text/plain": [
              "<Figure size 640x480 with 1 Axes>"
            ],
            "image/png": "[encoded data removed]"
          },
          "metadata": {}
        }
      ],
      "source": [
        "plot_data(centroids+2, X, n_samples)"
      ]
    },
    {
      "cell_type": "markdown",
      "metadata": {
        "id": "I8vE3T7N2JPy"
      },
      "source": [
        "## Animation"
      ]
    },
    {
      "cell_type": "code",
      "execution_count": 41,
      "metadata": {
        "id": "sdnfdkl-2JPy"
      },
      "outputs": [],
      "source": [
        "from matplotlib.animation import FuncAnimation\n",
        "from IPython.display import HTML"
      ]
    },
    {
      "cell_type": "code",
      "execution_count": 42,
      "metadata": {
        "id": "56fghzb72JPy"
      },
      "outputs": [],
      "source": [
        "def do_one(d):\n",
        "    if d: one_update(X)\n",
        "    ax.clear()\n",
        "    plot_data(centroids+2, X, n_samples, ax=ax)"
      ]
    },
    {
      "cell_type": "code",
      "execution_count": 43,
      "metadata": {
        "id": "hCL42HiM2JPy",
        "outputId": "e4159143-8e08-4745-a6ae-4a9c9e5a72d6",
        "colab": {
          "base_uri": "https://localhost:8080/",
          "height": 578
        }
      },
      "outputs": [
        {
          "output_type": "execute_result",
          "data": {
            "text/plain": [
              "<IPython.core.display.HTML object>"
            ],
            "text/html": [
              "\n",
              "<link rel=\"stylesheet\"\n",
              "href=\"https://maxcdn.bootstrapcdn.com/font-awesome/4.4.0/css/font-awesome.min.css\">\n",
              "<script language=\"javascript\">\n",
              "  function isInternetExplorer() {\n",
              "    ua = navigator.userAgent;\n",
              "    /* MSIE used to detect old browsers and Trident used to newer ones*/\n",
              "    return ua.indexOf(\"MSIE \") > -1 || ua.indexOf(\"Trident/\") > -1;\n",
              "  }\n",
              "\n",
              "  /* Define the Animation class */\n",
              "  function Animation(frames, img_id, slider_id, interval, loop_select_id){\n",
              "    this.img_id = img_id;\n",
              "    this.slider_id = slider_id;\n",
              "    this.loop_select_id = loop_select_id;\n",
              "    this.interval = interval;\n",
              "    this.current_frame = 0;\n",
              "    this.direction = 0;\n",
              "    this.timer = null;\n",
              "    this.frames = new Array(frames.length);\n",
              "\n",
              "    for (var i=0; i<frames.length; i++)\n",
              "    {\n",
              "     this.frames[i] = new Image();\n",
              "     this.frames[i].src = frames[i];\n",
              "    }\n",
              "    var slider = document.getElementById(this.slider_id);\n",
              "    slider.max = this.frames.length - 1;\n",
              "    if (isInternetExplorer()) {\n",
              "        // switch from oninput to onchange because IE <= 11 does not conform\n",
              "        // with W3C specification. It ignores oninput and onchange behaves\n",
              "        // like oninput. In contrast, Microsoft Edge behaves correctly.\n",
              "        slider.setAttribute('onchange', slider.getAttribute('oninput'));\n",
              "        slider.setAttribute('oninput', null);\n",
              "    }\n",
              "    this.set_frame(this.current_frame);\n",
              "  }\n",
              "\n",
              "  Animation.prototype.get_loop_state = function(){\n",
              "    var button_group = document[this.loop_select_id].state;\n",
              "    for (var i = 0; i < button_group.length; i++) {\n",
              "        var button = button_group[i];\n",
              "        if (button.checked) {\n",
              "            return button.value;\n",
              "        }\n",
              "    }\n",
              "    return undefined;\n",
              "  }\n",
              "\n",
              "  Animation.prototype.set_frame = function(frame){\n",
              "    this.current_frame = frame;\n",
              "    document.getElementById(this.img_id).src =\n",
              "            this.frames[this.current_frame].src;\n",
              "    document.getElementById(this.slider_id).value = this.current_frame;\n",
              "  }\n",
              "\n",
              "  Animation.prototype.next_frame = function()\n",
              "  {\n",
              "    this.set_frame(Math.min(this.frames.length - 1, this.current_frame + 1));\n",
              "  }\n",
              "\n",
              "  Animation.prototype.previous_frame = function()\n",
              "  {\n",
              "    this.set_frame(Math.max(0, this.current_frame - 1));\n",
              "  }\n",
              "\n",
              "  Animation.prototype.first_frame = function()\n",
              "  {\n",
              "    this.set_frame(0);\n",
              "  }\n",
              "\n",
              "  Animation.prototype.last_frame = function()\n",
              "  {\n",
              "    this.set_frame(this.frames.length - 1);\n",
              "  }\n",
              "\n",
              "  Animation.prototype.slower = function()\n",
              "  {\n",
              "    this.interval /= 0.7;\n",
              "    if(this.direction > 0){this.play_animation();}\n",
              "    else if(this.direction < 0){this.reverse_animation();}\n",
              "  }\n",
              "\n",
              "  Animation.prototype.faster = function()\n",
              "  {\n",
              "    this.interval *= 0.7;\n",
              "    if(this.direction > 0){this.play_animation();}\n",
              "    else if(this.direction < 0){this.reverse_animation();}\n",
              "  }\n",
              "\n",
              "  Animation.prototype.anim_step_forward = function()\n",
              "  {\n",
              "    this.current_frame += 1;\n",
              "    if(this.current_frame < this.frames.length){\n",
              "      this.set_frame(this.current_frame);\n",
              "    }else{\n",
              "      var loop_state = this.get_loop_state();\n",
              "      if(loop_state == \"loop\"){\n",
              "        this.first_frame();\n",
              "      }else if(loop_state == \"reflect\"){\n",
              "        this.last_frame();\n",
              "        this.reverse_animation();\n",
              "      }else{\n",
              "        this.pause_animation();\n",
              "        this.last_frame();\n",
              "      }\n",
              "    }\n",
              "  }\n",
              "\n",
              "  Animation.prototype.anim_step_reverse = function()\n",
              "  {\n",
              "    this.current_frame -= 1;\n",
              "    if(this.current_frame >= 0){\n",
              "      this.set_frame(this.current_frame);\n",
              "    }else{\n",
              "      var loop_state = this.get_loop_state();\n",
              "      if(loop_state == \"loop\"){\n",
              "        this.last_frame();\n",
              "      }else if(loop_state == \"reflect\"){\n",
              "        this.first_frame();\n",
              "        this.play_animation();\n",
              "      }else{\n",
              "        this.pause_animation();\n",
              "        this.first_frame();\n",
              "      }\n",
              "    }\n",
              "  }\n",
              "\n",
              "  Animation.prototype.pause_animation = function()\n",
              "  {\n",
              "    this.direction = 0;\n",
              "    if (this.timer){\n",
              "      clearInterval(this.timer);\n",
              "      this.timer = null;\n",
              "    }\n",
              "  }\n",
              "\n",
              "  Animation.prototype.play_animation = function()\n",
              "  {\n",
              "    this.pause_animation();\n",
              "    this.direction = 1;\n",
              "    var t = this;\n",
              "    if (!this.timer) this.timer = setInterval(function() {\n",
              "        t.anim_step_forward();\n",
              "    }, this.interval);\n",
              "  }\n",
              "\n",
              "  Animation.prototype.reverse_animation = function()\n",
              "  {\n",
              "    this.pause_animation();\n",
              "    this.direction = -1;\n",
              "    var t = this;\n",
              "    if (!this.timer) this.timer = setInterval(function() {\n",
              "        t.anim_step_reverse();\n",
              "    }, this.interval);\n",
              "  }\n",
              "</script>\n",
              "\n",
              "<style>\n",
              ".animation {\n",
              "    display: inline-block;\n",
              "    text-align: center;\n",
              "}\n",
              "input[type=range].anim-slider {\n",
              "    width: 374px;\n",
              "    margin-left: auto;\n",
              "    margin-right: auto;\n",
              "}\n",
              ".anim-buttons {\n",
              "    margin: 8px 0px;\n",
              "}\n",
              ".anim-buttons button {\n",
              "    padding: 0;\n",
              "    width: 36px;\n",
              "}\n",
              ".anim-state label {\n",
              "    margin-right: 8px;\n",
              "}\n",
              ".anim-state input {\n",
              "    margin: 0;\n",
              "    vertical-align: middle;\n",
              "}\n",
              "</style>\n",
              "\n",
              "<div class=\"animation\">\n",
              "  <img id=\"_anim_imgbf7cd3c79c8242edbc21deca67944b90\">\n",
              "  <div class=\"anim-controls\">\n",
              "    <input id=\"_anim_sliderbf7cd3c79c8242edbc21deca67944b90\" type=\"range\" class=\"anim-slider\"\n",
              "           name=\"points\" min=\"0\" max=\"1\" step=\"1\" value=\"0\"\n",
              "           oninput=\"animbf7cd3c79c8242edbc21deca67944b90.set_frame(parseInt(this.value));\">\n",
              "    <div class=\"anim-buttons\">\n",
              "      <button title=\"Decrease speed\" aria-label=\"Decrease speed\" onclick=\"animbf7cd3c79c8242edbc21deca67944b90.slower()\">\n",
              "          <i class=\"fa fa-minus\"></i></button>\n",
              "      <button title=\"First frame\" aria-label=\"First frame\" onclick=\"animbf7cd3c79c8242edbc21deca67944b90.first_frame()\">\n",
              "        <i class=\"fa fa-fast-backward\"></i></button>\n",
              "      <button title=\"Previous frame\" aria-label=\"Previous frame\" onclick=\"animbf7cd3c79c8242edbc21deca67944b90.previous_frame()\">\n",
              "          <i class=\"fa fa-step-backward\"></i></button>\n",
              "      <button title=\"Play backwards\" aria-label=\"Play backwards\" onclick=\"animbf7cd3c79c8242edbc21deca67944b90.reverse_animation()\">\n",
              "          <i class=\"fa fa-play fa-flip-horizontal\"></i></button>\n",
              "      <button title=\"Pause\" aria-label=\"Pause\" onclick=\"animbf7cd3c79c8242edbc21deca67944b90.pause_animation()\">\n",
              "          <i class=\"fa fa-pause\"></i></button>\n",
              "      <button title=\"Play\" aria-label=\"Play\" onclick=\"animbf7cd3c79c8242edbc21deca67944b90.play_animation()\">\n",
              "          <i class=\"fa fa-play\"></i></button>\n",
              "      <button title=\"Next frame\" aria-label=\"Next frame\" onclick=\"animbf7cd3c79c8242edbc21deca67944b90.next_frame()\">\n",
              "          <i class=\"fa fa-step-forward\"></i></button>\n",
              "      <button title=\"Last frame\" aria-label=\"Last frame\" onclick=\"animbf7cd3c79c8242edbc21deca67944b90.last_frame()\">\n",
              "          <i class=\"fa fa-fast-forward\"></i></button>\n",
              "      <button title=\"Increase speed\" aria-label=\"Increase speed\" onclick=\"animbf7cd3c79c8242edbc21deca67944b90.faster()\">\n",
              "          <i class=\"fa fa-plus\"></i></button>\n",
              "    </div>\n",
              "    <form title=\"Repetition mode\" aria-label=\"Repetition mode\" action=\"#n\" name=\"_anim_loop_selectbf7cd3c79c8242edbc21deca67944b90\"\n",
              "          class=\"anim-state\">\n",
              "      <input type=\"radio\" name=\"state\" value=\"once\" id=\"_anim_radio1_bf7cd3c79c8242edbc21deca67944b90\"\n",
              "             checked>\n",
              "      <label for=\"_anim_radio1_bf7cd3c79c8242edbc21deca67944b90\">Once</label>\n",
              "      <input type=\"radio\" name=\"state\" value=\"loop\" id=\"_anim_radio2_bf7cd3c79c8242edbc21deca67944b90\"\n",
              "             >\n",
              "      <label for=\"_anim_radio2_bf7cd3c79c8242edbc21deca67944b90\">Loop</label>\n",
              "      <input type=\"radio\" name=\"state\" value=\"reflect\" id=\"_anim_radio3_bf7cd3c79c8242edbc21deca67944b90\"\n",
              "             >\n",
              "      <label for=\"_anim_radio3_bf7cd3c79c8242edbc21deca67944b90\">Reflect</label>\n",
              "    </form>\n",
              "  </div>\n",
              "</div>\n",
              "\n",
              "\n",
              "<script language=\"javascript\">\n",
              "  /* Instantiate the Animation class. */\n",
              "  /* The IDs given should match those used in the template above. */\n",
              "  (function() {\n",
              "    var img_id = \"_anim_imgbf7cd3c79c8242edbc21deca67944b90\";\n",
              "    var slider_id = \"_anim_sliderbf7cd3c79c8242edbc21deca67944b90\";\n",
              "    var loop_select_id = \"_anim_loop_selectbf7cd3c79c8242edbc21deca67944b90\";\n",
              "    var frames = new Array(5);\n",
              "    \n",
              "  frames[0] = \"data:image/png;base64,iVBORw0KGgoAAAANSUhEUgAAAoAAAAHgCAYAAAA10dzkAAAAOXRFWHRTb2Z0d2FyZQBNYXRwbG90\\\n",
              "bGliIHZlcnNpb24zLjcuMSwgaHR0cHM6Ly9tYXRwbG90bGliLm9yZy/bCgiHAAAACXBIWXMAAA9h\\\n",
              "AAAPYQGoP6dpAABqyElEQVR4nO3de3xT9f0/8FfSS9ILTQuUlmK5iFrAihamUO2YAgLKLp2iq5sC\\\n",
              "CuqwBUHmgK8iZcpAcKLQijiYuO8mFdxkcyiDgcAPBEQsQhH6VcZNSgsKJKXQ9JLz+yN8Ts/JrUmT\\\n",
              "Nk3O6/l49CFJTs75NI/a8+r7c9NJkiSBiIiIiDRDH+wGEBEREVHbYgAkIiIi0hgGQCIiIiKNYQAk\\\n",
              "IiIi0hgGQCIiIiKNYQAkIiIi0hgGQCIiIiKNYQAkIiIi0hgGQCIiIiKNYQAkIiIi0hgGQCIiIiKN\\\n",
              "YQAkIiIi0hgGQCIiIiKNYQAkIiIi0hgGQCIiIiKNYQAkIiIi0hgGQCIiIiKNYQAkIiIi0hgGQCIi\\\n",
              "IiKNYQAkIiIi0hgGQCIiIiKNYQAkIiIi0hgGQCIiIiKNYQAkIiIi0hgGQCIiIiKNYQAkIiIi0hgG\\\n",
              "QCIiIiKNYQAkIiIi0hgGQCIiIiKNYQAkIiIi0hgGQCIiIiKNYQAkIiIi0hgGQCIiIiKNYQAkIiIi\\\n",
              "0hgGQCIiIiKNYQAkIiIi0hgGQCIiIiKNYQAkIiIi0hgGQCIiIiKNYQAkIiIi0hgGQCIiIiKNYQAk\\\n",
              "IiIi0hgGQCIiIiKNYQAkIiIi0hgGQCIiIiKNYQAkIiIi0hgGQCIiIiKNYQAkIiIi0hgGQCIiIiKN\\\n",
              "YQAkIiIi0hgGQCIiIiKNYQAkIiIi0hgGQCIiIiKNYQAkIiIi0hgGQCIiIiKNYQAkIiIi0pjIYDcg\\\n",
              "lNlsNlRUVKBDhw7Q6XTBbg4RERF5QZIkVFdXIy0tDXq9NmthDIB+qKioQHp6erCbQURERC1w6tQp\\\n",
              "XHPNNcFuRlBoIgAuWLAAs2bNwtNPP43XXnsNAFBbW4vp06ejpKQEVqsVI0eOxBtvvIGUlBSvz9uh\\\n",
              "QwcA9h+ghISE1mg6ERERBZjFYkF6erp8H9eisA+Ae/fuxfLly9G/f3/V89OmTcP69euxdu1amEwm\\\n",
              "FBQU4L777sPOnTu9Prfo9k1ISGAAJCIiCjFaHr4V1h3fly5dwq9+9Sv88Y9/RFJSkvy82WzGypUr\\\n",
              "8eqrr2Lo0KEYOHAg3n77bXz66afYvXt3EFtMRERE1PrCOgDm5+dj9OjRGD58uOr5ffv2ob6+XvV8\\\n",
              "nz590L17d+zatcvt+axWKywWi+qLiIiIKNSEbRdwSUkJvvjiC+zdu9fptcrKSkRHRyMxMVH1fEpK\\\n",
              "CiorK92ec/78+Zg7d26gm0pERETUpsKyAnjq1Ck8/fTT+Otf/wqj0Riw886aNQtms1n+OnXqVMDO\\\n",
              "TURERNRWwjIA7tu3D2fPnsWAAQMQGRmJyMhIbNu2DUuWLEFkZCRSUlJQV1eHixcvqt5XVVWF1NRU\\\n",
              "t+c1GAzyhA9O/CAiIqJQFZZdwMOGDcPBgwdVzz366KPo06cPZsyYgfT0dERFRWHz5s24//77AQDl\\\n",
              "5eU4efIksrOzg9FkIiIiojYTlgGwQ4cOyMzMVD0XFxeHTp06yc9PmDABzzzzDDp27IiEhARMnjwZ\\\n",
              "2dnZGDx4cDCaTERERNRmwjIAemPx4sXQ6/W4//77VQtBExEREYU7nSRJUrAbEaosFgtMJhPMZjPH\\\n",
              "AxIREYUI3r/DdBIIEREREbnHAEhERESkMQyARERERBrDAEjkjb0rgcWZ9v8SERGFOAZAIm/sWAyY\\\n",
              "T9n/29oYNomIqJUxABJ5I2caYEq3/7e1tWXYJCIiTWIAJPLGrROAaWX2/wKtW6Vry7BJRESaxHUA\\\n",
              "/cB1hDRscaa9SmdKtwdDIiIKGbx/swJI1DKOVbrWHrfHcYFERBRArAD6gX9BkKy1K4KsOBIRBQzv\\\n",
              "36wAEgWGP+P2vKnucVwgEREFECuAfuBfEOSXvSvtM32tl4DaC+6re+K4nGlNk1CIiKjFeP9mBZAo\\\n",
              "eDa/aO/WbbQ2VfeuVgMLH/8piouL7ce5WRamuLgYhYWFbd9uIiIKeZHBbgBRWPKmaqe7+t9IQ1Pl\\\n",
              "b3EmCv/xNeZuOwTgQwBAfs60pnNdVVxcjIKCAvkxgyAREfmCFUAib4hxeu9P8G42rrJq526M39DZ\\\n",
              "QEwSIEF+rfCrazF3W518SEFBAYo/q1WtQegY/ubOncsASEREPmEAJPKGCHSHPrD/d8uLTaFu70pg\\\n",
              "QU/g5Z5NIU85acNdGLx1AhAdbx//t2MxCgsLMXfFh06XLigokLuDHcOf4HMI5LIyRCHtL7tP4I4F\\\n",
              "W/CX3SeC3RQKUZwE4gcOIg1D7rpuxfPpg4Cjm4ErFwFI9pAH2AMeAOgigHsXuX/voQ8AqbFpwsfV\\\n",
              "1wq/utZl+FPq27cvDh8+7PGYOSOSUfjS/OYni3izrAwnnxC1W3cs2ILTF6+gW2IMds4cGuzmhBze\\\n",
              "v1kBJFJztw+v2ApuzEp71Q6SPezlTLN/GZMA6Ozhzt17T+2xvy7ep3gt+ZaRbpuUiUwAkMOfeOxK\\\n",
              "ckS1d3sIe7OsDPckJmq3Jt3ZG4kxUaixNrAKSC3CAEikJMJc3SXX3aN7V9pfi4wFjFf/arx1AjDz\\\n",
              "ODD6D55DlQhdjhVCAPn5+SiaMNjpLeMwDkuxFHnIAwDkIQ9LsRTjMM7p2KJ7jMi/Ldq7tQId9zb2\\\n",
              "1F6uPUjU7jw8uAfiDJG4eKUey7YeDXZzKAQxABIp3ToBMMQDVy64rnztWGx/rdGqPsaxu9RxjJ2r\\\n",
              "7lTlMXtXIj+9HEX3GOVLZSIT4zEeAPAknsQ6rMOTeBIAMB7jVZXAogmDkT8oBsgcE7juWm9CIhEF\\\n",
              "zaQ7e6NbYgwm3dk72E2hEMQxgH7gGIIw5Wnsm3I836k9Tccox9TlTAPWTwcg2Wf5zjjuesyd8jnA\\\n",
              "/m9dBIpr7kHBoncB2Ct+IvQpLcdylKAEAFB0Xyry/3amlT4MIqLww/s3K4BEdo6zc5WVL1evjVmp\\\n",
              "PsZx1i+u/l0l/rxy1Z0qnksfBNR8D0AHdO2P/K5fom+3RABACUpghlnVVDPMcvjrm2JA/syXWuUj\\\n",
              "IaLg42xfai0MgESA5wkP7l5zFxpzptkrf8Yk4Lph9mMA51ApqozfbAYaLgOQgDMHULzpKA6fvgjA\\\n",
              "XgE0waS6rAkmeUzg4SqrfZ1AV20iojbTWkFt2dajOH3xCsf5UcAxABIBzhU65cLP1kv2QOc4GcJT\\\n",
              "aIyOB4bNtncTuzpmy4tN6wmKHUGgQ/GpDBR8bA90mchUdf8qK4FP4kl5DKBynUCvFqAmooBrraDm\\\n",
              "bpwfK4PkLwZAIleUCz/XXri69Avsiz0v6GkPVa66dfeutI//M5+y7/XrKlgu6GmfQALYu4iHzgZM\\\n",
              "6Si+PBoFK3fLpypDGVZhFQD7mL9c5GI5lgMAVmEVytC0fp8cAt0tQE1ELokgNWV1qcdA1Vzgaq0J\\\n",
              "GQ8P7oGdM4fi4cE9VM+zMkj+4iQQP3AQaRhxnKTharLHlhebgpsxyT5b2HGiiDgPAEREAbO/c30d\\\n",
              "IXMM0ON2FC94HgV/r3TZtExkqsKe42OloqIi5Ofn2x9wIWeiZokFlSN0QKMEtwsrt8bCy3/ZfQLL\\\n",
              "th7FpDt7OwW81nwv8f4NAJHBbgBRUCmDHqBeoNkxNG1+8eo/dPZuW9GFqwyK6YOaAl5jg+vrWC8B\\\n",
              "tRcBSPb3nNqDc9+fd9tEEfbETiDuwh8AnDt3rumBq++BiFQm3dkby7YexcAeSdh34oLbCp44ztcK\\\n",
              "n2NQm7K6FOsPVGB0/zTsO3FBruL5GuIeHtyDwY/8wgBI2qKsigHAR8/ad+ewVLhcoFll2Oym9574\\\n",
              "1N493HB1PUBLhf08gL2qd+gD4MafN11TXEecZ+PzQP0VoLoS0Eeh8J6ugP47zP2kxuWli579JfIX\\\n",
              "/tXtXsAAMGfOHPV+wO6WrCEiWWsFKRH8aqwN8mLNDw/ugfUHKtAoAesPVODmc5tw5pwNk2ZNd3ue\\\n",
              "4uJinDt3zre9vom8wABI2uI4Lk6EMrGFmwhI709oCnFjrk6iEK/tWGzfDURqtIe4mCSg9zB1yOpx\\\n",
              "e9NEjC0vNl0nfZD9+frL9se2evtXXCcUjrA/nrutTtXkonuMyO/6JQD7jiE48am8TqDgFP6U36sI\\\n",
              "p8rvj4h8ohxz501gFMfrACTGRMmVw9H907D+QAU6/98/8cHf3wIAvAAAs6Y7ndfxDz6GQAokTgIh\\\n",
              "bVFOkhD/zhzTtB6fmPlb9r49NB36QP1+EaokwN4PLNn/PWZl08SL9yfYK37mU8C/n28aNwg0dRND\\\n",
              "B+ijgKhY+3jCnGnAsNkovLsj5vzIIB9e9LOOyB+Soppokr/wrygqKpIfy+HPcdav+P5u/Ln7Ld04\\\n",
              "U5jIK75O8ph0Z29E6Oy/HuIMkXK4W/JQFh4x7MVnV8MfABz751JMfWGBaoKJY/ibO3cuAyAFFCeB\\\n",
              "+IGDSMOMmKChi1B3545RhCNlF7KYFOK424c7+ij7xBEJ9pnFyl1BxHnrLgFXLqBwlwHJ8RHIv+my\\\n",
              "vT33LrIfp5jU4dQ15Gq3ESVXk0Kaew9RO+Pt5IdATpJQjttb8lCWX20oLCzE3LlzXR7f7d58fLu+\\\n",
              "yLehHtQivH8zAPqFP0Bhxtcxc47dxI5j/RyJYBmTZF9WRrlvsHifMenqsbB3Kx/6wP68crs4XwKe\\\n",
              "8jlRvXQVPDk+kEKEt7NxAzlrt/es9WiUgAgdcHT+6Baf21P4E8RkL0+UIdBdGOUsYc94/2YXMFET\\\n",
              "sZtHj9u9O/7UHns4+2Zz024f9y6yBz2ltCx1V+zQ2epdQXYsbgqN1w2zVwmvXLCHv679AejsW8Wl\\\n",
              "D2rqylUuVC3+6yrIKcc8ulq30HHbO6J2ztuuWF+6bJtb4290/zRE6Oz/9efcycnJbo8TC7uL8Cce\\\n",
              "u3LsUtPvGHfrAXKdQGoOK4B+4F8QYcrbblFRAdTrgcb6pgqfKV09K9jxPI5VN7F4NCR7BXDY7KbH\\\n",
              "SqIr+NYJLrqrdU3vn3nc/bV8weoghSnH6pi3Fb2WdP2KICbO7ap7dxzGYTzGYzmWowQlyEMensST\\\n",
              "WIVVeAfvqI7tePev0WfoA3I7WQFsGd6/GQD9wh+gdqSlYcVVty9wdeYu7GHM3fk8jflLywIqSgGd\\\n",
              "HjCa7FU/T+PuXu6pHk84r2vTTGEldwtVX/7efrx4fyBwfCCFKcfApwxLANwGqjn/KPO4WLSr80+6\\\n",
              "szde+Xc5AGDIDcnY/n/nULl7Hao2LANgr/QtxVL5vWaYVft/T8Zkee3PsdN/h28638FQFwC8f7ML\\\n",
              "mMJFS7c9U275Jt5/6wT7GL3aC57PlzPNobtX1/TPiv32/0o2e7ATS8K83NPenSv2FhZdub2H2Z+T\\\n",
              "YH8u8upM4KhY9Uxl5ULV08rsYw+nlQEjXmrqXg4UV13GRGHAsQtXbLcGAHP+Uea2S1WMA5x0Z2+P\\\n",
              "3cbK8z88uAfiDJG4eKUe6w9U4OKVehhvHo1Od/8agH2hd7HFIwBV+FuO5XL4KyoqwjuvzHa5LZwn\\\n",
              "3DOY3AnbALhs2TL0798fCQkJSEhIQHZ2Nj7++GP59draWuTn56NTp06Ij4/H/fffj6qqqiC2mPzi\\\n",
              "Lqy4WuZE+Zy7pVLSB9nDXfog90ul3DpBPebPmNj076gY+7/F+D8xCePKBaDhsj1g3jqhKYCe2tMU\\\n",
              "OtdPB+qt9kA44iV10BNdxsrxf3tXts5YPo4PpDD18OAecvesCEbKCp8IeUoi1M39WSYeHtwD89Z/\\\n",
              "hdMXr2DuPw85BSzl/r1/2X0CNdYGJMZE4ca0pnAXP+DHiOnSHQBQghKYYVZdzwwzSlACwD4xRN7i\\\n",
              "0UccC0juhG0AvOaaa7BgwQLs27cPn3/+OYYOHYqf/exnOHToEABg2rRp+PDDD7F27Vps27YNFRUV\\\n",
              "uO+++4Lcamoxd2HFVWVQ+ZxjJU28/5vNTRM83FUXRTesCI/DZtsDoSndHtzmnAee2NoU/tIH2UOd\\\n",
              "WPcPsP83Jsm+PZwInZDUIdGRq6qlO1znj8glx2CkrPCJkKekDHUAUFtvAwDU2ySPAWvZ1qO4eKUe\\\n",
              "1bX1OHm+aVjHpS/+hStnTwIA8pCnqvwB9kpgHvIA2CeGFBcXt+j79HX9QtIOTY0B7NixIxYtWoQx\\\n",
              "Y8YgOTkZ7777LsaMGQMAOHLkCPr27Ytdu3Zh8ODBXp2PYwhCQHNLo7irbokxeVGxQITB3rurHMen\\\n",
              "WvJFB8Qkql9XkscKujlOOaGja39793FkDDDypaaKn+OkEW+Xq+E4PiKXHCdJiMdiT2DHvYEd9wv+\\\n",
              "7Nh5rD9QgRvTTPi+pk41Lk957s+Oncc/v6wAAMRE6VFbb8OVL9e3aAxgUVGRqhLIiR4tx/u3RgJg\\\n",
              "Y2Mj1q5di3HjxqG0tBSVlZUYNmwYLly4gMTERPm4Hj16YOrUqZg2zbsxT/wBCmMOCzOrunHTBzWt\\\n",
              "z6fkbn09QL0+oOPCzqrzXZ3NGxULxHZSr99nTLIvEePL3r57VwKbX1QHWM7uJVJxNWs3Qge5ItjB\\\n",
              "GIWLV+rl53yZBAJAPl8HYxRO7fwA5ze9qTrel1nARUVFMA38sWqf4UCsdag1vH+HcRcwABw8eBDx\\\n",
              "8fEwGAz49a9/jQ8++AD9+vVDZWUloqOjVeEPAFJSUlBZWen2fFarFRaLRfVFYcKxq1R0DQ+drQ5/\\\n",
              "5lNA2d8cwp/OHtjqLjW937Gb+d5FVxd51jXtyyuO+WYzYEiwdwVH2m8YqL/ivH6fDu67fj2NUxTr\\\n",
              "Cn70bFP4a8mEGaIgae2JDMru4El39kZiTBSiIyOggz3wAfbQN7p/mtvuVNHGKatL5TF/k+7sLXfB\\\n",
              "ju6fhu8++6dT+AOAd/AOJmOyPOavBCWYjMlO4Q8ACgoKMPWFBTh98YrcLnbvUkuEdQDMyMjA/v37\\\n",
              "sWfPHkyaNAnjxo3DV1991eLzzZ8/HyaTSf5KT08PYGspqNyFIuXYQhHEomIUB+iAzPvt1Tox2xdw\\\n",
              "npRy6wT7+nyj/6Dei9iYBNRetE/+AOyzf2OS7OcUxzmGUccJK6I72l2oE7OVRfDk7F4KMS2dyOBt\\\n",
              "cBQhbWCPJLzy73KYr9TjSn0jTDFR6JYYg9+MzMDOmUOx5KEsp8kjjm388Ev7TF9rQyOWbT2Kz46d\\\n",
              "BwBs/79zuGQ+77YNops3qVsv1WNXGi6bEaGD3C7Rhc3ZvuQLTXQBC8OHD0fv3r3xi1/8okVdwFar\\\n",
              "FVarVX5ssViQnp6u6RJy2PClW1S5cDOgrhD62q2qXEtQp7cvG+O4mHNz7RPjFaGzB0zH1/eu9G5d\\\n",
              "Q6J2qqVj3Xzdsk0cL/z0Zvvev57O+ZfdJ/DKv8thbbDBEKmHpbYeNhd3VTH+r/rTd/H9/3vX5fW7\\\n",
              "3ZuPyJvuQfUX/3JZKQSAn094GlXX/dRpzKG3axSSHbuAgchgN6At2Ww2WK1WDBw4EFFRUdi8eTPu\\\n",
              "v/9+AEB5eTlOnjyJ7Oxst+83GAwwGAxt1VxqS7dO8D4Y3TrBPq6u9mroEqGsJcEqfVBTAJTsswqV\\\n",
              "ywnKHLuUlcTNxpjoftawGMfI8Ech6OHBPVo0yUFU67ztIhWLNpuv1EMCsO/EBdXryiVdlJNDLl6p\\\n",
              "BwDU1jc67t8DwP6/dG29DRKA+Nt/iUabhIs7V6uO6fXTybD1HQkA6DDgx9AB+N4hBF4zbCz+vuI1\\\n",
              "p/OLGcwAMLBHklffK1HYdgHPmjUL27dvx/Hjx3Hw4EHMmjULW7duxa9+9SuYTCZMmDABzzzzDD75\\\n",
              "5BPs27cPjz76KLKzs72eAUwaN+xqd6yripuj9ycAczsCb93pPE7v1B7X7xHHiLF9yn2Alc/vXdnU\\\n",
              "lmGznV8D2OVLmuW4dIsjx27Thwf3wP45I/BibiYSY6JQY23AlNWl8jEi7MUZIuVzijGDV6dvybol\\\n",
              "GqEDEBVh/4tOgj0I6gCYcn6FlB89LB9bVFSE382aLp8HsK8T2PHqYtGAPfzNf+l3Lrt6J93ZG1cv\\\n",
              "4xRavfm+vX2NwkvYdgFPmDABmzdvxpkzZ2AymdC/f3/MmDEDd999NwD7QtDTp0/H6tWrYbVaMXLk\\\n",
              "SLzxxhtITU31+hosIYe5QMyW3bsSWP+M+jlXs4XFVm7iNiKOUS7jouxmFhVBV93PXPqFCEDzXcee\\\n",
              "uogdu4OV27pZGxphiIzAb0ZmqLphxZZvyufFecT6gkDTkjIfrHwNQ2+5Du+80rSDz192n8DsdWVy\\\n",
              "YBzS8AV6xTeisLDQY5t96Sb35vsO965k3r/DuAK4cuVKHD9+HFarFWfPnsV//vMfOfwBgNFoRHFx\\\n",
              "Mc6fP4+amhr8/e9/9yn8kQZ4M1vW1a4cjucQlLuCCGJySaTBPvYv8/6mhaH3rlTvSKJsj7Kq59hO\\\n",
              "VvyIADQ/ecTTIsnKqprYGURs63al3oaLV+o9Tkr5y+4TuGXuRpy11EIHYHT/NDmY1Vgb8M8vKxDx\\\n",
              "gwfxZYdBqvc9PLgHXszNRLfEGLyYm4l3Xpkthz9XbRYVOwBebxPX3PfNmcXaELYVwLbAvyDCnDcV\\\n",
              "QOUizlKjPbxFxzsv2uzLYs3Kx2Idwpgk+yxgV+fiun5ELrV08ojjotCOCz+LHT1cVfo80QEwRulx\\\n",
              "5eouIoB9ckjHOIPbNvpTxST3eP9mAPQLf4DIaVcO6yX75BBful/d7fSRM61psomrmcFE1Cq7YTh2\\\n",
              "2z48uAd6z1ovLwx9dP5op5DYKS4aB06bnc4VpdehwSapxgfGRNm3fDRERsDaYMOV+kYkxkRh/5wR\\\n",
              "btviLuBNWV2K9QcqMLq/esYydwnxjPdvBkC/8AcoDPlbTWvu/b5s4xaI9hCFOX8qYK5CkhjLJ2b2\\\n",
              "imA2ZXUpPvyyAsYoPZ4b3c/ljiGNLu6mMVF6GCIjVMvDKIPlLXM34uKVeiTGRGHIDcnytnFiCRpl\\\n",
              "GwHnLelEOxy/f/G5JMZEIc4QySDogPdvBkC/8AcojIig1ZIKni8cu4w5UYPILy2pdIn3KLdSE2FK\\\n",
              "PCdm9YoAqFxrLzEmSj7XkBuS5b2Dt//fOQD2ruF5679SdfU6BkQdANPV0CfCnDi/OP7o/NGqNovX\\\n",
              "lVvSiYkp4rqO+xFzuzjXeP8O40kgRD4REyl0aN0JFGKChuNuHkTUIs0t9eKKqJoBUIU/5XM3dTNB\\\n",
              "B8DaYJPDlAhf1oZGuUK45KEs7Jw5FLf16og4QyR+MzIDnx07L4e/qAidvBVcYkwUYqIi5HB58Uo9\\\n",
              "9p24ILd/dP80uY3Kf4s2i+srt6QTE1McJ6WIz+U3IzM4qYNc0tRC0NQ2LpSU4Lu3/ojOTzyOpLw8\\\n",
              "n18Pipbu5KHkTXdtSxeMJiIVf8a4KReIVr5X+dwdC7ZAAnClvhGv/LscvxmZIb/+yr/LVdU9ZXVu\\\n",
              "2dajqDQ3TQZpaJRU57x45YqqgqiczbvvxAW8lJvp8vtx12ZXi1MrtXQRbQp/7AL2A0vIrn09dBga\\\n",
              "KioQmZaG67ds9vn1kMX194jaTKBmv7oLksr1+BwnaDi+x3HSyGfHzuPDLyvkiR+O28YB6u5ad9+P\\\n",
              "NyGXs4BbhvdvdgFTK+j8xOOITEtD5yceb9HrIas1199z3N2DSOMCtV6du7UClevx/WZkhvy8cvbv\\\n",
              "sq1H8ZfdJ+S2iIkdSx7KwrEFo/HS1fcP7JEkr9XnqrvW3ffT3DqGzX0O3NWDPGEF0A/8C4LaDKuL\\\n",
              "RC3SXBXNUwWwuZ09GqWmyRwiJLqaVaycvDG6f5o86aO5rll3S7x4i9VB93j/ZgWQKDRwdw+iFmmu\\\n",
              "iqacRKKsmIl9fx2rdaLiNrp/GiJ0TZM5lm096nQtZfgD7IFROenDkWPFbt+JC/J7WoK7epAnDIAU\\\n",
              "MBdKSvD10GG4UFIS7KaEn1sn2Ct/nEBC5BNfQpAIcHP+UYaBPZKQGBPlNLlCBMYlD2Vh7s8yVcdM\\\n",
              "urM3EmOiUGNtUM0c1sG+HqC7iRqO1xcB0t8A15IZ0qQd7AL2A0vIamE7uYOINEFZsVMuD9Ncd62y\\\n",
              "uxiAvO7ewB5JWH+gAtGREbhS39hsV2wgdu/gDiDe4f2bFUAKIF8ndygrhu2+eshJGERh7+HBPTD3\\\n",
              "Z5lOawN6moQBQNVdDDSFR9GFa4jUe1XJ86Vi526Ch7dtJmIApIBJysvD9Vs2e72233dv/RENFRX4\\\n",
              "7q0/qv7dLomFoncsbtn7GSCJQoIyhHnTBSvW4YvS66CDfWcQx/f/ZmSGXPkL1Kxcd0GP4/7IW+wC\\\n",
              "9gNLyP5RLggNoP0tDq3k7568nMVLFJYcZwV76uYN5KxcV3sEs9vXe7x/swJIrchdt654HoBcMfS1\\\n",
              "etjm/J2EwVm8RCHDm/XzxDEDeyTJs4Kbq7w1V53zZd0+ZaWS3b7UEgyA7VR7HBPXXKBzfN5dt267\\\n",
              "7+5tDZzFSxQyRKB65d/lbgOZOEYs6yL2BPZUgRPdwmIBaXfn9DXIsduXWoIBsJ1qjyHJ10DnblJI\\\n",
              "2O4EQkQhx1XVTQQqAG4DmS+h6y+7T+CWuRtxy9yNeOXf5QE5pxKXe6GWYABsp9pjSPI10Lnr1nX1\\\n",
              "vKeKZ3ushhJReHBVdROB6jcjM5wC2ZTVpeg9az0+O3be69DlbpawI09Bjtu6UaBxEogfOIg0cDyt\\\n",
              "Icj1BYmoNbjb7s3T8c+vs0/iitABR+ePbpXruMJt3QKL928gMtgNIAKA2KwsWKqqEJvlvN9l5yce\\\n",
              "V80WJiIKBFGZ65YY43UlTxjdP83lMe5m5+6fM8KvtioXpSYKBHYBk1v+dL02t8iz43OXduwAGhvt\\\n",
              "/wVQWFiI4uJiAO67kouLi1FYWKg6Z/mgwSgfNJjdxUTULF/H3InjX8rNxJKHnP9YBdRdyq66l1va\\\n",
              "lctxfhRo7AL2Q7iXkP3pehXv1ZtMsF26BDQ2qs6jPHfnJx5H5dzfAZIEvcmE1feMwty5cwEARUVF\\\n",
              "+GWnTk5rBBYXF6OgoAAAMGfOHBQWFsrnBMDuYiIKiubW52NXbvsQ7vdvbzAA+iHcf4CUCzV7Wp/P\\\n",
              "1YLOsVlZuFxaCltNDWxmMxARgYRRo3C5tNRp4WcxixgREVjVtw8W/u1vqvO/cP0NyNPr5VCnDH/C\\\n",
              "nDlz8HSfPji7+DUAQJdpU9vvmoJEpFncq7d9CPf7tzcYAP0Qjj9AF0pKVCEKaH6HjvJBg2Ezm6E3\\\n",
              "maCPi1NVDU9P/w0sGzbI4c9VRVEEyBUdk5zCn/DC9Tdg6u/m4t3vv3cKf4KoBBIREXkSjvdvXzEA\\\n",
              "+iEcf4Acu1EBNNsNfOSWLEi1tdAZjUiZOcNlBVB09Z5d/BqkujrooqNVVbrCwkK529edvn374vDh\\\n",
              "wx6PYQgkIqLmhOP921ecBEIqnZ94HHqTCbqYGNhqahCbleW0xp+YwHF6+m/kLd0AQGcwyBM2RLUP\\\n",
              "gPz+pLw86OPiIF25ApvZLC8cfaGkBNK7q922KROZACCHP/HYleTk5JZ/80RERBrBAEgqSXl5yNiz\\\n",
              "GxFJSbCZzbhcWuo0A1eM2bNs2ICGigroDAZEpqUhPidHntkbm5UFREQgPidHrvyVDxqM2Kwse1ex\\\n",
              "yaQaC5in1+P5LilO7RmHcViKpciD/fp5yMNSLMU4jHM6dnaPHvhlp05cOJqIiKgZ7AL2QziUkN1N\\\n",
              "9PD0fNWClyHV1gKRkdDHxclducqxgACcxgUCrmfnXigpQeWLLwGNjXjXfBEvVVYCsFf6lmKpfJwZ\\\n",
              "Zphgkh9PxmSUwb4oq3KiCNB8tzUREWlXONy//cUKoMY4Vsfc7ePruPaeeN/Zxa/Zwx8ANDRAHxcH\\\n",
              "wD52ULJaXV5TdCuLqp9jG5Ly8pA6+3lEpqXhmcWLUVRUBAAoQxmWY7l8HmX4W47lqvA39Xdz5a5m\\\n",
              "X7bRY7WQiIi0iBVAP4TiXxCOa/t5u9SLcl0/AKqJHCJEimqf4zIvSXl5qtnFAOSJIe4qdP369ZPH\\\n",
              "/K3DOlX4M8OMXOQCAHobjdj79tstXvKF28wREWlPKN6/A41bwWmM47ZqIjgpK4CuAqHyfa7ClqvX\\\n",
              "HMcN2sxmAJCrgY0XLqB80GCnNfuKi4vl8JeHPFX4A+yVwDzkoQQlOFpbi3e//x75Afo8iIiItIAV\\\n",
              "QD+E4l8Qjuv8JeXlqapgQGDGzzlWFo+NeQC1ZWVAZCRSn3+uafFnQFWNfO2FOfjd1/8HwLcxgEVF\\\n",
              "RcjPz/e6oklERNoVivfvQOMYwBDm7fg15XGiEqdchkU5Zs7d+LnmruW4D6/j2MLaQ4fsBzY2Iikv\\\n",
              "z2lcIABV+APsYwBXYRUA+5i/XOTKYwJXYZUc/gCgoKAAxcXFbsc0+vJ5Bep9RERE7RUrgH4I9l8Q\\\n",
              "3o5fc9x3tyXbpSln+Gbs2e32GoC9i1eMDRSVuMM39Qfq64GoKPQ9eMCpUudqezchE5mqsOf4WOml\\\n",
              "oUNxX2UVEkaNQrc/vOL2c/CluslxgkRE4SXY9+/2gBXAEObtbFflcWKdv4w9u51m+HpT4ZLq6lwe\\\n",
              "2/mJxwGdTn7sOItYF3l1uKnNhsM3ZqJy3u/RUFEhh9Fz5865vaYIezd066Z67Erlf/8LNDbicmmp\\\n",
              "6vkLJSWw1dSoKo7e8mVWMRERUShgBdAP4fIXhDcVLlGxazx/HlJtraoSKF4T278pZ/6KKt/Zxa/J\\\n",
              "k0CUdEYjIjp2ROcnHsfrR4643Q5OjPHzVCnMT+uGyddcA8Be3by89/Nm9yEmIiLtCZf7tz/CtgI4\\\n",
              "f/583HrrrejQoQO6dOmC3NxclJeXq46pra1Ffn4+OnXqhPj4eNx///2oqqoKUovbhqtqnzcVLlHR\\\n",
              "0xkMTuc6u/g1NFRUqHYNuVBSgsq5v5OrfF2mTUVkWhqMmZlARIR9wklEBADIY/YKCwsxZ84cp2sv\\\n",
              "fPRReYLH8D//L2b36OF0zFOdkzH5mmvs3dRxcUjKy4NlwwagsRGWDRtYxSMiIlII2wC4bds25Ofn\\\n",
              "Y/fu3di0aRPq6+sxYsQI1NTUyMdMmzYNH374IdauXYtt27ahoqIC9913XxBb3fpcTZJw7K71RAQ5\\\n",
              "5fp/QNN+v6en/waH+/ZDZeFcQFFcFtfo9f5a9D10tQu3sVFeVDo2KwsAUFhYiIKePeX3Pd8lBbnH\\\n",
              "T8htt5nNeMgYgxeuv0E+Jj+tG15aukRumwh5CaNGAToddFFRAOD0PXJyBxERaZVmuoDPnTuHLl26\\\n",
              "YNu2bRgyZAjMZjOSk5Px7rvvYsyYMQCAI0eOoG/fvti1axcGDx7c7DnbQwnZ22VPxPIvktUKncHg\\\n",
              "0wQQX659+MZMoLHRfoBOB31CAuJzcnBpxw4ATRNPLpSU2EOicPXYLtOmAgCenzwFHfV6/LJzZ6TO\\\n",
              "ft5pMen4nBy89eGHqO1/E15+/323bfTUvc3JHURE2tQe7t/BFrYVQEfmq+PPOnbsCADYt28f6uvr\\\n",
              "MXz4cPmYPn36oHv37ti1a1dQ2tgSnpY9cTzOZjZDqq2F7dIlv64pKmeAc1UtYdSopn/fey8y9uzG\\\n",
              "5dJSp6VnkvLykDB6dNPEEUmCzWyWA96Ua6/Fr9LSoIuKwtnFr+FCSYlqAsvl0lLk6fUYf/gILpSU\\\n",
              "uKzmNTfxg93CRESkVZoIgDabDVOnTsUdd9yBzMxMAEBlZSWio6ORmJioOjYlJQWVlZUuz2O1WmGx\\\n",
              "WFRfwebLTGC9yWQPXI2NzQZGwXF9P8A5dCrDV7c/vCIvKC1m4rpa8w8AYm/9ASK7dlUHQSjCal2d\\\n",
              "PbBeDY7K63R+4nH7GMKr34urICzOI8YEOvKl65uIiCicaCIA5ufno6ysDCV+jvWaP38+TCaT/JWe\\\n",
              "nh6gFractyFGVM9S57zgVWAUYavq5YUuF47Wm0yw1dTI3bINFRWoWvAyjmQNQENFBXRGI2KzsuRK\\\n",
              "oajcAcCRW7JwuG8/VC14GQ0VFbi0Ywf0CQnQGY0A7OMB9SYTdNHR0BmN0JtMiM3KQuWLL8khLykv\\\n",
              "z15tjIhAbFaWfQxhRAQiO3ZUhURW+IiIiJyF/RjAgoIC/OMf/8D27dvRq1cv+fktW7Zg2LBhuHDh\\\n",
              "gqoK2KNHD0ydOhXTpk1zOpfVaoXVapUfWywWpKenh+UYAuXCzgAAnQ6pc16Qg6Zy/Jytpsa+xItO\\\n",
              "1zTxIyICkSkp9nNERMjj+MSC0uKckV27Nr3/akXP1ZZ0cnsUYwVF1U95vPIcHNdHRESucAxgGFcA\\\n",
              "JUlCQUEBPvjgA2zZskUV/gBg4MCBiIqKwubNTSGhvLwcJ0+eRHZ2tstzGgwGJCQkqL5CjTdbun09\\\n",
              "dJhcUQNgD3CK8Aeou57F7NuEe++FLiYG0OmQMGqUUzeto4R778X1WzY3vX/UKLdb0onH+oQEuRrp\\\n",
              "ags75Tm8/Z4D8bkRERGFkrCtAD711FN499138Y9//AMZGRny8yaTCTExMQCASZMm4aOPPsKqVauQ\\\n",
              "kJCAyZMnAwA+/fRTr64Rin9BOG4L5ziLV7yuN5nk9yhn7jou+AzA4yzk09N/Iy/G3O0Pr3ictezq\\\n",
              "NcdrOi427ev33NKqIGcMExGFj1C8fwda2AZAnWJSgdLbb7+N8ePHA7AvBD19+nSsXr0aVqsVI0eO\\\n",
              "xBtvvIHU1FSvrhGKP0DKkKXsQhWhRrwuumWVrzl2C7vqqvXmGu7aVfniS07dt/I1PXTtNrcUjrdL\\\n",
              "5Xj7uXHSCBFRaAvF+3eghW0AbAuh/gPkKdQ4Vu7E8SKkAQB0OhhvvBEN58+rtn9TBjlXVUZXlEFP\\\n",
              "jBdUttFTBVBZtdTHxbVqECQiotAX6vfvQAjbMYDUPE8ziC+XlgKNjbhcWqpa9y919vP2yt/VCR+1\\\n",
              "hw+rznF28WtyQLRd3XXFm1nKsVlZql07HNvY7Q+voPMTj8OyYYPTci9i/B8Aj2siertmIhERUbhj\\\n",
              "ACSXlBMsRHA6u/g1uYKWcO+9QESEauFnFZ3O5fp97lwuLQUkCVJtrdv3yOFSp1NN8hAh0XErOE/f\\\n",
              "ExERkZaxC9gPWikhexoXqHxdOSlE2VXrbhygsnu3evNmSLW10BmNSJk5w+k9F0pKUDn3d4AkQW8y\\\n",
              "yWsKEhER+Uor929PIoPdAGo/3I2RS8rLU80CdqygnV38mryNW8ae3S67e129T4Q8S1WV3G0c0bGj\\\n",
              "/H7HUAlJAiIi5P2Cm2s3ERERucYuYJJ5M0bOVlMj780rumklxeLYrrgba6hcu0+5VZyrQCeOVU4Q\\\n",
              "8aXdRERE1IRdwH4ItxJyc5U05TIwykkXYvZtbFYWLu3YAaBp7cCWtEF09TruPtLSdhMRESmF2/27\\\n",
              "JRgA/aC1HyCx7y8AuRtW2U2rWiLGzXIuzS3RIm8LdxUXXiYiokDT2v3bFQZAP4TqD1BrVMyUe/UC\\\n",
              "ACTJ5YLOzS0YLXYgkaxW6AwGxOfk+LzzBxERkSehev8OJI4B1CBfx8x5s4yLPEZvzgtInfOC03Ir\\\n",
              "rpZgUbZDvN5l2lRk7NmNPvtLkbFnNy6XljbbVu7TS0RE5BsGQA3ydT085TqA7oJWUl6eXMm7vPdz\\\n",
              "l6+LiSAisMVmZcntcJwo4uqY5trHSSBERETeYRewH9pDCbktJkA0tw6g4M2+vcrjPI3v8+YYx/ax\\\n",
              "m5iIiLzRHu7fwcYKYIhri+qXrzttJIwa1aIdOZRducpjmuvi9bSlHRERETljBdAP7eEviNaufrVl\\\n",
              "dU1ZQVTOIPalGkhERNSc9nD/DjZWAENca1e/WrvC6Fj1E93HyutxD18iIqLAYgAkj/wNX811355d\\\n",
              "/Jo8wSQpLw+ps593uh67eImIiAKLXcB+YAm5ec1135YPGgyb2Qy9yYSMPbuD0EIiItIa3r9ZAaRW\\\n",
              "1lwFUUwsETuLEBERUetjBdAP/AsisLicCxERtQXev1kBpHakLZa04a4hREREDIDUjrTFbF/uGkJE\\\n",
              "RAREBrsBREJSXl6rd/2K7eq4pAwREWkZxwD6gWMIiIiIQg/v3+wCJiIiItIcBkAiIiIijWEAJCIi\\\n",
              "ItIYBkAiIiIijWEAJCIi0ogvN32EP+Y/hi83fRTsplCQMQAStZE15Wsw4v0RWFO+JthNISKN+mzd\\\n",
              "+7B8dxafrXs/2E2hIGMAJGojKw6uwJmaM1hxcEWwm0JEGnVb7hgkdO6C23LHBLspFGQMgERtZOJN\\\n",
              "E9E1rism3jTR5eusEBJRa7v57nvxePGfcPPd9wa7KRRkXAjaD1xIkgJpxPsjcKbmDLrGdcXGMRuD\\\n",
              "3Rwi8uDLTR/hs3Xv47bcMWEZpsL9++P9mxVAonZj4k0TYYo2oaa+hlVAonYu3MfShfv3RwyARO3G\\\n",
              "gxkPIjYqFpY6C8cJErVz7Wks3folC/HqQz/F+iULA3ZOV98fZxCHFwZAolbQ0vF8zY0TDMQ1iMh/\\\n",
              "wRxL5xjEynftgGSzoXzXjoBdw9X3x6pgeGEAJPKDuxDW0hm/D2Y8iI1jNuLBjAebPZaziom0RQS/\\\n",
              "Hav/VxXEMrJzoNPrkZGd06rXb09VT/IfAyCRB81V2dyFMF8qed5cx5WsLlnQ6/TI6pLl9XuIqP1q\\\n",
              "rotVVOCgk1RBbPSU3+KZ1f/E6Cm/bdX2cQZxeGEAJPLg9S9ex5maM3j9i9ddvu4u6PlSyQNaVs0r\\\n",
              "PVsKm2RD6dlSr99DRK3H3zFyzXWxigpcTt7YgAcxju/TnrANgNu3b8dPfvITpKWlQafTYd26darX\\\n",
              "JUnCCy+8gK5duyImJgbDhw/H119/HZzGUrulg071X0e+Bj1HovKX1SXLbcWwsLAQxcXFTlVCZQWw\\\n",
              "uLgYhYWFPl+X4weJAqelY+RE+ErL6OOxi7U1K3Ac36c9YRsAa2pqcPPNN6O4uNjl6wsXLsSSJUvw\\\n",
              "5ptvYs+ePYiLi8PIkSNRW1vbxi2l9mzKgCnoGtcVUwZM8ftcrkKXqPyVni11GSQLCwsxd+5cFBQU\\\n",
              "YM6iOaoqoagA/vPP/0RBQQHmzp3rdQjk+EGiwGvpGDkRvirKjwSti5Xj+zRI0gAA0gcffCA/ttls\\\n",
              "UmpqqrRo0SL5uYsXL0oGg0FavXq11+c1m80SAMlsNgeyuRQE7x15T7p77d3Se0fea7Vz3b32bilz\\\n",
              "Vab82t1r75Z+u+238mPH982ZM0cCoPpKeyRN+u2238rX6TOhj9Mxc+bMadPvl4j8s3/jeumtpx6V\\\n",
              "9m9c32rXmDNnjlRUVOTxmKKiIq9+f4QD3r8lSZMB8OjRoxIAqbS0VHXckCFDpClTpnh9Xv4AhQ9l\\\n",
              "OPNWc0Gv/zv93QY85THi/co2uAp/4qvPhD6SJNl/Wbs7RvwSZ9Ajajlvg5mn4wIV7vy5hvL3ibsQ\\\n",
              "qPx94ioEtkVIbUu8f0tS2HYBe1JZWQkASElJUT2fkpIiv+aK1WqFxWJRfVF4aMms3Zd2v4QzNWfw\\\n",
              "0u6XsKZ8jWo8n16nh02yYcPxDXJXq3K84MSbJsrHiG5Y8b6a9TWYO3eu22sfWXkE/fr1Q0FBgdtj\\\n",
              "RHcwu3qJWs7bcXGejgvU2LqWXkMMIxEKCgqchkYVFxerfp/MnTsXv37kV6pJIRwjGH40GQBbav78\\\n",
              "+TCZTPJXenp6sJtEAdKSWbsS7NtoS5Awb888ecZw6dlSPDfoOXSN64pRPUfJwVI5BvDBjAfx3KDn\\\n",
              "YIo24ULtBeSszsGWk1tgk2yohPs/QjKRCQA4fPiw6rErycnJPgdbImri7bg4T8cFakeNtIw+0On1\\\n",
              "SMvo4/X1HcOfUFBQgF8OycaXmz5yCn/C8r+8i7Vbd8iBj2MEw09ksBsQDKmpqQCAqqoqdO3aVX6+\\\n",
              "qqoKt9xyi9v3zZo1C88884z82GKxMARq1MSbJuL1L15HXWMdrI1W2CQbdNA5ha2BKQPx8pCXAQAj\\\n",
              "3h+BMzVnMG/PPAD20Lni4AqY68yobWyafJQ6IhXXJl6L/7z2H9U1x2EcxmM8lmM5SlCCPOThSTyJ\\\n",
              "VViFd/CO6tiioiLk5+fL1/FkTfkarDi4AhNvmtji2cxE4ejmu+/1akKGp+NcveZYTfts3fu4LXeM\\\n",
              "fNyXmz6SnxOv19VehmSzoaL8iFdtdxf+hNX/bze2/uKXOHPB7PaYTV99jWsH3IrHm/keKTRpsgLY\\\n",
              "q1cvpKamYvPmzfJzFosFe/bsQXZ2ttv3GQwGJCQkqL5Imx7MeBA7H9qJvQ/vxfODn5dnCk+8aSJW\\\n",
              "HFyBRXsXqdYPXFO+BpfrLwMAbJINi/YukruLI3Xqv8N00OHxXz+OoqIi+blMZGI8xgMAnsSTWId1\\\n",
              "eBJPAgDGY7yqEqgMf95gNzFR4HhT3VNW01x1rSqfE7t+1F2pdVsBdHWO5ORkt9cXvy9E+PPUk3DT\\\n",
              "4Nvdf7MU0sI2AF66dAn79+/H/v37AQDHjh3D/v37cfLkSeh0OkydOhUvvfQS/vnPf+LgwYMYO3Ys\\\n",
              "0tLSkJubG9R2U+gRY/qUwU9U9MT6gaLSJx5bG61yd3Gj1CifSwcdzHVmrDi4Avn5+XIILEMZlmO5\\\n",
              "fJwJJvnfy7EcZSgD4Hv4A3wf/0hE7nkzVk65np+rrlXVczr7UBObrdFtBdDVOZS/P5TGYRyWYiny\\\n",
              "kAcAyEMelmIpxmGc07Et+X1CoUMnSZIU7Ea0hq1bt+Kuu+5yen7cuHFYtWoVJEnCnDlz8NZbb+Hi\\\n",
              "xYvIycnBG2+8gRtuuMHra1gsFphMJpjNZlYDw5SyexSA265S0b0rROmj0Dmms3ysOE9HY0ccPn8Y\\\n",
              "KbEpqLpchVE9R2HLyS1yYDRGGGGIMGDKgCnyNfr16yeP+VuHdarwZ4YZucgFAMR1i8Olby+12mdB\\\n",
              "RM1Tdt8qu0zdPe/ta2kZfVBRfkQ+xtN7lJRj/DKRiaVYKr9mhln1+2QyJvv1x2Qo4f07jANgW+AP\\\n",
              "UHjwNAZOBLuucfaxouLfG8dsdHmOC7UXUNtYi0hdJBqlRhgiDHj21mfl84rziRnApmgTJEjQQQcJ\\\n",
              "Eix1Fvn8a8rXYOaCmTi26hgAyGP+HIkxgUD4/9ImClV/zH8Mlu/OIqFzFzxe/CfVa8WPPYTammoY\\\n",
              "4zog/0+rXb7fcVzg5j+9Cclmg06vx7DHfu11CGyt3yPeBtL2gvfvMO4CJvKWGAM3b888p63RlN2j\\\n",
              "4t9ZXbJwx+o7kLM6x+n4od2HomtcVzRKjZAgobaxFisOrpBnAHc0doRep0dKbAr0Oj2q66thqbPA\\\n",
              "2mjF0wOels8/4v0RePb3z8rhLxOZql/aZjQN3H4ST8pjeJRLPHC7N6K24e24P2NcB9TVXnY+7mo3\\\n",
              "r/xfF0TX8uY/vYkdq/8Xks0GAJBsNuwo+bPH9uXn56Nv374AgBKUqH5/APbfJyL89e3bt0V/RHKZ\\\n",
              "mNDDAEia52pNPkG5PIz4d+nZUljqLPJYPaApRO48vRMA0K9TP+iggzHCKI8PPFNzBl99/5V9qZea\\\n",
              "StgkG2yS/Zd4bWMt9lXtAwDsPL0TZf8ow8k/n5TbUYYyrMIqAPa/1HORK48JXIVVcrcN0BQCPQVb\\\n",
              "Igocb8f9RcfEoPbSJafjcvLGIqFzF+TkjXX7fjH5Q7LZAJ0EnV5x+5Z0HkNocXGxPIwkD3mqbl/A\\\n",
              "PqZYjAk8fPgwZk1+yudlarhMTOhhACTNcayMiTX5vJ0IMfGmiTBGGKGDDlldsuTnusZ1hQQJZ2rO\\\n",
              "4HzteTw/+HkkGZNUrxsiDAAAQ4QBXeO6IiG6qevho2Mf4UzNGVRsrMCZv5xxuu47eAeTMVn+S70E\\\n",
              "JZiMyU5LwAD2EJh+IN1tsCWiwHEMP+7CmPI45THKSSHrlyzEqw/9FOuXLFS9Vzn5I8oYA0mSoI+I\\\n",
              "hDE+HjkPPSKH0B0lf1Zd23EMoDc9CQuKluHjXZ/5VM1Tfg8UGhgASXNcLXviy0LQD2Y8iCRjEiRI\\\n",
              "KD1bqnq/6MZVVv3Eun8bx2zE0O5DodfpMbT7UGwcsxGX6tWTNvQ6Pbqiq9M1BVHpM6QZVI9dSden\\\n",
              "+xRsicgzd8HOMfx4UxF0PObLTR+h+LGHcGTndkg2G47s3K66ToxinFr1d+cASYKtsQE9bx6Az9a9\\\n",
              "j5iEBOj0ejTU1cvndVzk2ZeehA9KD+G/eqPH79vbz4faJwZA0hxvlz1xNYZuTfka3LH6DlyovQBT\\\n",
              "tEkerye2glNOJhHVQZtkk7thS8+WylvErSlfg1E9R8nn1kGH5wY9h7jRcUj+mfs1vLo+3BXX//56\\\n",
              "dH3YfVAckz8Gn2Z+CgA+7XBCRO55O87NXXeo8v235Y6BMT4edVeuyBMoamuqnY4H7MGq6r/fyM/r\\\n",
              "I5rWDj2yczss351F1X+/gWSzoaG+DpHRBvz78y9c7vDhS0/CgqJlKC4uDsiWeAJDYvvBAEiao1y3\\\n",
              "z9PYOFHBW/LFEjnkrTi4ApY6i7xsS+nZUrmaqKwsrilfgw3HN8jnEt2wnsYbdojuAACoqa/BDb+4\\\n",
              "AWPyncfSDPj1AHQe3hkA0Gl4J6Q9nOZ0zJw5c2C+08zFnYkCzF0XriN33aHK9998972INsaitqYa\\\n",
              "m//0JtIy+sAY1wHG+HikXHudatFnZaCKNBhga2xw2T6dXg9IEhob6mG5dNnt9yEqfV0S4lWPXTl3\\\n",
              "7lxAtsQTOFmk/eAyMH7gNPL2q7ntzZTLu4glXRzfIx7X1NfAUmdBQnSCvFAz0LRmnwQJOd1ysOP0\\\n",
              "Duigw5QBU+QwqNfpMarnKJSeLXU6b1aXLHx0rOnmIZaEUS4Fk35/Or79+7cA7JW/zsM7y3sQizb0\\\n",
              "/7/++NOL9mUl5syZg8LCQq+3d+M2cERq3i5n4mlZF1+uJZZzUZ5HnNsY1wHRMTGqNQCBphAl0+mQ\\\n",
              "0qs3zFVVgE5Cz5sH4PiXX+Cfn+3HxrJyl9d+YPAADOreFXtOnsHa3V+4PEb8PvHm+9hR8mdA0iHn\\\n",
              "oUc8fm7tZbkY3r8ZAP3CH6D2y1XAU1pTvgZLvlgCCRKeHvA0Hsx40O17HNf4M0YYkWRMwuX6yzDX\\\n",
              "mVVrBOp1ejw36DkA7heNdmwjYA9ytY21MEWbEBsVK79vxvYZWPXqKkR0iECn4Z0QqYtEXFQcLHUW\\\n",
              "OQgmRCfgl+d/iXPnznn1y1opZ3UOzHVmmKJN2PHQDp/eSxSOvA12gQoyrvb9FYGvrvYyai9dUrVl\\\n",
              "/ZKFKN+1A/EdO6H6++8QGR2NOx+ZgB2r/9dpLcE/5j+GtVt3YNNXX6uuWVRUhJwbesnXffnFF7H6\\\n",
              "/+1WHdNc+FO2WxlI/QnEbYn3b3YBU5hqbpzfgxkPIjYqFpY6i9xN6u3YwOiIaGwcsxFTBkxRrRHo\\\n",
              "rmt3xvYZuPnPNyPvX3mqMYXierMHz8aztz4rzwjO6pKFFQdXYMb2GdhwfAO6/LwLOg3vBACIi4rD\\\n",
              "lAFT5O5iwD52MHl4Mj7N/NTn5V5EiFRWFYm0zNvuTl9mvbrqLhbPfXu4qftVBKnjX9orcj1vHiC3\\\n",
              "Zf2ShfhD3k/kSSKXzn+PhE7JaLBasflPb6KhoQ4A0NBQJ1/rttwxGJl5A+7ud718jZkFkxD9lX3J\\\n",
              "KdH+GbNn46EfDpaP8aby52o8ozGuA5eBCSGsAPqBf0GENm+7P0WVTFT+3B2vPJ/oAu4a1xVVl6vk\\\n",
              "9f4AuN1JZN6eearjBB108vIx0RHRcjd0QnQC4qLinK7nquLp72dARC0nqorQ6WCMi0PPmwegfNeO\\\n",
              "q2v66QBJgjE+Xn4+IjIKDXVWuQv4ttwx+M/KZYDidp1y7XUwV1WpJo4Y4+x/GNbWVMs7hHx7uAzl\\\n",
              "u3bg84tXcMePcxH91T73O5IUF3vdk9BeunJbivdvBkC/8Aco/K0pX4OXdr8ECRISohOw86GdXr/v\\\n",
              "9S9eR11jHRpsDWiUGtGvUz+crz3vcizgx8c+Vm0JJ4hxh8pxhcrgJ7qJPz72MSJ0EYjURyI6Ilru\\\n",
              "1iai4Fu/ZCGO7NwuP9bp9fI2bo5hz/LdWRjj4xFtjMXlajMarFZAp7P/brj6B+LwiU81dbteDZCA\\\n",
              "vfs1LaOPfC1X28S5Cm6+jOELF7x/A5HNH0KkXSsOrpCDmQ46rClf4xSslEFOTPYAgEv1l+SKXte4\\\n",
              "rij5cYk89vD1L14HAFjqLKg6XiWHvg7RHZDTLQcfH/sYhgiDXO2bt2eefcmYs5CvI2w4vgESJDRI\\\n",
              "DWhobEBtY6289iBDIFHwyYs4KyqAjpM6XP37PyuX2d8nSZB09n8a4+NV6w2mZfTB8f2lgE7Cbblj\\\n",
              "sGP1/8rXlWw2ebat8ryOPlv3PmovXZL/7SoAeqr4hXo1UKtYAfQD/4IIfyLciQkfjtU3oGkyhxgD\\\n",
              "qJwUooMOHaI74OkBTwOAqptXvJbTLQdbTm6BtdGKe3rdg5eHvCyfMyE6QQ6SYoKIaIt43NHYEYfP\\\n",
              "H0bfjn3xbfW38gQRxwklRBQc3gQkcYwIdLWXL9kre25Co6jY9bwlS37+5rvvxetj77dXDWFfMiYy\\\n",
              "KgqQdKitqUZC5y4AAMt3Z1XVQW8qgJ4mx4jXXFUc2yvevzkJhMiJcgFoscOHmPChg85pfb2JN01E\\\n",
              "QnQCovXRSIhOkCeFdI3riucHP4+dD+3EgxkPYsXBFbBJNrmaKEFCXFQcBqYMRJ2tTrWziHj/0wOe\\\n",
              "lnfzENvMSZCctp37cuyXuO/6+xAbFYt7et2jep1rARIFni8LGnszYUR06Zbv2mEf13e1NqOPiEBO\\\n",
              "3liMnvJbOXht/tObqL10CbU11SjftUO1rl5kZLR8zsb6evk4wL6f8G25Y+QuaPGem+++F/krS5D/\\\n",
              "p9Vu2+hpcoyrc1L7xwqgH/gXRHjytISMu0kTzS0hI7qFXf1bjO0DgHt73YuXh7zs1KY15WuwaO8i\\\n",
              "VZUw7195OPT9IbniqFyWZuOYjZzgQdSK/FkH0NM4vIb6ekACGuqs8vHG+HjkryxRrRsInQ7G2HiY\\\n",
              "UlJw9vh/kZGdg2v6ZsrnsDU0Oi0YHWkwoKGuDvqICEQbYlTVQwB+deOGWjcw798MgH7hD1B4aski\\\n",
              "yoDrdf+8XY9QdNs6hjcx3k+EO6BpFnH/d/qrJozooENCdAKmDJjCwEfUypRdtsou2OaOV66b5xge\\\n",
              "laFSOZkDOh2GT5gkr/UHAH3uGILRU36Lxb/Kha2hQT4OkiRX45RE+BOVReWkE51eD0NsrNOag+GM\\\n",
              "9292AZNGudrnVzzvbdVMufWb6CoW7xHnz+qSpVpbcE35GuSszsEdq++Qr2WuM6NDdAfVceLcHx/7\\\n",
              "GGdqzsDaaIUp2gRjhBE19TWYsX2GHP4idZHQ6/SQICE2KtapDb6uDUhEzRPduhXlR3zeJ9ddd6ry\\\n",
              "+dFTfovhE5+St3f7bN37gK7pDz4xsUQOf4Ac7hzDX8q11yG2gwkpvXo3PXl10ogcFiWdV+sfUvhg\\\n",
              "ACRNUoY3b553JatLFvQ6PbK6ZLk9f+nZUlUwFIFPLECtHOunPE48L9b/A4DYqFhER0TDUmeR9xnW\\\n",
              "6/SYNWiWPE5QuYi1L98LEbWMY5hzNzbQcR9g5ZhAV4tCA/aQOeyxX8vvy8kbK+8XLK6Xcu119oN1\\\n",
              "OrdtrDp2FJbvzqLq2FF5n+GeNw8AABhi4mCMj0fOQ494vbA1hQcuA0OalNUlC1XHq5zCmxiT19xu\\\n",
              "IABQerYUNsmmWpKlufNMvGmivAWdqDK6qjSK55X7EYtZxQnRCcjplqPaX1i8p6XfCxG1zM1336sK\\\n",
              "TcpKn/J55dItysfK91Sf/06eSCFedzy/Y0C7aegIXLFY5G3jBLGwdEX5kab1BCUJZ4//F5LNhory\\\n",
              "I6goPyLPDmbw0x5WAEmT3IU3x65cTybeNBGmaBNq6muculndnefBjAex46Ed8szg5ojzPD3gabmb\\\n",
              "V8wcVnLV3euuW1ocwy5iopbzVOkzxnVAXe1lp9eU4dDxPQmduyAjO8frblhx/R2r/xeW786itqYG\\\n",
              "+simmk60MVaeOXznIxPkrdqU1/B22zsKT5wE4gcOIg1dgZoh29wkD0dif99RPUe5nO3riZgwIsb+\\\n",
              "Weos8nW9aYfjMb62nYiaFD/2EGprqmGM64D8P61WveZuhnBzM2XXL1mI8l075Bm9ymMdXxOzgY3x\\\n",
              "8aitqZHXDJTXDoyN18yuHi3B+zcrgKRRvlT6PBFj9ZrrZhXVto+PfQybZJPH8Lk7zl1Vrrq+GpY6\\\n",
              "C3TQqa6rbIe7czi21du2E5ELYkKGzrmG4q6y1tx6gGJ/4PJdO5yqhY6via3kcvLGwhgbDwCIjIpG\\\n",
              "QucuMMbGo7amuk3X5PNlXURqH1gB9AP/giChuYqiqLYZI4yos9W5rQB6qsopdxx5btBzbsMrK3tE\\\n",
              "/muuWhfIde9EdS++YydcOv+9VxVA5WuObQnEtm2+fn/+rIsYDLx/swJIFBDNzbgV1bZnb30WX479\\\n",
              "EgNTBuKO1XcgZ3WOqlIndhW5XH/ZbQXvuUHPAYDbSiEre0T+czdeDwhs+Pty00c4snM7JJsNl85/\\\n",
              "j2dW/xOjp/zWqVo4espvMeyxX8vLvyhfUx7bXNua+75EFW9HyZ9h+e6sfYs4L3A8YehhACRywdcJ\\\n",
              "Es2FLmWX85ryNXhp90uw1FlgrjOrQuODGQ8iLirO6XnHc3gKnIHq3ibSMk+BxlOI8pXyHBnZOc0e\\\n",
              "63hdx67X5trm9fclXV1WRnK/vIySN9vdUfvCAEjkgq9r6DUXupSBcsXBFfJEDh10yOqSpQqb3lTw\\\n",
              "fK3yccYvkW88BRp3Iaol4+DEuYZPfAqjp/zWq2OV13UMfM1V4rz9vnIeegQJnbsg56FHvP5eKLRw\\\n",
              "DKAfOIYgfAV6H13luDzlWoBPD3haDputOWavJfsbE5FvfB0H52tXsrs9hIOxB2+o7f3riPdvVgCJ\\\n",
              "XAp0N6qyYue4FmBbjNnzdA3uGEIUGL6Og/O1K9nV8cHqeg1kNzgFByuAfuBfEOROKFXVQqmtROHE\\\n",
              "myqa8hgA7abqxgpg6GMA9AN/gMgdLsVCRIEQasurhArev9kFTNQqAt2ty0kcRO1DWy94zOVVqLWw\\\n",
              "AugH/gVBbYWTOIjaB61X5EK961fg/ZsVQKKQwEkcRO1Da1TkQmkbNU7+CB8MgEQB0prdtJ5mJXPn\\\n",
              "D6K20xqzbkMpVLFLOnywC9gPLCGTEid+EFFLhEu3aijh/ZsVQKKACUYljpNDiNoHZTeur126La0q\\\n",
              "hlLXMbU/rAD6gX9BULCJqmNCdALiouI4EYQoSJSTQwC02kQRZbVQdB2LLtn2uF6gP1qzMsr7NyuA\\\n",
              "KC4uRs+ePWE0GjFo0CB89tlnwW4SkddE1VEHHSeCEAWRcmxca46TU44XVF5H+XwojSn0JFy+j/ZK\\\n",
              "0xXA9957D2PHjsWbb76JQYMG4bXXXsPatWtRXl6OLl26NPt+/gVB7QWXgiHSBndVsfa6Y4g/WAFs\\\n",
              "XZoOgIMGDcKtt96KoqIiAIDNZkN6ejomT56MmTNnNvt+/gARERGFHt6/NdwFXFdXh3379mH48OHy\\\n",
              "c3q9HsOHD8euXbtcvsdqtcJisai+iIiIiEKNZgPgd999h8bGRqSkpKieT0lJQWVlpcv3zJ8/HyaT\\\n",
              "Sf5KT09vi6YSERERBZRmA2BLzJo1C2azWf46depUsJtERERE5LPIYDcgWDp37oyIiAhUVVWpnq+q\\\n",
              "qkJqaqrL9xgMBhgMhrZoHhEREVGr0WwFMDo6GgMHDsTmzZvl52w2GzZv3ozs7OwgtoyIiIiodWm2\\\n",
              "AggAzzzzDMaNG4cf/OAHuO222/Daa6+hpqYGjz76aLCbRkRERNRqNB0Af/GLX+DcuXN44YUXUFlZ\\\n",
              "iVtuuQUbNmxwmhhCREREFE40vQ6gv7iOEBERUejh/VvDYwCJiIiItIoBkIiIiEhjGACJiIiINIYB\\\n",
              "kIiIiEhjGACJiIiINIYBkIiIiEhjGACJiIiINIYBkIiIiEhjGACJiIiINIYBkIiIiEhjGACJiIiI\\\n",
              "NIYBkIiIiEhjGACJiIiINIYBkIiIiEhjGACJiIiINIYBkIiIiEhjGACJiIiINIYBkIiIiEhjGACJ\\\n",
              "iIiINIYBkIiIiEhjGACJiIiINIYBkIiIiEhjGACJiIiINIYBkIiIiEhjGACJiIiINIYBkIiIiEhj\\\n",
              "GACJiIiINIYBkIiIiEhjGACJiIiINIYBkIiIiEhjGACJiIiINIYBkIiIiEhjGACJiIiINIYBkIiI\\\n",
              "iEhjGACJiIiINIYBkIiIiEhjGACJiIiINCYsA+C8efNw++23IzY2FomJiS6POXnyJEaPHo3Y2Fh0\\\n",
              "6dIFzz77LBoaGtq2oURERERBEBnsBrSGuro6PPDAA8jOzsbKlSudXm9sbMTo0aORmpqKTz/9FGfO\\\n",
              "nMHYsWMRFRWF3//+90FoMREREVHb0UmSJAW7Ea1l1apVmDp1Ki5evKh6/uOPP8aPf/xjVFRUICUl\\\n",
              "BQDw5ptvYsaMGTh37hyio6O9Or/FYoHJZILZbEZCQkKgm09EREStgPfvMO0Cbs6uXbtw0003yeEP\\\n",
              "AEaOHAmLxYJDhw65fZ/VaoXFYlF9EREREYUaTQbAyspKVfgDID+urKx0+7758+fDZDLJX+np6a3a\\\n",
              "TiIiIqLWEDIBcObMmdDpdB6/jhw50qptmDVrFsxms/x16tSpVr0eERERUWsImUkg06dPx/jx4z0e\\\n",
              "c+2113p1rtTUVHz22Weq56qqquTX3DEYDDAYDF5dg4iIiKi9CpkAmJycjOTk5ICcKzs7G/PmzcPZ\\\n",
              "s2fRpUsXAMCmTZuQkJCAfv36BeQaRERERO1VyARAX5w8eRLnz5/HyZMn0djYiP379wMArrvuOsTH\\\n",
              "x2PEiBHo168fHnnkESxcuBCVlZV4/vnnkZ+fzwofERERhb2wXAZm/PjxeOedd5ye/+STT3DnnXcC\\\n",
              "AE6cOIFJkyZh69atiIuLw7hx47BgwQJERnqfiTmNnIiIKPTw/h2mAbCt8AeIiIgo9PD+HUKzgImI\\\n",
              "iIgoMBgAiYiIiDSGAZCIiIhIYxgAiYiIiDSGAZCIiIhIYxgAiYiIiDSGAZCIiIhIYxgAiYiIiDSG\\\n",
              "AZCIiIhIYxgAiYiIiDSGAZCIiIhIYxgAiYiIiDSGAZCIiIhIYxgAiYiIiDSGAZCIiIhIYxgAiYiI\\\n",
              "iDSGAZCIiIhIYxgAiYiIiDSGAZCIiIhIYxgAiYiIiDSGAZCIiIhIYxgAiYiIiDSGAZCIiIhIYxgA\\\n",
              "iYiIiDSGAZCIiIhIYxgAiYiIiDSGAZCIiIhIYxgAiYiIiDSGAZCIiIhIYxgAiYiIiDSGAZCIiIhI\\\n",
              "YxgAiYiIiDSGAZCIiIhIYxgAiYiIiDSGAZCIiIhIYxgAiYiIiDSGAZCIiEgjyrafxp//ZyfKtp8O\\\n",
              "dlMoyMIyAB4/fhwTJkxAr169EBMTg969e2POnDmoq6tTHXfgwAH88Ic/hNFoRHp6OhYuXBikFhMR\\\n",
              "EbW+LzYcR/V5K77YcDzYTaEgiwx2A1rDkSNHYLPZsHz5clx33XUoKyvD448/jpqaGrzyyisAAIvF\\\n",
              "ghEjRmD48OF48803cfDgQTz22GNITEzEE088EeTvgIiIKPAGjOqJLzYcx4BRPYPdFAoynSRJUrAb\\\n",
              "0RYWLVqEZcuW4b///S8AYNmyZXjuuedQWVmJ6OhoAMDMmTOxbt06HDlyxKtzWiwWmEwmmM1mJCQk\\\n",
              "tFrbiYiIKHB4/w7TLmBXzGYzOnbsKD/etWsXhgwZIoc/ABg5ciTKy8tx4cIFl+ewWq2wWCyqLyIi\\\n",
              "IqJQo4kA+M0332Dp0qV48skn5ecqKyuRkpKiOk48rqysdHme+fPnw2QyyV/p6emt12giIiIXOJGD\\\n",
              "AiGkAuDMmTOh0+k8fjl2354+fRqjRo3CAw88gMcff9yv68+aNQtms1n+OnXqlF/nIyIictRcwONE\\\n",
              "DgqEkJoEMn36dIwfP97jMddee63874qKCtx11124/fbb8dZbb6mOS01NRVVVleo58Tg1NdXluQ0G\\\n",
              "AwwGQwtaTkRE5B1lwMsc0s3pdU7koEAIqQCYnJyM5ORkr449ffo07rrrLgwcOBBvv/029Hp1sTM7\\\n",
              "OxvPPfcc6uvrERUVBQDYtGkTMjIykJSUFPC2ExEReaO5gJc5pJvLYOivsu2n5eu2xvmpfQmpLmBv\\\n",
              "nT59GnfeeSe6d++OV155BefOnUNlZaVqbN8vf/lLREdHY8KECTh06BDee+89vP7663jmmWeC2HIi\\\n",
              "ItKqsu2nseKZ7di97qhTCGuLcX/sWtaWkKoAemvTpk345ptv8M033+Caa65RvSZWvTGZTNi4cSPy\\\n",
              "8/MxcOBAdO7cGS+88ALXACQioqD4YsNxWC83yP9WBsDmuoV94a7Sl9o7EZcuViG1d6Jf56fQoJl1\\\n",
              "AFsD1xEiIqJAKdt+GrvXHQUADM7t7VQBDFT37J//Zyeqz1thiI1EtDECqb0TUXn0IupqG2G93IAO\\\n",
              "HQ0Y+/s7/LpGe8f7NwOgX/gDRERErS3QY/PE+UTg0+kByQY5EIqxh+E8HpD37zDtAiYiIgp1jkEt\\\n",
              "EN2/St1v7ITKoxflCqAy7IkqYaCvSe1HWE4CISIiak9aMolDjPsDgA4dDQFb9mX2c7Pxr+3vyaHP\\\n",
              "MfwBQPmVrfjPob84XZOLUIcPVgCJiIhameMMW2+6V5XLwbg6riVdw4WFhVi3420AwPW3pgAb7nSq\\\n",
              "9BUXF+P3rz0PALh5S3dkDil0+X2wMhjaWAEkIiJqZQNG9ZSreN4st+JNuHN3HndVusLCQsydO1d+\\\n",
              "/PvXnkf5la2q6mJxcTEKCgrkY+bOnYvCwkKX3weFNlYAiYiIWply8eaKry82u9yKCHfbS8rl9zty\\\n",
              "t2C0eO/udUfl19/f8kdV+BN+/9rzKCoqQuaQO5zCnyDeN2bo42E9MURrOAvYD5xFREREvhITLJTL\\\n",
              "rThW/Mq2n8b2knJINvi8LIvj5JH/HPqL3O3rzrU9rsd/T3zt8ZjcnEcx/MaHw2KZGN6/WQEkIiJq\\\n",
              "U64qd67G1kUbI+XjlWsEitm7ykqcCH3KGb3ivP1+0BvrdrhuSyYyUYYyOfyJx650654GnR5cKDpM\\\n",
              "cAwgERFRG8oc0g1jf3+HqhvVcWyd2BUk2hiBzCHd5MfWyw34Zl+V09g/ESDFa9tWl8tbyt3cZQQe\\\n",
              "uGOyUzvGYRyWYinykAcAyEMelmIpxmGc07FFRUW4JWUEJBtw8tD3Tq9zdnDoYQAkIiJqBb6EImUo\\\n",
              "LNt+GnW1jTDERsqBcMConjDERiIySo+ISL3qNcBeldPpgc7pHaDTA5Agrx147kQ1fpSZqwqBmcjE\\\n",
              "eIwHADyJJ7EO6/AkngQAjMd4ZCJTPraoqAj5+fke2899hEMPAyAREVEraGkoctwTuGz7aWQO6YaJ\\\n",
              "rw5BTIcoNNTZUFfbIB9ftv00vtlXBckG1FbXYUheBgyxkXJITO7RAQBw501NIbAMZViO5fI5TDDJ\\\n",
              "/16O5XI3sDL8Dc7tjQ4dDRic29upzZwdHHo4CcQPHERKRBRaAr2tmi/Xau6xeI8Y69dYb0NDvQ2R\\\n",
              "0XrExEfJ4UpMDtHpgSF5GXLQFI/dfV8bVx7C159X4aX3HkPlhRMAgHVYpwp/ZpiRi1wAQN++ffHV\\\n",
              "V1+10qcTXLx/swJIREQa4k9XpacuXVevOY71Uy7P8uf/2Ymda7+WHyvbJ6p/DQ02+3/rbaoJIkPy\\\n",
              "MuT9e8XED50euG5giipIOran8uhFbDu4Tg5/echThT/AXgkUYwIPHz6M4uJinz8nCg0MgEREpBn+\\\n",
              "dFV6Co/eBEtxbQCoPm+VA567YyDZq3zX/yAFhthI1NU2yt3BQ/Iy5O+j8uhFSDZ7wBN2rzuK6vNW\\\n",
              "7Fz7tRwEy69sxdqdSwHYxwCKMX+AvfInPIkn5TGABQUFDIFhigGQiIg0w9UMXG95Co/eBEtxbTGW\\\n",
              "7vofpMhj6kTFDoB8jCE2EtHGSKRdn4hoY4Q8qcPVtZUBEbB3HwNN1cOF8/4gb+8G2McArsIqAPYx\\\n",
              "f7nIlccErsIq1VIwIgRypm944RhAP3AMARGRtm1ceQjf7KvCdQNTMGLCjW6Pa27soavFoZXPOe4L\\\n",
              "7Hi8eCzGAe58/2s01NlD4Pav1mHN/1vqsl2O6/55WgfwkRHTMKjXj7kQdJhgBZCIiKiFxOzbb/ZV\\\n",
              "eTyuuS5iVxVEMbYvtXeiU+VSebxYNga6pnGBEZFXb+86oFNv93s+iLB3bY/rVY9diU8DZ/qGEe4E\\\n",
              "QkRE1ELXDUyRK4CeuNu31x3l0i7f7KtC2vWJTjOHU3snYntJOSIi9Giot13tMo5QLSY9YFRP/AgZ\\\n",
              "OFH2PT76/M8ur/XAHZPx4yG/QHW3/S73AgaASeOnYXDX+11WMNtyZjUFDruA/cASMhER+cLd0i+O\\\n",
              "+/6KLl3BEGuv11ivNACS/bhLF62QbAB0gCHG/rqrbeJWPLMd1ssNWP/5O/h4nzoEPnDHZNzZP1de\\\n",
              "Pua5afNUYwUB+x7Ao28dD+vlBpfdv666r9s73r/ZBUxERBRQniZLuOoK/mLDcXldP+XOHzrRi3v1\\\n",
              "v9bLDfLM4AGjeuK6gSnyLGExScTVNnHC6B+Mwz0Dx8qPH/vJs/jxkF/I4a9s+2lkxNyJ/5n6knzM\\\n",
              "TwaPx/AbHwbgvvuXi0CHJnYBExERBZAy5Dl2ibrqCnac4AFAtXagOFasFzg4tzcyh3RD5pBu8sQT\\\n",
              "UVlM7Z0oVwDF8wAQGW3vJh79g3HQ6YBbcm7AvMXPAbBPZNleUo6ISD0a6mzI6HgnHhkxDd99/z1G\\\n",
              "/2AcGhtt6H5jJ7eTXERbmsOu4vaFXcB+YAmZiIgceRt0WhqIlLuFiDDo7rXd647aK4c6e6VQGQ7F\\\n",
              "caJbGTqgQ5JBNYawrrbRbdevp3a40p66inn/ZgWQiIioxVyFOGX1TvnY8T1XquvRUG/D7nVHvQ6A\\\n",
              "yvGC4hrK9zruI9woFpuW7AtFK5eYEcfp9TpIOslpKRvHSSe+tMMVXyfCUOtiACQiImohd929nrqB\\\n",
              "xWvQOZ9PrCsYbYyE9XID4jsaoAPkgCnGC4qJH8owJZaDiYzSIyJKj9Teifh6b9PyNI7dzttWlwMS\\\n",
              "EGWMwMRXh6jaoQx+Y39/hzyu0dt2uNvzONiVP2rCAEhERNRC7qpa7p4XIc0QG6masSuIpV9Ede7S\\\n",
              "1ZnAIki6Gi8oiOqfmJCxbXW5/JohNtLpeDFzWOxEouzOdZysIsKiqFaKdogxhxVfX1TtaSx2LRFh\\\n",
              "0V0YpuBhACQiImohdxMglM8rK2DKkOY4qaJs+2n7RIx6GwwxkXIIVM4OVp7XcRcSZTj8YsNx+7g+\\\n",
              "h/Mru6dFOwCounNFkDPERjqdy3qlQT6PckeSSxer5PcbYiOdFqkW56L2g8vAEBERtSJlBczTkilf\\\n",
              "bDiOhjobOiQZMPHVIfjRLzPQoaNBXqZFqWz7aXy9t2mhaMduV7E/sPhy3EdYtMPYIRrb3i1XhTfA\\\n",
              "XsGLNkaozgUdAAkuz3PdwBT5WoNze8u7loigKc5F7QcrgERERK1I2V3qahFoUXHrfmMnABdV1T7A\\\n",
              "9WQSZQi7bmCKHDK3l5TLx4rxd7vXHXWqwInXiydtkZ8zxEZi4qtDsGb+Xpw7UQ1jh2jVsaLimNo7\\\n",
              "UX5PxdcXcemivZvacRyh8ntn9a/9YQAkIiJqRY7dpWIsnONMWuUsXcHd+LnU3om4dLGp+1d5LuWx\\\n",
              "yq7eiq8vYntJOTqnd4Dl3BUA9hnAtkZ7/+7g3N4AgHMnq+3/PVGt6jauPHoRks3+X0G5XZ2rdQK9\\\n",
              "XSOQ2h67gImIiNqAY/evaiatokK3ceUhvPHUFmxceUjufq2rbVTtLOIYxjKHdMOQvAyn7mXlNUVY\\\n",
              "O3eiGtbLDbBeboCtUUJktB4/+mVTN3NkZFM02L3uqLyriavua7EbSXN7IVP7w4Wg/cCFJImIqKXc\\\n",
              "LQT9xlNb5K3hnnpjqFw5NMRGItoYoQqQviwiLbpwRQVQTDKBDshfNlTVLscZve1h8eZA4v2bAdAv\\\n",
              "/AEiIqJAc5zdK4Kip105WmL55K1oqLchMkqPJ5fe6fKYcN2+jfdvBkC/8AeIiIiaE6gQ5RgM/b2u\\\n",
              "P+0K9WDI+zcngRAREXmlpaFHTOTYve6oasavWATa23M5jvtrrj1iH2BxTeXCzcr3uNuyzpvviYs7\\\n",
              "hy5OAiEiIvKC4+4Y3hKTJwDIky++2Vfl87lcTSLx9hy71x1F9Xkrvv5cfV3xvHLMX0vaQqGHFUAi\\\n",
              "IiIvtHRNO8c1+QAgITkG352qRmrvRJ+6apVj/1y1R1yjsd4mzy4enNtbvm5kpB4xHaKcvofGBptq\\\n",
              "r19vvycKXWFbAfzpT3+K7t27w2g0omvXrnjkkUdQUVGhOubAgQP44Q9/CKPRiPT0dCxcuDBIrSUi\\\n",
              "ovYuc0g3eYeLloo2RmBwbm/UVtfJ3bnKSl7Z9tPysiuCu0qfq/aIdf8a6m1oqLPJO3AMzu2NDh0N\\\n",
              "uOOB61XvGZzbG4bYSDTU25yuoVyOhsJP2AbAu+66C2vWrEF5eTn+9re/4ejRoxgzZoz8usViwYgR\\\n",
              "I9CjRw/s27cPixYtQmFhId56660gtpqIiMKVuy3hlP92FfZ86W4V6wZGRulVawu6C6/y46vTQZW7\\\n",
              "fCgXeabwE7ZdwNOmTZP/3aNHD8ycORO5ubmor69HVFQU/vrXv6Kurg5/+tOfEB0djRtvvBH79+/H\\\n",
              "q6++iieeeCKILScionCk7LJ17EJ1rOK52ratOaKreHBu7xbP+lXu8nHdwBR51jGFH00sA3P+/HlM\\\n",
              "mjQJp0+fxo4dOwAAY8eOhcViwbp16+TjPvnkEwwdOhTnz59HUlJSs+flNHIiImovxILR7tYJdPe6\\\n",
              "cmyiu/AYbnj/DuMKIADMmDEDRUVFuHz5MgYPHox//etf8muVlZXo1auX6viUlBT5NVcB0Gq1wmq1\\\n",
              "yo8tFksrtZyIiMg3zU1Scfc6J3RoU0iNAZw5cyZ0Op3HryNHjsjHP/vssygtLcXGjRsRERGBsWPH\\\n",
              "wp+C5/z582EymeSv9PT0QHxbRERELrmaFOJOc5NUAjGJhcJHSHUBnzt3Dt9//73HY6699lpER0c7\\\n",
              "Pf/tt98iPT0dn376KbKzs1vUBeyqApienq7pEjIREakFcpeM5rp1qWXYBRxiXcDJyclITk5u0Xtt\\\n",
              "NhsAyAEuOzsbzz33nDwpBAA2bdqEjIwMt+P/DAYDDAZDi65PRETaEMhdMlq69iBRc0KqAuitPXv2\\\n",
              "YO/evcjJyUFSUhKOHj2K2bNno6qqCocOHYLBYIDZbEZGRgZGjBiBGTNmoKysDI899hgWL17s9Sxg\\\n",
              "/gVBRESOQn2fXC3g/TtMA+DBgwfx9NNP48svv0RNTQ26du2KUaNG4fnnn0e3bk3/Mx44cAD5+fnY\\\n",
              "u3cvOnfujMmTJ2PGjBleX4c/QERERKGH9+8wDYBthT9AREQU6rRYseT9O8RmARMREVFgudtqjsIb\\\n",
              "AyAREZGG+bLVHIWPkJoFTERERIHFhaC1iRVAIiIiIo1hACQiIiLSGAZAIiIicsuX7egodDAAEhER\\\n",
              "kVucJRyeGACJiIjILc4SDk+cBUxERERucZZweGIFkIiIiEhjGACJiIiINIYBkIiIiEhjGACJiIiI\\\n",
              "NIYBkIiIiEhjGACJiIiINIYBkIiIiEhjGACJiIiINIYBkIiIiEhjGACJiIiINIYBkIiIiEhjGACJ\\\n",
              "iIiINIYBkIiIiEhjIoPdgFAmSRIAwGKxBLklRERE5C1x3xb3cS1iAPRDdXU1ACA9PT3ILSEiIiJf\\\n",
              "VVdXw2QyBbsZQaGTtBx//WSz2VBRUYEOHTpAp9MFuzkBZ7FYkJ6ejlOnTiEhISHYzWlX+Nl4xs/H\\\n",
              "M34+nvHzcY+fjWfefj6SJKG6uhppaWnQ67U5Go4VQD/o9Xpcc801wW5Gq0tISOAvGjf42XjGz8cz\\\n",
              "fj6e8fNxj5+NZ958Plqt/AnajL1EREREGsYASERERKQxDIDklsFgwJw5c2AwGILdlHaHn41n/Hw8\\\n",
              "4+fjGT8f9/jZeMbPx3ucBEJERESkMawAEhEREWkMAyARERGRxjAAEhEREWkMAyARERGRxjAAkpPj\\\n",
              "x49jwoQJ6NWrF2JiYtC7d2/MmTMHdXV1quMOHDiAH/7whzAajUhPT8fChQuD1OK2NW/ePNx+++2I\\\n",
              "jY1FYmKiy2NOnjyJ0aNHIzY2Fl26dMGzzz6LhoaGtm1oEBUXF6Nnz54wGo0YNGgQPvvss2A3KSi2\\\n",
              "b9+On/zkJ0hLS4NOp8O6detUr0uShBdeeAFdu3ZFTEwMhg8fjq+//jo4jW1j8+fPx6233ooOHTqg\\\n",
              "S5cuyM3NRXl5ueqY2tpa5Ofno1OnToiPj8f999+PqqqqILW4bS1btgz9+/eXFzTOzs7Gxx9/LL+u\\\n",
              "5c/G0YIFC6DT6TB16lT5OX4+zWMAJCdHjhyBzWbD8uXLcejQISxevBhvvvkm/ud//kc+xmKxYMSI\\\n",
              "EejRowf27duHRYsWobCwEG+99VYQW9426urq8MADD2DSpEkuX29sbMTo0aNRV1eHTz/9FO+88w5W\\\n",
              "rVqFF154oY1bGhzvvfcennnmGcyZMwdffPEFbr75ZowcORJnz54NdtPaXE1NDW6++WYUFxe7fH3h\\\n",
              "woVYsmQJ3nzzTezZswdxcXEYOXIkamtr27ilbW/btm3Iz8/H7t27sWnTJtTX12PEiBGoqamRj5k2\\\n",
              "bRo+/PBDrF27Ftu2bUNFRQXuu+++ILa67VxzzTVYsGAB9u3bh88//xxDhw7Fz372Mxw6dAiAtj8b\\\n",
              "pb1792L58uXo37+/6nl+Pl6QiLywcOFCqVevXvLjN954Q0pKSpKsVqv83IwZM6SMjIxgNC8o3n77\\\n",
              "bclkMjk9/9FHH0l6vV6qrKyUn1u2bJmUkJCg+rzC1W233Sbl5+fLjxsbG6W0tDRp/vz5QWxV8AGQ\\\n",
              "PvjgA/mxzWaTUlNTpUWLFsnPXbx4UTIYDNLq1auD0MLgOnv2rARA2rZtmyRJ9s8iKipKWrt2rXzM\\\n",
              "4cOHJQDSrl27gtXMoEpKSpJWrFjBz+aq6upq6frrr5c2bdok/ehHP5KefvppSZL4s+MtVgDJK2az\\\n",
              "GR07dpQf79q1C0OGDEF0dLT83MiRI1FeXo4LFy4Eo4ntxq5du3DTTTchJSVFfm7kyJGwWCzyX+/h\\\n",
              "qq6uDvv27cPw4cPl5/R6PYYPH45du3YFsWXtz7Fjx1BZWan6rEwmEwYNGqTJz8psNgOA/Htm3759\\\n",
              "qK+vV30+ffr0Qffu3TX3+TQ2NqKkpAQ1NTXIzs7mZ3NVfn4+Ro8erfocAP7seCsy2A2g9u+bb77B\\\n",
              "0qVL8corr8jPVVZWolevXqrjROCprKxEUlJSm7axPamsrFSFP0D92YSz7777Do2NjS6//yNHjgSp\\\n",
              "Ve2T+Flw9VmF+8+JI5vNhqlTp+KOO+5AZmYmAPvnEx0d7TTOVkufz8GDB5GdnY3a2lrEx8fjgw8+\\\n",
              "QL9+/bB//37NfzYlJSX44osvsHfvXqfX+LPjHVYANWTmzJnQ6XQevxxv0qdPn8aoUaPwwAMP4PHH\\\n",
              "Hw9Sy1tfSz4bIgqM/Px8lJWVoaSkJNhNaVcyMjKwf/9+7NmzB5MmTcK4cePw1VdfBbtZQXfq1Ck8\\\n",
              "/fTT+Otf/wqj0Rjs5oQsVgA1ZPr06Rg/frzHY6699lr53xUVFbjrrrtw++23O03uSE1NdZpRJR6n\\\n",
              "pqYGpsFtyNfPxpPU1FSnWa+h/Nn4onPnzoiIiHD5sxHu37uvxOdRVVWFrl27ys9XVVXhlltuCVKr\\\n",
              "2l5BQQH+9a9/Yfv27bjmmmvk51NTU1FXV4eLFy+qKjla+lmKjo7GddddBwAYOHAg9u7di9dffx2/\\\n",
              "+MUvNP3Z7Nu3D2fPnsWAAQPk5xobG7F9+3YUFRXh3//+t6Y/H28xAGpIcnIykpOTvTr29OnTuOuu\\\n",
              "uzBw4EC8/fbb0OvVxeLs7Gw899xzqK+vR1RUFABg06ZNyMjICMnuX18+m+ZkZ2dj3rx5OHv2LLp0\\\n",
              "6QLA/tkkJCSgX79+AblGexUdHY2BAwdi8+bNyM3NBWDv3tu8eTMKCgqC27h2plevXkhNTcXmzZvl\\\n",
              "wGexWORqT7iTJAmTJ0/GBx98gK1btzoNKRk4cCCioqKwefNm3H///QCA8vJynDx5EtnZ2cFoctDZ\\\n",
              "bDZYrVbNfzbDhg3DwYMHVc89+uij6NOnD2bMmIH09HRNfz5eC/YsFGp/vv32W+m6666Thg0bJn37\\\n",
              "7bfSmTNn5C/h4sWLUkpKivTII49IZWVlUklJiRQbGystX748iC1vGydOnJBKS0uluXPnSvHx8VJp\\\n",
              "aalUWloqVVdXS5IkSQ0NDVJmZqY0YsQIaf/+/dKGDRuk5ORkadasWUFuedsoKSmRDAaDtGrVKumr\\\n",
              "r76SnnjiCSkxMVE1K1orqqur5Z8PANKrr74qlZaWSidOnJAkSZIWLFggJSYmSv/4xz+kAwcOSD/7\\\n",
              "2c+kXr16SVeuXAlyy1vfpEmTJJPJJG3dulX1O+by5cvyMb/+9a+l7t27S1u2bJE+//xzKTs7W8rO\\\n",
              "zg5iq9vOzJkzpW3btknHjh2TDhw4IM2cOVPS6XTSxo0bJUnS9mfjinIWsCTx8/EGAyA5efvttyUA\\\n",
              "Lr+UvvzySyknJ0cyGAxSt27dpAULFgSpxW1r3LhxLj+bTz75RD7m+PHj0j333CPFxMRInTt3lqZP\\\n",
              "ny7V19cHr9FtbOnSpVL37t2l6Oho6bbbbpN2794d7CYFxSeffOLyZ2XcuHGSJNmXgpk9e7aUkpIi\\\n",
              "GQwGadiwYVJ5eXlwG91G3P2Oefvtt+Vjrly5Ij311FNSUlKSFBsbK/385z9X/SEazh577DGpR48e\\\n",
              "UnR0tJScnCwNGzZMDn+SpO3PxhXHAMjPp3k6SZKkNiw4EhEREVGQcRYwERERkcYwABIRERFpDAMg\\\n",
              "ERERkcYwABIRERFpDAMgERERkcYwABIRERFpDAMgERERkcYwABIRERFpDAMgERERkcYwABIRERFp\\\n",
              "DAMgERERkcYwABIRERFpDAMgERERkcYwABIRERFpDAMgERERkcYwABIRERFpDAMgERERkcYwABIR\\\n",
              "ERFpDAMgERERkcYwABIRERFpDAMgERERkcYwABIRERFpDAMgERERkcYwABIRERFpDAMgERERkcYw\\\n",
              "ABIRERFpDAMgERERkcYwABIRERFpDAMgERERkcYwABIRERFpDAMgERERkcb8f1PaIxV12wqzAAAA\\\n",
              "AElFTkSuQmCC\\\n",
              "\"\n",
              "  frames[1] = \"data:image/png;base64,iVBORw0KGgoAAAANSUhEUgAAAoAAAAHgCAYAAAA10dzkAAAAOXRFWHRTb2Z0d2FyZQBNYXRwbG90\\\n",
              "bGliIHZlcnNpb24zLjcuMSwgaHR0cHM6Ly9tYXRwbG90bGliLm9yZy/bCgiHAAAACXBIWXMAAA9h\\\n",
              "AAAPYQGoP6dpAAA3RklEQVR4nO3de3xU9Z3/8feEJMM1A0hIQIIiWEyMt1IvAeSnQgFlrdmqNbuP\\\n",
              "aqioyCbsIqwLiJKwlmKxFW0SAasluLsa0V1j663yQ4WHCqjIxZCQn7gqCE4IBWYQYUKS8/tjnGMm\\\n",
              "mYRALjOZ7+vpYx5y5pw5fD1Nc97z+V6Ow7IsSwAAADBGTLgbAAAAgM5FAAQAADAMARAAAMAwBEAA\\\n",
              "AADDEAABAAAMQwAEAAAwDAEQAADAMARAAAAAwxAAAQAADEMABAAAMAwBEAAAwDAEQAAAAMMQAAEA\\\n",
              "AAxDAAQAADAMARAAAMAwBEAAAADDEAABAAAMQwAEAAAwDAEQAADAMARAAAAAwxAAAQAADEMABAAA\\\n",
              "MAwBEAAAwDAEQAAAAMMQAAEAAAxDAAQAADAMARAAAMAwBEAAAADDEAABAAAMQwAEAAAwDAEQAADA\\\n",
              "MARAAAAAwxAAAQAADEMABAAAMAwBEAAAwDAEQAAAAMMQAAEAAAxDAAQAADAMARAAAMAwBEAAAADD\\\n",
              "EAABAAAMQwAEAAAwDAEQAADAMARAAAAAwxAAAQAADEMABAAAMAwBEAAAwDAEQAAAAMMQAAEAAAxD\\\n",
              "AAQAADAMARAAAMAwBEAAAADDEAABAAAMQwAEAAAwDAEQAADAMARAAAAAw8SGuwFdWX19vfbv368+\\\n",
              "ffrI4XCEuzkAAKAVLMvS0aNHNXjwYMXEmFkLIwC2wf79+5WSkhLuZgAAgDOwd+9eDRkyJNzNCAsC\\\n",
              "YBv06dNHkv8HKCEhIcytAQAAreH1epWSkmLfx01EAGyDQLdvQkICARAAgC7G5OFbZnZ8AwAAGIwA\\\n",
              "CAAAYBgCIAAAgGEIgAAAAIYhAALtKD8/X0VFRS0eU1RUpPz8/M5pEAAAITALGGgn+fn5WrRokb2d\\\n",
              "k5PT5JiioiLl5uYGfQYAgM5GBRBoB43DX25ubpNKYOPwt2jRIgIgACAsCIBAGzUOfwENQ2Dj8BdA\\\n",
              "CAQAhIPDsiwr3I3oqrxer1wulzweDwtBG6q58NdQamqqKioqWjwmLy+PIAgAnYT7NxVAoE0SExOb\\\n",
              "3ZeudEmyw19g+3TPAwBAeyMAAm2Qk5OjwsLCJu9nK1sFKlCWsiRJWcpSgQqUrewmxxYWFoacMAIA\\\n",
              "QEehC7gNKCEjoOEYv3Slq0AF9j6PPHLJZW/P1EyVqUwS4Q8AwoH7NxVAoF00rASWqUwrtdLe1zD8\\\n",
              "rdRKwh8AIOyoALYB3yDQWFpamj3mr1SlQeHPI48ylSnJPzGkvLw8HE0EAONx/6YCCLSboqIiO/xl\\\n",
              "KSso/En+SmBgTGBFRcUpnxgCAEBHIQAC7aDxGMDpmm7v88hj/3m6ptuzgUMtFg0AQGcgAAJt1HiR\\\n",
              "5zKVqVjFkvxj/jKVaY8JLFaxPQZQIgQCAMKDMYBtwBiCKPPRM9J7y6Sx90mXT2vVR5p7wofkrwQ2\\\n",
              "DHuNtxtiQggAdB7u31QAgR+8t0zy7PX/uzkfPSMtS/f/W1J1dXWzhwbCXmpqatB2KC2dBwCA9kYA\\\n",
              "BCR/oPN9K/XoJ6Vc+UPIaxT4GofE/Px85eXlNXvawsJClZeXh1wsOoDHwAEAOltsuBsAhFWg27fm\\\n",
              "W+nEYal7P6nsvyVZ0tsPS/G9/YHvtTnSuoelEeP9nxt7n32KQHhr/Ezgwp8nK+eK7pJkd+827i4m\\\n",
              "/AEAwoEKIMwWqOhZklwpkkPyb0g6flg69rfvD7T8AXHvZum+siZjBBtXAgt/nqyci74L6k5u/Ng4\\\n",
              "wh+A9pCfn3/KyWRFRUX8vkEQKoAw29j7/CEt5Up/uBs+/ocKoCTVfhd8fK8B0qL+0oV/L93yTNDE\\\n",
              "kcAv18TERH/lLzChpIFAJbC6uppfxgDaLD8/P6j3IdRkssaT1fjdA4lZwG3CLKIo8si5/grf6ejR\\\n",
              "z58TTxz2Vw/va36SBwC0t8bhT2q6okColQrofeD+LdEFDPg5zuAzxw9LdT5/+GtU6QOAjhQq/EnB\\\n",
              "a4s2t0zVokWLjA+AoALYJnyDiCIfPSO9Nvv0PxfXU1rwTfu3BwCa0Vz4ayg1NdV+NGVzTK4Ecv+m\\\n",
              "AghTffSM9Ntz/V2/T13jn+XrOIP/O8Q6m5634bIxANDOEhMTm90XeNRkIPwFtk/3PIh+BEBEv1Ch\\\n",
              "7L1l/i7cE4el/VslWZJVf/rnHj6+xXUCAaC9NV5RICBb2SpQgbKUJUnKUpYKVKBsZTc5lqcPgQCI\\\n",
              "6BcqlI29zz+Jo+Hgv7ieUkxc6887+DL/zOGG5x57H2MCAXS4xiEwXemaqqmSpOmarlKVarqmS5Km\\\n",
              "ampQJZDwB4kACBOECmWXT5PmfilN+b1/35TH/GP5rv+tFNuzdec9drDpuS+fFnKdQABobw1DYJnK\\\n",
              "tFIr7X0uuew/r9RK+1GUhD8EMAmkDRhEGgUarOMXFNp+e66/i9jmkLr3lWp9368N6PCHR4IegDBL\\\n",
              "S0uzx/yVqjQo/HnkUaYyJfknhpSXl4ejiRGH+3cUVwCXL1+uiy++WAkJCUpISFBGRobeeOMNe/+J\\\n",
              "EyeUk5Ojs846S71799bNN9+sqqqqMLYYne6jZ/yTPzx7/Y95a+i6h/yVvfRbvq8Q/l6a96U06dc/\\\n",
              "bBP+AIRZUVGRHf6ylBUU/iR/JTAwJrCiouKUTwyBOaK2AviXv/xF3bp10/nnny/LsrR69Wo9+uij\\\n",
              "2rp1qy688ELNmDFDr732moqLi+VyuZSbm6uYmBi9//77rf47+AbRxS1L94c/yT8ecO6XYW0OAJyO\\\n",
              "7H99WM/+fqEk/xjAAhXY+zzyBIXBmZpJN3AD3L+juAJ444036oYbbtD555+vH/3oR1q8eLF69+6t\\\n",
              "TZs2yePx6JlnntFjjz2m6667TqNGjdKqVav0wQcfaNOmTeFuOjrL2Puk7v384e+6h4L3sZwLgAhW\\\n",
              "VFRkhz/JPwawWMWS/GP+MpVpjwksVrEd/qTgxaJhrqitADZUV1enF198UdnZ2dq6davcbrfGjx+v\\\n",
              "w4cPq2/fvvZx55xzjmbNmqX77mvdDE6+QUSxQHWQR7wB6ED/uekrLX/3c824Zrh+edU5rfpMc0/4\\\n",
              "kPyVwIZhr/F2QyZXArl/R3EFUJI+/fRT9e7dW06nU/fee69efvllpaWlye12Kz4+Pij8SVJSUpLc\\\n",
              "bnez5/P5fPJ6vUEvRCmWcwHQCZa/+7n2HTmu5e9+HvT+f276SmMeeVv//PxWjXnkbf3npq/sfdXV\\\n",
              "1c2eLxD2UlNTg7ZDaek8iH5RHQBHjhypbdu2afPmzZoxY4ays7PbNANqyZIlcrlc9islJaUdW4uI\\\n",
              "wnIuADrBjGuG6+y+PTTjmuF26AtUBfcdOa4/b9+vfUeOK++VMjsE5ufnKy8vr9lzFhYWqry8PORi\\\n",
              "0QEmPwYOfkZ0AQdMmDBBw4cP12233XZGXcA+n08+n8/e9nq9SklJMbqEDABoH5cuektHjp+UQ9KN\\\n",
              "lwzWn7fvD9rft0ectuVNtANi7Ucv6MP/eSromMbduqG6iwl/dAFLUmy4G9CZ6uvr5fP5NGrUKMXF\\\n",
              "xWndunW6+eabJUmVlZXas2ePMjIymv280+mU0+lsdj8AAKfrZwXvacc+j2K+fzCRJTUJf5J05PhJ\\\n",
              "pT70hk6crJclqduPfibXmKPyvP+8pNBj+gLbgRBI+ENA1AbA+fPn6/rrr9fQoUN19OhRPffcc3r3\\\n",
              "3Xf117/+VS6XS9OmTdPs2bPVv39/JSQkaObMmcrIyNBVV10V7qYDAAyyY59HklTfiv644yf9zyx3\\\n",
              "SJpy8WBt6D5V7thumvSTHzU7oSPwfnV1NeEPtqgNgAcOHNAdd9yhb775Ri6XSxdffLH++te/6qc/\\\n",
              "/akkadmyZYqJidHNN98sn8+nSZMm6cknnwxzqwEApolxtC78NWRJ2vD/qjXuR4naoNu1Xf6JI83N\\\n",
              "JDZ1ti+aZ9QYwPbGGAIAQFsFxv6diW4Oqe77u/jZfXvo/XnXtWPLohf37yifBQwAQCRruLzL6erb\\\n",
              "I05TLh6svj3i1LdHnGZcM7wdW4ZoF7VdwIA+ekZ6b5l/LT+WcwEQgZa/+/kZVf/O7ttd788b3wEt\\\n",
              "gimoACJ6vbfM/zSP95aFuyUAEFJgHcBT6eaQfnbJ4AbHOjq2YYh6BEBEL57mAaCLuPhsV4v76yxp\\\n",
              "y1eHgxaOBtqCSSBtwCBSAEBbBCaANFzkefFrFTp+si7ouG4OadFN6a1+XjBaxv2bCiAAAGHnq63T\\\n",
              "mEfeliT17xVvv++Qf7IH4Q/tjQAIAECY/OukkTq7bw85Y7tp35HjWv7u55pxzXB7Zu/DmenaljeR\\\n",
              "8Id2RxdwG1BCBgC0h8DzfWdcM5yw1wm4fxMA24QfIAAAuh7u33QBAwAAGIcACAAAYBgCIAAAgGEI\\\n",
              "gAAAAIYhAAIAABiGAAgAAGAYAiAAAIBhCIAAAACGIQACAAAYhgAIAABgGAIgAACAYQiAAAAAhiEA\\\n",
              "AgAAGIYACAAAYBgCIAAAgGEIgAAAAIYhAAIAABiGAIjTkp+fr6KiohaPKSoqUn5+fuc0CAAAnLbY\\\n",
              "cDcAXUd+fr4WLVpkb+fk5DQ5pqioSLm5uUGfAQAAkYUKIFqlcfjLzc1tUglsHP4WLVpEAAQAIAIR\\\n",
              "AHFKjcNfQMMQ2Dj8BRACAQCIPARAgx0uKdFn143X4ZKSZo9pLvwF5ObmKi0tLWT4CyAEAgAQWQiA\\\n",
              "Bjv41B9Vu3+/Dj71x2aPSUxMbHZfutIlSRUVFUHbp3seAADQuQiABhtwz92KHTxYA+65u9ljcnJy\\\n",
              "VFhY2OT9bGWrQAXKUpYkKUtZKlCBspXd5NjCwsKQE0YAAEB4OCzLssLdiK7K6/XK5XLJ4/EoISEh\\\n",
              "3M3pUA3H+KUrXQUqsPd55JFLLnt7pmaqTGWSCH8AgMhj0v27OVQAI1Rrxud1poaVwDKVaaVW2vsa\\\n",
              "hr+VWkn4AwAgwlEBbIOO/Abx2XXjVbt/v2IHD9b5b69r13O3RVpamj3mr1SlQeHPI48ylSlJSk1N\\\n",
              "VXl5eTiaCABAi6gAUgGMWK0Zn9fZioqK7PCXpayg8Cf5K4GBMYEVFRWnfGIIAAAIDwJghOqXlaXz\\\n",
              "316nfllZHfr3tLarufEYwOmabu/zyGP/ebqm27OBQy0WDQAAwo8AaLjWLAXTeJHnMpWpWMWS/GP+\\\n",
              "MpVpjwksVrE9BlAiBAIAEIl4FnAUO1xSooNP/VE9L7tM323dancnB9779r33VH/smCSp7tAhHS4p\\\n",
              "aVJxbO4JH6u1Wlu0xQ57JSpR2ff/NBb4PBNCAACIDATAKBao7nmrqqS6Oh186o+qP3ZM9R6PvPv3\\\n",
              "Bx1rnTgh98O/lqSgEFhdXd3s+QNhLzU1VRUVFSHDX2vOAwAAOhddwFGk8Xi+wESShMmTFeNyqe7Q\\\n",
              "IdV7PM2foK5O7kX/HjQeMD8/X3l5ec1+pLCwUOXl5SEXiw7Iy8vjUXAAAEQQloFpg3BNIw907Q64\\\n",
              "5+6gal1LS8dUXnlVy+GvAUf37rpg29ag90I9E3jh+T/Sov9XaW+H6i4m/AEAIg3LwFAB7JKam7jR\\\n",
              "0tIx9d991+rzWz6fXU3cN+df9dl14/UvF1ygf7v5ZvuYhef/SLP+PTgQNn5sHOEPAIDIFLUVwCVL\\\n",
              "luh//ud/tGvXLvXo0UOjR4/Wb3/7W40cOdI+5sSJE5ozZ45KSkrk8/k0adIkPfnkk0pKSmrV3xFp\\\n",
              "FcBQxwQmgNQ2GvPXotjvh4bW1tpvxbhciunVS4/v2K4B/c8Kqvw1VlRUpOrqasIfACAiUQGM4gA4\\\n",
              "efJkZWVl6fLLL1dtba0eeOABlZWVqby8XL169ZIkzZgxQ6+99pqKi4vlcrmUm5urmJgYvf/++636\\\n",
              "OyLhB+hU3cHq1k2qq2vz3xPjcmngfbNOGTwBAIh0kXD/DreoDYCNVVdXa+DAgVq/fr3GjRsnj8ej\\\n",
              "xMREPffcc7rlllskSbt27VJqaqo2btyoq6666pTnjIQfoObG/QWCYWz//jqxc6d0pv8zx8XJ0a2b\\\n",
              "HE6nBt43Kyj4taYSCQBApImE+3e4GTMG0PP9BIj+/ftLkrZs2aKTJ09qwoQJ9jEXXHCBhg4dqo0b\\\n",
              "N4Y8h8/nk9frDXqFW3Pj/gJPEqnZu/eMw1/ClClK/XSHuvXvr3qPp8mYw9YsIg0AACKPEQGwvr5e\\\n",
              "s2bN0pgxY5Se7n9MmdvtVnx8vPr27Rt0bFJSktxud8jzLFmyRC6Xy36lpKR0dNNPqaVHxh0uKVF9\\\n",
              "SyE1puX/+b/b6p8J3FzIjMTnFQMAgFMzIgDm5OSorKxMJad43u2pzJ8/Xx6Px37t3bu3nVrYMQ4+\\\n",
              "9Ud/9a9bNyVMmRK80+FQTJ8+zX/Y4bCDXXMhs7OeVwwAANpX1AfA3Nxcvfrqq3rnnXc0ZMgQ+/3k\\\n",
              "5GTV1NToyJEjQcdXVVUpOTk55LmcTqcSEhKCXpEsUKFLfuhBnf373yl28OAfdlqWYnr18k8Sacjh\\\n",
              "kCTFJCQQ7AAAiFJRGwAty1Jubq5efvllvf322xo2bFjQ/lGjRikuLk7r1v0wcaKyslJ79uxRRkZG\\\n",
              "Zze3Q5yqQle7f79/hnBg2ZfYWCXccINiBw/WwPtmdV5DAQBAp4raZwHn5OToueee0yuvvKI+ffrY\\\n",
              "4/pcLpd69Oghl8uladOmafbs2erfv78SEhI0c+ZMZWRktGoGcCQ43Vm4A+65WweWPa76Y8ekujp1\\\n",
              "v/BC1R46ZD8fOHbgQJ39+991QssBAEA4Re0yMI7vuzIbW7VqlaZOnSrph4Wgn3/++aCFoJvrAm4s\\\n",
              "3NPIW3r02+lgORcAgEnCff+OBFEbADtDuH+ACG4AAJy+cN+/IwEBsA34AQIAoOvh/h3Fk0AAAAAQ\\\n",
              "GgEQAADAMARAAAAAwxAAAQAADEMABAAAMAwBEAAAwDAEQAAAAMMQAAEAAAxDAAQAADAMARAAAMAw\\\n",
              "BEAAAADDEAABAAAMQwAEAAAwDAEQAADAMARAAAAAwxAAAQAADEMABAAAMAwBEAAAwDAEQAAAAMMQ\\\n",
              "AAEAAAxDAAQAADAMARAAAMAwBEAAAADDEAABAAAMQwAEAAAwDAEQAADAMARAAAAAwxAAAQAADEMA\\\n",
              "BAAAMAwBEAAAwDAEQAAAAMMQAAEAAAxDAAQAADAMARAAAMAwBEAAAADDEAABAAAMQwAEAAAwDAEQ\\\n",
              "AADAMARAAAAAwxAAAQAADEMABAAAMAwBEAAAwDBRGwA3bNigG2+8UYMHD5bD4VBpaWnQfsuytHDh\\\n",
              "Qg0aNEg9evTQhAkT9Nlnn4WnsQAAAJ0oagPgsWPHdMkll6ioqCjk/qVLl+oPf/iDVqxYoc2bN6tX\\\n",
              "r16aNGmSTpw40cktRTTLz89v9mcwoKioSPn5+Z3TIAAAJMWGuwEd5frrr9f1118fcp9lWXr88cf1\\\n",
              "4IMP6qabbpIkPfvss0pKSlJpaamysrI6s6mIUvn5+Vq0aJG9nZOT0+SYoqIi5ebmBn0GAICOFrUV\\\n",
              "wJZ88cUXcrvdmjBhgv2ey+XSlVdeqY0bN4axZYgWjcNfbm5uk0pg4/C3aNEiAiAAoFMYGQDdbrck\\\n",
              "KSkpKej9pKQke18oPp9PXq836AU01jj8BTQMgY3DXwAhEEBXwRCXri1qu4A7wpIlS0Le2IGA5sJf\\\n",
              "QCAEVlRUNHtM4PP80gQQqRji0vUZWQFMTk6WJFVVVQW9X1VVZe8LZf78+fJ4PPZr7969HdpOdD2J\\\n",
              "iYnN7ktXuiTZ4S+wfbrnAYBwYohLdDAyAA4bNkzJyclat26d/Z7X69XmzZuVkZHR7OecTqcSEhKC\\\n",
              "XkBDOTk5KiwsbPJ+trJVoAJlyT/BKEtZKlCBspXd5NjCwsKQ36YBINwY4hI9orYL+Ntvv9Xu3bvt\\\n",
              "7S+++ELbtm1T//79NXToUM2aNUu//vWvdf7552vYsGF66KGHNHjwYGVmZoav0YgKgfAW+AWYrnRN\\\n",
              "1VRJ0nRNV5ay5JJLkjRVU7VFW1SmMkmEPwCRiyEu0SVqK4Aff/yxLrvsMl122WWSpNmzZ+uyyy7T\\\n",
              "woULJUn/9m//ppkzZ+qee+7R5Zdfrm+//VZvvvmmunfvHs5mI0o0rASWqUwrtdLeFwh/krRSKwl/\\\n",
              "ALoEhrhEF4dlWVa4G9FVeb1euVwueTweuoMRUlpamv0LsVSlQeHPI48ylSlJSk1NVXl5eTiaCACt\\\n",
              "Fqp7N1vZmqqpWqmVKlGJspSl6ZquYhVrtVYHHRspX3S5f0dxBRAIt4ZdIQ27fQNcctljAisqKk65\\\n",
              "nAIAhFvjcc6Nh7iUqlTTNV2Sf4hLw0pgpIQ/+BEAgQbWVK7RxJcmak3lmjPaH9DwW3K60u1fiJK/\\\n",
              "8hcwXdPtX5ChZtIBwOnYvvZ1/THnTm1f+3qHnYchLtGBAAh8b03lGi3evFjfHPtGT3/69Cn3NxcG\\\n",
              "G3eRlKlMxSqW5P+FmKlM+xdmsYrtX5ASIRBA23xY+pK8Bw/ow9KXOvQ8OTk5Sk1NlSSVqCToi63k\\\n",
              "/6JbohJJ/iEuhL/IQwAEvvf0p0+r3qpXjCNGd110lyR/6Bv7/FiNeX6M/vDJH1Rv1cshh747+Z2e\\\n",
              "+OSJoLC4pnKNUu9KDbn8wWqt1kzNtH8hlqhEMzWzyfgYiRAI4MxdkXmLEgYM1BWZt3ToeRji0vVF\\\n",
              "7TIwwOm666K79PSnT+uui+7SL0b+QpL06EeP6kTdCUmSQw5JkiVLnhr/t11XvMsOi09/+rT+dvBv\\\n",
              "zZ4/UOlLTU1VRUVFUOWvserq6rb/BwEwziU/vUGX/PSGdjmPJLsC2PCcpxriEgiD0zVdZd//Ezie\\\n",
              "SmDkoAIItMBX57P/bKnphPmjJ4/af77rort06S8v1eipo5s9X2FhocrLy0MuFh2Ql5fHGlkAOkxr\\\n",
              "xwmG6gZmiEv0oAIIfO/pT5+2u3R/MfIXWlO5Rs5uTrsCGEq9Va+HNz0sSfrFyF/oFyN/oYmaqMTD\\\n",
              "iap+JbiK13AQdOPFogMIfwA6WuNg92HpS7oi85YmlcMrMm+x90nNP+FjtVYHLWhfohK78tcYlcDI\\\n",
              "QQUQ+N5dF92lQb0G6bKBl2niSxO1ZPMSnag7oRjHqf9v8vCmhzXm+TFaU7nGrgTekvPD2JlQM+Aa\\\n",
              "L6dA+APQGRqO7wuEwXV/WhGyIlhz/LjeK3lW29e+3uLQlIZDXBpuh8IQl8jAQtBtwEKS0WniSxP1\\\n",
              "zbFvzuizg3oN0lu3vGVv5+fnKzExscVvu0VFRaqurib8AehQ29e+rvee/w/V1tZIliSHVF9bp/q6\\\n",
              "WkkKCoUNw2Fg391Ff2rxcXCBL7rNVQqlyPmiy/2bANgm/ABFp7kb5ur1L05/Da1YR6x6xfXSP//4\\\n",
              "n+1JJAAQCbavfV3/9+knmz/A4VBsfLxqff5xz7FOp665fZree/4/JIelsVl32F3EoUJg416OUCEw\\\n",
              "UsKfxP1bogsYaGLrga1n9Llaq1aeGk/INQQBIJxOuS6gZdnhT5JqfT69V/Ksxv7D7RqbdYc+LH3J\\\n",
              "7iLOz8/X9F/+o30sQ1y6JiaBAI0EloO5bOBl2npgq/3vwycOtzghRFLQGoIAECmuyLyl5QpgCCe+\\\n",
              "/VZvFz+l+ro6ybL0XsmzdhVwVIJTP007XwPOOqvZIS6B9xniEpnoAm4DSshmWVO5Rk988oS8Nd6Q\\\n",
              "+wNdwGPOHqOtB7YGrScIAOG2fe3rWvenFbLq68/o87FOp3r2cdmzgpubPdwVcP8mALYJP0DRaU3l\\\n",
              "miYLQjd00eqL7D9379a92apgjCNGC65cQAgEEHbb176uD0tfkiVLRw+2fhZu0nkj5Dngliz/Qvgn\\\n",
              "jh21J4R0Zdy/GQMINNFwPcBQbhh2g2IcMbph2A2K7xbf7HnqrXrGAwIIm4YLPr/3/H/Ie/DAaYU/\\\n",
              "ORz65ZLHlfNMiXL+9LzG/sPt7fKYOUQGKoBtwDeI6HSqCmCoYxuPFwz8m25gAOHQsLs3YcBA1Zz4\\\n",
              "Tie+/fa0zzPnhVc7oHXhx/2bANgm/AABACLRH3PulPfgATliYjT+znslKeT4P4cjRpZVH9hQbFy8\\\n",
              "amv8s4H7DEiUQ44uO86vJdy/6QIG2tWayjWa+NJEralcE+6mADBY4Gkf4++8V5f89AZd8tMbNP7O\\\n",
              "e5UwYKD6DEiU5B/fN37avYqNd0qSYuPjdc0d0zTnhVc154VX5ZCjybOAET2oALYB3yDQWOApIo2f\\\n",
              "CAIAkSxQMWw4wSMwcYQKYHRiHUCgHQXWEGQtQACRYPva1/VeybOS5dDYf7i92SDX8BFwAYHKIaIT\\\n",
              "FcA24BsEACCSBSp7kqJi+Zb2wv2bMYAAAEStKzJvUffevdW9Vx+Wb0EQKoBtwDcIAAC6Hu7fVAAB\\\n",
              "AACMQwAEAAAwDAEQAADAMARAAAAAwxAAAQAADEMABAAAMAwBEAAARJzta1/XH3Pu1Pa1r4e7KVGJ\\\n",
              "AAgAACLOh6UvyXvwgD4sfSncTYlKBEAAABBxrsi8RQkDBvIEkw7Ck0DagJXEAQDoerh/UwEEAAAw\\\n",
              "DgEQAADAMARAAAAAwxAAAQAADEMABAAAMAwBEAAAwDAEQAAAAMMQAAEAAAxDAAQAADAMARAAAMAw\\\n",
              "BEAAAADDGB8Ai4qKdO6556p79+668sor9eGHH4a7SQAAAB3K6AD4wgsvaPbs2crLy9Mnn3yiSy65\\\n",
              "RJMmTdKBAwfC3TQAAIAOY3QAfOyxx3T33XfrV7/6ldLS0rRixQr17NlTf/rTn8LdNAAAgA5jbACs\\\n",
              "qanRli1bNGHCBPu9mJgYTZgwQRs3bgz5GZ/PJ6/XG/QCAADoaowNgAcPHlRdXZ2SkpKC3k9KSpLb\\\n",
              "7Q75mSVLlsjlctmvlJSUzmgqAABAuzI2AJ6J+fPny+Px2K+9e/eGu0kAAACnLTbcDQiXAQMGqFu3\\\n",
              "bqqqqgp6v6qqSsnJySE/43Q65XQ6O6N5AAAAHcbYCmB8fLxGjRqldevW2e/V19dr3bp1ysjICGPL\\\n",
              "AAAAOpaxFUBJmj17trKzs/WTn/xEV1xxhR5//HEdO3ZMv/rVr8LdNAAAgA5jdAC87bbbVF1drYUL\\\n",
              "F8rtduvSSy/Vm2++2WRiCAAAQDRxWJZlhbsRXZXX65XL5ZLH41FCQkK4mwMAAFqB+7fBYwABAABM\\\n",
              "RQAEAAAwDAEQAADAMARAAAAAwxAAAQAADEMABAAAMAwBEAAAwDAEQAAAAMMQAAEAAAxDAAQAADAM\\\n",
              "ARAAAMAwBEAAAADDEAABAAAMQwAEAAAwDAEQAADAMARAAAAAwxAAAQAADEMABAAAMAwBEAAAwDAE\\\n",
              "QAAAAMMQAAEAAAxDAAQAADAMARAAAMAwBEAAAADDEAABAAAMQwAEAAAwDAEQAADAMARAAAAAwxAA\\\n",
              "AQAADEMABAAAMAwBEAAAwDAEQAAAAMMQAAEAAAxDAAQAADAMARAAAMAwBEAAAADDEAABAAAMQwAE\\\n",
              "AAAwDAEQAADAMARAAAAAwxAAAQAADEMABAAAMAwBEAAAwDBRGQAXL16s0aNHq2fPnurbt2/IY/bs\\\n",
              "2aMpU6aoZ8+eGjhwoO6//37V1tZ2bkMBAADCIDbcDegINTU1uvXWW5WRkaFnnnmmyf66ujpNmTJF\\\n",
              "ycnJ+uCDD/TNN9/ojjvuUFxcnH7zm9+EocUAAACdx2FZlhXuRnSU4uJizZo1S0eOHAl6/4033tDf\\\n",
              "/d3faf/+/UpKSpIkrVixQnPnzlV1dbXi4+NbdX6v1yuXyyWPx6OEhIT2bj4AAOgA3L+jtAv4VDZu\\\n",
              "3KiLLrrIDn+SNGnSJHm9Xu3cuTOMLQMAAOh4UdkFfCputzso/Emyt91ud7Of8/l88vl89rbX6+2Y\\\n",
              "BgIAAHSgLlMBnDdvnhwOR4uvXbt2dWgblixZIpfLZb9SUlI69O8DAADoCF2mAjhnzhxNnTq1xWPO\\\n",
              "O++8Vp0rOTlZH374YdB7VVVV9r7mzJ8/X7Nnz7a3vV4vIRAAAHQ5XSYAJiYmKjExsV3OlZGRocWL\\\n",
              "F+vAgQMaOHCgJGnt2rVKSEhQWlpas59zOp1yOp3t0gYAAIBw6TIB8HTs2bNHhw4d0p49e1RXV6dt\\\n",
              "27ZJkkaMGKHevXtr4sSJSktL0+23366lS5fK7XbrwQcfVE5ODgEPAABEvahcBmbq1KlavXp1k/ff\\\n",
              "eecdXXPNNZKkr776SjNmzNC7776rXr16KTs7W4888ohiY1ufiZlGDgBA18P9O0oDYGfhBwgAgK6H\\\n",
              "+3cXmgUMAACA9kEABAAAMAwBEAAAwDAEQAAAAMMQAAEAAAxDAAQAADAMARAAAMAwBEAAAADDEAAB\\\n",
              "AAAMQwAEAAAwDAEQAADAMARAAAAAwxAAAQAADEMABAAAMAwBEAAAwDAEQAAAAMMQAAEAAAxDAAQA\\\n",
              "ADAMARAAAMAwBEAAAADDEAABAAAMQwAEAAAwDAEQAADAMARAAAAAwxAAAQAADEMABAAAMAwBEAAA\\\n",
              "wDAEQAAAAMMQAAEAAAxDAAQAADAMARAAAMAwBEAAAADDEAABAAAMQwAEAAAwDAEQAADAMARAAAAA\\\n",
              "wxAAAQAADEMABAAAMAwBEAAAwDAEQAAAAMMQAAEAAAxDAAQAADAMARAAAMAwBEAAAADDRGUA/PLL\\\n",
              "LzVt2jQNGzZMPXr00PDhw5WXl6eampqg43bs2KGrr75a3bt3V0pKipYuXRqmFgMAAHSe2HA3oCPs\\\n",
              "2rVL9fX1WrlypUaMGKGysjLdfffdOnbsmH73u99JkrxeryZOnKgJEyZoxYoV+vTTT3XnnXeqb9++\\\n",
              "uueee8L8XwAAANBxHJZlWeFuRGd49NFHtXz5cv3v//6vJGn58uVasGCB3G634uPjJUnz5s1TaWmp\\\n",
              "du3a1apzer1euVwueTweJSQkdFjbAQBA++H+HaVdwKF4PB7179/f3t64caPGjRtnhz9JmjRpkior\\\n",
              "K3X48OGQ5/D5fPJ6vUEvAACArsaIALh7924VFBRo+vTp9ntut1tJSUlBxwW23W53yPMsWbJELpfL\\\n",
              "fqWkpHRcowEAADpIlwqA8+bNk8PhaPHVuPt23759mjx5sm699Vbdfffdbfr758+fL4/HY7/27t3b\\\n",
              "pvMBAACEQ5eaBDJnzhxNnTq1xWPOO+88+8/79+/Xtddeq9GjR+upp54KOi45OVlVVVVB7wW2k5OT\\\n",
              "Q57b6XTK6XSeQcsBAAAiR5cKgImJiUpMTGzVsfv27dO1116rUaNGadWqVYqJCS52ZmRkaMGCBTp5\\\n",
              "8qTi4uIkSWvXrtXIkSPVr1+/dm87AABApOhSXcCttW/fPl1zzTUaOnSofve736m6ulputztobN8/\\\n",
              "/uM/Kj4+XtOmTdPOnTv1wgsv6IknntDs2bPD2HIAAICO16UqgK21du1a7d69W7t379aQIUOC9gVW\\\n",
              "vXG5XHrrrbeUk5OjUaNGacCAAVq4cCFrAAIAgKhnzDqAHYF1hAAA6Hq4f0dpFzAAAACaRwAEAAAw\\\n",
              "DAEQAADAMARAAAAAwxAAAQBAm+Tn56uoqKjFY4qKipSfn985DcIpReUyMAAAoHPk5+dr0aJF9nZO\\\n",
              "Tk6TY4qKipSbmxv0GYQXFUAAAHBGGoe/3NzcJpXAxuFv0aJFBMAIQAAEAACnrXH4C2gYAhuHvwBC\\\n",
              "YPixEHQbsJAkAMBEzYW/hlJTU1VRUdHiMXl5eWEJgty/qQACAIDTlJiY2Oy+dKVLkh3+Atunex50\\\n",
              "LAIgAAA4LTk5OSosLGzyfrayVaACZSlLkpSlLBWoQNnKbnJsYWFhyAkj6Bx0AbcBJWQAgMkajvFL\\\n",
              "V7oKVGDv88gjl1z29kzNVJnKJIU//HH/pgIIAADOUMNKYJnKtFIr7X0Nw99KrYyY8Ac/KoBtwDcI\\\n",
              "AACktLQ0e8xfqUqDwp9HHmUqU5J/Ykh5eXk4mhiE+zcVQAAA0AZFRUV2+MtSVlD4k/yVwMCYwIqK\\\n",
              "ilM+MQSdgwAIAADOSOMxgNM13d7nkcf+83RNt2cDh1osGp2PAAgAgGHKNuzTsw+8r7IN+0Jut0bj\\\n",
              "RZ7LVKZiFUvyj/nLVKY9JrBYxfYYQIkQGAl4FjAAAIb55M0vdfSQT5+8+aXSx53dZLuxt57Zqd1b\\\n",
              "qjRiVJImTruw2Sd8rNZqbdEWO+yVqERl3//TWODzTAgJDyqAAAAY5seTz1Wf/k79ePK5QdvJw/vq\\\n",
              "6dkb9PTsDUHVwc8+qpJVL332cZUkqbq6utlzB8Jeampq0HYoLZ0HHYsACACAYdLHna07fjOmSbXv\\\n",
              "i23V8n1XK993tVr/XKXKNuzTJ29+ae93OKRnH3hfo1NuVebYXzV7/sLCQpWXl4dcLDogXI+Bgx9d\\\n",
              "wAAAGC7QBdzY+ucqg7ateunoIZ+OHq7ShAt/qbpaS3/ZVBx0TMN1/gL/btxdTPgLPwIgAABRKlDB\\\n",
              "Sx7eV+7Pj+jHk89V+rizVbZhnzaVfi5JuipzuJKH99XRQ1WtPm9sXIx69I7TzzJ+pdqT9Xpjy7OS\\\n",
              "Qi/y3DgEEv4iAwEQAIAoFajsfXvEP4av4aQP33e1kmQHwdPRb1AvpY0ZrE2ln+vn46bp3IvO0oU/\\\n",
              "Gd7shI7A+9XV1YS/CMGTQNqAlcQBAJGsYQVwz86/SfJX/CRp/fOVkiU5e/prQYFA2Fp9+jt19JBP\\\n",
              "jhhpXNbIkLOHIxX3byaBAAAQtQKTPSZOu1Dx3bvJ912tXQX8P/8wUn36O3VV5nA7FJ6OY0dqJPnH\\\n",
              "BZ5JFRHhRRcwAAAG+PHkc/XJm1/aS78EKnaBCuHpqq//oQPR912tima8rcShfXTiaI091hCRiwAI\\\n",
              "AIABGga+wHbDMYJtZknVXx21/w4CYGSjCxgAAEM0fOKH5K8KOnvGqltsjGJiHK0+T2DcoCTFxDgU\\\n",
              "080hOaTEc/oELTCNyEUFEAAAQzTuBt7/2RF78oejQUkoEPDqTtarvt5Sfd0P3b2xcd8f6JBkSb36\\\n",
              "xuuO34zpjOajHREAAQAwRPq4s4O6Zndv+aHrd8SopKCZwo27cJ994H0dPeRTXV29ak/WSw5/UKTa\\\n",
              "1zURAAEAMNSIUUnavaVKI0YlaeK0C1s8NlA9TB7eV7u3+NcVjO/ejbF+XRTrALYB6wgBAEwUWF+w\\\n",
              "q8725f5NBRAAAJymxl3J6HqYBQwAAM5Y2YZ9evaB91W2YV+4m4LTQAAEAABnrPHSMugaCIAAAOCM\\\n",
              "/Xjyuaz91wUxBhAAAJwxxgN2TVQAAQAADEMABAAAMAwBEAAAwDAEQAAAAMMQAAEAAAxDAAQAADBM\\\n",
              "1AbAn/3sZxo6dKi6d++uQYMG6fbbb9f+/fuDjtmxY4euvvpqde/eXSkpKVq6dGmYWgsAANB5ojYA\\\n",
              "XnvttVqzZo0qKyv13//93/r88891yy232Pu9Xq8mTpyoc845R1u2bNGjjz6q/Px8PfXUU2FsNQAA\\\n",
              "QMdzWJZlhbsRneHPf/6zMjMz5fP5FBcXp+XLl2vBggVyu92Kj4+XJM2bN0+lpaXatWtXq87p9Xrl\\\n",
              "crnk8XiUkJDQkc0HAADthPt3FFcAGzp06JD+67/+S6NHj1ZcXJwkaePGjRo3bpwd/iRp0qRJqqys\\\n",
              "1OHDh8PVVAAAgA4X1QFw7ty56tWrl8466yzt2bNHr7zyir3P7XYrKSkp6PjAttvtDnk+n88nr9cb\\\n",
              "9AIAAOhqulQAnDdvnhwOR4uvht23999/v7Zu3aq33npL3bp10x133KG29HgvWbJELpfLfqWkpLTH\\\n",
              "fxYAAECn6lJjAKurq/W3v/2txWPOO++8oG7dgK+//lopKSn64IMPlJGRoTvuuENer1elpaX2Me+8\\\n",
              "846uu+46HTp0SP369WtyDp/PJ5/PZ297vV6lpKQYPYYAAICuhjGAUmy4G3A6EhMTlZiYeEafra+v\\\n",
              "lyQ7wGVkZGjBggU6efKkPS5w7dq1GjlyZMjwJ0lOp1NOp9PeDmRnuoIBAOg6AvftLlQDa3ddqgLY\\\n",
              "Wps3b9ZHH32ksWPHql+/fvr888/10EMPqaqqSjt37pTT6ZTH49HIkSM1ceJEzZ07V2VlZbrzzju1\\\n",
              "bNky3XPPPa36ewJVRQAA0PXs3btXQ4YMCXczwiIqA+Cnn36qf/mXf9H27dt17NgxDRo0SJMnT9aD\\\n",
              "Dz6os88+2z5ux44dysnJ0UcffaQBAwZo5syZmjt3bqv/nvr6eu3fv199+vSRw+Fo9/+OQBfz3r17\\\n",
              "jS1RtweuY/vgOrYd17B9cB3bh8nX0bIsHT16VIMHD1ZMTJeaDtFuojIARgvGKLQPrmP74Dq2Hdew\\\n",
              "fXAd2wfX0Wxmxl4AAACDEQABAAAMQwCMYE6nU3l5eUEzj3H6uI7tg+vYdlzD9sF1bB9cR7MxBhAA\\\n",
              "AMAwVAABAAAMQwAEAAAwDAEQAADAMARAAAAAwxAAI9CXX36padOmadiwYerRo4eGDx+uvLw81dTU\\\n",
              "BB23Y8cOXX311erevbtSUlK0dOnSMLU4ci1evFijR49Wz5491bdv35DH7NmzR1OmTFHPnj01cOBA\\\n",
              "3X///aqtre3chka4oqIinXvuuerevbuuvPJKffjhh+FuUkTbsGGDbrzxRg0ePFgOh0OlpaVB+y3L\\\n",
              "0sKFCzVo0CD16NFDEyZM0GeffRaexkaoJUuW6PLLL1efPn00cOBAZWZmqrKyMuiYEydOKCcnR2ed\\\n",
              "dZZ69+6tm2++WVVVVWFqcWRavny5Lr74YiUkJCghIUEZGRl644037P1cQ3MRACPQrl27VF9fr5Ur\\\n",
              "V2rnzp1atmyZVqxYoQceeMA+xuv1auLEiTrnnHO0ZcsWPfroo8rPz9dTTz0VxpZHnpqaGt16662a\\\n",
              "MWNGyP11dXWaMmWKampq9MEHH2j16tUqLi7WwoULO7mlkeuFF17Q7NmzlZeXp08++USXXHKJJk2a\\\n",
              "pAMHDoS7aRHr2LFjuuSSS1RUVBRy/9KlS/WHP/xBK1as0ObNm9WrVy9NmjRJJ06c6OSWRq7169cr\\\n",
              "JydHmzZt0tq1a3Xy5ElNnDhRx44ds4+577779Je//EUvvvii1q9fr/379+vnP/95GFsdeYYMGaJH\\\n",
              "HnlEW7Zs0ccff6zrrrtON910k3bu3CmJa2g0C13C0qVLrWHDhtnbTz75pNWvXz/L5/PZ782dO9ca\\\n",
              "OXJkOJoX8VatWmW5XK4m77/++utWTEyM5Xa77feWL19uJSQkBF1bk11xxRVWTk6OvV1XV2cNHjzY\\\n",
              "WrJkSRhb1XVIsl5++WV7u76+3kpOTrYeffRR+70jR45YTqfTev7558PQwq7hwIEDliRr/fr1lmX5\\\n",
              "r1lcXJz14osv2sdUVFRYkqyNGzeGq5ldQr9+/aynn36aa2g4KoBdhMfjUf/+/e3tjRs3aty4cYqP\\\n",
              "j7ffmzRpkiorK3X48OFwNLFL2rhxoy666CIlJSXZ702aNEler9f+hmyympoabdmyRRMmTLDfi4mJ\\\n",
              "0YQJE7Rx48Ywtqzr+uKLL+R2u4Ouqcvl0pVXXsk1bYHH45Ek+/fgli1bdPLkyaDreMEFF2jo0KFc\\\n",
              "x2bU1dWppKREx44dU0ZGBtfQcATALmD37t0qKCjQ9OnT7ffcbndQaJFkb7vd7k5tX1fGdWzZwYMH\\\n",
              "VVdXF/IacX3OTOC6cU1br76+XrNmzdKYMWOUnp4uyX8d4+Pjm4zt5To29emnn6p3795yOp269957\\\n",
              "9fLLLystLY1raDgCYCeaN2+eHA5Hi69du3YFfWbfvn2aPHmybr31Vt19991hanlkOZPrCKDrysnJ\\\n",
              "UVlZmUpKSsLdlC5p5MiR2rZtmzZv3qwZM2YoOztb5eXl4W4Wwiw23A0wyZw5czR16tQWjznvvPPs\\\n",
              "P+/fv1/XXnutRo8e3WRyR3JycpOZWoHt5OTk9mlwhDrd69iS5OTkJjNaTbmOrTFgwAB169Yt5M8a\\\n",
              "1+fMBK5bVVWVBg0aZL9fVVWlSy+9NEytily5ubl69dVXtWHDBg0ZMsR+Pzk5WTU1NTpy5EhQBYuf\\\n",
              "zabi4+M1YsQISdKoUaP00Ucf6YknntBtt93GNTQYAbATJSYmKjExsVXH7tu3T9dee61GjRqlVatW\\\n",
              "KSYmuFibkZGhBQsW6OTJk4qLi5MkrV27ViNHjlS/fv3ave2R5HSu46lkZGRo8eLFOnDggAYOHCjJ\\\n",
              "fx0TEhKUlpbWLn9HVxYfH69Ro0Zp3bp1yszMlOTvjlu3bp1yc3PD27guatiwYUpOTta6devswOf1\\\n",
              "eu3qDPwsy9LMmTP18ssv691339WwYcOC9o8aNUpxcXFat26dbr75ZklSZWWl9uzZo4yMjHA0ucuo\\\n",
              "r6+Xz+fjGpou3LNQ0NTXX39tjRgxwho/frz19ddfW9988439Cjhy5IiVlJRk3X777VZZWZlVUlJi\\\n",
              "9ezZ01q5cmUYWx55vvrqK2vr1q3WokWLrN69e1tbt261tm7dah09etSyLMuqra210tPTrYkTJ1rb\\\n",
              "tm2z3nzzTSsxMdGaP39+mFseOUpKSiyn02kVFxdb5eXl1j333GP17ds3aOY0gh09etT+WZNkPfbY\\\n",
              "Y9bWrVutr776yrIsy3rkkUesvn37Wq+88oq1Y8cO66abbrKGDRtmHT9+PMwtjxwzZsywXC6X9e67\\\n",
              "7wb9Dvzuu+/sY+69915r6NCh1ttvv219/PHHVkZGhpWRkRHGVkeeefPmWevXr7e++OILa8eOHda8\\\n",
              "efMsh8NhvfXWW5ZlcQ1NRgCMQKtWrbIkhXw1tH37dmvs2LGW0+m0zj77bOuRRx4JU4sjV3Z2dsjr\\\n",
              "+M4779jHfPnll9b1119v9ejRwxowYIA1Z84c6+TJk+FrdAQqKCiwhg4dasXHx1tXXHGFtWnTpnA3\\\n",
              "KaK98847IX/usrOzLcvyLwXz0EMPWUlJSZbT6bTGjx9vVVZWhrfREaa534GrVq2yjzl+/Lj1T//0\\\n",
              "T1a/fv2snj17Wn//938f9EUZlnXnnXda55xzjhUfH28lJiZa48ePt8OfZXENTeawLMvqxIIjAAAA\\\n",
              "woxZwAAAAIYhAAIAABiGAAgAAGAYAiAAAIBhCIAAAACGIQACAAAYhgAIAABgGAIgAACAYQiAAAAA\\\n",
              "hiEAAgAAGIYACAAAYBgCIAAAgGEIgAAAAIYhAAIAABiGAAgAAGAYAiAAAIBhCIAAAACGIQACAAAY\\\n",
              "hgAIAABgGAIgAACAYQiAAAAAhiEAAgAAGIYACAAAYBgCIAAAgGEIgAAAAIYhAAIAABiGAAgAAGAY\\\n",
              "AiAAAIBhCIAAAACGIQACAAAYhgAIAABgmP8PLfk2QD/QwlIAAAAASUVORK5CYII=\\\n",
              "\"\n",
              "  frames[2] = \"data:image/png;base64,iVBORw0KGgoAAAANSUhEUgAAAoAAAAHgCAYAAAA10dzkAAAAOXRFWHRTb2Z0d2FyZQBNYXRwbG90\\\n",
              "bGliIHZlcnNpb24zLjcuMSwgaHR0cHM6Ly9tYXRwbG90bGliLm9yZy/bCgiHAAAACXBIWXMAAA9h\\\n",
              "AAAPYQGoP6dpAAAm7klEQVR4nO3df2xdd2H//1dCGzel9S2hbkyUZIR1ax0FihRoa9gQlKyh6hAZ\\\n",
              "P0Q0iTrQD8unOJFKKrRmQO1IsHSF7wYkps20ren+KKkqrWGwMahCW6QRygiK1jRJRTVYIoJTM1a7\\\n",
              "RKtTkvv9Ix/f2Y6dJnXim3vfjwe6Ivee45t3r6J7n36f9zl3RrVarQYAgGLMrPcAAACYXgIQAKAw\\\n",
              "AhAAoDACEACgMAIQAKAwAhAAoDACEACgMAIQAKAwAhAAoDACEACgMAIQAKAwAhAAoDACEACgMAIQ\\\n",
              "AKAwAhAAoDACEACgMAIQAKAwAhAAoDACEACgMAIQAKAwAhAAoDACEACgMAIQAKAwAhAAoDACEACg\\\n",
              "MAIQAKAwAhAAoDACEACgMAIQAKAwAhAAoDACEACgMAIQAKAwAhAAoDACEACgMAIQAKAwAhAAoDAC\\\n",
              "EACgMAIQAKAwAhAAoDACEACgMAIQAKAwAhAAoDACEACgMAIQAKAwAhAAoDACEACgMAIQAKAwAhAA\\\n",
              "oDACEACgMAIQAKAwAhAAoDACEACgMAIQAKAwAhAAoDACEACgMAIQAKAwF9R7AI3s+PHjOXToUC69\\\n",
              "9NLMmDGj3sMBAE5DtVrNCy+8kHnz5mXmzDLnwgTgFBw6dCgLFiyo9zAAgFfg4MGDmT9/fr2HURcC\\\n",
              "cAouvfTSJCf+AbW2ttZ5NADA6RgaGsqCBQtqn+MlEoBTMHLYt7W1VQACQIMpeflWmQe+AQAKJgAB\\\n",
              "AAojAAEACiMAAQAKIwBhlN7e3vT19Z1yn76+vvT29k7PgADgHHAWMPw/vb292bBhQ+1+d3f3Sfv0\\\n",
              "9fVlzZo1Y34GABqNGUDIyfG3Zs2ak2YCx8ffhg0bBCAADUkAUrzx8TdidASOj78RIhCARjSjWq1W\\\n",
              "6z2IRjU0NJRKpZLBwUEXgm5Qk8XfaB0dHdm3b98p9+np6RGCAA3C57cZQArX1tY26bYlWZIktfgb\\\n",
              "uX+mzwMA5xsBSNG6u7uzefPmkx7vSlc2ZVNWZmWSZGVWZlM2pStdJ+27efPmCU8YAYDzlUPAU2AK\\\n",
              "uXmMXuO3JEuyKZtq2wYzmEoqtftrszZ7sieJ+ANoRD6/zQBCkrEzgXuyJ1uypbZtdPxtyRbxB0DD\\\n",
              "MwM4BX6DaD6LFy+urfnbnu1j4m8wg1mRFUlOnBiyd+/eegwRgCny+W0GEGr6+vpq8bcyK8fEX3Ji\\\n",
              "JnBkTeC+ffte9htDAOB8JQAhJ68BXJ3VtW2DGaz9eXVW184Gnuhi0QDQCAQgxRt/kec92ZOt2Zrk\\\n",
              "xJq/FVlRWxO4NVtrawATEQhAY7IGcAqsIWh8k33DR3JiJnB07I2/P5oTQgAah89vM4AUbmBgYNJt\\\n",
              "I7HX0dEx5v6ZPg8AnG8EIEXr7e1NT0/PpNs3b96cvXv3Tnix6BG+Bg6ARiMAKd5kETj6sO5k3xgi\\\n",
              "/gBoRAIQcnIETrSmb3wEij8AGtUF9R4AnC9GYq6trW3SEzpGHh8YGBB/QEPr7e095ftdcuJEOe93\\\n",
              "zUkAwiin8ybnbF+g0fX29mbDhg21+xO9r42/SoIIbC4OAQNAQcbH30TXMx0ffxs2bBCATcYMIM2p\\\n",
              "tzLu/uDE+wEUZHz8jRiJve7u7kmvjzryc0KwOQhAACjAZPE3YmQmcOQ70SciApuHQ8AAUIC2trZJ\\\n",
              "t418x/lI/I3cP9PnoXGYAaQ5OeQLMMbIiR7jD+92pSursipbsiXbsi0rszKrszpbszUP5IEx+/ra\\\n",
              "y+bhu4CnwHcJAtBoRq/xW5Il2ZRNtW2DGUwl/7uGem3W1r4Gs5niz+e3Q8AAUJTRF7Xfkz3Zki21\\\n",
              "baPjb0u2NGX8cYIZwCnwGwQAjWrx4sW1NX/bs31M/A1mMCuyIknS0dGRvXv31mOI54zP7yaeAbz3\\\n",
              "3nvzpje9Ka2trWltbU1nZ2e+9a1v1ba/+OKL6e7uzmtf+9pccskl+cAHPpDDhw/XccQAMD1Gn+27\\\n",
              "MivHxF9yYiZwZVYmOXFiyPjrBNL4mjYA58+fn7vvvju7du3Kj370o9xwww153/vel6effjpJ8slP\\\n",
              "fjLf+MY38vDDD+eJJ57IoUOH8v73v7/OowaAc2v8GsDVWV3bNpj/PYFudVbXzgae6GLRNLaiDgHP\\\n",
              "mTMnX/jCF/LBD34wbW1tefDBB/PBD34wSbJ///50dHRk586duf7660/r+UwhA9BIJrrIc4lnAfv8\\\n",
              "LuQyMMeOHcvDDz+cI0eOpLOzM7t27cpLL72UZcuW1fa5+uqrs3DhwjMKQABoFJN9w8cDeSC7sqt2\\\n",
              "wse2bMue//e/8UZ/YwiNrakD8KmnnkpnZ2defPHFXHLJJXnkkUeyePHi7N69O7Nmzcpll102Zv+5\\\n",
              "c+emv79/0ucbHh7O8PBw7f7Q0NC5GjoAnFUDAwOTbhuJvY6Ojuzbt2/C+Dud56FxNO0awCS56qqr\\\n",
              "snv37jz55JO57bbb0tXVNaUzmTZu3JhKpVK7LViw4CyOFgDOnd7e3vT09Ey6ffPmzdm7d2/tEjET\\\n",
              "6enp8TVwTaKpA3DWrFm58sors3Tp0mzcuDHXXHNNvvzlL6e9vT1Hjx7N888/P2b/w4cPp729fdLn\\\n",
              "W79+fQYHB2u3gwcPnuP/AgA4eyaLwNFr+0ZfJ3A08ddcmjoAxzt+/HiGh4ezdOnSXHjhhdmxY0dt\\\n",
              "2zPPPJMDBw6ks7Nz0p9vaWmpXVZm5AYAjWR8BE50Ysf4CBR/zadp1wCuX78+N910UxYuXJgXXngh\\\n",
              "Dz74YB5//PF8+9vfTqVSya233pp169Zlzpw5aW1tzdq1a9PZ2ekEEACa3kjMtbW1TXpCx8jjAwMD\\\n",
              "4q8JNW0APvfcc7nlllvyi1/8IpVKJW9605vy7W9/O3/wB3+QJPmrv/qrzJw5Mx/4wAcyPDyc5cuX\\\n",
              "56tf/WqdRw0Ar8zr7/ynMfd/dvfNp9z/dKLO2b7Nq6jrAJ5triMEwPniTAOwZD6/C1sDCABAEx8C\\\n",
              "BoCSmPHjTJgBBAAojAAEACiMAAQAKIwABAAojAAEACiMAAQAKIwABAAojAAEACiMAAQAKIwABAAo\\\n",
              "jAAEACiMAAQAKIwABAAojAAEACiMAAQAKIwABAAojAAEACiMAAQAKIwABAAojAAEACiMAAQAKIwA\\\n",
              "BAAojAAEACiMAAQAKIwABAAojABsQr29venr6zvlPn19fent7Z2eAQEA55UL6j0Azq7e3t5s2LCh\\\n",
              "dr+7u/ukffr6+rJmzZoxPwMAlMMMYBMZH39r1qw5aSZwfPxt2LBBAAJAYQRgkxgffyNGR+D4+Bsh\\\n",
              "AgGgLDOq1Wq13oNoVENDQ6lUKhkcHExra2vdxjFZ/I3W0dGRffv2nXKfnp4eIQhA0ztfPr/ryQxg\\\n",
              "E2hra5t025IsSZJa/I3cP9PnAQCahwBsAt3d3dm8efNJj3elK5uyKSuzMkmyMiuzKZvSla6T9t28\\\n",
              "efOEJ4wAAM3HIeApON+mkEev8VuSJdmUTbVtgxlMJZXa/bVZmz3Zk0T8AVCW8+3zux7MADaR0TOB\\\n",
              "e7InW7Kltm10/G3JFvEHAAUzAzgF5+tvEIsXL66t+due7WPibzCDWZEVSU6cGLJ37956DBEA6uZ8\\\n",
              "/fyeTmYAm0xfX18t/lZm5Zj4S07MBI6sCdy3b9/LfmMIANB8BGATGb8GcHVW17YNZrD259VZXTsb\\\n",
              "eKKLRQMAzU0ANonxF3nekz3Zmq1JTqz5W5EVtTWBW7O1tgYwEYEAUBprAKfgfFlDMNk3fCQnZgJH\\\n",
              "x974+6M5IQSAEpwvn9/1ZAawCQwMDEy6bST2Ojo6xtw/0+cBAJqHAGwCvb296enpmXT75s2bs3fv\\\n",
              "3gkvFj3C18ABQDkEYJOYLAJHH9ad7BtDxB8AlEUANpHxETjRmr7xESj+AKA8F9R7AOfKxo0b8w//\\\n",
              "8A/Zv39/Zs+enbe97W35i7/4i1x11VW1fV588cXccccd2bZtW4aHh7N8+fJ89atfzdy5c+s48hP2\\\n",
              "Xd1R+3PH/n2n/XMjMdfW1jbpCR0jjw8MDIg/AChQ054F/J73vCcrV67MW9/61vzmN7/Jn/3Zn2XP\\\n",
              "nj3Zu3dvXv3qVydJbrvttvzTP/1Ttm7dmkqlkjVr1mTmzJn513/919P6O87lWUSvNAABgFNzFnAT\\\n",
              "B+B4AwMDueKKK/LEE0/kHe94RwYHB9PW1pYHH3wwH/zgB5Mk+/fvT0dHR3bu3Jnrr7/+ZZ9TAAJA\\\n",
              "4xGABa0BHBw88U0Yc+bMSZLs2rUrL730UpYtW1bb5+qrr87ChQuzc+fOuowRAGA6NO0awNGOHz+e\\\n",
              "22+/PW9/+9uzZMmJr0Dr7+/PrFmzctlll43Zd+7cuenv75/weYaHhzM8PFy7PzQ0dM7GbNYPADhX\\\n",
              "ipgB7O7uzp49e7Jt27YpPc/GjRtTqVRqtwULFpylEQIATJ+mD8A1a9bkm9/8Zh577LHMnz+/9nh7\\\n",
              "e3uOHj2a559/fsz+hw8fTnt7+4TPtX79+gwODtZuBw8ePJdDBwA4J5o2AKvVatasWZNHHnkk3/3u\\\n",
              "d7No0aIx25cuXZoLL7wwO3bsqD32zDPP5MCBA+ns7JzwOVtaWtLa2jrmBgDQaJp2DWB3d3cefPDB\\\n",
              "fP3rX8+ll15aW9dXqVQye/bsVCqV3HrrrVm3bl3mzJmT1tbWrF27Np2dnad1BjAAQKNq2svAzJgx\\\n",
              "Y8LH77///qxatSrJ/14I+mtf+9qYC0FPdgh4PKeRA0Dj8fndxAE4HfwDAoDG4/O7idcAAgAwMQEI\\\n",
              "AFAYAQgAUBgBCABQGAEIAFAYAQgAUBgBCABQGAEIAFAYAQgAUBgBCABQGAEIAFAYAQgAUBgBCABQ\\\n",
              "GAEIAFAYAQgAUBgBCABQGAEIAFAYAQgAUBgBCABQGAEIAFAYAQgAUBgBCABQGAEIAFAYAQgAUBgB\\\n",
              "CABQGAEIAFAYAQgAUBgBCABQGAEIAFAYAQgAUBgBCABQGAEIAFAYAQgAUBgBCABQGAEIAFAYAQgA\\\n",
              "UBgBCABQGAEIAFAYAQgAUBgBCABQGAEIAFAYAQgAUBgBCABQGAEIAFAYAQgAUBgBCABQmKYNwO99\\\n",
              "73t573vfm3nz5mXGjBnZvn37mO3VajV33XVXXve612X27NlZtmxZfvKTn9RnsJzXent709fXd8p9\\\n",
              "+vr60tvbOz0DAoApuqDeAzhXjhw5kmuuuSYf+9jH8v73v/+k7ffcc0++8pWv5IEHHsiiRYvy2c9+\\\n",
              "NsuXL8/evXtz0UUX1WHEnI96e3uzYcOG2v3u7u6T9unr68uaNWvG/AwAnM+aNgBvuumm3HTTTRNu\\\n",
              "q1ar+dKXvpTPfOYzed/73pck+fu///vMnTs327dvz8qVK6dzqJynxsffSOSNjsDx8TeyvwgE4HzW\\\n",
              "tIeAT+WnP/1p+vv7s2zZstpjlUol1113XXbu3Dnpzw0PD2doaGjMjeY0Pv5GrFmzpnY4eHz8jdiw\\\n",
              "YYMABDgNltjUT9POAJ5Kf39/kmTu3LljHp87d25t20Q2btw4YRTQXCaLvxEjEbhv375J9zETCHBq\\\n",
              "ltjUV5EzgK/U+vXrMzg4WLsdPHiw3kPiHGhra5t025IsSZJa/I3cP9PnASjZREtsxs8ETrTERgCe\\\n",
              "PUUGYHt7e5Lk8OHDYx4/fPhwbdtEWlpa0traOuZG8+nu7s7mzZtPerwrXdmUTVmZE2tEV2ZlNmVT\\\n",
              "utJ10r6bN2+e8LdZgNJZYnN+KDIAFy1alPb29uzYsaP22NDQUJ588sl0dnbWcWScL8ZH4JIsyaqs\\\n",
              "SpKszupsz/aszuokyaqsGjMTKP4AJnY6S2wWL148YfyNEIFnR9MG4K9//evs3r07u3fvTnLixI/d\\\n",
              "u3fnwIEDmTFjRm6//fZ87nOfyz/+4z/mqaeeyi233JJ58+ZlxYoVdR0354/REbgne7IlW2rbKqnU\\\n",
              "/rwlW7Ine5KIP4BTscTm/DGjWq1W6z2Ic+Hxxx/Pu971rpMe7+rqytatW1OtVtPT05O//uu/zvPP\\\n",
              "P5/f+73fy1e/+tX87u/+7mn/HUNDQ6lUKhkcHHQ4uIktXry49oa0PdvHxN9gBrMiK5IkHR0d2bt3\\\n",
              "bz2GCNAwJjq825WurMqqbMmWbMu2rMzKrM7qbM3WPJAHxux7Nn7R9vndxAE4HfwDan6j36hG3pDG\\\n",
              "G3nDSswAApyO0e+tS7Ikm7Kptm0wg2N+0V6btWf9KIvP7yY+BAxTNf4NanT8DWaw9ufVWV07VDHR\\\n",
              "mWwAjGWJTf0JQJjA+EMUe7InW7M1yYk3pBVZUXvD2pqttTeoRAQCnI7u7u50dHQkSbZl25hfrJMT\\\n",
              "v2iPHF3p6OgQf2eZAIRxJrv8wAN5IGuztvaGtC3bsjZrT1qfkohAgJcz+oL6K7NyzMxfcmImcOSy\\\n",
              "W/v27fOeepYJQBhnYGBg0m0jM30jv7WOnvk7k+cBKJklNvUnAGGc3t7e9PT0TLp98+bN2bt374QX\\\n",
              "ix7R09PjOlUAE7DE5vzgLOApcBZRc5vogqXjFyFPdLhY/AFMbLIlNsmJmcDRsTf+/mhTPSHE57cZ\\\n",
              "QJjU+JnAid5wxn9jiPgDmJwlNuePC+o9AJhOb3zgjbU/P9X11MvuPxJzbW1tk/62OfL4wMCA+AM4\\\n",
              "hZH3yMm+Dm7kF+1TzRT6RfvsEIDwMk7njcblCQBOz2QROPooy8j/W2Jz7jgEDABMK0ts6s8MIEU5\\\n",
              "ncO+AJx7ltjUl7OAp8BZRACU7P/78B/W/nzHQ9+s40jOjM9vh4ABAIojAAEACiMAAYBXZNn/+URa\\\n",
              "L78iy/7PJ+o9FM6QNYBTYA0BADQen99mAAEAiiMAAQAKIwABAAojAAEACiMAAQAKIwABAAojAAEA\\\n",
              "CiMAAQAKIwABAAojAAEACiMAAQAKIwABAAojAAEACiMAAQAKIwABAAojAAEACiMAAQAKIwABAAoj\\\n",
              "AAEACiMAAQAKIwABAAojAAEACiMAAQAKIwABAAojAAEACiMAAQAKIwABAAojAAEACiMAAQAKU3wA\\\n",
              "9vX15fWvf30uuuiiXHfddfnhD39Y7yEBAJxTRQfgQw89lHXr1qWnpyc//vGPc80112T58uV57rnn\\\n",
              "6j00AIBzpugA/Mu//Mt8/OMfz0c/+tEsXrw49913Xy6++OL83d/9Xb2HBgBwzhQbgEePHs2uXbuy\\\n",
              "bNmy2mMzZ87MsmXLsnPnzgl/Znh4OENDQ2NuAACNptgA/OUvf5ljx45l7ty5Yx6fO3du+vv7J/yZ\\\n",
              "jRs3plKp1G4LFiyYjqECAJxVxQbgK7F+/foMDg7WbgcPHqz3kAAAztgF9R5AvVx++eV51atelcOH\\\n",
              "D495/PDhw2lvb5/wZ1paWtLS0jIdwwMAOGeKnQGcNWtWli5dmh07dtQeO378eHbs2JHOzs46jgwA\\\n",
              "4NwqdgYwSdatW5eurq685S1vybXXXpsvfelLOXLkSD760Y/We2gAAOdM0QH44Q9/OAMDA7nrrrvS\\\n",
              "39+fN7/5zfmXf/mXk04MAQBoJjOq1Wq13oNoVENDQ6lUKhkcHExra2u9hwMAnAaf3wWvAQQAKJUA\\\n",
              "BAAojAAEACiMAAQAKIwABAAojAAEACiMAAQAKIwABAAojAAEACiMAAQAKIwABAAojAAEACiMAAQA\\\n",
              "KIwABAAojAAEACiMAAQAKIwABAAojAAEACiMAAQAKIwABAAojAAEACiMAAQAKIwABAAojAAEACiM\\\n",
              "AAQAKIwABAAojAAEACiMAAQAKIwABAAojAAEACiMAAQAKIwABAAojAAEACiMAAQAKIwABAAojAAE\\\n",
              "ACiMAAQAKIwABAAojAAEACiMAAQAKIwABAAojAAEACiMAAQAKIwABAAojAAEAChMUwbg5z//+bzt\\\n",
              "bW/LxRdfnMsuu2zCfQ4cOJCbb745F198ca644op86lOfym9+85vpHSgAQB1cUO8BnAtHjx7Nhz70\\\n",
              "oXR2duZv//ZvT9p+7Nix3HzzzWlvb8/3v//9/OIXv8gtt9ySCy+8MH/+539ehxEDAEyfGdVqtVrv\\\n",
              "QZwrW7duze23357nn39+zOPf+ta38od/+Ic5dOhQ5s6dmyS577778qd/+qcZGBjIrFmzTuv5h4aG\\\n",
              "UqlUMjg4mNbW1rM9fADgHPD53aSHgF/Ozp0788Y3vrEWf0myfPnyDA0N5emnn57054aHhzM0NDTm\\\n",
              "BgDQaIoMwP7+/jHxl6R2v7+/f9Kf27hxYyqVSu22YMGCczpOAIBzoWEC8M4778yMGTNOedu/f/85\\\n",
              "HcP69eszODhYux08ePCc/n0AAOdCw5wEcscdd2TVqlWn3OcNb3jDaT1Xe3t7fvjDH4557PDhw7Vt\\\n",
              "k2lpaUlLS8tp/R0AAOerhgnAtra2tLW1nZXn6uzszOc///k899xzueKKK5Ikjz76aFpbW7N48eKz\\\n",
              "8ncAAJyvGiYAz8SBAwfyq1/9KgcOHMixY8eye/fuJMmVV16ZSy65JDfeeGMWL16cj3zkI7nnnnvS\\\n",
              "39+fz3zmM+nu7jbDBwA0vaa8DMyqVavywAMPnPT4Y489lne+851Jkv/8z//MbbfdlscffzyvfvWr\\\n",
              "09XVlbvvvjsXXHD6Tew0cgBoPD6/mzQAp4t/QADQeHx+N9BZwAAAnB0CEACgMAIQAKAwAhAAoDAC\\\n",
              "EACgMAIQAKAwAhAAoDACEACgMAIQAKAwAhAAoDACEACgMAIQAKAwAhAAoDACEACgMAIQAKAwAhAA\\\n",
              "oDACEACgMAIQAKAwAhAAoDACEACgMAIQAKAwAhAAoDACEACgMAIQAKAwAhAAoDACEACgMAIQAKAw\\\n",
              "AhAAoDACEACgMAIQAKAwAhAAoDACEACgMAIQAKAwAhAAoDACEACgMAIQAKAwAhAAoDACEACgMAIQ\\\n",
              "AKAwAhAAoDACEACgMAIQAKAwAhAAoDACEACgMAIQAKAwTRmAP/vZz3Lrrbdm0aJFmT17dn77t387\\\n",
              "PT09OXr06Jj9/v3f/z2///u/n4suuigLFizIPffcU6cRAwBMnwvqPYBzYf/+/Tl+/Hi2bNmSK6+8\\\n",
              "Mnv27MnHP/7xHDlyJF/84heTJENDQ7nxxhuzbNmy3HfffXnqqafysY99LJdddln+5E/+pM7/BQAA\\\n",
              "586MarVarfcgpsMXvvCF3HvvvfmP//iPJMm9996bT3/60+nv78+sWbOSJHfeeWe2b9+e/fv3n9Zz\\\n",
              "Dg0NpVKpZHBwMK2treds7ADA2ePzu0kPAU9kcHAwc+bMqd3fuXNn3vGOd9TiL0mWL1+eZ555Jv/9\\\n",
              "3/9djyECAEyLIgLw2WefzaZNm7J69eraY/39/Zk7d+6Y/Ubu9/f3T/g8w8PDGRoaGnMDAGg0DRWA\\\n",
              "d955Z2bMmHHK2/jDtz//+c/znve8Jx/60Ify8Y9/fEp//8aNG1OpVGq3BQsWTOn5AADqoaHWAA4M\\\n",
              "DOS//uu/TrnPG97whtph3UOHDuWd73xnrr/++mzdujUzZ/5v795yyy0ZGhrK9u3ba4899thjueGG\\\n",
              "G/KrX/0qr3nNa0567uHh4QwPD9fuDw0NZcGCBUWvIQCARmMNYIOdBdzW1pa2trbT2vfnP/953vWu\\\n",
              "d2Xp0qW5//77x8RfknR2dubTn/50XnrppVx44YVJkkcffTRXXXXVhPGXJC0tLWlpaZnafwQAQJ01\\\n",
              "1CHg0/Xzn/8873znO7Nw4cJ88YtfzMDAQPr7+8es7fvjP/7jzJo1K7feemuefvrpPPTQQ/nyl7+c\\\n",
              "devW1XHkAADnXkPNAJ6uRx99NM8++2yeffbZzJ8/f8y2kSPelUol3/nOd9Ld3Z2lS5fm8ssvz113\\\n",
              "3eUagABA02uoNYDnG2sIAKDx+Pxu0kPAAABMTgACABRGAAIAFEYAAgAURgACABRGAAIAddfb25u+\\\n",
              "vr5T7tPX15fe3t7pGVCTa8rrAAIAjaO3tzcbNmyo3e/u7j5pn76+vqxZs2bMz/DKmQEEAOpmfPyt\\\n",
              "WbPmpJnA8fG3YcMGAThFAhAAqIvx8TdidASOj78RInBqfBPIFLiSOAC8MpPF32gdHR3Zt2/fKffp\\\n",
              "6ek54xD0+W0GEACog7a2tkm3LcmSJKnF38j9M30eJicAAYBp193dnc2bN5/0eFe6simbsjIrkyQr\\\n",
              "szKbsild6Tpp382bN094wggvzyHgKTCFDABTM3qN35IsyaZsqm0bzGAqqdTur83a7MmeJFOLP5/f\\\n",
              "ZgABgDoaPRO4J3uyJVtq20bH35ZsOSvxxwlmAKfAbxAAcHYsXry4tuZve7aPib/BDGZFViQ5cWLI\\\n",
              "3r17p/R3+fw2AwgA1FlfX18t/lZm5Zj4S07MBI6sCdy3b9/LfmMIL08AAgB1M34N4Oqsrm0bzGDt\\\n",
              "z6uzunY28EQXi+bMCEAAoC7GX+R5T/Zka7YmObHmb0VW1NYEbs3W2hrARAROlTWAU2ANAQC8MpN9\\\n",
              "w0dyYiZwdOyNvz/aKzkhxOe3GUAAoA4GBgYm3TYSex0dHWPun+nzMDkBCABMu97e3vT09Ey6ffPm\\\n",
              "zdm7d++EF4se8Uq+Bo4TBCAAUBeTReDow7qTfWOI+JsaAQgA1M34CJxoTd/4CBR/U3dBvQcAAJRt\\\n",
              "JOba2tomPaFj5PGBgQHxdxY4C3gKnEUEABPr+7/fHXO/+74b6jSSk/n8dggYAKA4AhAAoDDWAAIA\\\n",
              "Z935dMiXk5kBBAAojAAEACiMAAQAKIwABAAojAAEACiMAAQAKIwABAAojAAEACiMAAQAKIwABAAo\\\n",
              "jAAEACiMAAQAKIwABAAozAX1HkAjq1arSZKhoaE6jwQAOF0jn9sjn+MlEoBT8MILLyRJFixYUOeR\\\n",
              "AABn6oUXXkilUqn3MOpiRrXk/J2i48eP59ChQ7n00kszY8aMeg+nqQwNDWXBggU5ePBgWltb6z2c\\\n",
              "puV1nh5e5+njtZ4ejf46V6vVvPDCC5k3b15mzixzNZwZwCmYOXNm5s+fX+9hNLXW1taGfHNpNF7n\\\n",
              "6eF1nj5e6+nRyK9zqTN/I8rMXgCAgglAAIDCCEDOSy0tLenp6UlLS0u9h9LUvM7Tw+s8fbzW08Pr\\\n",
              "3PicBAIAUBgzgAAAhRGAAACFEYAAAIURgAAAhRGAnHc+//nP521ve1suvvjiXHbZZRPuc+DAgdx8\\\n",
              "8825+OKLc8UVV+RTn/pUfvOb30zvQJtAX19fXv/61+eiiy7Kddddlx/+8If1HlJD+973vpf3vve9\\\n",
              "mTdvXmbMmJHt27eP2V6tVnPXXXflda97XWbPnp1ly5blJz/5SX0G28A2btyYt771rbn00ktzxRVX\\\n",
              "ZMWKFXnmmWfG7PPiiy+mu7s7r33ta3PJJZfkAx/4QA4fPlynETeme++9N29605tqF3vu7OzMt771\\\n",
              "rdp2r3FjE4Ccd44ePZoPfehDue222ybcfuzYsdx88805evRovv/97+eBBx7I1q1bc9ddd03zSBvb\\\n",
              "Qw89lHXr1qWnpyc//vGPc80112T58uV57rnn6j20hnXkyJFcc8016evrm3D7Pffck6985Su57777\\\n",
              "8uSTT+bVr351li9fnhdffHGaR9rYnnjiiXR3d+cHP/hBHn300bz00ku58cYbc+TIkdo+n/zkJ/ON\\\n",
              "b3wjDz/8cJ544okcOnQo73//++s46sYzf/783H333dm1a1d+9KMf5YYbbsj73ve+PP3000m8xg2v\\\n",
              "Cuep+++/v1qpVE56/J//+Z+rM2fOrPb399ceu/fee6utra3V4eHhaRxhY7v22mur3d3dtfvHjh2r\\\n",
              "zps3r7px48Y6jqp5JKk+8sgjtfvHjx+vtre3V7/whS/UHnv++eerLS0t1a997Wt1GGHzeO6556pJ\\\n",
              "qk888US1Wj3xul544YXVhx9+uLbPvn37qkmqO3furNcwm8JrXvOa6t/8zd94jZuAGUAazs6dO/PG\\\n",
              "N74xc+fOrT22fPnyDA0N1X4z5dSOHj2aXbt2ZdmyZbXHZs6cmWXLlmXnzp11HFnz+ulPf5r+/v4x\\\n",
              "r3mlUsl1113nNZ+iwcHBJMmcOXOSJLt27cpLL7005rW++uqrs3DhQq/1K3Ts2LFs27YtR44cSWdn\\\n",
              "p9e4CVxQ7wHAmerv7x8Tf0lq9/v7++sxpIbzy1/+MseOHZvwddy/f3+dRtXcRv5tTvSa+3f7yh0/\\\n",
              "fjy333573v72t2fJkiVJTrzWs2bNOmkNsdf6zD311FPp7OzMiy++mEsuuSSPPPJIFi9enN27d3uN\\\n",
              "G5wZQKbFnXfemRkzZpzyJjyAM9Xd3Z09e/Zk27Zt9R5KU7rqqquye/fuPPnkk7ntttvS1dWVvXv3\\\n",
              "1ntYnAVmAJkWd9xxR1atWnXKfd7whjec1nO1t7efdLbqyJln7e3tr2h8pbn88svzqle96qQz9g4f\\\n",
              "Puw1PEdGXtfDhw/nda97Xe3xw4cP581vfnOdRtXY1qxZk29+85v53ve+l/nz59ceb29vz9GjR/P8\\\n",
              "88+PmaHy7/vMzZo1K1deeWWSZOnSpfm3f/u3fPnLX86HP/xhr3GDMwPItGhra8vVV199ytusWbNO\\\n",
              "67k6Ozvz1FNPjTlb9dFHH01ra2sWL158rv4TmsqsWbOydOnS7Nixo/bY8ePHs2PHjnR2dtZxZM1r\\\n",
              "0aJFaW9vH/OaDw0N5cknn/San6FqtZo1a9bkkUceyXe/+90sWrRozPalS5fmwgsvHPNaP/PMMzlw\\\n",
              "4IDXeoqOHz+e4eFhr3ETMAPIeefAgQP51a9+lQMHDuTYsWPZvXt3kuTKK6/MJZdckhtvvDGLFy/O\\\n",
              "Rz7ykdxzzz3p7+/PZz7zmXR3d6elpaW+g28g69atS1dXV97ylrfk2muvzZe+9KUcOXIkH/3oR+s9\\\n",
              "tIb161//Os8++2zt/k9/+tPs3r07c+bMycKFC3P77bfnc5/7XH7nd34nixYtymc/+9nMmzcvK1as\\\n",
              "qN+gG1B3d3cefPDBfP3rX8+ll15aW3NWqVQye/bsVCqV3HrrrVm3bl3mzJmT1tbWrF27Np2dnbn+\\\n",
              "+uvrPPrGsX79+tx0001ZuHBhXnjhhTz44IN5/PHH8+1vf9tr3AzqfRoyjNfV1VVNctLtscceq+3z\\\n",
              "s5/9rHrTTTdVZ8+eXb388surd9xxR/Wll16q36Ab1KZNm6oLFy6szpo1q3rttddWf/CDH9R7SA3t\\\n",
              "sccem/DfbldXV7VaPXEpmM9+9rPVuXPnVltaWqrvfve7q88880x9B92AJnqNk1Tvv//+2j7/8z//\\\n",
              "U/3EJz5Rfc1rXlO9+OKLq3/0R39U/cUvflG/QTegj33sY9Xf+q3fqs6aNava1tZWffe73139zne+\\\n",
              "U9vuNW5sM6rVanX6sxMAgHqxBhAAoDACEACgMAIQAKAwAhAAoDACEACgMAIQAKAwAhAAoDACEACg\\\n",
              "MAIQAKAwAhAAoDACEACgMAIQAKAwAhAAoDACEACgMAIQAKAwAhAAoDACEACgMAIQAKAwAhAAoDAC\\\n",
              "EACgMAIQAKAwAhAAoDACEACgMAIQAKAwAhAAoDACEACgMAIQAKAwAhAAoDACEACgMAIQAKAwAhAA\\\n",
              "oDD/P/g/MidpDrunAAAAAElFTkSuQmCC\\\n",
              "\"\n",
              "  frames[3] = \"data:image/png;base64,iVBORw0KGgoAAAANSUhEUgAAAoAAAAHgCAYAAAA10dzkAAAAOXRFWHRTb2Z0d2FyZQBNYXRwbG90\\\n",
              "bGliIHZlcnNpb24zLjcuMSwgaHR0cHM6Ly9tYXRwbG90bGliLm9yZy/bCgiHAAAACXBIWXMAAA9h\\\n",
              "AAAPYQGoP6dpAAAm7ElEQVR4nO3df2zcd2H/8VdCGzeltUuoGxMlGWHdWkeBIgXaGjYEJWuoOkTG\\\n",
              "D2FNog5ULN/OiVRSoTUDakeCpSt8NyAxbaZtTfdHSVVpDYONQRXaIo1QRlC0ukkqqsESEZyasdol\\\n",
              "Wp2S3PePfH3Yjp0mdZzL3fvxQCdy9/n48u4punv6/Xl/PjerUqlUAgBAMWbXegAAAJxbAhAAoDAC\\\n",
              "EACgMAIQAKAwAhAAoDACEACgMAIQAKAwAhAAoDACEACgMAIQAKAwAhAAoDACEACgMAIQAKAwAhAA\\\n",
              "oDACEACgMAIQAKAwAhAAoDACEACgMAIQAKAwAhAAoDACEACgMAIQAKAwAhAAoDACEACgMAIQAKAw\\\n",
              "AhAAoDACEACgMAIQAKAwAhAAoDACEACgMAIQAKAwAhAAoDACEACgMAIQAKAwAhAAoDACEACgMAIQ\\\n",
              "AKAwAhAAoDACEACgMAIQAKAwAhAAoDACEACgMAIQAKAwAhAAoDACEACgMAIQAKAwAhAAoDACEACg\\\n",
              "MAIQAKAwAhAAoDACEACgMAIQAKAwAhAAoDACEACgMAIQAKAwAhAAoDAX1HoA9ez48eM5dOhQLr30\\\n",
              "0syaNavWwwEATkOlUskLL7yQBQsWZPbsMufCBOA0HDp0KIsWLar1MACAV+DgwYNZuHBhrYdREwJw\\\n",
              "Gi699NIkJ/4BNTc313g0AMDpGB4ezqJFi6qf4yUSgNMweti3ublZAAJAnSl5+VaZB74BAAomAAEA\\\n",
              "CiMAAQAKIwABAAojAGGM3t7e9PX1nXKfvr6+9Pb2npsBAcAMcBYw/H+9vb3ZuHFj9X53d/dJ+/T1\\\n",
              "9WXt2rXjfgYA6o0ZQMjJ8bd27dqTZgInxt/GjRsFIAB1SQBSvInxN2psBE6Mv1EiEIB6NKtSqVRq\\\n",
              "PYh6NTw8nJaWlgwNDbkQdJ2aKv7Gam9vz759+065T09PjxAEqBM+v80AUrjW1tYpty3LsiSpxt/o\\\n",
              "/TN9HgA43whAitbd3Z0tW7ac9HhXurI5m9OZziRJZzqzOZvTla6T9t2yZcukJ4wAwPnKIeBpMIXc\\\n",
              "OMau8VuWZdmczdVtQxlKS1qq99dlXfrTn0T8AdQjn99mACHJ+JnA/vRna7ZWt42Nv63ZKv4AqHtm\\\n",
              "AKfBbxCNZ+nSpdU1fzuyY1z8DWUoq7IqyYkTQ/bu3VuLIQIwTT6/zQBCVV9fXzX+OtM5Lv6SEzOB\\\n",
              "o2sC9+3b97LfGAIA5ysBCDl5DeCarKluG8pQ9c9rsqZ6NvBkF4sGgHogACnexIs896c/27ItyYk1\\\n",
              "f6uyqromcFu2VdcAJiIQgPpkDeA0WENQ/6b6ho/kxEzg2NibeH8sJ4QA1A+f32YAKdzg4OCU20Zj\\\n",
              "r729fdz9M30eADjfCECK1tvbm56enim3b9myJXv37p30YtGjfA0cAPVGAFK8qSJw7GHdqb4xRPwB\\\n",
              "UI8EIOTkCJxsTd/ECBR/ANSrC2o9ADhfjMZca2vrlCd0jD4+ODgo/oC61dvbe8r3uuTESXLe6xqX\\\n",
              "AIQxTueNztm+QD3r7e3Nxo0bq/cne0+beIUEEdh4HAIGgEJMjL/JrmU6Mf42btwoABuQGUAaU++Y\\\n",
              "r3HrHZp6P4BCTIy/UaOx193dPeW1UUd/Tgg2DgEIAA1uqvgbNToTOPp96JMRgY3FIWAAaHCtra1T\\\n",
              "bhv9fvPR+Bu9f6bPQ30RgDSm3qHf3AAKN9W1TLvSlc3ZnM50Jkk605nN2ZyudJ20r6+8bCy+C3ga\\\n",
              "fJcgAPVk7Bq/ZVmWzdlc3TaUobTkN+un12Vd9SswGy3+fH6bAQSAYoydCexPf7Zma3Xb2Pjbmq0N\\\n",
              "G3+cYAZwGvwGAUA9Wrp0aXXN347sGBd/QxnKqqxKkrS3t2fv3r21GOKM8vndwDOA9957b970pjel\\\n",
              "ubk5zc3N6ejoyDe/+c3q9hdffDHd3d157Wtfm0suuSQf+MAHcvjw4RqOGABm3tizfTvTOS7+khMz\\\n",
              "gaNrAvft23fSdQJpDA0bgAsXLszdd9+d3bt354c//GFuuOGGvO9978vTTz+dJPnEJz6Rr3/963n4\\\n",
              "4YfzxBNP5NChQ3n/+99f41EDwMyZuAZwTdZUtw3lNyfNrcma6tnAk10smvpX1CHgefPm5fOf/3w+\\\n",
              "+MEPprW1NQ8++GA++MEPJkn279+f9vb27Nq1K9dff/1pPZ8pZADqxWQXee5KV1ZndbZma7ZnezrT\\\n",
              "mTVZk23ZlgfywLh9G2ktoM/vQi4EfezYsTz88MM5cuRIOjo6snv37rz00ktZsWJFdZ+rr746ixcv\\\n",
              "PqMABIB6MNU3fDyQB7I7u6snfGzP9vT///9NNPYbQ6h/DR2ATz31VDo6OvLiiy/mkksuySOPPJKl\\\n",
              "S5dmz549mTNnTi677LJx+8+fPz8DAwNTPt/IyEhGRkaq94eHh2dq6ABw1gwODk65bTT22tvbs2/f\\\n",
              "vknj73Seh/rSsGsAk+Sqq67Knj178uSTT+a2225LV1fXtM5m2rRpU1paWqq3RYsWncXRAsDM6O3t\\\n",
              "TU9Pz5Tbt2zZkr179056sehRPT09vgaugTR0AM6ZMydXXnllli9fnk2bNuWaa67Jl770pbS1teXo\\\n",
              "0aN5/vnnx+1/+PDhtLW1Tfl8GzZsyNDQUPV28ODBGf4vAICzY6oIHLu2b6pvDBF/jaehA3Ci48eP\\\n",
              "Z2RkJMuXL8+FF16YnTt3Vrc988wzOXDgQDo6Oqb8+aampuplZUZvAFAvJkbgZCd2TIxA8deYGnYN\\\n",
              "4IYNG3LTTTdl8eLFeeGFF/Lggw/m8ccfz7e+9a20tLTk1ltvzfr16zNv3rw0Nzdn3bp16ejocAII\\\n",
              "AA1tNOZaW1unPKFj9PHBwUHx16AaNgCfe+653HLLLfn5z3+elpaWvOlNb8q3vvWt/MEf/EGS5K//\\\n",
              "+q8ze/bsfOADH8jIyEhWrlyZr3zlKzUeNQC8Mq+/85+rf/7p3Tefct/TiTpn+za2oq4DeLa5jhAA\\\n",
              "54szCcDS+fwubA0gAAANfAgYAEpi1o8zYQYQAKAwAhAAoDACEACgMAIQAKAwAhAAoDACEACgMAIQ\\\n",
              "AKAwAhAAoDACEACgMAIQAKAwAhAAoDACEACgMAIQAKAwAhAAoDACEACgMAIQAKAwAhAAoDACEACg\\\n",
              "MAIQAKAwAhAAoDACEACgMAIQAKAwAhAAoDACEACgMAIQAKAwArDB9Pb2pq+v75T79PX1pbe399wM\\\n",
              "CAA471xQ6wFw9vT29mbjxo3V+93d3Sft09fXl7Vr1477GQCgLGYAG8TE+Fu7du1JM4ET42/jxo0C\\\n",
              "EAAKJAAbwMT4GzU2AifG3ygRCADlmVWpVCq1HkS9Gh4eTktLS4aGhtLc3FyTMUwVf2O1t7dn3759\\\n",
              "p9ynp6dHCAJQhPPh87vWzADWudbW1im3LcuyJKnG3+j9M30eAKCxCMA6193dnS1btpz0eFe6sjmb\\\n",
              "05nOJElnOrM5m9OVrpP23bJly6QnjAAAjckh4Gk4n6aQx67xW5Zl2ZzN1W1DGUpLWqr312Vd+tOf\\\n",
              "RPwBUJ7z6fO7VswANoixM4H96c/WbK1uGxt/W7NV/AFA4cwATsP5+BvE0qVLq2v+dmTHuPgbylBW\\\n",
              "ZVWSEyeG7N27txZDBICaOh8/v881M4ANpK+vrxp/nekcF3/JiZnA0TWB+/bte9lvDAEAGpMAbBAT\\\n",
              "1wCuyZrqtqEMVf+8JmuqZwNPdrFoAKDxCcAGMPEiz/3pz7ZsS3Jizd+qrKquCdyWbdU1gIkIBIAS\\\n",
              "WQM4DefDGoKpvuEjOTETODb2Jt4fywkhAJTifPj8rjUzgHVucHBwym2jsdfe3j7u/pk+DwDQWARg\\\n",
              "nevt7U1PT8+U27ds2ZK9e/dOerHoUb4GDgDKIgAbwFQROPaw7lTfGCL+AKA8ArBBTIzAydb0TYxA\\\n",
              "8QcAZbqg1gOYKZs2bco//uM/Zv/+/Zk7d27e9ra35S//8i9z1VVXVfd58cUXc8cdd2T79u0ZGRnJ\\\n",
              "ypUr85WvfCXz58+v4chP2Hd1e/XP7fv3ndbPjMZca2vrlCd0jD4+ODgo/gCgUA17FvB73vOedHZ2\\\n",
              "5q1vfWt+/etf58///M/T39+fvXv35tWvfnWS5Lbbbss///M/Z9u2bWlpacnatWsze/bs/Nu//dtp\\\n",
              "/R0zeRbRKwlAAODlOQu4gQNwosHBwVxxxRV54okn8o53vCNDQ0NpbW3Ngw8+mA9+8INJkv3796e9\\\n",
              "vT27du3K9ddf/7LPKQABoP4IwAY+BDzR0NCJb8OYN29ekmT37t156aWXsmLFiuo+V199dRYvXnza\\\n",
              "ATiTRB8AMFOKCMDjx4/n9ttvz9vf/vYsW3bia9AGBgYyZ86cXHbZZeP2nT9/fgYGBiZ9npGRkYyM\\\n",
              "jFTvDw8Pz9iYAQBmShFnAXd3d6e/vz/bt2+f1vNs2rQpLS0t1duiRYvO0ggBAM6dhg/AtWvX5hvf\\\n",
              "+EYee+yxLFy4sPp4W1tbjh49mueff37c/ocPH05bW9ukz7Vhw4YMDQ1VbwcPHpzJoQMAzIiGDcBK\\\n",
              "pZK1a9fmkUceyXe+850sWbJk3Pbly5fnwgsvzM6dO6uPPfPMMzlw4EA6Ojomfc6mpqY0NzePuwEA\\\n",
              "1JuGXQPY3d2dBx98MF/72tdy6aWXVtf1tbS0ZO7cuWlpacmtt96a9evXZ968eWlubs66devS0dFR\\\n",
              "8xNAAABmUsNeBmbWrFmTPn7//fdn9erVSX5zIeivfvWr4y4EPdUh4ImcRg4A9cfndwMH4LngHxAA\\\n",
              "1B+f3w28BhAAgMkJQACAwghAAIDCCEAAgMIIQACAwghAAIDCCEAAgMIIQACAwghAAIDCCEAAgMII\\\n",
              "QACAwghAAIDCCEAAgMIIQACAwghAAIDCCEAAgMIIQACAwghAAIDCCEAAgMIIQACAwghAAIDCCEAA\\\n",
              "gMIIQACAwghAAIDCCEAAgMIIQACAwghAAIDCCEAAgMIIQACAwghAAIDCCEAAgMIIQACAwghAAIDC\\\n",
              "CEAAgMIIQACAwghAAIDCCEAAgMIIQACAwghAAIDCCEAAgMIIQACAwghAAIDCCEAAgMIIQACAwghA\\\n",
              "AIDCCEAAgMI0bAB+97vfzXvf+94sWLAgs2bNyo4dO8Ztr1Qqueuuu/K6170uc+fOzYoVK/LjH/+4\\\n",
              "NoPlvNbb25u+vr5T7tPX15fe3t5zMyAAmKYLaj2AmXLkyJFcc801+djHPpb3v//9J22/55578uUv\\\n",
              "fzkPPPBAlixZks985jNZuXJl9u7dm4suuqgGI+Z81Nvbm40bN1bvd3d3n7RPX19f1q5dO+5nAOB8\\\n",
              "1rABeNNNN+Wmm26adFulUskXv/jFfPrTn8773ve+JMk//MM/ZP78+dmxY0c6OzvP5VA5T02Mv9HI\\\n",
              "GxuBE+NvdH8RCMD5rGEPAZ/KT37ykwwMDGTFihXVx1paWnLddddl165dU/7cyMhIhoeHx91oTBPj\\\n",
              "b9TatWurh4Mnxt+ojRs3CkCA02CJTe007AzgqQwMDCRJ5s+fP+7x+fPnV7dNZtOmTZNGAY1lqvgb\\\n",
              "NRqB+/btm3IfM4EAp2aJTW0VOQP4Sm3YsCFDQ0PV28GDB2s9JGZAa2vrlNuWZVmSVONv9P6ZPg9A\\\n",
              "ySZbYjNxJnCyJTYC8OwpMgDb2tqSJIcPHx73+OHDh6vbJtPU1JTm5uZxNxpPd3d3tmzZctLjXenK\\\n",
              "5mxOZ06sEe1MZzZnc7rSddK+W7ZsmfS3WYDSWWJzfigyAJcsWZK2trbs3Lmz+tjw8HCefPLJdHR0\\\n",
              "1HBknC8mRuCyLMvqrE6SrMma7MiOrMmaJMnqrB43Eyj+ACZ3Oktsli5dOmn8jRKBZ0fDBuCvfvWr\\\n",
              "7NmzJ3v27Ely4sSPPXv25MCBA5k1a1Zuv/32fPazn80//dM/5amnnsott9ySBQsWZNWqVTUdN+eP\\\n",
              "sRHYn/5szdbqtpa0VP+8NVvTn/4k4g/gVCyxOX/MqlQqlVoPYiY8/vjjede73nXS411dXdm2bVsq\\\n",
              "lUp6enryN3/zN3n++efze7/3e/nKV76S3/3d3z3tv2N4eDgtLS0ZGhpyOLiBLV26tPqGtCM7xsXf\\\n",
              "UIayKquSJO3t7dm7d28thghQNyY7vNuVrqzO6mzN1mzP9nSmM2uyJtuyLQ/kgXH7no1ftH1+N3AA\\\n",
              "ngv+ATW+sW9Uo29IE42+YSVmAAFOx9j31mVZls3ZXN02lKFxv2ivy7qzfpTF53cDHwKG6Zr4BjU2\\\n",
              "/oYyVP3zmqypHqqY7Ew2AMazxKb2BCBMYuIhiv70Z1u2JTnxhrQqq6pvWNuyrfoGlYhAgNPR3d2d\\\n",
              "9vb2JMn2bB/3i3Vy4hft0aMr7e3t4u8sE4AwwVSXH3ggD2Rd1lXfkLZne9Zl3UnrUxIRCPByxl5Q\\\n",
              "vzOd42b+khMzgaOX3dq3b5/31LNMAMIEg4ODU24bnekb/a117MzfmTwPQMkssak9AQgT9Pb2pqen\\\n",
              "Z8rtW7Zsyd69eye9WPSonp4e16kCmIQlNucHZwFPg7OIGttkFyyduAh5ssPF4g9gclMtsUlOzASO\\\n",
              "jb2J98ea7gkhPr/NAMKUJs4ETvaGM/EbQ8QfwNQssTl/XFDrAcC59MYH3lj981NdT73s/qMx19ra\\\n",
              "OuVvm6OPDw4Oij+AUxh9j5zq6+BGf9E+1UyhX7TPDgEIL+N03mhcngDg9EwVgWOPsoz+vyU2M8ch\\\n",
              "YADgnLLEpvbMAFKU0znsC8DMs8SmtpwFPA3OIgKgZP/3w39Y/fMdD32jhiM5Mz6/HQIGACiOAAQA\\\n",
              "KIw1gADAK1JPh30ZzwwgAEBhBCAAQGEEIABAYQQgAEBhBCAAQGEEIABAYQQgAEBhBCAAQGEEIABA\\\n",
              "YQQgAEBhBCAAQGEEIABAYQQgAEBhBCAAQGEEIABAYQQgAEBhBCAAQGEEIABAYQQgAEBhBCAAQGEE\\\n",
              "IABAYQQgAEBhBCAAQGEEIABAYQQgAEBhBCAAQGEEIABAYQQgAEBhBCAAQGEEIABAYYoPwL6+vrz+\\\n",
              "9a/PRRddlOuuuy4/+MEPaj0kAIAZVXQAPvTQQ1m/fn16enryox/9KNdcc01WrlyZ5557rtZDAwCY\\\n",
              "MUUH4F/91V/l4x//eD760Y9m6dKlue+++3LxxRfn7//+72s9NACAGVNsAB49ejS7d+/OihUrqo/N\\\n",
              "nj07K1asyK5duyb9mZGRkQwPD4+7AQDUm2ID8Be/+EWOHTuW+fPnj3t8/vz5GRgYmPRnNm3alJaW\\\n",
              "lupt0aJF52KoAABnVbEB+Eps2LAhQ0ND1dvBgwdrPSQAgDN2Qa0HUCuXX355XvWqV+Xw4cPjHj98\\\n",
              "+HDa2tom/ZmmpqY0NTWdi+EBAMyYYmcA58yZk+XLl2fnzp3Vx44fP56dO3emo6OjhiMDAJhZxc4A\\\n",
              "Jsn69evT1dWVt7zlLbn22mvzxS9+MUeOHMlHP/rRWg8NAGDGFB2AH/7whzM4OJi77rorAwMDefOb\\\n",
              "35x//dd/PenEEACARjKrUqlUaj2IejU8PJyWlpYMDQ2lubm51sMBAE6Dz++C1wACAJRKAAIAFEYA\\\n",
              "AgAURgACABRGAAIAFEYAAgAURgACABRGAAIAFEYAAgAURgACABRGAAIAFEYAAgAURgACABRGAAIA\\\n",
              "FEYAAgAURgACABRGAAIAFEYAAgAURgACABRGAAIAFEYAAgAURgACABRGAAIAFEYAAgAURgACABRG\\\n",
              "AAIAFEYAAgAURgACABRGAAIAFEYAAgAURgACABRGAAIAFEYAAgAURgACABRGAAIAFEYAAgAURgAC\\\n",
              "ABRGAAIAFEYAAgAURgACABRGAAIAFEYAAgAURgACABRGAAIAFEYAAgAUpiED8HOf+1ze9ra35eKL\\\n",
              "L85ll1026T4HDhzIzTffnIsvvjhXXHFFPvnJT+bXv/71uR0oAEANXFDrAcyEo0eP5kMf+lA6Ojry\\\n",
              "d3/3dydtP3bsWG6++ea0tbXle9/7Xn7+85/nlltuyYUXXpi/+Iu/qMGIAQDOnVmVSqVS60HMlG3b\\\n",
              "tuX222/P888/P+7xb37zm/nDP/zDHDp0KPPnz0+S3HffffmzP/uzDA4OZs6cOaf1/MPDw2lpacnQ\\\n",
              "0FCam5vP9vABgBng87tBDwG/nF27duWNb3xjNf6SZOXKlRkeHs7TTz895c+NjIxkeHh43A0AoN4U\\\n",
              "GYADAwPj4i9J9f7AwMCUP7dp06a0tLRUb4sWLZrRcQIAzIS6CcA777wzs2bNOuVt//79MzqGDRs2\\\n",
              "ZGhoqHo7ePDgjP59AAAzoW5OArnjjjuyevXqU+7zhje84bSeq62tLT/4wQ/GPXb48OHqtqk0NTWl\\\n",
              "qanptP4OAIDzVd0EYGtra1pbW8/Kc3V0dORzn/tcnnvuuVxxxRVJkkcffTTNzc1ZunTpWfk7AADO\\\n",
              "V3UTgGfiwIED+eUvf5kDBw7k2LFj2bNnT5LkyiuvzCWXXJIbb7wxS5cuzUc+8pHcc889GRgYyKc/\\\n",
              "/el0d3eb4QMAGl5DXgZm9erVeeCBB056/LHHHss73/nOJMl//dd/5bbbbsvjjz+eV7/61enq6srd\\\n",
              "d9+dCy44/SZ2GjkA1B+f3w0agOeKf0AAUH98ftfRWcAAAJwdAhAAoDACEACgMAIQAKAwAhAAoDAC\\\n",
              "EACgMAIQAKAwAhAAoDACEACgMAIQAKAwAhAAoDACEACgMAIQAKAwAhAAoDACEACgMAIQAKAwAhAA\\\n",
              "oDACEACgMAIQAKAwAhAAoDACEACgMAIQAKAwAhAAoDACEACgMAIQAKAwAhAAoDACEACgMAIQAKAw\\\n",
              "AhAAoDACEACgMAIQAKAwAhAAoDACEACgMAIQAKAwAhAAoDACEACgMAIQAKAwAhAAoDACEACgMAIQ\\\n",
              "AKAwAhAAoDACEACgMAIQAKAwAhAAoDACEACgMA0ZgD/96U9z6623ZsmSJZk7d25++7d/Oz09PTl6\\\n",
              "9Oi4/f7jP/4jv//7v5+LLrooixYtyj333FOjEQMAnDsX1HoAM2H//v05fvx4tm7dmiuvvDL9/f35\\\n",
              "+Mc/niNHjuQLX/hCkmR4eDg33nhjVqxYkfvuuy9PPfVUPvaxj+Wyyy7Ln/zJn9T4vwAAYObMqlQq\\\n",
              "lVoP4lz4/Oc/n3vvvTf/+Z//mSS5995786lPfSoDAwOZM2dOkuTOO+/Mjh07sn///tN6zuHh4bS0\\\n",
              "tGRoaCjNzc0zNnYA4Ozx+d2gh4AnMzQ0lHnz5lXv79q1K+94xzuq8ZckK1euzDPPPJP/+Z//qcUQ\\\n",
              "AQDOiSIC8Nlnn83mzZuzZs2a6mMDAwOZP3/+uP1G7w8MDEz6PCMjIxkeHh53AwCoN3UVgHfeeWdm\\\n",
              "zZp1ytvEw7c/+9nP8p73vCcf+tCH8vGPf3xaf/+mTZvS0tJSvS1atGhazwcAUAt1tQZwcHAw//3f\\\n",
              "/33Kfd7whjdUD+seOnQo73znO3P99ddn27ZtmT37N717yy23ZHh4ODt27Kg+9thjj+WGG27IL3/5\\\n",
              "y7zmNa856blHRkYyMjJSvT88PJxFixYVvYYAAOqNNYB1dhZwa2trWltbT2vfn/3sZ3nXu96V5cuX\\\n",
              "5/777x8Xf0nS0dGRT33qU3nppZdy4YUXJkkeffTRXHXVVZPGX5I0NTWlqalpev8RAAA1VleHgE/X\\\n",
              "z372s7zzne/M4sWL84UvfCGDg4MZGBgYt7bvj//4jzNnzpzceuutefrpp/PQQw/lS1/6UtavX1/D\\\n",
              "kQMAzLy6mgE8XY8++mieffbZPPvss1m4cOG4baNHvFtaWvLtb3873d3dWb58eS6//PLcddddrgEI\\\n",
              "ADS8uloDeL6xhgAA6o/P7wY9BAwAwNQEIABAYQQgAEBhBCAAQGEEIABAYQQgAFBzvb296evrO+U+\\\n",
              "fX196e3tPTcDanANeR1AAKB+9Pb2ZuPGjdX73d3dJ+3T19eXtWvXjvsZXjkzgABAzUyMv7Vr1540\\\n",
              "Ezgx/jZu3CgAp0kAAgA1MTH+Ro2NwInxN0oETo9vApkGVxIHgFdmqvgbq729Pfv27TvlPj09PWcc\\\n",
              "gj6/zQACADXQ2to65bZlWZYk1fgbvX+mz8PUBCAAcM51d3dny5YtJz3ela5szuZ0pjNJ0pnObM7m\\\n",
              "dKXrpH23bNky6QkjvDyHgKfBFDIATM/YNX7Lsiybs7m6bShDaUlL9f66rEt/+pNML/58fpsBBABq\\\n",
              "aOxMYH/6szVbq9vGxt/WbD0r8ccJZgCnwW8QAHB2LF26tLrmb0d2jIu/oQxlVVYlOXFiyN69e6f1\\\n",
              "d/n8NgMIANRYX19fNf460zku/pITM4GjawL37dv3st8YwssTgABAzUxcA7gma6rbhjJU/fOarKme\\\n",
              "DTzZxaI5MwIQAKiJiRd57k9/tmVbkhNr/lZlVXVN4LZsq64BTETgdFkDOA3WEADAKzPVN3wkJ2YC\\\n",
              "x8bexPtjvZITQnx+mwEEAGpgcHBwym2jsdfe3j7u/pk+D1MTgADAOdfb25uenp4pt2/ZsiV79+6d\\\n",
              "9GLRo17J18BxggAEAGpiqggce1h3qm8MEX/TIwABgJqZGIGTrembGIHib/ouqPUAAICyjcZca2vr\\\n",
              "lCd0jD4+ODgo/s4CZwFPg7OIAGBqff/nO9U/d993Qw1HMp7Pb4eAAQCKIwABAApjDSAAMCPOp8O+\\\n",
              "jGcGEACgMAIQAKAwAhAAoDACEACgMAIQAKAwAhAAoDACEACgMAIQAKAwAhAAoDACEACgMAIQAKAw\\\n",
              "AhAAoDACEACgMBfUegD1rFKpJEmGh4drPBIA4HSNfm6Pfo6XSABOwwsvvJAkWbRoUY1HAgCcqRde\\\n",
              "eCEtLS21HkZNzKqUnL/TdPz48Rw6dCiXXnppZs2aVevhNJTh4eEsWrQoBw8eTHNzc62H07C8zueG\\\n",
              "1/nc8DqfO/X+WlcqlbzwwgtZsGBBZs8uczWcGcBpmD17dhYuXFjrYTS05ubmunxzqTde53PD63xu\\\n",
              "eJ3PnXp+rUud+RtVZvYCABRMAAIAFEYAcl5qampKT09Pmpqaaj2UhuZ1Pje8zueG1/nc8VrXPyeB\\\n",
              "AAAUxgwgAEBhBCAAQGEEIABAYQQgAEBhBCDnnc997nN529velosvvjiXXXbZpPscOHAgN998cy6+\\\n",
              "+OJcccUV+eQnP5lf//rX53agda6vry+vf/3rc9FFF+W6667LD37wg1oPqe5997vfzXvf+94sWLAg\\\n",
              "s2bNyo4dO8Ztr1Qqueuuu/K6170uc+fOzYoVK/LjH/+4NoOtY5s2bcpb3/rWXHrppbniiiuyatWq\\\n",
              "PPPMM+P2efHFF9Pd3Z3Xvva1ueSSS/KBD3wghw8frtGI69O9996bN73pTdWLPXd0dOSb3/xmdbvX\\\n",
              "uL4JQM47R48ezYc+9KHcdtttk24/duxYbr755hw9ejTf+9738sADD2Tbtm256667zvFI69dDDz2U\\\n",
              "9evXp6enJz/60Y9yzTXXZOXKlXnuuedqPbS6duTIkVxzzTXp6+ubdPs999yTL3/5y7nvvvvy5JNP\\\n",
              "5tWvfnVWrlyZF1988RyPtL498cQT6e7uzve///08+uijeemll3LjjTfmyJEj1X0+8YlP5Otf/3oe\\\n",
              "fvjhPPHEEzl06FDe//7313DU9WfhwoW5++67s3v37vzwhz/MDTfckPe97315+umnk3iN614FzlP3\\\n",
              "339/paWl5aTH/+Vf/qUye/bsysDAQPWxe++9t9Lc3FwZGRk5hyOsX9dee22lu7u7ev/YsWOVBQsW\\\n",
              "VDZt2lTDUTWWJJVHHnmkev/48eOVtra2yuc///nqY88//3ylqamp8tWvfrUGI2wczz33XCVJ5Ykn\\\n",
              "nqhUKide1wsvvLDy8MMPV/fZt29fJUll165dtRpmQ3jNa15T+du//VuvcQMwA0jd2bVrV974xjdm\\\n",
              "/vz51cdWrlyZ4eHh6m+mTO3o0aPZvXt3VqxYUX1s9uzZWbFiRXbt2lXDkTW2n/zkJxkYGBj3ure0\\\n",
              "tOS6667zuk/T0NBQkmTevHlJkt27d+ell14a91pfffXVWbx4sdf6FTp27Fi2b9+eI0eOpKOjw2vc\\\n",
              "AC6o9QDgTA0MDIyLvyTV+wMDA7UYUl35xS9+kWPHjk36Gu7fv79Go2p8o/82J3vd/bt95Y4fP57b\\\n",
              "b789b3/727Ns2bIkJ17rOXPmnLSG2Gt95p566ql0dHTkxRdfzCWXXJJHHnkkS5cuzZ49e7zGdc4M\\\n",
              "IOfEnXfemVmzZp3yJj6AM9Xd3Z3+/v5s37691kNpSFdddVX27NmTJ598Mrfddlu6urqyd+/eWg+L\\\n",
              "s8AMIOfEHXfckdWrV59ynze84Q2n9VxtbW0nnbE6euZZW1vbKxpfSS6//PK86lWvOulsvcOHD3v9\\\n",
              "ZtDoa3v48OG87nWvqz5++PDhvPnNb67RqOrb2rVr841vfCPf/e53s3DhwurjbW1tOXr0aJ5//vlx\\\n",
              "M1T+jZ+5OXPm5Morr0ySLF++PP/+7/+eL33pS/nwhz/sNa5zZgA5J1pbW3P11Vef8jZnzpzTeq6O\\\n",
              "jo489dRT485YffTRR9Pc3JylS5fO1H9Cw5gzZ06WL1+enTt3Vh87fvx4du7cmY6OjhqOrLEtWbIk\\\n",
              "bW1t41734eHhPPnkk173M1SpVLJ27do88sgj+c53vpMlS5aM2758+fJceOGF417rZ555JgcOHPBa\\\n",
              "T9Px48czMjLiNW4AZgA57xw4cCC//OUvc+DAgRw7dix79uxJklx55ZW55JJLcuONN2bp0qX5yEc+\\\n",
              "knvuuScDAwP59Kc/ne7u7jQ1NdV28HVi/fr16erqylve8pZce+21+eIXv5gjR47kox/9aK2HVtd+\\\n",
              "9atf5dlnn63e/8lPfpI9e/Zk3rx5Wbx4cW6//fZ89rOfze/8zu9kyZIl+cxnPpMFCxZk1apVtRt0\\\n",
              "Heru7s6DDz6Yr33ta7n00kura85aWloyd+7ctLS05NZbb8369eszb968NDc3Z926deno6Mj1119f\\\n",
              "49HXjw0bNuSmm27K4sWL88ILL+TBBx/M448/nm9961te40ZQ69OQYaKurq5KkpNujz32WHWfn/70\\\n",
              "p5WbbrqpMnfu3Mrll19eueOOOyovvfRS7QZdhzZv3lxZvHhxZc6cOZVrr7228v3vf7/WQ6p7jz32\\\n",
              "2KT/dru6uiqVyolLwXzmM5+pzJ8/v9LU1FR597vfXXnmmWdqO+g6NNlrnKRy//33V/f53//938qf\\\n",
              "/umfVl7zmtdULr744sof/dEfVX7+85/XbtB16GMf+1jlt37rtypz5syptLa2Vt797ndXvv3tb1e3\\\n",
              "e43r26xKpVI599kJAECtWAMIAFAYAQgAUBgBCABQGAEIAFAYAQgAUBgBCABQGAEIAFAYAQgAUBgB\\\n",
              "CABQGAEIAFAYAQgAUBgBCABQGAEIAFAYAQgAUBgBCABQGAEIAFAYAQgAUBgBCABQGAEIAFAYAQgA\\\n",
              "UBgBCABQGAEIAFAYAQgAUBgBCABQGAEIAFAYAQgAUBgBCABQGAEIAFAYAQgAUBgBCABQGAEIAFCY\\\n",
              "/weYcSLM2gZKrgAAAABJRU5ErkJggg==\\\n",
              "\"\n",
              "  frames[4] = \"data:image/png;base64,iVBORw0KGgoAAAANSUhEUgAAAoAAAAHgCAYAAAA10dzkAAAAOXRFWHRTb2Z0d2FyZQBNYXRwbG90\\\n",
              "bGliIHZlcnNpb24zLjcuMSwgaHR0cHM6Ly9tYXRwbG90bGliLm9yZy/bCgiHAAAACXBIWXMAAA9h\\\n",
              "AAAPYQGoP6dpAAAm7ElEQVR4nO3df2zcd2H/8VdCGzeltUuoGxMlGWHdWkeBIgXaGjYEJWuoOkTG\\\n",
              "D2FNog5ULN/OiVRSoTUDakeCpSt8NyAxbaZtTfdHSVVpDYONQRXaIo1QRlC0ukkqqsESEZyasdol\\\n",
              "Wp2S3PePfH3Yjp0mdZzL3fvxQCdy9/n48u4punv6/Xl/PjerUqlUAgBAMWbXegAAAJxbAhAAoDAC\\\n",
              "EACgMAIQAKAwAhAAoDACEACgMAIQAKAwAhAAoDACEACgMAIQAKAwAhAAoDACEACgMAIQAKAwAhAA\\\n",
              "oDACEACgMAIQAKAwAhAAoDACEACgMAIQAKAwAhAAoDACEACgMAIQAKAwAhAAoDACEACgMAIQAKAw\\\n",
              "AhAAoDACEACgMAIQAKAwAhAAoDACEACgMAIQAKAwAhAAoDACEACgMAIQAKAwAhAAoDACEACgMAIQ\\\n",
              "AKAwAhAAoDACEACgMAIQAKAwAhAAoDACEACgMAIQAKAwAhAAoDACEACgMAIQAKAwAhAAoDACEACg\\\n",
              "MAIQAKAwAhAAoDACEACgMAIQAKAwAhAAoDACEACgMAIQAKAwAhAAoDAX1HoA9ez48eM5dOhQLr30\\\n",
              "0syaNavWwwEATkOlUskLL7yQBQsWZPbsMufCBOA0HDp0KIsWLar1MACAV+DgwYNZuHBhrYdREwJw\\\n",
              "Gi699NIkJ/4BNTc313g0AMDpGB4ezqJFi6qf4yUSgNMweti3ublZAAJAnSl5+VaZB74BAAomAAEA\\\n",
              "CiMAAQAKIwABAAojAGGM3t7e9PX1nXKfvr6+9Pb2npsBAcAMcBYw/H+9vb3ZuHFj9X53d/dJ+/T1\\\n",
              "9WXt2rXjfgYA6o0ZQMjJ8bd27dqTZgInxt/GjRsFIAB1SQBSvInxN2psBE6Mv1EiEIB6NKtSqVRq\\\n",
              "PYh6NTw8nJaWlgwNDbkQdJ2aKv7Gam9vz759+065T09PjxAEqBM+v80AUrjW1tYpty3LsiSpxt/o\\\n",
              "/TN9HgA43whAitbd3Z0tW7ac9HhXurI5m9OZziRJZzqzOZvTla6T9t2yZcukJ4wAwPnKIeBpMIXc\\\n",
              "OMau8VuWZdmczdVtQxlKS1qq99dlXfrTn0T8AdQjn99mACHJ+JnA/vRna7ZWt42Nv63ZKv4AqHtm\\\n",
              "AKfBbxCNZ+nSpdU1fzuyY1z8DWUoq7IqyYkTQ/bu3VuLIQIwTT6/zQBCVV9fXzX+OtM5Lv6SEzOB\\\n",
              "o2sC9+3b97LfGAIA5ysBCDl5DeCarKluG8pQ9c9rsqZ6NvBkF4sGgHogACnexIs896c/27ItyYk1\\\n",
              "f6uyqromcFu2VdcAJiIQgPpkDeA0WENQ/6b6ho/kxEzg2NibeH8sJ4QA1A+f32YAKdzg4OCU20Zj\\\n",
              "r729fdz9M30eADjfCECK1tvbm56enim3b9myJXv37p30YtGjfA0cAPVGAFK8qSJw7GHdqb4xRPwB\\\n",
              "UI8EIOTkCJxsTd/ECBR/ANSrC2o9ADhfjMZca2vrlCd0jD4+ODgo/oC61dvbe8r3uuTESXLe6xqX\\\n",
              "AIQxTueNztm+QD3r7e3Nxo0bq/cne0+beIUEEdh4HAIGgEJMjL/JrmU6Mf42btwoABuQGUAaU++Y\\\n",
              "r3HrHZp6P4BCTIy/UaOx193dPeW1UUd/Tgg2DgEIAA1uqvgbNToTOPp96JMRgY3FIWAAaHCtra1T\\\n",
              "bhv9fvPR+Bu9f6bPQ30RgDSm3qHf3AAKN9W1TLvSlc3ZnM50Jkk605nN2ZyudJ20r6+8bCy+C3ga\\\n",
              "fJcgAPVk7Bq/ZVmWzdlc3TaUobTkN+un12Vd9SswGy3+fH6bAQSAYoydCexPf7Zma3Xb2Pjbmq0N\\\n",
              "G3+cYAZwGvwGAUA9Wrp0aXXN347sGBd/QxnKqqxKkrS3t2fv3r21GOKM8vndwDOA9957b970pjel\\\n",
              "ubk5zc3N6ejoyDe/+c3q9hdffDHd3d157Wtfm0suuSQf+MAHcvjw4RqOGABm3tizfTvTOS7+khMz\\\n",
              "gaNrAvft23fSdQJpDA0bgAsXLszdd9+d3bt354c//GFuuOGGvO9978vTTz+dJPnEJz6Rr3/963n4\\\n",
              "4YfzxBNP5NChQ3n/+99f41EDwMyZuAZwTdZUtw3lNyfNrcma6tnAk10smvpX1CHgefPm5fOf/3w+\\\n",
              "+MEPprW1NQ8++GA++MEPJkn279+f9vb27Nq1K9dff/1pPZ8pZADqxWQXee5KV1ZndbZma7ZnezrT\\\n",
              "mTVZk23ZlgfywLh9G2ktoM/vQi4EfezYsTz88MM5cuRIOjo6snv37rz00ktZsWJFdZ+rr746ixcv\\\n",
              "PqMABIB6MNU3fDyQB7I7u6snfGzP9vT///9NNPYbQ6h/DR2ATz31VDo6OvLiiy/mkksuySOPPJKl\\\n",
              "S5dmz549mTNnTi677LJx+8+fPz8DAwNTPt/IyEhGRkaq94eHh2dq6ABw1gwODk65bTT22tvbs2/f\\\n",
              "vknj73Seh/rSsGsAk+Sqq67Knj178uSTT+a2225LV1fXtM5m2rRpU1paWqq3RYsWncXRAsDM6O3t\\\n",
              "TU9Pz5Tbt2zZkr179056sehRPT09vgaugTR0AM6ZMydXXnllli9fnk2bNuWaa67Jl770pbS1teXo\\\n",
              "0aN5/vnnx+1/+PDhtLW1Tfl8GzZsyNDQUPV28ODBGf4vAICzY6oIHLu2b6pvDBF/jaehA3Ci48eP\\\n",
              "Z2RkJMuXL8+FF16YnTt3Vrc988wzOXDgQDo6Oqb8+aampuplZUZvAFAvJkbgZCd2TIxA8deYGnYN\\\n",
              "4IYNG3LTTTdl8eLFeeGFF/Lggw/m8ccfz7e+9a20tLTk1ltvzfr16zNv3rw0Nzdn3bp16ejocAII\\\n",
              "AA1tNOZaW1unPKFj9PHBwUHx16AaNgCfe+653HLLLfn5z3+elpaWvOlNb8q3vvWt/MEf/EGS5K//\\\n",
              "+q8ze/bsfOADH8jIyEhWrlyZr3zlKzUeNQC8Mq+/85+rf/7p3Tefct/TiTpn+za2oq4DeLa5jhAA\\\n",
              "54szCcDS+fwubA0gAAANfAgYAEpi1o8zYQYQAKAwAhAAoDACEACgMAIQAKAwAhAAoDACEACgMAIQ\\\n",
              "AKAwAhAAoDACEACgMAIQAKAwAhAAoDACEACgMAIQAKAwAhAAoDACEACgMAIQAKAwAhAAoDACEACg\\\n",
              "MAIQAKAwAhAAoDACEACgMAIQAKAwAhAAoDACEACgMAIQAKAwArDB9Pb2pq+v75T79PX1pbe399wM\\\n",
              "CAA471xQ6wFw9vT29mbjxo3V+93d3Sft09fXl7Vr1477GQCgLGYAG8TE+Fu7du1JM4ET42/jxo0C\\\n",
              "EAAKJAAbwMT4GzU2AifG3ygRCADlmVWpVCq1HkS9Gh4eTktLS4aGhtLc3FyTMUwVf2O1t7dn3759\\\n",
              "p9ynp6dHCAJQhPPh87vWzADWudbW1im3LcuyJKnG3+j9M30eAKCxCMA6193dnS1btpz0eFe6sjmb\\\n",
              "05nOJElnOrM5m9OVrpP23bJly6QnjAAAjckh4Gk4n6aQx67xW5Zl2ZzN1W1DGUpLWqr312Vd+tOf\\\n",
              "RPwBUJ7z6fO7VswANoixM4H96c/WbK1uGxt/W7NV/AFA4cwATsP5+BvE0qVLq2v+dmTHuPgbylBW\\\n",
              "ZVWSEyeG7N27txZDBICaOh8/v881M4ANpK+vrxp/nekcF3/JiZnA0TWB+/bte9lvDAEAGpMAbBAT\\\n",
              "1wCuyZrqtqEMVf+8JmuqZwNPdrFoAKDxCcAGMPEiz/3pz7ZsS3Jizd+qrKquCdyWbdU1gIkIBIAS\\\n",
              "WQM4DefDGoKpvuEjOTETODb2Jt4fywkhAJTifPj8rjUzgHVucHBwym2jsdfe3j7u/pk+DwDQWARg\\\n",
              "nevt7U1PT8+U27ds2ZK9e/dOerHoUb4GDgDKIgAbwFQROPaw7lTfGCL+AKA8ArBBTIzAydb0TYxA\\\n",
              "8QcAZbqg1gOYKZs2bco//uM/Zv/+/Zk7d27e9ra35S//8i9z1VVXVfd58cUXc8cdd2T79u0ZGRnJ\\\n",
              "ypUr85WvfCXz58+v4chP2Hd1e/XP7fv3ndbPjMZca2vrlCd0jD4+ODgo/gCgUA17FvB73vOedHZ2\\\n",
              "5q1vfWt+/etf58///M/T39+fvXv35tWvfnWS5Lbbbss///M/Z9u2bWlpacnatWsze/bs/Nu//dtp\\\n",
              "/R0zeRbRKwlAAODlOQu4gQNwosHBwVxxxRV54okn8o53vCNDQ0NpbW3Ngw8+mA9+8INJkv3796e9\\\n",
              "vT27du3K9ddf/7LPKQABoP4IwAY+BDzR0NCJb8OYN29ekmT37t156aWXsmLFiuo+V199dRYvXnza\\\n",
              "ATiTRB8AMFOKCMDjx4/n9ttvz9vf/vYsW3bia9AGBgYyZ86cXHbZZeP2nT9/fgYGBiZ9npGRkYyM\\\n",
              "jFTvDw8Pz9iYAQBmShFnAXd3d6e/vz/bt2+f1vNs2rQpLS0t1duiRYvO0ggBAM6dhg/AtWvX5hvf\\\n",
              "+EYee+yxLFy4sPp4W1tbjh49mueff37c/ocPH05bW9ukz7Vhw4YMDQ1VbwcPHpzJoQMAzIiGDcBK\\\n",
              "pZK1a9fmkUceyXe+850sWbJk3Pbly5fnwgsvzM6dO6uPPfPMMzlw4EA6Ojomfc6mpqY0NzePuwEA\\\n",
              "1JuGXQPY3d2dBx98MF/72tdy6aWXVtf1tbS0ZO7cuWlpacmtt96a9evXZ968eWlubs66devS0dFR\\\n",
              "8xNAAABmUsNeBmbWrFmTPn7//fdn9erVSX5zIeivfvWr4y4EPdUh4ImcRg4A9cfndwMH4LngHxAA\\\n",
              "1B+f3w28BhAAgMkJQACAwghAAIDCCEAAgMIIQACAwghAAIDCCEAAgMIIQACAwghAAIDCCEAAgMII\\\n",
              "QACAwghAAIDCCEAAgMIIQACAwghAAIDCCEAAgMIIQACAwghAAIDCCEAAgMIIQACAwghAAIDCCEAA\\\n",
              "gMIIQACAwghAAIDCCEAAgMIIQACAwghAAIDCCEAAgMIIQACAwghAAIDCCEAAgMIIQACAwghAAIDC\\\n",
              "CEAAgMIIQACAwghAAIDCCEAAgMIIQACAwghAAIDCCEAAgMIIQACAwghAAIDCCEAAgMIIQACAwghA\\\n",
              "AIDCCEAAgMI0bAB+97vfzXvf+94sWLAgs2bNyo4dO8Ztr1Qqueuuu/K6170uc+fOzYoVK/LjH/+4\\\n",
              "NoPlvNbb25u+vr5T7tPX15fe3t5zMyAAmKYLaj2AmXLkyJFcc801+djHPpb3v//9J22/55578uUv\\\n",
              "fzkPPPBAlixZks985jNZuXJl9u7dm4suuqgGI+Z81Nvbm40bN1bvd3d3n7RPX19f1q5dO+5nAOB8\\\n",
              "1rABeNNNN+Wmm26adFulUskXv/jFfPrTn8773ve+JMk//MM/ZP78+dmxY0c6OzvP5VA5T02Mv9HI\\\n",
              "GxuBE+NvdH8RCMD5rGEPAZ/KT37ykwwMDGTFihXVx1paWnLddddl165dU/7cyMhIhoeHx91oTBPj\\\n",
              "b9TatWurh4Mnxt+ojRs3CkCA02CJTe007AzgqQwMDCRJ5s+fP+7x+fPnV7dNZtOmTZNGAY1lqvgb\\\n",
              "NRqB+/btm3IfM4EAp2aJTW0VOQP4Sm3YsCFDQ0PV28GDB2s9JGZAa2vrlNuWZVmSVONv9P6ZPg9A\\\n",
              "ySZbYjNxJnCyJTYC8OwpMgDb2tqSJIcPHx73+OHDh6vbJtPU1JTm5uZxNxpPd3d3tmzZctLjXenK\\\n",
              "5mxOZ06sEe1MZzZnc7rSddK+W7ZsmfS3WYDSWWJzfigyAJcsWZK2trbs3Lmz+tjw8HCefPLJdHR0\\\n",
              "1HBknC8mRuCyLMvqrE6SrMma7MiOrMmaJMnqrB43Eyj+ACZ3Oktsli5dOmn8jRKBZ0fDBuCvfvWr\\\n",
              "7NmzJ3v27Ely4sSPPXv25MCBA5k1a1Zuv/32fPazn80//dM/5amnnsott9ySBQsWZNWqVTUdN+eP\\\n",
              "sRHYn/5szdbqtpa0VP+8NVvTn/4k4g/gVCyxOX/MqlQqlVoPYiY8/vjjede73nXS411dXdm2bVsq\\\n",
              "lUp6enryN3/zN3n++efze7/3e/nKV76S3/3d3z3tv2N4eDgtLS0ZGhpyOLiBLV26tPqGtCM7xsXf\\\n",
              "UIayKquSJO3t7dm7d28thghQNyY7vNuVrqzO6mzN1mzP9nSmM2uyJtuyLQ/kgXH7no1ftH1+N3AA\\\n",
              "ngv+ATW+sW9Uo29IE42+YSVmAAFOx9j31mVZls3ZXN02lKFxv2ivy7qzfpTF53cDHwKG6Zr4BjU2\\\n",
              "/oYyVP3zmqypHqqY7Ew2AMazxKb2BCBMYuIhiv70Z1u2JTnxhrQqq6pvWNuyrfoGlYhAgNPR3d2d\\\n",
              "9vb2JMn2bB/3i3Vy4hft0aMr7e3t4u8sE4AwwVSXH3ggD2Rd1lXfkLZne9Zl3UnrUxIRCPByxl5Q\\\n",
              "vzOd42b+khMzgaOX3dq3b5/31LNMAMIEg4ODU24bnekb/a117MzfmTwPQMkssak9AQgT9Pb2pqen\\\n",
              "Z8rtW7Zsyd69eye9WPSonp4e16kCmIQlNucHZwFPg7OIGttkFyyduAh5ssPF4g9gclMtsUlOzASO\\\n",
              "jb2J98ea7gkhPr/NAMKUJs4ETvaGM/EbQ8QfwNQssTl/XFDrAcC59MYH3lj981NdT73s/qMx19ra\\\n",
              "OuVvm6OPDw4Oij+AUxh9j5zq6+BGf9E+1UyhX7TPDgEIL+N03mhcngDg9EwVgWOPsoz+vyU2M8ch\\\n",
              "YADgnLLEpvbMAFKU0znsC8DMs8SmtpwFPA3OIgKgZP/3w39Y/fMdD32jhiM5Mz6/HQIGACiOAAQA\\\n",
              "KIw1gADAK1JPh30ZzwwgAEBhBCAAQGEEIABAYQQgAEBhBCAAQGEEIABAYQQgAEBhBCAAQGEEIABA\\\n",
              "YQQgAEBhBCAAQGEEIABAYQQgAEBhBCAAQGEEIABAYQQgAEBhBCAAQGEEIABAYQQgAEBhBCAAQGEE\\\n",
              "IABAYQQgAEBhBCAAQGEEIABAYQQgAEBhBCAAQGEEIABAYQQgAEBhBCAAQGEEIABAYYoPwL6+vrz+\\\n",
              "9a/PRRddlOuuuy4/+MEPaj0kAIAZVXQAPvTQQ1m/fn16enryox/9KNdcc01WrlyZ5557rtZDAwCY\\\n",
              "MUUH4F/91V/l4x//eD760Y9m6dKlue+++3LxxRfn7//+72s9NACAGVNsAB49ejS7d+/OihUrqo/N\\\n",
              "nj07K1asyK5duyb9mZGRkQwPD4+7AQDUm2ID8Be/+EWOHTuW+fPnj3t8/vz5GRgYmPRnNm3alJaW\\\n",
              "lupt0aJF52KoAABnVbEB+Eps2LAhQ0ND1dvBgwdrPSQAgDN2Qa0HUCuXX355XvWqV+Xw4cPjHj98\\\n",
              "+HDa2tom/ZmmpqY0NTWdi+EBAMyYYmcA58yZk+XLl2fnzp3Vx44fP56dO3emo6OjhiMDAJhZxc4A\\\n",
              "Jsn69evT1dWVt7zlLbn22mvzxS9+MUeOHMlHP/rRWg8NAGDGFB2AH/7whzM4OJi77rorAwMDefOb\\\n",
              "35x//dd/PenEEACARjKrUqlUaj2IejU8PJyWlpYMDQ2lubm51sMBAE6Dz++C1wACAJRKAAIAFEYA\\\n",
              "AgAURgACABRGAAIAFEYAAgAURgACABRGAAIAFEYAAgAURgACABRGAAIAFEYAAgAURgACABRGAAIA\\\n",
              "FEYAAgAURgACABRGAAIAFEYAAgAURgACABRGAAIAFEYAAgAURgACABRGAAIAFEYAAgAURgACABRG\\\n",
              "AAIAFEYAAgAURgACABRGAAIAFEYAAgAURgACABRGAAIAFEYAAgAURgACABRGAAIAFEYAAgAURgAC\\\n",
              "ABRGAAIAFEYAAgAURgACABRGAAIAFEYAAgAURgACABRGAAIAFEYAAgAUpiED8HOf+1ze9ra35eKL\\\n",
              "L85ll1026T4HDhzIzTffnIsvvjhXXHFFPvnJT+bXv/71uR0oAEANXFDrAcyEo0eP5kMf+lA6Ojry\\\n",
              "d3/3dydtP3bsWG6++ea0tbXle9/7Xn7+85/nlltuyYUXXpi/+Iu/qMGIAQDOnVmVSqVS60HMlG3b\\\n",
              "tuX222/P888/P+7xb37zm/nDP/zDHDp0KPPnz0+S3HffffmzP/uzDA4OZs6cOaf1/MPDw2lpacnQ\\\n",
              "0FCam5vP9vABgBng87tBDwG/nF27duWNb3xjNf6SZOXKlRkeHs7TTz895c+NjIxkeHh43A0AoN4U\\\n",
              "GYADAwPj4i9J9f7AwMCUP7dp06a0tLRUb4sWLZrRcQIAzIS6CcA777wzs2bNOuVt//79MzqGDRs2\\\n",
              "ZGhoqHo7ePDgjP59AAAzoW5OArnjjjuyevXqU+7zhje84bSeq62tLT/4wQ/GPXb48OHqtqk0NTWl\\\n",
              "qanptP4OAIDzVd0EYGtra1pbW8/Kc3V0dORzn/tcnnvuuVxxxRVJkkcffTTNzc1ZunTpWfk7AADO\\\n",
              "V3UTgGfiwIED+eUvf5kDBw7k2LFj2bNnT5LkyiuvzCWXXJIbb7wxS5cuzUc+8pHcc889GRgYyKc/\\\n",
              "/el0d3eb4QMAGl5DXgZm9erVeeCBB056/LHHHss73/nOJMl//dd/5bbbbsvjjz+eV7/61enq6srd\\\n",
              "d9+dCy44/SZ2GjkA1B+f3w0agOeKf0AAUH98ftfRWcAAAJwdAhAAoDACEACgMAIQAKAwAhAAoDAC\\\n",
              "EACgMAIQAKAwAhAAoDACEACgMAIQAKAwAhAAoDACEACgMAIQAKAwAhAAoDACEACgMAIQAKAwAhAA\\\n",
              "oDACEACgMAIQAKAwAhAAoDACEACgMAIQAKAwAhAAoDACEACgMAIQAKAwAhAAoDACEACgMAIQAKAw\\\n",
              "AhAAoDACEACgMAIQAKAwAhAAoDACEACgMAIQAKAwAhAAoDACEACgMAIQAKAwAhAAoDACEACgMAIQ\\\n",
              "AKAwAhAAoDACEACgMAIQAKAwAhAAoDACEACgMA0ZgD/96U9z6623ZsmSJZk7d25++7d/Oz09PTl6\\\n",
              "9Oi4/f7jP/4jv//7v5+LLrooixYtyj333FOjEQMAnDsX1HoAM2H//v05fvx4tm7dmiuvvDL9/f35\\\n",
              "+Mc/niNHjuQLX/hCkmR4eDg33nhjVqxYkfvuuy9PPfVUPvaxj+Wyyy7Ln/zJn9T4vwAAYObMqlQq\\\n",
              "lVoP4lz4/Oc/n3vvvTf/+Z//mSS5995786lPfSoDAwOZM2dOkuTOO+/Mjh07sn///tN6zuHh4bS0\\\n",
              "tGRoaCjNzc0zNnYA4Ozx+d2gh4AnMzQ0lHnz5lXv79q1K+94xzuq8ZckK1euzDPPPJP/+Z//qcUQ\\\n",
              "AQDOiSIC8Nlnn83mzZuzZs2a6mMDAwOZP3/+uP1G7w8MDEz6PCMjIxkeHh53AwCoN3UVgHfeeWdm\\\n",
              "zZp1ytvEw7c/+9nP8p73vCcf+tCH8vGPf3xaf/+mTZvS0tJSvS1atGhazwcAUAt1tQZwcHAw//3f\\\n",
              "/33Kfd7whjdUD+seOnQo73znO3P99ddn27ZtmT37N717yy23ZHh4ODt27Kg+9thjj+WGG27IL3/5\\\n",
              "y7zmNa856blHRkYyMjJSvT88PJxFixYVvYYAAOqNNYB1dhZwa2trWltbT2vfn/3sZ3nXu96V5cuX\\\n",
              "5/777x8Xf0nS0dGRT33qU3nppZdy4YUXJkkeffTRXHXVVZPGX5I0NTWlqalpev8RAAA1VleHgE/X\\\n",
              "z372s7zzne/M4sWL84UvfCGDg4MZGBgYt7bvj//4jzNnzpzceuutefrpp/PQQw/lS1/6UtavX1/D\\\n",
              "kQMAzLy6mgE8XY8++mieffbZPPvss1m4cOG4baNHvFtaWvLtb3873d3dWb58eS6//PLcddddrgEI\\\n",
              "ADS8uloDeL6xhgAA6o/P7wY9BAwAwNQEIABAYQQgAEBhBCAAQGEEIABAYQQgAFBzvb296evrO+U+\\\n",
              "fX196e3tPTcDanANeR1AAKB+9Pb2ZuPGjdX73d3dJ+3T19eXtWvXjvsZXjkzgABAzUyMv7Vr1540\\\n",
              "Ezgx/jZu3CgAp0kAAgA1MTH+Ro2NwInxN0oETo9vApkGVxIHgFdmqvgbq729Pfv27TvlPj09PWcc\\\n",
              "gj6/zQACADXQ2to65bZlWZYk1fgbvX+mz8PUBCAAcM51d3dny5YtJz3ela5szuZ0pjNJ0pnObM7m\\\n",
              "dKXrpH23bNky6QkjvDyHgKfBFDIATM/YNX7Lsiybs7m6bShDaUlL9f66rEt/+pNML/58fpsBBABq\\\n",
              "aOxMYH/6szVbq9vGxt/WbD0r8ccJZgCnwW8QAHB2LF26tLrmb0d2jIu/oQxlVVYlOXFiyN69e6f1\\\n",
              "d/n8NgMIANRYX19fNf460zku/pITM4GjawL37dv3st8YwssTgABAzUxcA7gma6rbhjJU/fOarKme\\\n",
              "DTzZxaI5MwIQAKiJiRd57k9/tmVbkhNr/lZlVXVN4LZsq64BTETgdFkDOA3WEADAKzPVN3wkJ2YC\\\n",
              "x8bexPtjvZITQnx+mwEEAGpgcHBwym2jsdfe3j7u/pk+D1MTgADAOdfb25uenp4pt2/ZsiV79+6d\\\n",
              "9GLRo17J18BxggAEAGpiqggce1h3qm8MEX/TIwABgJqZGIGTrembGIHib/ouqPUAAICyjcZca2vr\\\n",
              "lCd0jD4+ODgo/s4CZwFPg7OIAGBqff/nO9U/d993Qw1HMp7Pb4eAAQCKIwABAApjDSAAMCPOp8O+\\\n",
              "jGcGEACgMAIQAKAwAhAAoDACEACgMAIQAKAwAhAAoDACEACgMAIQAKAwAhAAoDACEACgMAIQAKAw\\\n",
              "AhAAoDACEACgMBfUegD1rFKpJEmGh4drPBIA4HSNfm6Pfo6XSABOwwsvvJAkWbRoUY1HAgCcqRde\\\n",
              "eCEtLS21HkZNzKqUnL/TdPz48Rw6dCiXXnppZs2aVevhNJTh4eEsWrQoBw8eTHNzc62H07C8zueG\\\n",
              "1/nc8DqfO/X+WlcqlbzwwgtZsGBBZs8uczWcGcBpmD17dhYuXFjrYTS05ubmunxzqTde53PD63xu\\\n",
              "eJ3PnXp+rUud+RtVZvYCABRMAAIAFEYAcl5qampKT09Pmpqaaj2UhuZ1Pje8zueG1/nc8VrXPyeB\\\n",
              "AAAUxgwgAEBhBCAAQGEEIABAYQQgAEBhBCDnnc997nN529velosvvjiXXXbZpPscOHAgN998cy6+\\\n",
              "+OJcccUV+eQnP5lf//rX53agda6vry+vf/3rc9FFF+W6667LD37wg1oPqe5997vfzXvf+94sWLAg\\\n",
              "s2bNyo4dO8Ztr1Qqueuuu/K6170uc+fOzYoVK/LjH/+4NoOtY5s2bcpb3/rWXHrppbniiiuyatWq\\\n",
              "PPPMM+P2efHFF9Pd3Z3Xvva1ueSSS/KBD3wghw8frtGI69O9996bN73pTdWLPXd0dOSb3/xmdbvX\\\n",
              "uL4JQM47R48ezYc+9KHcdtttk24/duxYbr755hw9ejTf+9738sADD2Tbtm256667zvFI69dDDz2U\\\n",
              "9evXp6enJz/60Y9yzTXXZOXKlXnuuedqPbS6duTIkVxzzTXp6+ubdPs999yTL3/5y7nvvvvy5JNP\\\n",
              "5tWvfnVWrlyZF1988RyPtL498cQT6e7uzve///08+uijeemll3LjjTfmyJEj1X0+8YlP5Otf/3oe\\\n",
              "fvjhPPHEEzl06FDe//7313DU9WfhwoW5++67s3v37vzwhz/MDTfckPe97315+umnk3iN614FzlP3\\\n",
              "339/paWl5aTH/+Vf/qUye/bsysDAQPWxe++9t9Lc3FwZGRk5hyOsX9dee22lu7u7ev/YsWOVBQsW\\\n",
              "VDZt2lTDUTWWJJVHHnmkev/48eOVtra2yuc///nqY88//3ylqamp8tWvfrUGI2wczz33XCVJ5Ykn\\\n",
              "nqhUKide1wsvvLDy8MMPV/fZt29fJUll165dtRpmQ3jNa15T+du//VuvcQMwA0jd2bVrV974xjdm\\\n",
              "/vz51cdWrlyZ4eHh6m+mTO3o0aPZvXt3VqxYUX1s9uzZWbFiRXbt2lXDkTW2n/zkJxkYGBj3ure0\\\n",
              "tOS6667zuk/T0NBQkmTevHlJkt27d+ell14a91pfffXVWbx4sdf6FTp27Fi2b9+eI0eOpKOjw2vc\\\n",
              "AC6o9QDgTA0MDIyLvyTV+wMDA7UYUl35xS9+kWPHjk36Gu7fv79Go2p8o/82J3vd/bt95Y4fP57b\\\n",
              "b789b3/727Ns2bIkJ17rOXPmnLSG2Gt95p566ql0dHTkxRdfzCWXXJJHHnkkS5cuzZ49e7zGdc4M\\\n",
              "IOfEnXfemVmzZp3yJj6AM9Xd3Z3+/v5s37691kNpSFdddVX27NmTJ598Mrfddlu6urqyd+/eWg+L\\\n",
              "s8AMIOfEHXfckdWrV59ynze84Q2n9VxtbW0nnbE6euZZW1vbKxpfSS6//PK86lWvOulsvcOHD3v9\\\n",
              "ZtDoa3v48OG87nWvqz5++PDhvPnNb67RqOrb2rVr841vfCPf/e53s3DhwurjbW1tOXr0aJ5//vlx\\\n",
              "M1T+jZ+5OXPm5Morr0ySLF++PP/+7/+eL33pS/nwhz/sNa5zZgA5J1pbW3P11Vef8jZnzpzTeq6O\\\n",
              "jo489dRT485YffTRR9Pc3JylS5fO1H9Cw5gzZ06WL1+enTt3Vh87fvx4du7cmY6OjhqOrLEtWbIk\\\n",
              "bW1t41734eHhPPnkk173M1SpVLJ27do88sgj+c53vpMlS5aM2758+fJceOGF417rZ555JgcOHPBa\\\n",
              "T9Px48czMjLiNW4AZgA57xw4cCC//OUvc+DAgRw7dix79uxJklx55ZW55JJLcuONN2bp0qX5yEc+\\\n",
              "knvuuScDAwP59Kc/ne7u7jQ1NdV28HVi/fr16erqylve8pZce+21+eIXv5gjR47kox/9aK2HVtd+\\\n",
              "9atf5dlnn63e/8lPfpI9e/Zk3rx5Wbx4cW6//fZ89rOfze/8zu9kyZIl+cxnPpMFCxZk1apVtRt0\\\n",
              "Heru7s6DDz6Yr33ta7n00kura85aWloyd+7ctLS05NZbb8369eszb968NDc3Z926deno6Mj1119f\\\n",
              "49HXjw0bNuSmm27K4sWL88ILL+TBBx/M448/nm9961te40ZQ69OQYaKurq5KkpNujz32WHWfn/70\\\n",
              "p5WbbrqpMnfu3Mrll19eueOOOyovvfRS7QZdhzZv3lxZvHhxZc6cOZVrr7228v3vf7/WQ6p7jz32\\\n",
              "2KT/dru6uiqVyolLwXzmM5+pzJ8/v9LU1FR597vfXXnmmWdqO+g6NNlrnKRy//33V/f53//938qf\\\n",
              "/umfVl7zmtdULr744sof/dEfVX7+85/XbtB16GMf+1jlt37rtypz5syptLa2Vt797ndXvv3tb1e3\\\n",
              "e43r26xKpVI599kJAECtWAMIAFAYAQgAUBgBCABQGAEIAFAYAQgAUBgBCABQGAEIAFAYAQgAUBgB\\\n",
              "CABQGAEIAFAYAQgAUBgBCABQGAEIAFAYAQgAUBgBCABQGAEIAFAYAQgAUBgBCABQGAEIAFAYAQgA\\\n",
              "UBgBCABQGAEIAFAYAQgAUBgBCABQGAEIAFAYAQgAUBgBCABQGAEIAFAYAQgAUBgBCABQGAEIAFCY\\\n",
              "/weYcSLM2gZKrgAAAABJRU5ErkJggg==\\\n",
              "\"\n",
              "\n",
              "\n",
              "    /* set a timeout to make sure all the above elements are created before\n",
              "       the object is initialized. */\n",
              "    setTimeout(function() {\n",
              "        animbf7cd3c79c8242edbc21deca67944b90 = new Animation(frames, img_id, slider_id, 500.0,\n",
              "                                 loop_select_id);\n",
              "    }, 0);\n",
              "  })()\n",
              "</script>\n"
            ]
          },
          "metadata": {},
          "execution_count": 43
        }
      ],
      "source": [
        "# create your own animation\n",
        "X = data.clone()\n",
        "fig,ax = plt.subplots()\n",
        "ani = FuncAnimation(fig, do_one, frames=5, interval=500, repeat=False)\n",
        "plt.close()\n",
        "HTML(ani.to_jshtml())"
      ]
    },
    {
      "cell_type": "markdown",
      "metadata": {
        "id": "XqSERM7M2JPy"
      },
      "source": [
        "## GPU batched algorithm"
      ]
    },
    {
      "cell_type": "markdown",
      "metadata": {
        "id": "aLNJiC9A2JPy"
      },
      "source": [
        "To truly accelerate the algorithm, we need to be performing updates on a batch of points per iteration, instead of just one as we were doing."
      ]
    },
    {
      "cell_type": "code",
      "execution_count": null,
      "metadata": {
        "id": "MbqvTOyZ2JPy",
        "outputId": "51a57e02-eb6c-4826-d52c-ad96a5f34f84"
      },
      "outputs": [
        {
          "data": {
            "text/plain": [
              "(torch.Size([5, 2]), torch.Size([1500, 2]))"
            ]
          },
          "execution_count": null,
          "metadata": {},
          "output_type": "execute_result"
        }
      ],
      "source": [
        "bs=5\n",
        "X = data.clone()\n",
        "x = X[:bs]\n",
        "x.shape,X.shape"
      ]
    },
    {
      "cell_type": "code",
      "execution_count": null,
      "metadata": {
        "id": "kkrG6uil2JPy"
      },
      "outputs": [],
      "source": [
        "def dist_b(a,b): return (((a[None]-b[:,None])**2).sum(2)).sqrt()"
      ]
    },
    {
      "cell_type": "code",
      "execution_count": null,
      "metadata": {
        "id": "CzfYtf8m2JPy",
        "outputId": "ad274671-0d0d-4218-ffc0-552f208be0f2"
      },
      "outputs": [
        {
          "data": {
            "text/plain": [
              "tensor([[ 0.000,  3.899,  4.834,  ..., 17.628, 22.610, 21.617],\n",
              "        [ 3.899,  0.000,  4.978,  ..., 21.499, 26.508, 25.500],\n",
              "        [ 4.834,  4.978,  0.000,  ..., 19.373, 24.757, 23.396],\n",
              "        [ 3.726,  0.185,  4.969,  ..., 21.335, 26.336, 25.333],\n",
              "        [ 6.273,  5.547,  1.615,  ..., 20.775, 26.201, 24.785]])"
            ]
          },
          "execution_count": null,
          "metadata": {},
          "output_type": "execute_result"
        }
      ],
      "source": [
        "dist_b(X, x)"
      ]
    },
    {
      "cell_type": "code",
      "execution_count": null,
      "metadata": {
        "id": "sW7D5iui2JPy",
        "outputId": "37b0793e-7c05-43df-bc8f-1afd625c3596"
      },
      "outputs": [
        {
          "data": {
            "text/plain": [
              "torch.Size([5, 1500])"
            ]
          },
          "execution_count": null,
          "metadata": {},
          "output_type": "execute_result"
        }
      ],
      "source": [
        "dist_b(X, x).shape"
      ]
    },
    {
      "cell_type": "code",
      "execution_count": null,
      "metadata": {
        "id": "jDPfu6lR2JPy",
        "outputId": "9a9c9cba-2d2b-4a39-cff6-10e01c488c3d"
      },
      "outputs": [
        {
          "data": {
            "text/plain": [
              "(torch.Size([1, 1500, 2]), torch.Size([5, 1, 2]), torch.Size([5, 1500, 2]))"
            ]
          },
          "execution_count": null,
          "metadata": {},
          "output_type": "execute_result"
        }
      ],
      "source": [
        "X[None,:].shape, x[:,None].shape, (X[None,:]-x[:,None]).shape"
      ]
    },
    {
      "cell_type": "code",
      "execution_count": null,
      "metadata": {
        "id": "xT2GLSDK2JPy",
        "outputId": "d574714a-af13-45cc-eb76-55df927c2475"
      },
      "outputs": [
        {
          "data": {
            "text/plain": [
              "tensor([[    0.199,     0.030,     0.011,  ...,     0.000,     0.000,     0.000],\n",
              "        [    0.030,     0.199,     0.009,  ...,     0.000,     0.000,     0.000],\n",
              "        [    0.011,     0.009,     0.199,  ...,     0.000,     0.000,     0.000],\n",
              "        [    0.035,     0.199,     0.009,  ...,     0.000,     0.000,     0.000],\n",
              "        [    0.001,     0.004,     0.144,  ...,     0.000,     0.000,     0.000]])"
            ]
          },
          "execution_count": null,
          "metadata": {},
          "output_type": "execute_result"
        }
      ],
      "source": [
        "weight = gaussian(dist_b(X, x), 2)\n",
        "weight"
      ]
    },
    {
      "cell_type": "code",
      "execution_count": null,
      "metadata": {
        "id": "caxFKjha2JPy",
        "outputId": "4ecce98b-afa8-4e72-87e5-710452bdc459"
      },
      "outputs": [
        {
          "data": {
            "text/plain": [
              "(torch.Size([5, 1500]), torch.Size([1500, 2]))"
            ]
          },
          "execution_count": null,
          "metadata": {},
          "output_type": "execute_result"
        }
      ],
      "source": [
        "weight.shape,X.shape"
      ]
    },
    {
      "cell_type": "code",
      "execution_count": null,
      "metadata": {
        "id": "444cHiQD2JPy",
        "outputId": "bd374532-7f42-47e3-b493-f558971ee598"
      },
      "outputs": [
        {
          "data": {
            "text/plain": [
              "(torch.Size([5, 1500, 1]), torch.Size([1, 1500, 2]))"
            ]
          },
          "execution_count": null,
          "metadata": {},
          "output_type": "execute_result"
        }
      ],
      "source": [
        "weight[...,None].shape, X[None].shape"
      ]
    },
    {
      "cell_type": "code",
      "execution_count": null,
      "metadata": {
        "id": "wxZL3mIC2JPz",
        "outputId": "70e1fbae-cf94-4d14-c072-d14636bca403"
      },
      "outputs": [
        {
          "data": {
            "text/plain": [
              "torch.Size([5, 2])"
            ]
          },
          "execution_count": null,
          "metadata": {},
          "output_type": "execute_result"
        }
      ],
      "source": [
        "num = (weight[...,None]*X[None]).sum(1)\n",
        "num.shape"
      ]
    },
    {
      "cell_type": "code",
      "execution_count": null,
      "metadata": {
        "id": "C6D_WL8F2JPz",
        "outputId": "ea80d2f7-7c50-4b99-82f2-1cd8b39c2ae8"
      },
      "outputs": [
        {
          "data": {
            "text/plain": [
              "tensor([[367.870, 386.231],\n",
              "        [518.332, 588.680],\n",
              "        [329.665, 330.782],\n",
              "        [527.617, 598.217],\n",
              "        [231.302, 234.155]])"
            ]
          },
          "execution_count": null,
          "metadata": {},
          "output_type": "execute_result"
        }
      ],
      "source": [
        "num"
      ]
    },
    {
      "cell_type": "code",
      "execution_count": null,
      "metadata": {
        "id": "FCt5lnfb2JPz",
        "outputId": "8a814d03-1455-4d08-83ca-78d3459d51ab"
      },
      "outputs": [
        {
          "data": {
            "text/plain": [
              "tensor([[367.870, 386.231],\n",
              "        [518.332, 588.680],\n",
              "        [329.665, 330.782],\n",
              "        [527.617, 598.218],\n",
              "        [231.302, 234.155]])"
            ]
          },
          "execution_count": null,
          "metadata": {},
          "output_type": "execute_result"
        }
      ],
      "source": [
        "torch.einsum('ij,jk->ik', weight, X)"
      ]
    },
    {
      "cell_type": "code",
      "execution_count": null,
      "metadata": {
        "id": "G6wpKxum2JPz",
        "outputId": "35795e73-9678-42ed-9e62-67f96576971d"
      },
      "outputs": [
        {
          "data": {
            "text/plain": [
              "tensor([[367.870, 386.231],\n",
              "        [518.332, 588.680],\n",
              "        [329.665, 330.782],\n",
              "        [527.617, 598.218],\n",
              "        [231.302, 234.155]])"
            ]
          },
          "execution_count": null,
          "metadata": {},
          "output_type": "execute_result"
        }
      ],
      "source": [
        "weight@X"
      ]
    },
    {
      "cell_type": "code",
      "execution_count": null,
      "metadata": {
        "id": "9KYWRm5y2JPz",
        "outputId": "1e5ce48b-951d-4b8d-cc09-24cb19a8881a"
      },
      "outputs": [
        {
          "data": {
            "text/plain": [
              "torch.Size([5, 1])"
            ]
          },
          "execution_count": null,
          "metadata": {},
          "output_type": "execute_result"
        }
      ],
      "source": [
        "div = weight.sum(1, keepdim=True)\n",
        "div.shape"
      ]
    },
    {
      "cell_type": "code",
      "execution_count": null,
      "metadata": {
        "id": "SB_N5PS12JPz",
        "outputId": "dfc2899f-3144-4159-d3d9-a8792c9915ba"
      },
      "outputs": [
        {
          "data": {
            "text/plain": [
              "tensor([[26.376, 27.692],\n",
              "        [26.101, 29.643],\n",
              "        [28.892, 28.990],\n",
              "        [26.071, 29.559],\n",
              "        [29.323, 29.685]])"
            ]
          },
          "execution_count": null,
          "metadata": {},
          "output_type": "execute_result"
        }
      ],
      "source": [
        "num/div"
      ]
    },
    {
      "cell_type": "code",
      "execution_count": null,
      "metadata": {
        "id": "eRUwSN1c2JPz"
      },
      "outputs": [],
      "source": [
        "def meanshift(data, bs=500):\n",
        "    n = len(data)\n",
        "    X = data.clone()\n",
        "    for it in range(5):\n",
        "        for i in range(0, n, bs):\n",
        "            s = slice(i, min(i+bs,n))\n",
        "            weight = gaussian(dist_b(X, X[s]), 2.5)\n",
        "#             weight = tri(dist_b(X, X[s]), 8)\n",
        "            div = weight.sum(1, keepdim=True)\n",
        "            X[s] = weight@X/div\n",
        "    return X"
      ]
    },
    {
      "cell_type": "markdown",
      "metadata": {
        "id": "A1Bxn9Dw2JPz"
      },
      "source": [
        "Although each iteration still has to launch a new cuda kernel, there are now fewer iterations, and the acceleration from updating a batch of points more than makes up for it."
      ]
    },
    {
      "cell_type": "code",
      "execution_count": null,
      "metadata": {
        "id": "snLSsMpA2JPz"
      },
      "outputs": [],
      "source": [
        "data = data.cuda()"
      ]
    },
    {
      "cell_type": "code",
      "execution_count": null,
      "metadata": {
        "id": "RkhywsMF2JPz"
      },
      "outputs": [],
      "source": [
        "X = meanshift(data).cpu()"
      ]
    },
    {
      "cell_type": "code",
      "execution_count": null,
      "metadata": {
        "id": "wGWfGzkP2JPz",
        "outputId": "748a3994-abde-4f1d-aad0-0c0ff491f554"
      },
      "outputs": [
        {
          "name": "stdout",
          "output_type": "stream",
          "text": [
            "2 ms ± 226 µs per loop (mean ± std. dev. of 7 runs, 5 loops each)\n"
          ]
        }
      ],
      "source": [
        "%timeit -n 5 _=meanshift(data, 1250).cpu()"
      ]
    },
    {
      "cell_type": "code",
      "execution_count": null,
      "metadata": {
        "id": "6nlCvwVv2JPz",
        "outputId": "2c287613-8506-4379-91f5-c1f67f4f19bf"
      },
      "outputs": [
        {
          "data": {
            "image/png": "[encoded data removed]",
            "text/plain": [
              "<Figure size 432x288 with 1 Axes>"
            ]
          },
          "metadata": {
            "needs_background": "light"
          },
          "output_type": "display_data"
        }
      ],
      "source": [
        "plot_data(centroids+2, X, n_samples)"
      ]
    },
    {
      "cell_type": "markdown",
      "metadata": {
        "id": "xKePrvi32JPz"
      },
      "source": [
        "**Homework:** implement k-means clustering, dbscan, locality sensitive hashing, or some other clustering, fast nearest neighbors, or similar algorithm of your choice, on the GPU. Check if your version is faster than a pure python or CPU version.\n",
        "\n",
        "Bonus: Implement it in APL too!\n",
        "\n",
        "Super bonus: Invent a new meanshift algorithm which picks only the closest points, to avoid quadratic time.\n",
        "\n",
        "Super super bonus: Publish a paper that describes it :D"
      ]
    },
    {
      "cell_type": "code",
      "execution_count": null,
      "metadata": {
        "id": "8Bw06EFJ2JPz"
      },
      "outputs": [],
      "source": []
    }
  ],
  "metadata": {
    "kernelspec": {
      "display_name": "Python 3 (ipykernel)",
      "language": "python",
      "name": "python3"
    },
    "colab": {
      "provenance": []
    }
  },
  "nbformat": 4,
  "nbformat_minor": 0
}