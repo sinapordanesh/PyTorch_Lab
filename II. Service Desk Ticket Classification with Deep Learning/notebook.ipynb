{
 "cells": [
  {
   "cell_type": "markdown",
   "metadata": {},
   "source": [
    "![servicedesk](image.png)\n",
    "\n",
    "CleverSupport is a company at the forefront of AI innovation, specializing in the development of AI-driven solutions to enhance customer support services. Their latest endeavor is to engineer a text classification system that can automatically categorize customer complaints. \n",
    "\n",
    "Our role as a data scientist involves the creation of a sophisticated machine learning model that can accurately assign complaints to specific categories, such as mortgage, credit card, money transfers, debt collection, etc."
   ]
  },
  {
   "cell_type": "code",
   "execution_count": 1,
   "metadata": {},
   "outputs": [
    {
     "name": "stdout",
     "output_type": "stream",
     "text": [
      "Requirement already satisfied: torchmetrics in /Users/sina/Documents/GitHub_Local/PyTorch_Lab/.venv/lib/python3.8/site-packages (from -r requirements.txt (line 1)) (1.4.0.post0)\n",
      "Requirement already satisfied: nltk in /Users/sina/Documents/GitHub_Local/PyTorch_Lab/.venv/lib/python3.8/site-packages (from -r requirements.txt (line 2)) (3.8.1)\n",
      "Requirement already satisfied: pandas in /Users/sina/Documents/GitHub_Local/PyTorch_Lab/.venv/lib/python3.8/site-packages (from -r requirements.txt (line 3)) (2.0.3)\n",
      "Requirement already satisfied: scikit-learn in /Users/sina/Documents/GitHub_Local/PyTorch_Lab/.venv/lib/python3.8/site-packages (from -r requirements.txt (line 4)) (1.3.2)\n",
      "Requirement already satisfied: torch in /Users/sina/Documents/GitHub_Local/PyTorch_Lab/.venv/lib/python3.8/site-packages (from -r requirements.txt (line 5)) (2.2.2)\n",
      "Requirement already satisfied: numpy>1.20.0 in /Users/sina/Documents/GitHub_Local/PyTorch_Lab/.venv/lib/python3.8/site-packages (from torchmetrics->-r requirements.txt (line 1)) (1.24.4)\n",
      "Requirement already satisfied: packaging>17.1 in /Users/sina/Documents/GitHub_Local/PyTorch_Lab/.venv/lib/python3.8/site-packages (from torchmetrics->-r requirements.txt (line 1)) (24.1)\n",
      "Requirement already satisfied: lightning-utilities>=0.8.0 in /Users/sina/Documents/GitHub_Local/PyTorch_Lab/.venv/lib/python3.8/site-packages (from torchmetrics->-r requirements.txt (line 1)) (0.11.3.post0)\n",
      "Requirement already satisfied: typing-extensions in /Users/sina/Documents/GitHub_Local/PyTorch_Lab/.venv/lib/python3.8/site-packages (from torchmetrics->-r requirements.txt (line 1)) (4.12.2)\n",
      "Requirement already satisfied: click in /Users/sina/Documents/GitHub_Local/PyTorch_Lab/.venv/lib/python3.8/site-packages (from nltk->-r requirements.txt (line 2)) (8.1.7)\n",
      "Requirement already satisfied: joblib in /Users/sina/Documents/GitHub_Local/PyTorch_Lab/.venv/lib/python3.8/site-packages (from nltk->-r requirements.txt (line 2)) (1.4.2)\n",
      "Requirement already satisfied: regex>=2021.8.3 in /Users/sina/Documents/GitHub_Local/PyTorch_Lab/.venv/lib/python3.8/site-packages (from nltk->-r requirements.txt (line 2)) (2024.5.15)\n",
      "Requirement already satisfied: tqdm in /Users/sina/Documents/GitHub_Local/PyTorch_Lab/.venv/lib/python3.8/site-packages (from nltk->-r requirements.txt (line 2)) (4.66.4)\n",
      "Requirement already satisfied: python-dateutil>=2.8.2 in /Users/sina/Documents/GitHub_Local/PyTorch_Lab/.venv/lib/python3.8/site-packages (from pandas->-r requirements.txt (line 3)) (2.9.0.post0)\n",
      "Requirement already satisfied: pytz>=2020.1 in /Users/sina/Documents/GitHub_Local/PyTorch_Lab/.venv/lib/python3.8/site-packages (from pandas->-r requirements.txt (line 3)) (2024.1)\n",
      "Requirement already satisfied: tzdata>=2022.1 in /Users/sina/Documents/GitHub_Local/PyTorch_Lab/.venv/lib/python3.8/site-packages (from pandas->-r requirements.txt (line 3)) (2024.1)\n",
      "Requirement already satisfied: scipy>=1.5.0 in /Users/sina/Documents/GitHub_Local/PyTorch_Lab/.venv/lib/python3.8/site-packages (from scikit-learn->-r requirements.txt (line 4)) (1.10.1)\n",
      "Requirement already satisfied: threadpoolctl>=2.0.0 in /Users/sina/Documents/GitHub_Local/PyTorch_Lab/.venv/lib/python3.8/site-packages (from scikit-learn->-r requirements.txt (line 4)) (3.5.0)\n",
      "Requirement already satisfied: filelock in /Users/sina/Documents/GitHub_Local/PyTorch_Lab/.venv/lib/python3.8/site-packages (from torch->-r requirements.txt (line 5)) (3.15.4)\n",
      "Requirement already satisfied: sympy in /Users/sina/Documents/GitHub_Local/PyTorch_Lab/.venv/lib/python3.8/site-packages (from torch->-r requirements.txt (line 5)) (1.13.0)\n",
      "Requirement already satisfied: networkx in /Users/sina/Documents/GitHub_Local/PyTorch_Lab/.venv/lib/python3.8/site-packages (from torch->-r requirements.txt (line 5)) (3.1)\n",
      "Requirement already satisfied: jinja2 in /Users/sina/Documents/GitHub_Local/PyTorch_Lab/.venv/lib/python3.8/site-packages (from torch->-r requirements.txt (line 5)) (3.1.4)\n",
      "Requirement already satisfied: fsspec in /Users/sina/Documents/GitHub_Local/PyTorch_Lab/.venv/lib/python3.8/site-packages (from torch->-r requirements.txt (line 5)) (2024.6.1)\n",
      "Requirement already satisfied: setuptools in /Users/sina/Documents/GitHub_Local/PyTorch_Lab/.venv/lib/python3.8/site-packages (from lightning-utilities>=0.8.0->torchmetrics->-r requirements.txt (line 1)) (41.2.0)\n",
      "Requirement already satisfied: six>=1.5 in /Users/sina/Documents/GitHub_Local/PyTorch_Lab/.venv/lib/python3.8/site-packages (from python-dateutil>=2.8.2->pandas->-r requirements.txt (line 3)) (1.16.0)\n",
      "Requirement already satisfied: MarkupSafe>=2.0 in /Users/sina/Documents/GitHub_Local/PyTorch_Lab/.venv/lib/python3.8/site-packages (from jinja2->torch->-r requirements.txt (line 5)) (2.1.5)\n",
      "Requirement already satisfied: mpmath<1.4,>=1.1.0 in /Users/sina/Documents/GitHub_Local/PyTorch_Lab/.venv/lib/python3.8/site-packages (from sympy->torch->-r requirements.txt (line 5)) (1.3.0)\n"
     ]
    }
   ],
   "source": [
    "!pip install -r requirements.txt"
   ]
  },
  {
   "cell_type": "code",
   "execution_count": 2,
   "metadata": {},
   "outputs": [],
   "source": [
    "from collections import Counter\n",
    "import nltk, json\n",
    "import numpy as np\n",
    "import pandas as pd\n",
    "from sklearn.model_selection import train_test_split\n",
    "import torch\n",
    "import torch.nn as nn\n",
    "import torch.nn.functional as F\n",
    "from torch.utils.data import TensorDataset, DataLoader\n",
    "from torchmetrics import Accuracy, Precision, Recall"
   ]
  },
  {
   "cell_type": "code",
   "execution_count": 3,
   "metadata": {},
   "outputs": [
    {
     "name": "stderr",
     "output_type": "stream",
     "text": [
      "[nltk_data] Error loading punkt: <urlopen error [SSL:\n",
      "[nltk_data]     CERTIFICATE_VERIFY_FAILED] certificate verify failed:\n",
      "[nltk_data]     unable to get local issuer certificate (_ssl.c:1108)>\n"
     ]
    },
    {
     "data": {
      "text/plain": [
       "False"
      ]
     },
     "execution_count": 3,
     "metadata": {},
     "output_type": "execute_result"
    }
   ],
   "source": [
    "nltk.download('punkt')"
   ]
  },
  {
   "cell_type": "code",
   "execution_count": 4,
   "metadata": {},
   "outputs": [],
   "source": [
    "# Import data and labels\n",
    "with open(\"data/words.json\", 'r') as f1:\n",
    "    words = json.load(f1)\n",
    "with open(\"data/text.json\", 'r') as f2:\n",
    "    text = json.load(f2)\n",
    "labels = np.load('data/labels.npy')"
   ]
  },
  {
   "cell_type": "code",
   "execution_count": 5,
   "metadata": {},
   "outputs": [],
   "source": [
    "# Dictionaries to store the word to index mappings and vice versa\n",
    "word2idx = {o:i for i,o in enumerate(words)}\n",
    "idx2word = {i:o for i,o in enumerate(words)}\n",
    "\n",
    "# Looking up the mapping dictionary and assigning the index to the respective words\n",
    "for i, sentence in enumerate(text):\n",
    "    text[i] = [word2idx[word] if word in word2idx else 0 for word in sentence]\n",
    "    \n",
    "# Defining a function that either shortens sentences or pads sentences with 0 to a fixed length\n",
    "def pad_input(sentences, seq_len):\n",
    "    features = np.zeros((len(sentences), seq_len),dtype=int)\n",
    "    for ii, review in enumerate(sentences):\n",
    "        if len(review) != 0:\n",
    "            features[ii, -len(review):] = np.array(review)[:seq_len]\n",
    "    return features\n",
    "\n",
    "text = pad_input(text, 50)"
   ]
  },
  {
   "cell_type": "code",
   "execution_count": 6,
   "metadata": {},
   "outputs": [],
   "source": [
    "# Splitting dataset\n",
    "train_text, test_text, train_label, test_label = train_test_split(text, labels, test_size=0.2, random_state=42)\n",
    "\n",
    "train_data = TensorDataset(torch.from_numpy(train_text), torch.from_numpy(train_label).long())\n",
    "test_data = TensorDataset(torch.from_numpy(test_text), torch.from_numpy(test_label).long())"
   ]
  },
  {
   "cell_type": "code",
   "execution_count": 7,
   "metadata": {},
   "outputs": [],
   "source": [
    "import torch\n",
    "import torch.nn as nn\n",
    "from torch.utils.data import TensorDataset, DataLoader\n",
    "from torchmetrics import Accuracy, Precision, Recall"
   ]
  },
  {
   "cell_type": "code",
   "execution_count": 8,
   "metadata": {},
   "outputs": [],
   "source": [
    "batch_size = 400\n",
    "train_loader = DataLoader(train_data, shuffle=True, batch_size=batch_size)\n",
    "test_loader = DataLoader(test_data, shuffle=False, batch_size=batch_size)"
   ]
  },
  {
   "cell_type": "code",
   "execution_count": 9,
   "metadata": {},
   "outputs": [],
   "source": [
    "# Define the classifier class\n",
    "class TicketClassifier(nn.Module):\n",
    "    def __init__(self, vocab_size, embed_dim, target_size):\n",
    "        super(TicketClassifier, self).__init__()\n",
    "        self.embedding = nn.Embedding(vocab_size, embed_dim)\n",
    "        self.conv = nn.Conv1d(embed_dim, embed_dim, kernel_size=3, stride=1, padding=1)\n",
    "        self.fc = nn.Linear(embed_dim, target_size)\n",
    "\n",
    "    def forward(self, text):\n",
    "        embedded = self.embedding(text).permute(0, 2, 1)\n",
    "        conved = F.relu(self.conv(embedded))\n",
    "        conved = conved.mean(dim=2) \n",
    "        return self.fc(conved)\n"
   ]
  },
  {
   "cell_type": "code",
   "execution_count": 10,
   "metadata": {},
   "outputs": [],
   "source": [
    "vocab_size = len(word2idx) + 1\n",
    "target_size = len(np.unique(labels))\n",
    "embedding_dim = 64"
   ]
  },
  {
   "cell_type": "code",
   "execution_count": 11,
   "metadata": {},
   "outputs": [],
   "source": [
    "# Create an instance of the TicketClassifier class\n",
    "model = TicketClassifier(vocab_size, embedding_dim, target_size)"
   ]
  },
  {
   "cell_type": "code",
   "execution_count": 12,
   "metadata": {},
   "outputs": [],
   "source": [
    "lr = 0.05\n",
    "criterion = nn.CrossEntropyLoss()\n",
    "optimizer = torch.optim.Adam(model.parameters(), lr=lr)\n",
    "\n",
    "epochs = 3"
   ]
  },
  {
   "cell_type": "code",
   "execution_count": 13,
   "metadata": {},
   "outputs": [
    {
     "name": "stdout",
     "output_type": "stream",
     "text": [
      "Epoch: 1, Loss: 0.003709070473909378\n",
      "Epoch: 2, Loss: 0.001472625359892845\n",
      "Epoch: 3, Loss: 0.0006527840159833431\n"
     ]
    }
   ],
   "source": [
    "# Train the model\n",
    "model.train()\n",
    "for i in range(epochs):\n",
    "    running_loss, num_processed = 0,0\n",
    "    for inputs, labels in train_loader:\n",
    "        model.zero_grad()\n",
    "        output = model(inputs)\n",
    "        loss = criterion(output, labels)\n",
    "        loss.backward()\n",
    "        optimizer.step()\n",
    "        running_loss += loss.item()\n",
    "        num_processed += len(inputs)\n",
    "    print(f\"Epoch: {i+1}, Loss: {running_loss/num_processed}\")"
   ]
  },
  {
   "cell_type": "code",
   "execution_count": 14,
   "metadata": {},
   "outputs": [],
   "source": [
    "accuracy_metric = Accuracy(task='multiclass', num_classes=5)\n",
    "precision_metric = Precision(task='multiclass', num_classes=5, average=None)\n",
    "recall_metric = Recall(task='multiclass', num_classes=5, average=None)"
   ]
  },
  {
   "cell_type": "code",
   "execution_count": 15,
   "metadata": {},
   "outputs": [],
   "source": [
    "# Evaluate model on test set\n",
    "model.eval()\n",
    "predicted = []\n",
    "\n",
    "for i, (inputs, labels) in enumerate(test_loader):\n",
    "    output = model(inputs)\n",
    "    cat = torch.argmax(output, dim=-1)\n",
    "    predicted.extend(cat.tolist())\n",
    "    accuracy_metric(cat, labels)\n",
    "    precision_metric(cat, labels)\n",
    "    recall_metric(cat, labels)"
   ]
  },
  {
   "cell_type": "code",
   "execution_count": 16,
   "metadata": {},
   "outputs": [
    {
     "name": "stdout",
     "output_type": "stream",
     "text": [
      "Accuracy: 0.7829999923706055\n",
      "Precision (per class): [0.7573964595794678, 0.7121211886405945, 0.940119743347168, 0.7373272180557251, 0.7911646366119385]\n",
      "Recall (per class): [0.6666666865348816, 0.74210524559021, 0.7268518805503845, 0.8333333134651184, 0.938095211982727]\n"
     ]
    }
   ],
   "source": [
    "accuracy = accuracy_metric.compute().item()\n",
    "precision = precision_metric.compute().tolist()\n",
    "recall = recall_metric.compute().tolist()\n",
    "print('Accuracy:', accuracy)\n",
    "print('Precision (per class):', precision)\n",
    "print('Recall (per class):', recall)"
   ]
  },
  {
   "cell_type": "code",
   "execution_count": null,
   "metadata": {},
   "outputs": [],
   "source": []
  }
 ],
 "metadata": {
  "kernelspec": {
   "display_name": ".venv",
   "language": "python",
   "name": "python3"
  },
  "language_info": {
   "codemirror_mode": {
    "name": "ipython",
    "version": 3
   },
   "file_extension": ".py",
   "mimetype": "text/x-python",
   "name": "python",
   "nbconvert_exporter": "python",
   "pygments_lexer": "ipython3",
   "version": "3.8.0"
  }
 },
 "nbformat": 4,
 "nbformat_minor": 2
}
