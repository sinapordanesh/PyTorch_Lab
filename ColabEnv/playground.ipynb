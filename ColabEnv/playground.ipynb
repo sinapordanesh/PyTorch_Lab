{
  "cells": [
    {
      "cell_type": "markdown",
      "metadata": {
        "id": "fyTLKYpKV30C"
      },
      "source": [
        "## PyTorch Book Tutorial PlayGround"
      ]
    },
    {
      "cell_type": "code",
      "execution_count": 2,
      "metadata": {
        "colab": {
          "base_uri": "https://localhost:8080/"
        },
        "id": "FN2mYeInWGJk",
        "outputId": "1a33bae6-b23d-43ef-9642-407857c52d38"
      },
      "outputs": [
        {
          "name": "stdout",
          "output_type": "stream",
          "text": [
            "Requirement already satisfied: torch in /usr/local/lib/python3.10/dist-packages (2.4.0+cu121)\n",
            "Requirement already satisfied: filelock in /usr/local/lib/python3.10/dist-packages (from torch) (3.15.4)\n",
            "Requirement already satisfied: typing-extensions>=4.8.0 in /usr/local/lib/python3.10/dist-packages (from torch) (4.12.2)\n",
            "Requirement already satisfied: sympy in /usr/local/lib/python3.10/dist-packages (from torch) (1.13.2)\n",
            "Requirement already satisfied: networkx in /usr/local/lib/python3.10/dist-packages (from torch) (3.3)\n",
            "Requirement already satisfied: jinja2 in /usr/local/lib/python3.10/dist-packages (from torch) (3.1.4)\n",
            "Requirement already satisfied: fsspec in /usr/local/lib/python3.10/dist-packages (from torch) (2024.6.1)\n",
            "Requirement already satisfied: MarkupSafe>=2.0 in /usr/local/lib/python3.10/dist-packages (from jinja2->torch) (2.1.5)\n",
            "Requirement already satisfied: mpmath<1.4,>=1.1.0 in /usr/local/lib/python3.10/dist-packages (from sympy->torch) (1.3.0)\n"
          ]
        }
      ],
      "source": [
        "!pip install torch\n"
      ]
    },
    {
      "cell_type": "code",
      "execution_count": 1,
      "metadata": {
        "id": "gWyL8CLxV30D"
      },
      "outputs": [],
      "source": [
        "import torch"
      ]
    },
    {
      "cell_type": "code",
      "execution_count": 2,
      "metadata": {
        "colab": {
          "base_uri": "https://localhost:8080/"
        },
        "id": "sgInyhN4WB4f",
        "outputId": "4b900845-5816-4f8f-816a-5fc48a3eaac4"
      },
      "outputs": [
        {
          "data": {
            "text/plain": [
              "tensor([1, 2, 3])"
            ]
          },
          "execution_count": 2,
          "metadata": {},
          "output_type": "execute_result"
        }
      ],
      "source": [
        "torch.tensor([1,2,3])"
      ]
    },
    {
      "cell_type": "code",
      "execution_count": 3,
      "metadata": {
        "colab": {
          "base_uri": "https://localhost:8080/"
        },
        "id": "LAG7C8RnWOux",
        "outputId": "cbe33f97-416a-4b6d-89c9-a3b5d280b985"
      },
      "outputs": [
        {
          "data": {
            "text/plain": [
              "0.9972826838493347"
            ]
          },
          "execution_count": 3,
          "metadata": {},
          "output_type": "execute_result"
        }
      ],
      "source": [
        "torch.rand(1).item()"
      ]
    },
    {
      "cell_type": "code",
      "execution_count": 4,
      "metadata": {
        "colab": {
          "base_uri": "https://localhost:8080/"
        },
        "id": "l_vK2prpXdUz",
        "outputId": "61a9f77d-ec9f-4e86-e7ff-31c60bf4534a"
      },
      "outputs": [
        {
          "data": {
            "text/plain": [
              "device(type='cpu')"
            ]
          },
          "execution_count": 4,
          "metadata": {},
          "output_type": "execute_result"
        }
      ],
      "source": [
        "cpu = torch.rand(1)\n",
        "cpu.device"
      ]
    },
    {
      "cell_type": "code",
      "execution_count": 5,
      "metadata": {
        "colab": {
          "base_uri": "https://localhost:8080/"
        },
        "id": "guUlN0upXqiz",
        "outputId": "6103f3cb-d543-4404-8044-0b003ebb49ce"
      },
      "outputs": [
        {
          "data": {
            "text/plain": [
              "device(type='cuda', index=0)"
            ]
          },
          "execution_count": 5,
          "metadata": {},
          "output_type": "execute_result"
        }
      ],
      "source": [
        "gpu = cpu.to('cuda')\n",
        "gpu.device"
      ]
    },
    {
      "cell_type": "code",
      "execution_count": 6,
      "metadata": {
        "colab": {
          "base_uri": "https://localhost:8080/"
        },
        "id": "L7j1zh0qX4DA",
        "outputId": "43c7b285-6938-47b0-8c07-f21b505780df"
      },
      "outputs": [
        {
          "data": {
            "text/plain": [
              "tensor(0.9047)"
            ]
          },
          "execution_count": 6,
          "metadata": {},
          "output_type": "execute_result"
        }
      ],
      "source": [
        "torch.rand(2, 2).max()"
      ]
    },
    {
      "cell_type": "code",
      "execution_count": 8,
      "metadata": {
        "id": "JqYQWrRmYbdE"
      },
      "outputs": [],
      "source": [
        "tensor = torch.rand(2, 2).max().item()"
      ]
    },
    {
      "cell_type": "code",
      "execution_count": 10,
      "metadata": {
        "id": "fTx-46fNYexX"
      },
      "outputs": [],
      "source": [
        "long_tensor = torch.tensor([[0,0,1],[1,1,1],[0,0,0]])"
      ]
    },
    {
      "cell_type": "code",
      "execution_count": 11,
      "metadata": {
        "colab": {
          "base_uri": "https://localhost:8080/",
          "height": 35
        },
        "id": "ybPZJqdOYq2a",
        "outputId": "3d367dcd-e276-40f6-d668-9605d7e60602"
      },
      "outputs": [
        {
          "data": {
            "application/vnd.google.colaboratory.intrinsic+json": {
              "type": "string"
            },
            "text/plain": [
              "'torch.LongTensor'"
            ]
          },
          "execution_count": 11,
          "metadata": {},
          "output_type": "execute_result"
        }
      ],
      "source": [
        "long_tensor.type()"
      ]
    },
    {
      "cell_type": "code",
      "execution_count": 12,
      "metadata": {
        "id": "pfA_vAx8Y7E-"
      },
      "outputs": [],
      "source": [
        "float_tensor = long_tensor.to(dtype=torch.float32)"
      ]
    },
    {
      "cell_type": "code",
      "execution_count": 13,
      "metadata": {
        "colab": {
          "base_uri": "https://localhost:8080/",
          "height": 35
        },
        "id": "GiZkz0_OZED_",
        "outputId": "86483057-4f2c-4262-b7d3-0eb774973fd1"
      },
      "outputs": [
        {
          "data": {
            "application/vnd.google.colaboratory.intrinsic+json": {
              "type": "string"
            },
            "text/plain": [
              "'torch.FloatTensor'"
            ]
          },
          "execution_count": 13,
          "metadata": {},
          "output_type": "execute_result"
        }
      ],
      "source": [
        "float_tensor.type()"
      ]
    },
    {
      "cell_type": "code",
      "execution_count": 15,
      "metadata": {
        "colab": {
          "base_uri": "https://localhost:8080/"
        },
        "id": "pEUeQYBIZFu3",
        "outputId": "f1d77912-582e-440e-b65b-a7412f729fe6"
      },
      "outputs": [
        {
          "data": {
            "text/plain": [
              "tensor([[-3.1055, -6.3813],\n",
              "        [-2.4650, -1.4983]])"
            ]
          },
          "execution_count": 15,
          "metadata": {},
          "output_type": "execute_result"
        }
      ],
      "source": [
        "random_tensor = torch.rand(2,2)\n",
        "random_tensor.log2()"
      ]
    },
    {
      "cell_type": "code",
      "execution_count": 16,
      "metadata": {
        "colab": {
          "base_uri": "https://localhost:8080/"
        },
        "id": "bo4pyVzDZTzD",
        "outputId": "f3a1d6b2-7d19-493e-bf67-3ec4c7ad04ce"
      },
      "outputs": [
        {
          "data": {
            "text/plain": [
              "tensor([[-3.1055, -6.3813],\n",
              "        [-2.4650, -1.4983]])"
            ]
          },
          "execution_count": 16,
          "metadata": {},
          "output_type": "execute_result"
        }
      ],
      "source": [
        "random_tensor.log2_()"
      ]
    },
    {
      "cell_type": "code",
      "execution_count": 17,
      "metadata": {
        "colab": {
          "base_uri": "https://localhost:8080/"
        },
        "id": "Y1fYfqAQZZlI",
        "outputId": "5a2c93e3-7ea7-4a62-9d5d-065d7ad9fde4"
      },
      "outputs": [
        {
          "data": {
            "text/plain": [
              "torch.Size([1, 28, 28])"
            ]
          },
          "execution_count": 17,
          "metadata": {},
          "output_type": "execute_result"
        }
      ],
      "source": [
        "flat_tensor = torch.rand(784)\n",
        "viewed_tensor = flat_tensor.view(1, 28, 28)\n",
        "viewed_tensor.shape\n"
      ]
    },
    {
      "cell_type": "code",
      "execution_count": 18,
      "metadata": {
        "colab": {
          "base_uri": "https://localhost:8080/"
        },
        "id": "zOBobRSnZ2bN",
        "outputId": "c545cf62-e243-456b-d5ae-76419f642444"
      },
      "outputs": [
        {
          "data": {
            "text/plain": [
              "torch.Size([1, 28, 28])"
            ]
          },
          "execution_count": 18,
          "metadata": {},
          "output_type": "execute_result"
        }
      ],
      "source": [
        "reshaped_tensor = flat_tensor.reshape(1, 28, 28)\n",
        "reshaped_tensor.shape"
      ]
    },
    {
      "cell_type": "code",
      "execution_count": 19,
      "metadata": {
        "colab": {
          "base_uri": "https://localhost:8080/"
        },
        "id": "XcDCDPbqbYbP",
        "outputId": "a97d5697-8aa4-427d-d8f6-4f0e6b3c1083"
      },
      "outputs": [
        {
          "data": {
            "text/plain": [
              "torch.Size([3, 640, 480])"
            ]
          },
          "execution_count": 19,
          "metadata": {},
          "output_type": "execute_result"
        }
      ],
      "source": [
        "hwc_tensor = torch.rand(640, 480, 3)\n",
        "chw_tensor = hwc_tensor.permute(2, 0, 1)\n",
        "chw_tensor.shape"
      ]
    },
    {
      "cell_type": "code",
      "execution_count": 1,
      "metadata": {
        "id": "7ByI0l_bZ82d"
      },
      "outputs": [
        {
          "ename": "SyntaxError",
          "evalue": "expression cannot contain assignment, perhaps you meant \"==\"? (832907271.py, line 2)",
          "output_type": "error",
          "traceback": [
            "\u001b[0;36m  Cell \u001b[0;32mIn[1], line 2\u001b[0;36m\u001b[0m\n\u001b[0;31m    train_data_loader = data.DataLoader(train_data, batch+size=batch_size)\u001b[0m\n\u001b[0m                                                    ^\u001b[0m\n\u001b[0;31mSyntaxError\u001b[0m\u001b[0;31m:\u001b[0m expression cannot contain assignment, perhaps you meant \"==\"?\n"
          ]
        }
      ],
      "source": [
        "batch_size = 64\n",
        "train_data_loader = data.DataLoader(train_data, batch+size=batch_size)\n",
        "val_data_l0ader = data.DataLoader(val_data, batch_size=batch_size)\n",
        "test_data_loader = data.DataLoader(test_data, batch_size-batch_size)"
      ]
    },
    {
      "cell_type": "code",
      "execution_count": 2,
      "metadata": {},
      "outputs": [
        {
          "ename": "NameError",
          "evalue": "name 'nn' is not defined",
          "output_type": "error",
          "traceback": [
            "\u001b[0;31m---------------------------------------------------------------------------\u001b[0m",
            "\u001b[0;31mNameError\u001b[0m                                 Traceback (most recent call last)",
            "Cell \u001b[0;32mIn[2], line 1\u001b[0m\n\u001b[0;32m----> 1\u001b[0m \u001b[38;5;28;01mclass\u001b[39;00m \u001b[38;5;21;01mSimpoleNet\u001b[39;00m(\u001b[43mnn\u001b[49m\u001b[38;5;241m.\u001b[39mModule):\n\u001b[1;32m      2\u001b[0m     \u001b[38;5;28;01mdef\u001b[39;00m \u001b[38;5;21m__init__\u001b[39m(\u001b[38;5;28mself\u001b[39m):\n\u001b[1;32m      3\u001b[0m         \u001b[38;5;28msuper\u001b[39m(Net, \u001b[38;5;28mself\u001b[39m)\u001b[38;5;241m.\u001b[39m_init__()\n",
            "\u001b[0;31mNameError\u001b[0m: name 'nn' is not defined"
          ]
        }
      ],
      "source": [
        "class SimpoleNet(nn.Module):\n",
        "    def __init__(self):\n",
        "        super(Net, self)._init__()\n",
        "        self.fc1 = nn.Linear(12288, 84)\n",
        "        self.fc2 = nn.Liniear(84, 50)\n",
        "        self.fc3 = nn.Linear(50, 2)\n",
        "        \n",
        "    def forward(self):\n",
        "        x = x.view(-1, 12288)\n",
        "        x = F.relu(self.fc1(x))\n",
        "        x = F.relu(self.fc2(x))\n",
        "        x = F.softmax(self.fc3(x))\n",
        "        return x\n",
        "    \n",
        "simplenet = SimpoleNet()"
      ]
    },
    {
      "cell_type": "code",
      "execution_count": 3,
      "metadata": {},
      "outputs": [
        {
          "ename": "NameError",
          "evalue": "name 'optiim' is not defined",
          "output_type": "error",
          "traceback": [
            "\u001b[0;31m---------------------------------------------------------------------------\u001b[0m",
            "\u001b[0;31mNameError\u001b[0m                                 Traceback (most recent call last)",
            "Cell \u001b[0;32mIn[3], line 2\u001b[0m\n\u001b[1;32m      1\u001b[0m \u001b[38;5;28;01mimport\u001b[39;00m \u001b[38;5;21;01mtorch\u001b[39;00m\u001b[38;5;21;01m.\u001b[39;00m\u001b[38;5;21;01moptim\u001b[39;00m \u001b[38;5;28;01mas\u001b[39;00m \u001b[38;5;21;01moptim\u001b[39;00m\n\u001b[0;32m----> 2\u001b[0m optimizer \u001b[38;5;241m=\u001b[39m \u001b[43moptiim\u001b[49m\u001b[38;5;241m.\u001b[39madam(simpolenet\u001b[38;5;241m.\u001b[39mparameters(), lr\u001b[38;5;241m=\u001b[39m\u001b[38;5;241m0.001\u001b[39m)\n",
            "\u001b[0;31mNameError\u001b[0m: name 'optiim' is not defined"
          ]
        }
      ],
      "source": [
        "import torch.optim as optim\n",
        "optimizer = optiim.adam(simpolenet.parameters(), lr=0.001)\n"
      ]
    },
    {
      "cell_type": "code",
      "execution_count": null,
      "metadata": {},
      "outputs": [],
      "source": [
        "for epoch in range(epochs):\n",
        "    for batch in train_loader: \n",
        "        optimizer.zero_grad()\n",
        "        input, target = batch \n",
        "        output = model(input)\n",
        "        loss = loss_fn(output, target)\n",
        "        loss.backward()\n",
        "        optimizer.step()"
      ]
    },
    {
      "cell_type": "code",
      "execution_count": 4,
      "metadata": {},
      "outputs": [
        {
          "ename": "SyntaxError",
          "evalue": "invalid syntax (3960868197.py, line 3)",
          "output_type": "error",
          "traceback": [
            "\u001b[0;36m  Cell \u001b[0;32mIn[4], line 3\u001b[0;36m\u001b[0m\n\u001b[0;31m    else\u001b[0m\n\u001b[0m        ^\u001b[0m\n\u001b[0;31mSyntaxError\u001b[0m\u001b[0;31m:\u001b[0m invalid syntax\n"
          ]
        }
      ],
      "source": [
        "if torch.cuda.is_available():\n",
        "    device = torch.device(\"cuda\")\n",
        "else\n",
        "    device = torch.device(\"cpu\")\n",
        "model.to(device)"
      ]
    },
    {
      "cell_type": "code",
      "execution_count": null,
      "metadata": {},
      "outputs": [],
      "source": [
        "def train(model, optimizer, loss_fn, train_loader, val_loader, epochs=20, device=\"cpu\"):\n",
        "    for epoch in range(repochs):\n",
        "        training_loss = 0.0\n",
        "        valid_loss = 0.0\n",
        "        model.train()\n",
        "        for batch in train_loader: \n",
        "            optimizer.zero_grad()\n",
        "            inputs, target = batch\n",
        "            inputs = inputs.to(device)\n",
        "            target = targets.to(device)\n",
        "            output = model(input)\n",
        "            loss = loss_fn(output, target)\n",
        "            loss.backward()\n",
        "            optimizer.step()\n",
        "            training_loss += loss.data.item()\n",
        "            \n",
        "        training_loss /= len(train_iterator)\n",
        "        \n",
        "        model.eval()\n",
        "        num_correct = 0\n",
        "        num_examples = 0\n",
        "        \n",
        "        for batch in val_loader: \n",
        "            inputs, targets = batch\n",
        "            inputs = inputs.to(device)\n",
        "            output = model(inputs)\n",
        "            targets = targets.to(device)\n",
        "            loss = loss_fn(output, targets)\n",
        "            valid_loss += loss.data.item()\n",
        "            correct = torch.eq(torch.max(F.softmax(output), dim=1)[1], target).view(-1)\n",
        "            num_correct += torch.sum(correct).item\n",
        "            num_examples += correct. shape[0]\n",
        "        \n",
        "        valid_loss += len(valid_iterator)\n",
        "        \n",
        "        print('Epoch: {}, Training Loss: {:.2f}, validation loss: {:.2f}, vaccuracy = {:.2f}'.format(epoch, training_loss, valid_loss, num_crrect/num_examples)"
      ]
    },
    {
      "cell_type": "markdown",
      "metadata": {},
      "source": [
        "# Chapter 3"
      ]
    },
    {
      "cell_type": "code",
      "execution_count": null,
      "metadata": {},
      "outputs": [],
      "source": [
        "class CNNNet(nn.MOdule):\n",
        "    def __init__(self, num_classes=2):\n",
        "        super(CNNNet ,self).__init__()\n",
        "        self.features = nn.sequential(\n",
        "            nn.Conv2d(3, 64, kernel_size=11, stride=4, padding=2),\n",
        "            nn.ReLU(), \n",
        "            nn.MaxPool2d(kernel_size=3, strde=2),\n",
        "            nn.Conv2d(64, 192, kernel_size=5, padding=2)\n",
        "            nn.ReLU(),\n",
        "            \n",
        "        )"
      ]
    },
    {
      "cell_type": "code",
      "execution_count": null,
      "metadata": {},
      "outputs": [],
      "source": [
        "nn.Conv2d(in_channel, out_channel, kernel_size, stride, padding)"
      ]
    },
    {
      "cell_type": "code",
      "execution_count": 1,
      "metadata": {},
      "outputs": [
        {
          "ename": "SyntaxError",
          "evalue": "invalid syntax (2373592766.py, line 1)",
          "output_type": "error",
          "traceback": [
            "\u001b[0;36m  Cell \u001b[0;32mIn[1], line 1\u001b[0;36m\u001b[0m\n\u001b[0;31m    import mathdef find_lr(modle, los-fm, optimixzer, init-value=1e-7 , final value =10:\u001b[0m\n\u001b[0m                   ^\u001b[0m\n\u001b[0;31mSyntaxError\u001b[0m\u001b[0;31m:\u001b[0m invalid syntax\n"
          ]
        }
      ],
      "source": [
        "import mathdef find_lr(modle, los-fm, optimixzer, init-value=1e-7 , final value =10: \n",
        "    number in eopoch - elch train laladdr -1 \n",
        "    )\n",
        "\n",
        "    numr in epotxhc  =len trina ldae passda\n",
        "    udata-stemp finsla valuye /init value ** 1/numberin epoch \n",
        "    optimizer.param-roupds[p0loseahgwhfiowaiofnwikangio;nSIO V IW4H R]\n",
        "    BEST LOSS = 0L0 \n",
        "    BATCH MUKBE P0[JFI0LOSS BETST = -0.0]"
      ]
    },
    {
      "cell_type": "code",
      "execution_count": null,
      "metadata": {},
      "outputs": [],
      "source": []
    },
    {
      "cell_type": "code",
      "execution_count": null,
      "metadata": {},
      "outputs": [],
      "source": [
        "LEOOSSES = [FalseÏ\n",
        "            ]\n",
        "LOG-LRS = [P]\n",
        "\n",
        "FOR DATA IN TRAIN_LOAEER: \n",
        "    BATCH =+    \n",
        "    inputs, lavel - val_data_l0aderinputs labales = inputs ,v clages andoptimizer.zero_gra(\n",
        "        \n",
        "    )\n",
        "    output = model0inputs\n",
        "    loss = loss-fn*outputs, labels{ \n",
        "                                   }\n",
        "    \n",
        "    if batch_num > 1 and loss > 3 * b sst loss{ \n",
        "                                               retur }"
      ]
    },
    {
      "cell_type": "code",
      "execution_count": null,
      "metadata": {},
      "outputs": [],
      "source": [
        "torchvision.transforms.RandomRotations(degrees, resample=Flase, expand=Flase, center=None)"
      ]
    },
    {
      "cell_type": "code",
      "execution_count": null,
      "metadata": {},
      "outputs": [],
      "source": [
        "torchvision.tranforms.Pad(padding, fill=0, padding_mode=constant)"
      ]
    },
    {
      "cell_type": "code",
      "execution_count": 1,
      "metadata": {},
      "outputs": [
        {
          "ename": "SyntaxError",
          "evalue": "invalid syntax (415198458.py, line 1)",
          "output_type": "error",
          "traceback": [
            "\u001b[0;36m  Cell \u001b[0;32mIn[1], line 1\u001b[0;36m\u001b[0m\n\u001b[0;31m    torchvision.transorms.RandomAffine(degrees, translate=None, sclar=None shear=None, resample=Flase, fillcolor=0)\u001b[0m\n\u001b[0m                                                                           ^\u001b[0m\n\u001b[0;31mSyntaxError\u001b[0m\u001b[0;31m:\u001b[0m invalid syntax\n"
          ]
        }
      ],
      "source": [
        "torchvision.transorms.RandomAffine(degrees, translate=None, sclar=None shear=None, resample=Flase, fillcolor=0)"
      ]
    },
    {
      "cell_type": "code",
      "execution_count": null,
      "metadata": {},
      "outputs": [],
      "source": [
        "predictions = [m[i].fit(input) for i in models]\n",
        "avg_prediction = torch.stack(b).mean(0).argmax()"
      ]
    },
    {
      "cell_type": "code",
      "execution_count": null,
      "metadata": {},
      "outputs": [],
      "source": []
    }
  ],
  "metadata": {
    "accelerator": "GPU",
    "colab": {
      "gpuType": "T4",
      "provenance": []
    },
    "kernelspec": {
      "display_name": "Python 3",
      "name": "python3"
    },
    "language_info": {
      "codemirror_mode": {
        "name": "ipython",
        "version": 3
      },
      "file_extension": ".py",
      "mimetype": "text/x-python",
      "name": "python",
      "nbconvert_exporter": "python",
      "pygments_lexer": "ipython3",
      "version": "3.8.0"
    }
  },
  "nbformat": 4,
  "nbformat_minor": 0
}
