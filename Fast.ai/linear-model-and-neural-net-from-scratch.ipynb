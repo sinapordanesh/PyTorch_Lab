{
  "metadata": {
    "kernelspec": {
      "language": "python",
      "display_name": "Python 3",
      "name": "python3"
    },
    "language_info": {
      "pygments_lexer": "ipython3",
      "nbconvert_exporter": "python",
      "version": "3.6.4",
      "file_extension": ".py",
      "codemirror_mode": {
        "name": "ipython",
        "version": 3
      },
      "name": "python",
      "mimetype": "text/x-python"
    },
    "kaggle": {
      "accelerator": "none",
      "dataSources": [
        {
          "sourceId": 3136,
          "databundleVersionId": 26502,
          "sourceType": "competition"
        }
      ],
      "dockerImageVersionId": 30184,
      "isInternetEnabled": true,
      "language": "python",
      "sourceType": "notebook",
      "isGpuEnabled": false
    },
    "colab": {
      "provenance": []
    }
  },
  "nbformat_minor": 0,
  "nbformat": 4,
  "cells": [
    {
      "cell_type": "markdown",
      "source": [
        "## Introduction"
      ],
      "metadata": {
        "id": "AUijpzGuPRIP"
      }
    },
    {
      "cell_type": "markdown",
      "source": [
        "In this notebook we're going to build and train a deep learning model \"from scratch\" -- by which I mean that we're not going to use any pre-built architecture, or optimizers, or data loading frameworks, etc.\n",
        "\n",
        "We'll be assuming you already know the basics of how a neural network works. If you don't, read this notebook first: [How does a neural net really work?\n",
        "](https://www.kaggle.com/code/jhoward/how-does-a-neural-net-really-work). We'll be using Kaggle's [Titanic](https://www.kaggle.com/competitions/titanic/) competition in this notebook, because it's very small and simple, but also has displays many of the tricky real-life issues that we need to handle in most practical projects. (Note, however, that this competition is a small \"learner\" competition on Kaggle, so don't expect to actually see much benefits from using a neural net just yet; that will come once we try our some real competitions!)\n",
        "\n",
        "It's great to be able to run the same notebook on your own machine or Colab, as well as Kaggle. To allow for this, we use this code to download the data as needed when not on Kaggle (see [this notebook](https://www.kaggle.com/code/jhoward/getting-started-with-nlp-for-absolute-beginners/) for details about this technique):"
      ],
      "metadata": {
        "id": "YR6a2TrtPRIQ"
      }
    },
    {
      "cell_type": "code",
      "source": [
        "import os\n",
        "import json\n",
        "from google.colab import files\n",
        "\n",
        "# Upload the kaggle.json file\n",
        "uploaded = files.upload()\n",
        "\n",
        "# Read the JSON file\n",
        "with open(list(uploaded.keys())[0]) as f:\n",
        "    kaggle_json = json.load(f)\n",
        "\n",
        "# Set environment variables\n",
        "os.environ['KAGGLE_USERNAME'] = kaggle_json['username']\n",
        "os.environ['KAGGLE_KEY'] = kaggle_json['key']\n",
        "\n",
        "print(\"Kaggle credentials set up successfully!\")"
      ],
      "metadata": {
        "id": "ZKZqQu2QQ5YZ",
        "outputId": "55977af2-9d6e-4002-9f1a-a298ff1b1f61",
        "colab": {
          "base_uri": "https://localhost:8080/",
          "height": 90
        }
      },
      "execution_count": 16,
      "outputs": [
        {
          "output_type": "display_data",
          "data": {
            "text/plain": [
              "<IPython.core.display.HTML object>"
            ],
            "text/html": [
              "\n",
              "     <input type=\"file\" id=\"files-bfbba21a-425d-4e2d-8824-26e3efe13945\" name=\"files[]\" multiple disabled\n",
              "        style=\"border:none\" />\n",
              "     <output id=\"result-bfbba21a-425d-4e2d-8824-26e3efe13945\">\n",
              "      Upload widget is only available when the cell has been executed in the\n",
              "      current browser session. Please rerun this cell to enable.\n",
              "      </output>\n",
              "      <script>// Copyright 2017 Google LLC\n",
              "//\n",
              "// Licensed under the Apache License, Version 2.0 (the \"License\");\n",
              "// you may not use this file except in compliance with the License.\n",
              "// You may obtain a copy of the License at\n",
              "//\n",
              "//      http://www.apache.org/licenses/LICENSE-2.0\n",
              "//\n",
              "// Unless required by applicable law or agreed to in writing, software\n",
              "// distributed under the License is distributed on an \"AS IS\" BASIS,\n",
              "// WITHOUT WARRANTIES OR CONDITIONS OF ANY KIND, either express or implied.\n",
              "// See the License for the specific language governing permissions and\n",
              "// limitations under the License.\n",
              "\n",
              "/**\n",
              " * @fileoverview Helpers for google.colab Python module.\n",
              " */\n",
              "(function(scope) {\n",
              "function span(text, styleAttributes = {}) {\n",
              "  const element = document.createElement('span');\n",
              "  element.textContent = text;\n",
              "  for (const key of Object.keys(styleAttributes)) {\n",
              "    element.style[key] = styleAttributes[key];\n",
              "  }\n",
              "  return element;\n",
              "}\n",
              "\n",
              "// Max number of bytes which will be uploaded at a time.\n",
              "const MAX_PAYLOAD_SIZE = 100 * 1024;\n",
              "\n",
              "function _uploadFiles(inputId, outputId) {\n",
              "  const steps = uploadFilesStep(inputId, outputId);\n",
              "  const outputElement = document.getElementById(outputId);\n",
              "  // Cache steps on the outputElement to make it available for the next call\n",
              "  // to uploadFilesContinue from Python.\n",
              "  outputElement.steps = steps;\n",
              "\n",
              "  return _uploadFilesContinue(outputId);\n",
              "}\n",
              "\n",
              "// This is roughly an async generator (not supported in the browser yet),\n",
              "// where there are multiple asynchronous steps and the Python side is going\n",
              "// to poll for completion of each step.\n",
              "// This uses a Promise to block the python side on completion of each step,\n",
              "// then passes the result of the previous step as the input to the next step.\n",
              "function _uploadFilesContinue(outputId) {\n",
              "  const outputElement = document.getElementById(outputId);\n",
              "  const steps = outputElement.steps;\n",
              "\n",
              "  const next = steps.next(outputElement.lastPromiseValue);\n",
              "  return Promise.resolve(next.value.promise).then((value) => {\n",
              "    // Cache the last promise value to make it available to the next\n",
              "    // step of the generator.\n",
              "    outputElement.lastPromiseValue = value;\n",
              "    return next.value.response;\n",
              "  });\n",
              "}\n",
              "\n",
              "/**\n",
              " * Generator function which is called between each async step of the upload\n",
              " * process.\n",
              " * @param {string} inputId Element ID of the input file picker element.\n",
              " * @param {string} outputId Element ID of the output display.\n",
              " * @return {!Iterable<!Object>} Iterable of next steps.\n",
              " */\n",
              "function* uploadFilesStep(inputId, outputId) {\n",
              "  const inputElement = document.getElementById(inputId);\n",
              "  inputElement.disabled = false;\n",
              "\n",
              "  const outputElement = document.getElementById(outputId);\n",
              "  outputElement.innerHTML = '';\n",
              "\n",
              "  const pickedPromise = new Promise((resolve) => {\n",
              "    inputElement.addEventListener('change', (e) => {\n",
              "      resolve(e.target.files);\n",
              "    });\n",
              "  });\n",
              "\n",
              "  const cancel = document.createElement('button');\n",
              "  inputElement.parentElement.appendChild(cancel);\n",
              "  cancel.textContent = 'Cancel upload';\n",
              "  const cancelPromise = new Promise((resolve) => {\n",
              "    cancel.onclick = () => {\n",
              "      resolve(null);\n",
              "    };\n",
              "  });\n",
              "\n",
              "  // Wait for the user to pick the files.\n",
              "  const files = yield {\n",
              "    promise: Promise.race([pickedPromise, cancelPromise]),\n",
              "    response: {\n",
              "      action: 'starting',\n",
              "    }\n",
              "  };\n",
              "\n",
              "  cancel.remove();\n",
              "\n",
              "  // Disable the input element since further picks are not allowed.\n",
              "  inputElement.disabled = true;\n",
              "\n",
              "  if (!files) {\n",
              "    return {\n",
              "      response: {\n",
              "        action: 'complete',\n",
              "      }\n",
              "    };\n",
              "  }\n",
              "\n",
              "  for (const file of files) {\n",
              "    const li = document.createElement('li');\n",
              "    li.append(span(file.name, {fontWeight: 'bold'}));\n",
              "    li.append(span(\n",
              "        `(${file.type || 'n/a'}) - ${file.size} bytes, ` +\n",
              "        `last modified: ${\n",
              "            file.lastModifiedDate ? file.lastModifiedDate.toLocaleDateString() :\n",
              "                                    'n/a'} - `));\n",
              "    const percent = span('0% done');\n",
              "    li.appendChild(percent);\n",
              "\n",
              "    outputElement.appendChild(li);\n",
              "\n",
              "    const fileDataPromise = new Promise((resolve) => {\n",
              "      const reader = new FileReader();\n",
              "      reader.onload = (e) => {\n",
              "        resolve(e.target.result);\n",
              "      };\n",
              "      reader.readAsArrayBuffer(file);\n",
              "    });\n",
              "    // Wait for the data to be ready.\n",
              "    let fileData = yield {\n",
              "      promise: fileDataPromise,\n",
              "      response: {\n",
              "        action: 'continue',\n",
              "      }\n",
              "    };\n",
              "\n",
              "    // Use a chunked sending to avoid message size limits. See b/62115660.\n",
              "    let position = 0;\n",
              "    do {\n",
              "      const length = Math.min(fileData.byteLength - position, MAX_PAYLOAD_SIZE);\n",
              "      const chunk = new Uint8Array(fileData, position, length);\n",
              "      position += length;\n",
              "\n",
              "      const base64 = btoa(String.fromCharCode.apply(null, chunk));\n",
              "      yield {\n",
              "        response: {\n",
              "          action: 'append',\n",
              "          file: file.name,\n",
              "          data: base64,\n",
              "        },\n",
              "      };\n",
              "\n",
              "      let percentDone = fileData.byteLength === 0 ?\n",
              "          100 :\n",
              "          Math.round((position / fileData.byteLength) * 100);\n",
              "      percent.textContent = `${percentDone}% done`;\n",
              "\n",
              "    } while (position < fileData.byteLength);\n",
              "  }\n",
              "\n",
              "  // All done.\n",
              "  yield {\n",
              "    response: {\n",
              "      action: 'complete',\n",
              "    }\n",
              "  };\n",
              "}\n",
              "\n",
              "scope.google = scope.google || {};\n",
              "scope.google.colab = scope.google.colab || {};\n",
              "scope.google.colab._files = {\n",
              "  _uploadFiles,\n",
              "  _uploadFilesContinue,\n",
              "};\n",
              "})(self);\n",
              "</script> "
            ]
          },
          "metadata": {}
        },
        {
          "output_type": "stream",
          "name": "stdout",
          "text": [
            "Saving kaggle.json to kaggle.json\n",
            "Kaggle credentials set up successfully!\n"
          ]
        }
      ]
    },
    {
      "cell_type": "code",
      "source": [
        "import os\n",
        "from pathlib import Path\n",
        "import kaggle\n",
        "import zipfile\n",
        "\n",
        "path = Path('titanic')\n",
        "if not path.exists():\n",
        "    kaggle.api.competition_download_cli('titanic')\n",
        "    with zipfile.ZipFile('titanic.zip', 'r') as zip_ref:\n",
        "        zip_ref.extractall(path)\n",
        "    os.remove('titanic.zip')  # Optional: remove the zip file after extraction\n",
        "\n",
        "print(\"Titanic dataset downloaded and extracted successfully.\")"
      ],
      "metadata": {
        "execution": {
          "iopub.status.busy": "2022-05-30T22:34:17.763494Z",
          "iopub.execute_input": "2022-05-30T22:34:17.763822Z",
          "iopub.status.idle": "2022-05-30T22:34:17.771348Z",
          "shell.execute_reply.started": "2022-05-30T22:34:17.763787Z",
          "shell.execute_reply": "2022-05-30T22:34:17.770444Z"
        },
        "trusted": true,
        "id": "6LJnjmA1PRIQ",
        "outputId": "27a9390e-daf7-46a3-f4a1-d8a51f7841fe",
        "colab": {
          "base_uri": "https://localhost:8080/"
        }
      },
      "execution_count": 17,
      "outputs": [
        {
          "output_type": "stream",
          "name": "stdout",
          "text": [
            "Downloading titanic.zip to /content\n"
          ]
        },
        {
          "output_type": "stream",
          "name": "stderr",
          "text": [
            "100%|██████████| 34.1k/34.1k [00:00<00:00, 41.8MB/s]"
          ]
        },
        {
          "output_type": "stream",
          "name": "stdout",
          "text": [
            "\n",
            "Titanic dataset downloaded and extracted successfully.\n"
          ]
        },
        {
          "output_type": "stream",
          "name": "stderr",
          "text": [
            "\n"
          ]
        }
      ]
    },
    {
      "cell_type": "code",
      "source": [
        "import torch, numpy as np, pandas as pd\n",
        "np.set_printoptions(linewidth=140)\n",
        "torch.set_printoptions(linewidth=140, sci_mode=False, edgeitems=7)\n",
        "pd.set_option('display.width', 140)"
      ],
      "metadata": {
        "execution": {
          "iopub.status.busy": "2022-05-30T22:34:17.810967Z",
          "iopub.execute_input": "2022-05-30T22:34:17.811857Z",
          "iopub.status.idle": "2022-05-30T22:34:17.817725Z",
          "shell.execute_reply.started": "2022-05-30T22:34:17.811797Z",
          "shell.execute_reply": "2022-05-30T22:34:17.816849Z"
        },
        "trusted": true,
        "id": "XLsUxYZIPRIR"
      },
      "execution_count": 18,
      "outputs": []
    },
    {
      "cell_type": "markdown",
      "source": [
        "## Cleaning the data"
      ],
      "metadata": {
        "heading_collapsed": true,
        "id": "v7NHzoeBPRIR"
      }
    },
    {
      "cell_type": "markdown",
      "source": [
        "This is a *tabular data* competition -- the data is in the form of a table. It's provided as a Comma Separated Values (CSV) file. We can open it using the *pandas* library, which will create a `DataFrame`."
      ],
      "metadata": {
        "hidden": true,
        "id": "UuJ20aUkPRIR"
      }
    },
    {
      "cell_type": "code",
      "source": [
        "df = pd.read_csv(path/'train.csv')\n",
        "df"
      ],
      "metadata": {
        "hidden": true,
        "scrolled": true,
        "execution": {
          "iopub.status.busy": "2022-05-30T22:34:17.898249Z",
          "iopub.execute_input": "2022-05-30T22:34:17.899238Z",
          "iopub.status.idle": "2022-05-30T22:34:17.932714Z",
          "shell.execute_reply.started": "2022-05-30T22:34:17.899131Z",
          "shell.execute_reply": "2022-05-30T22:34:17.931738Z"
        },
        "trusted": true,
        "id": "nwWYBIMVPRIR",
        "outputId": "dc9150d0-ae22-4493-8088-a6aa0a349423",
        "colab": {
          "base_uri": "https://localhost:8080/",
          "height": 947
        }
      },
      "execution_count": 19,
      "outputs": [
        {
          "output_type": "execute_result",
          "data": {
            "text/plain": [
              "     PassengerId  Survived  Pclass                                               Name     Sex   Age  SibSp  Parch            Ticket  \\\n",
              "0              1         0       3                            Braund, Mr. Owen Harris    male  22.0      1      0         A/5 21171   \n",
              "1              2         1       1  Cumings, Mrs. John Bradley (Florence Briggs Th...  female  38.0      1      0          PC 17599   \n",
              "2              3         1       3                             Heikkinen, Miss. Laina  female  26.0      0      0  STON/O2. 3101282   \n",
              "3              4         1       1       Futrelle, Mrs. Jacques Heath (Lily May Peel)  female  35.0      1      0            113803   \n",
              "4              5         0       3                           Allen, Mr. William Henry    male  35.0      0      0            373450   \n",
              "..           ...       ...     ...                                                ...     ...   ...    ...    ...               ...   \n",
              "886          887         0       2                              Montvila, Rev. Juozas    male  27.0      0      0            211536   \n",
              "887          888         1       1                       Graham, Miss. Margaret Edith  female  19.0      0      0            112053   \n",
              "888          889         0       3           Johnston, Miss. Catherine Helen \"Carrie\"  female   NaN      1      2        W./C. 6607   \n",
              "889          890         1       1                              Behr, Mr. Karl Howell    male  26.0      0      0            111369   \n",
              "890          891         0       3                                Dooley, Mr. Patrick    male  32.0      0      0            370376   \n",
              "\n",
              "        Fare Cabin Embarked  \n",
              "0     7.2500   NaN        S  \n",
              "1    71.2833   C85        C  \n",
              "2     7.9250   NaN        S  \n",
              "3    53.1000  C123        S  \n",
              "4     8.0500   NaN        S  \n",
              "..       ...   ...      ...  \n",
              "886  13.0000   NaN        S  \n",
              "887  30.0000   B42        S  \n",
              "888  23.4500   NaN        S  \n",
              "889  30.0000  C148        C  \n",
              "890   7.7500   NaN        Q  \n",
              "\n",
              "[891 rows x 12 columns]"
            ],
            "text/html": [
              "\n",
              "  <div id=\"df-e695fa41-b546-4873-8d1e-b876495ab74c\" class=\"colab-df-container\">\n",
              "    <div>\n",
              "<style scoped>\n",
              "    .dataframe tbody tr th:only-of-type {\n",
              "        vertical-align: middle;\n",
              "    }\n",
              "\n",
              "    .dataframe tbody tr th {\n",
              "        vertical-align: top;\n",
              "    }\n",
              "\n",
              "    .dataframe thead th {\n",
              "        text-align: right;\n",
              "    }\n",
              "</style>\n",
              "<table border=\"1\" class=\"dataframe\">\n",
              "  <thead>\n",
              "    <tr style=\"text-align: right;\">\n",
              "      <th></th>\n",
              "      <th>PassengerId</th>\n",
              "      <th>Survived</th>\n",
              "      <th>Pclass</th>\n",
              "      <th>Name</th>\n",
              "      <th>Sex</th>\n",
              "      <th>Age</th>\n",
              "      <th>SibSp</th>\n",
              "      <th>Parch</th>\n",
              "      <th>Ticket</th>\n",
              "      <th>Fare</th>\n",
              "      <th>Cabin</th>\n",
              "      <th>Embarked</th>\n",
              "    </tr>\n",
              "  </thead>\n",
              "  <tbody>\n",
              "    <tr>\n",
              "      <th>0</th>\n",
              "      <td>1</td>\n",
              "      <td>0</td>\n",
              "      <td>3</td>\n",
              "      <td>Braund, Mr. Owen Harris</td>\n",
              "      <td>male</td>\n",
              "      <td>22.0</td>\n",
              "      <td>1</td>\n",
              "      <td>0</td>\n",
              "      <td>A/5 21171</td>\n",
              "      <td>7.2500</td>\n",
              "      <td>NaN</td>\n",
              "      <td>S</td>\n",
              "    </tr>\n",
              "    <tr>\n",
              "      <th>1</th>\n",
              "      <td>2</td>\n",
              "      <td>1</td>\n",
              "      <td>1</td>\n",
              "      <td>Cumings, Mrs. John Bradley (Florence Briggs Th...</td>\n",
              "      <td>female</td>\n",
              "      <td>38.0</td>\n",
              "      <td>1</td>\n",
              "      <td>0</td>\n",
              "      <td>PC 17599</td>\n",
              "      <td>71.2833</td>\n",
              "      <td>C85</td>\n",
              "      <td>C</td>\n",
              "    </tr>\n",
              "    <tr>\n",
              "      <th>2</th>\n",
              "      <td>3</td>\n",
              "      <td>1</td>\n",
              "      <td>3</td>\n",
              "      <td>Heikkinen, Miss. Laina</td>\n",
              "      <td>female</td>\n",
              "      <td>26.0</td>\n",
              "      <td>0</td>\n",
              "      <td>0</td>\n",
              "      <td>STON/O2. 3101282</td>\n",
              "      <td>7.9250</td>\n",
              "      <td>NaN</td>\n",
              "      <td>S</td>\n",
              "    </tr>\n",
              "    <tr>\n",
              "      <th>3</th>\n",
              "      <td>4</td>\n",
              "      <td>1</td>\n",
              "      <td>1</td>\n",
              "      <td>Futrelle, Mrs. Jacques Heath (Lily May Peel)</td>\n",
              "      <td>female</td>\n",
              "      <td>35.0</td>\n",
              "      <td>1</td>\n",
              "      <td>0</td>\n",
              "      <td>113803</td>\n",
              "      <td>53.1000</td>\n",
              "      <td>C123</td>\n",
              "      <td>S</td>\n",
              "    </tr>\n",
              "    <tr>\n",
              "      <th>4</th>\n",
              "      <td>5</td>\n",
              "      <td>0</td>\n",
              "      <td>3</td>\n",
              "      <td>Allen, Mr. William Henry</td>\n",
              "      <td>male</td>\n",
              "      <td>35.0</td>\n",
              "      <td>0</td>\n",
              "      <td>0</td>\n",
              "      <td>373450</td>\n",
              "      <td>8.0500</td>\n",
              "      <td>NaN</td>\n",
              "      <td>S</td>\n",
              "    </tr>\n",
              "    <tr>\n",
              "      <th>...</th>\n",
              "      <td>...</td>\n",
              "      <td>...</td>\n",
              "      <td>...</td>\n",
              "      <td>...</td>\n",
              "      <td>...</td>\n",
              "      <td>...</td>\n",
              "      <td>...</td>\n",
              "      <td>...</td>\n",
              "      <td>...</td>\n",
              "      <td>...</td>\n",
              "      <td>...</td>\n",
              "      <td>...</td>\n",
              "    </tr>\n",
              "    <tr>\n",
              "      <th>886</th>\n",
              "      <td>887</td>\n",
              "      <td>0</td>\n",
              "      <td>2</td>\n",
              "      <td>Montvila, Rev. Juozas</td>\n",
              "      <td>male</td>\n",
              "      <td>27.0</td>\n",
              "      <td>0</td>\n",
              "      <td>0</td>\n",
              "      <td>211536</td>\n",
              "      <td>13.0000</td>\n",
              "      <td>NaN</td>\n",
              "      <td>S</td>\n",
              "    </tr>\n",
              "    <tr>\n",
              "      <th>887</th>\n",
              "      <td>888</td>\n",
              "      <td>1</td>\n",
              "      <td>1</td>\n",
              "      <td>Graham, Miss. Margaret Edith</td>\n",
              "      <td>female</td>\n",
              "      <td>19.0</td>\n",
              "      <td>0</td>\n",
              "      <td>0</td>\n",
              "      <td>112053</td>\n",
              "      <td>30.0000</td>\n",
              "      <td>B42</td>\n",
              "      <td>S</td>\n",
              "    </tr>\n",
              "    <tr>\n",
              "      <th>888</th>\n",
              "      <td>889</td>\n",
              "      <td>0</td>\n",
              "      <td>3</td>\n",
              "      <td>Johnston, Miss. Catherine Helen \"Carrie\"</td>\n",
              "      <td>female</td>\n",
              "      <td>NaN</td>\n",
              "      <td>1</td>\n",
              "      <td>2</td>\n",
              "      <td>W./C. 6607</td>\n",
              "      <td>23.4500</td>\n",
              "      <td>NaN</td>\n",
              "      <td>S</td>\n",
              "    </tr>\n",
              "    <tr>\n",
              "      <th>889</th>\n",
              "      <td>890</td>\n",
              "      <td>1</td>\n",
              "      <td>1</td>\n",
              "      <td>Behr, Mr. Karl Howell</td>\n",
              "      <td>male</td>\n",
              "      <td>26.0</td>\n",
              "      <td>0</td>\n",
              "      <td>0</td>\n",
              "      <td>111369</td>\n",
              "      <td>30.0000</td>\n",
              "      <td>C148</td>\n",
              "      <td>C</td>\n",
              "    </tr>\n",
              "    <tr>\n",
              "      <th>890</th>\n",
              "      <td>891</td>\n",
              "      <td>0</td>\n",
              "      <td>3</td>\n",
              "      <td>Dooley, Mr. Patrick</td>\n",
              "      <td>male</td>\n",
              "      <td>32.0</td>\n",
              "      <td>0</td>\n",
              "      <td>0</td>\n",
              "      <td>370376</td>\n",
              "      <td>7.7500</td>\n",
              "      <td>NaN</td>\n",
              "      <td>Q</td>\n",
              "    </tr>\n",
              "  </tbody>\n",
              "</table>\n",
              "<p>891 rows × 12 columns</p>\n",
              "</div>\n",
              "    <div class=\"colab-df-buttons\">\n",
              "\n",
              "  <div class=\"colab-df-container\">\n",
              "    <button class=\"colab-df-convert\" onclick=\"convertToInteractive('df-e695fa41-b546-4873-8d1e-b876495ab74c')\"\n",
              "            title=\"Convert this dataframe to an interactive table.\"\n",
              "            style=\"display:none;\">\n",
              "\n",
              "  <svg xmlns=\"http://www.w3.org/2000/svg\" height=\"24px\" viewBox=\"0 -960 960 960\">\n",
              "    <path d=\"M120-120v-720h720v720H120Zm60-500h600v-160H180v160Zm220 220h160v-160H400v160Zm0 220h160v-160H400v160ZM180-400h160v-160H180v160Zm440 0h160v-160H620v160ZM180-180h160v-160H180v160Zm440 0h160v-160H620v160Z\"/>\n",
              "  </svg>\n",
              "    </button>\n",
              "\n",
              "  <style>\n",
              "    .colab-df-container {\n",
              "      display:flex;\n",
              "      gap: 12px;\n",
              "    }\n",
              "\n",
              "    .colab-df-convert {\n",
              "      background-color: #E8F0FE;\n",
              "      border: none;\n",
              "      border-radius: 50%;\n",
              "      cursor: pointer;\n",
              "      display: none;\n",
              "      fill: #1967D2;\n",
              "      height: 32px;\n",
              "      padding: 0 0 0 0;\n",
              "      width: 32px;\n",
              "    }\n",
              "\n",
              "    .colab-df-convert:hover {\n",
              "      background-color: #E2EBFA;\n",
              "      box-shadow: 0px 1px 2px rgba(60, 64, 67, 0.3), 0px 1px 3px 1px rgba(60, 64, 67, 0.15);\n",
              "      fill: #174EA6;\n",
              "    }\n",
              "\n",
              "    .colab-df-buttons div {\n",
              "      margin-bottom: 4px;\n",
              "    }\n",
              "\n",
              "    [theme=dark] .colab-df-convert {\n",
              "      background-color: #3B4455;\n",
              "      fill: #D2E3FC;\n",
              "    }\n",
              "\n",
              "    [theme=dark] .colab-df-convert:hover {\n",
              "      background-color: #434B5C;\n",
              "      box-shadow: 0px 1px 3px 1px rgba(0, 0, 0, 0.15);\n",
              "      filter: drop-shadow(0px 1px 2px rgba(0, 0, 0, 0.3));\n",
              "      fill: #FFFFFF;\n",
              "    }\n",
              "  </style>\n",
              "\n",
              "    <script>\n",
              "      const buttonEl =\n",
              "        document.querySelector('#df-e695fa41-b546-4873-8d1e-b876495ab74c button.colab-df-convert');\n",
              "      buttonEl.style.display =\n",
              "        google.colab.kernel.accessAllowed ? 'block' : 'none';\n",
              "\n",
              "      async function convertToInteractive(key) {\n",
              "        const element = document.querySelector('#df-e695fa41-b546-4873-8d1e-b876495ab74c');\n",
              "        const dataTable =\n",
              "          await google.colab.kernel.invokeFunction('convertToInteractive',\n",
              "                                                    [key], {});\n",
              "        if (!dataTable) return;\n",
              "\n",
              "        const docLinkHtml = 'Like what you see? Visit the ' +\n",
              "          '<a target=\"_blank\" href=https://colab.research.google.com/notebooks/data_table.ipynb>data table notebook</a>'\n",
              "          + ' to learn more about interactive tables.';\n",
              "        element.innerHTML = '';\n",
              "        dataTable['output_type'] = 'display_data';\n",
              "        await google.colab.output.renderOutput(dataTable, element);\n",
              "        const docLink = document.createElement('div');\n",
              "        docLink.innerHTML = docLinkHtml;\n",
              "        element.appendChild(docLink);\n",
              "      }\n",
              "    </script>\n",
              "  </div>\n",
              "\n",
              "\n",
              "<div id=\"df-4dd4753f-470d-487c-9128-2beae3b077fc\">\n",
              "  <button class=\"colab-df-quickchart\" onclick=\"quickchart('df-4dd4753f-470d-487c-9128-2beae3b077fc')\"\n",
              "            title=\"Suggest charts\"\n",
              "            style=\"display:none;\">\n",
              "\n",
              "<svg xmlns=\"http://www.w3.org/2000/svg\" height=\"24px\"viewBox=\"0 0 24 24\"\n",
              "     width=\"24px\">\n",
              "    <g>\n",
              "        <path d=\"M19 3H5c-1.1 0-2 .9-2 2v14c0 1.1.9 2 2 2h14c1.1 0 2-.9 2-2V5c0-1.1-.9-2-2-2zM9 17H7v-7h2v7zm4 0h-2V7h2v10zm4 0h-2v-4h2v4z\"/>\n",
              "    </g>\n",
              "</svg>\n",
              "  </button>\n",
              "\n",
              "<style>\n",
              "  .colab-df-quickchart {\n",
              "      --bg-color: #E8F0FE;\n",
              "      --fill-color: #1967D2;\n",
              "      --hover-bg-color: #E2EBFA;\n",
              "      --hover-fill-color: #174EA6;\n",
              "      --disabled-fill-color: #AAA;\n",
              "      --disabled-bg-color: #DDD;\n",
              "  }\n",
              "\n",
              "  [theme=dark] .colab-df-quickchart {\n",
              "      --bg-color: #3B4455;\n",
              "      --fill-color: #D2E3FC;\n",
              "      --hover-bg-color: #434B5C;\n",
              "      --hover-fill-color: #FFFFFF;\n",
              "      --disabled-bg-color: #3B4455;\n",
              "      --disabled-fill-color: #666;\n",
              "  }\n",
              "\n",
              "  .colab-df-quickchart {\n",
              "    background-color: var(--bg-color);\n",
              "    border: none;\n",
              "    border-radius: 50%;\n",
              "    cursor: pointer;\n",
              "    display: none;\n",
              "    fill: var(--fill-color);\n",
              "    height: 32px;\n",
              "    padding: 0;\n",
              "    width: 32px;\n",
              "  }\n",
              "\n",
              "  .colab-df-quickchart:hover {\n",
              "    background-color: var(--hover-bg-color);\n",
              "    box-shadow: 0 1px 2px rgba(60, 64, 67, 0.3), 0 1px 3px 1px rgba(60, 64, 67, 0.15);\n",
              "    fill: var(--button-hover-fill-color);\n",
              "  }\n",
              "\n",
              "  .colab-df-quickchart-complete:disabled,\n",
              "  .colab-df-quickchart-complete:disabled:hover {\n",
              "    background-color: var(--disabled-bg-color);\n",
              "    fill: var(--disabled-fill-color);\n",
              "    box-shadow: none;\n",
              "  }\n",
              "\n",
              "  .colab-df-spinner {\n",
              "    border: 2px solid var(--fill-color);\n",
              "    border-color: transparent;\n",
              "    border-bottom-color: var(--fill-color);\n",
              "    animation:\n",
              "      spin 1s steps(1) infinite;\n",
              "  }\n",
              "\n",
              "  @keyframes spin {\n",
              "    0% {\n",
              "      border-color: transparent;\n",
              "      border-bottom-color: var(--fill-color);\n",
              "      border-left-color: var(--fill-color);\n",
              "    }\n",
              "    20% {\n",
              "      border-color: transparent;\n",
              "      border-left-color: var(--fill-color);\n",
              "      border-top-color: var(--fill-color);\n",
              "    }\n",
              "    30% {\n",
              "      border-color: transparent;\n",
              "      border-left-color: var(--fill-color);\n",
              "      border-top-color: var(--fill-color);\n",
              "      border-right-color: var(--fill-color);\n",
              "    }\n",
              "    40% {\n",
              "      border-color: transparent;\n",
              "      border-right-color: var(--fill-color);\n",
              "      border-top-color: var(--fill-color);\n",
              "    }\n",
              "    60% {\n",
              "      border-color: transparent;\n",
              "      border-right-color: var(--fill-color);\n",
              "    }\n",
              "    80% {\n",
              "      border-color: transparent;\n",
              "      border-right-color: var(--fill-color);\n",
              "      border-bottom-color: var(--fill-color);\n",
              "    }\n",
              "    90% {\n",
              "      border-color: transparent;\n",
              "      border-bottom-color: var(--fill-color);\n",
              "    }\n",
              "  }\n",
              "</style>\n",
              "\n",
              "  <script>\n",
              "    async function quickchart(key) {\n",
              "      const quickchartButtonEl =\n",
              "        document.querySelector('#' + key + ' button');\n",
              "      quickchartButtonEl.disabled = true;  // To prevent multiple clicks.\n",
              "      quickchartButtonEl.classList.add('colab-df-spinner');\n",
              "      try {\n",
              "        const charts = await google.colab.kernel.invokeFunction(\n",
              "            'suggestCharts', [key], {});\n",
              "      } catch (error) {\n",
              "        console.error('Error during call to suggestCharts:', error);\n",
              "      }\n",
              "      quickchartButtonEl.classList.remove('colab-df-spinner');\n",
              "      quickchartButtonEl.classList.add('colab-df-quickchart-complete');\n",
              "    }\n",
              "    (() => {\n",
              "      let quickchartButtonEl =\n",
              "        document.querySelector('#df-4dd4753f-470d-487c-9128-2beae3b077fc button');\n",
              "      quickchartButtonEl.style.display =\n",
              "        google.colab.kernel.accessAllowed ? 'block' : 'none';\n",
              "    })();\n",
              "  </script>\n",
              "</div>\n",
              "\n",
              "  <div id=\"id_28dc0bc5-0fdf-4f93-a288-eacf70b627cc\">\n",
              "    <style>\n",
              "      .colab-df-generate {\n",
              "        background-color: #E8F0FE;\n",
              "        border: none;\n",
              "        border-radius: 50%;\n",
              "        cursor: pointer;\n",
              "        display: none;\n",
              "        fill: #1967D2;\n",
              "        height: 32px;\n",
              "        padding: 0 0 0 0;\n",
              "        width: 32px;\n",
              "      }\n",
              "\n",
              "      .colab-df-generate:hover {\n",
              "        background-color: #E2EBFA;\n",
              "        box-shadow: 0px 1px 2px rgba(60, 64, 67, 0.3), 0px 1px 3px 1px rgba(60, 64, 67, 0.15);\n",
              "        fill: #174EA6;\n",
              "      }\n",
              "\n",
              "      [theme=dark] .colab-df-generate {\n",
              "        background-color: #3B4455;\n",
              "        fill: #D2E3FC;\n",
              "      }\n",
              "\n",
              "      [theme=dark] .colab-df-generate:hover {\n",
              "        background-color: #434B5C;\n",
              "        box-shadow: 0px 1px 3px 1px rgba(0, 0, 0, 0.15);\n",
              "        filter: drop-shadow(0px 1px 2px rgba(0, 0, 0, 0.3));\n",
              "        fill: #FFFFFF;\n",
              "      }\n",
              "    </style>\n",
              "    <button class=\"colab-df-generate\" onclick=\"generateWithVariable('df')\"\n",
              "            title=\"Generate code using this dataframe.\"\n",
              "            style=\"display:none;\">\n",
              "\n",
              "  <svg xmlns=\"http://www.w3.org/2000/svg\" height=\"24px\"viewBox=\"0 0 24 24\"\n",
              "       width=\"24px\">\n",
              "    <path d=\"M7,19H8.4L18.45,9,17,7.55,7,17.6ZM5,21V16.75L18.45,3.32a2,2,0,0,1,2.83,0l1.4,1.43a1.91,1.91,0,0,1,.58,1.4,1.91,1.91,0,0,1-.58,1.4L9.25,21ZM18.45,9,17,7.55Zm-12,3A5.31,5.31,0,0,0,4.9,8.1,5.31,5.31,0,0,0,1,6.5,5.31,5.31,0,0,0,4.9,4.9,5.31,5.31,0,0,0,6.5,1,5.31,5.31,0,0,0,8.1,4.9,5.31,5.31,0,0,0,12,6.5,5.46,5.46,0,0,0,6.5,12Z\"/>\n",
              "  </svg>\n",
              "    </button>\n",
              "    <script>\n",
              "      (() => {\n",
              "      const buttonEl =\n",
              "        document.querySelector('#id_28dc0bc5-0fdf-4f93-a288-eacf70b627cc button.colab-df-generate');\n",
              "      buttonEl.style.display =\n",
              "        google.colab.kernel.accessAllowed ? 'block' : 'none';\n",
              "\n",
              "      buttonEl.onclick = () => {\n",
              "        google.colab.notebook.generateWithVariable('df');\n",
              "      }\n",
              "      })();\n",
              "    </script>\n",
              "  </div>\n",
              "\n",
              "    </div>\n",
              "  </div>\n"
            ],
            "application/vnd.google.colaboratory.intrinsic+json": {
              "type": "dataframe",
              "variable_name": "df",
              "summary": "{\n  \"name\": \"df\",\n  \"rows\": 891,\n  \"fields\": [\n    {\n      \"column\": \"PassengerId\",\n      \"properties\": {\n        \"dtype\": \"number\",\n        \"std\": 257,\n        \"min\": 1,\n        \"max\": 891,\n        \"num_unique_values\": 891,\n        \"samples\": [\n          710,\n          440,\n          841\n        ],\n        \"semantic_type\": \"\",\n        \"description\": \"\"\n      }\n    },\n    {\n      \"column\": \"Survived\",\n      \"properties\": {\n        \"dtype\": \"number\",\n        \"std\": 0,\n        \"min\": 0,\n        \"max\": 1,\n        \"num_unique_values\": 2,\n        \"samples\": [\n          1,\n          0\n        ],\n        \"semantic_type\": \"\",\n        \"description\": \"\"\n      }\n    },\n    {\n      \"column\": \"Pclass\",\n      \"properties\": {\n        \"dtype\": \"number\",\n        \"std\": 0,\n        \"min\": 1,\n        \"max\": 3,\n        \"num_unique_values\": 3,\n        \"samples\": [\n          3,\n          1\n        ],\n        \"semantic_type\": \"\",\n        \"description\": \"\"\n      }\n    },\n    {\n      \"column\": \"Name\",\n      \"properties\": {\n        \"dtype\": \"string\",\n        \"num_unique_values\": 891,\n        \"samples\": [\n          \"Moubarek, Master. Halim Gonios (\\\"William George\\\")\",\n          \"Kvillner, Mr. Johan Henrik Johannesson\"\n        ],\n        \"semantic_type\": \"\",\n        \"description\": \"\"\n      }\n    },\n    {\n      \"column\": \"Sex\",\n      \"properties\": {\n        \"dtype\": \"category\",\n        \"num_unique_values\": 2,\n        \"samples\": [\n          \"female\",\n          \"male\"\n        ],\n        \"semantic_type\": \"\",\n        \"description\": \"\"\n      }\n    },\n    {\n      \"column\": \"Age\",\n      \"properties\": {\n        \"dtype\": \"number\",\n        \"std\": 14.526497332334042,\n        \"min\": 0.42,\n        \"max\": 80.0,\n        \"num_unique_values\": 88,\n        \"samples\": [\n          0.75,\n          22.0\n        ],\n        \"semantic_type\": \"\",\n        \"description\": \"\"\n      }\n    },\n    {\n      \"column\": \"SibSp\",\n      \"properties\": {\n        \"dtype\": \"number\",\n        \"std\": 1,\n        \"min\": 0,\n        \"max\": 8,\n        \"num_unique_values\": 7,\n        \"samples\": [\n          1,\n          0\n        ],\n        \"semantic_type\": \"\",\n        \"description\": \"\"\n      }\n    },\n    {\n      \"column\": \"Parch\",\n      \"properties\": {\n        \"dtype\": \"number\",\n        \"std\": 0,\n        \"min\": 0,\n        \"max\": 6,\n        \"num_unique_values\": 7,\n        \"samples\": [\n          0,\n          1\n        ],\n        \"semantic_type\": \"\",\n        \"description\": \"\"\n      }\n    },\n    {\n      \"column\": \"Ticket\",\n      \"properties\": {\n        \"dtype\": \"string\",\n        \"num_unique_values\": 681,\n        \"samples\": [\n          \"11774\",\n          \"248740\"\n        ],\n        \"semantic_type\": \"\",\n        \"description\": \"\"\n      }\n    },\n    {\n      \"column\": \"Fare\",\n      \"properties\": {\n        \"dtype\": \"number\",\n        \"std\": 49.6934285971809,\n        \"min\": 0.0,\n        \"max\": 512.3292,\n        \"num_unique_values\": 248,\n        \"samples\": [\n          11.2417,\n          51.8625\n        ],\n        \"semantic_type\": \"\",\n        \"description\": \"\"\n      }\n    },\n    {\n      \"column\": \"Cabin\",\n      \"properties\": {\n        \"dtype\": \"category\",\n        \"num_unique_values\": 147,\n        \"samples\": [\n          \"D45\",\n          \"B49\"\n        ],\n        \"semantic_type\": \"\",\n        \"description\": \"\"\n      }\n    },\n    {\n      \"column\": \"Embarked\",\n      \"properties\": {\n        \"dtype\": \"category\",\n        \"num_unique_values\": 3,\n        \"samples\": [\n          \"S\",\n          \"C\"\n        ],\n        \"semantic_type\": \"\",\n        \"description\": \"\"\n      }\n    }\n  ]\n}"
            }
          },
          "metadata": {},
          "execution_count": 19
        }
      ]
    },
    {
      "cell_type": "markdown",
      "source": [
        "As we learned in the *How does a neural net really work* notebook, we going to want to multiply each column by some coefficients. But we can see in the `Cabin` column that there are `NaN` values, which is how Pandas refers to missing values. We can't multiply something by a missing value!\n",
        "\n",
        "Let's check which columns contain `NaN` values. Pandas' `isna()` function returns `True` (which is treated as `1` when used as a number) for `NaN` values, so we can just add them up for each column:"
      ],
      "metadata": {
        "hidden": true,
        "id": "6W4w4HkvPRIR"
      }
    },
    {
      "cell_type": "code",
      "source": [
        "df.isna().sum()"
      ],
      "metadata": {
        "hidden": true,
        "execution": {
          "iopub.status.busy": "2022-05-30T22:34:17.95524Z",
          "iopub.execute_input": "2022-05-30T22:34:17.955557Z",
          "iopub.status.idle": "2022-05-30T22:34:17.966199Z",
          "shell.execute_reply.started": "2022-05-30T22:34:17.955525Z",
          "shell.execute_reply": "2022-05-30T22:34:17.96534Z"
        },
        "trusted": true,
        "id": "t7Hua0JJPRIR",
        "outputId": "74d36ebb-ac2a-463c-994c-72918c018661",
        "colab": {
          "base_uri": "https://localhost:8080/",
          "height": 460
        }
      },
      "execution_count": 20,
      "outputs": [
        {
          "output_type": "execute_result",
          "data": {
            "text/plain": [
              "PassengerId      0\n",
              "Survived         0\n",
              "Pclass           0\n",
              "Name             0\n",
              "Sex              0\n",
              "Age            177\n",
              "SibSp            0\n",
              "Parch            0\n",
              "Ticket           0\n",
              "Fare             0\n",
              "Cabin          687\n",
              "Embarked         2\n",
              "dtype: int64"
            ],
            "text/html": [
              "<div>\n",
              "<style scoped>\n",
              "    .dataframe tbody tr th:only-of-type {\n",
              "        vertical-align: middle;\n",
              "    }\n",
              "\n",
              "    .dataframe tbody tr th {\n",
              "        vertical-align: top;\n",
              "    }\n",
              "\n",
              "    .dataframe thead th {\n",
              "        text-align: right;\n",
              "    }\n",
              "</style>\n",
              "<table border=\"1\" class=\"dataframe\">\n",
              "  <thead>\n",
              "    <tr style=\"text-align: right;\">\n",
              "      <th></th>\n",
              "      <th>0</th>\n",
              "    </tr>\n",
              "  </thead>\n",
              "  <tbody>\n",
              "    <tr>\n",
              "      <th>PassengerId</th>\n",
              "      <td>0</td>\n",
              "    </tr>\n",
              "    <tr>\n",
              "      <th>Survived</th>\n",
              "      <td>0</td>\n",
              "    </tr>\n",
              "    <tr>\n",
              "      <th>Pclass</th>\n",
              "      <td>0</td>\n",
              "    </tr>\n",
              "    <tr>\n",
              "      <th>Name</th>\n",
              "      <td>0</td>\n",
              "    </tr>\n",
              "    <tr>\n",
              "      <th>Sex</th>\n",
              "      <td>0</td>\n",
              "    </tr>\n",
              "    <tr>\n",
              "      <th>Age</th>\n",
              "      <td>177</td>\n",
              "    </tr>\n",
              "    <tr>\n",
              "      <th>SibSp</th>\n",
              "      <td>0</td>\n",
              "    </tr>\n",
              "    <tr>\n",
              "      <th>Parch</th>\n",
              "      <td>0</td>\n",
              "    </tr>\n",
              "    <tr>\n",
              "      <th>Ticket</th>\n",
              "      <td>0</td>\n",
              "    </tr>\n",
              "    <tr>\n",
              "      <th>Fare</th>\n",
              "      <td>0</td>\n",
              "    </tr>\n",
              "    <tr>\n",
              "      <th>Cabin</th>\n",
              "      <td>687</td>\n",
              "    </tr>\n",
              "    <tr>\n",
              "      <th>Embarked</th>\n",
              "      <td>2</td>\n",
              "    </tr>\n",
              "  </tbody>\n",
              "</table>\n",
              "</div><br><label><b>dtype:</b> int64</label>"
            ]
          },
          "metadata": {},
          "execution_count": 20
        }
      ]
    },
    {
      "cell_type": "markdown",
      "source": [
        "Notice that by default Pandas sums over columns.\n",
        "\n",
        "We'll need to replace the missing values with something. It doesn't generally matter too much what we choose. We'll use the most common value (the \"*mode*\"). We can use the `mode` function for that. One wrinkle is that it returns more than one row in the case of ties, so we just grab the first row with `iloc[0]`:"
      ],
      "metadata": {
        "hidden": true,
        "id": "7dfHLNFsPRIR"
      }
    },
    {
      "cell_type": "code",
      "source": [
        "modes = df.mode().iloc[0]\n",
        "modes"
      ],
      "metadata": {
        "hidden": true,
        "execution": {
          "iopub.status.busy": "2022-05-30T22:34:18.011876Z",
          "iopub.execute_input": "2022-05-30T22:34:18.012387Z",
          "iopub.status.idle": "2022-05-30T22:34:18.030165Z",
          "shell.execute_reply.started": "2022-05-30T22:34:18.012338Z",
          "shell.execute_reply": "2022-05-30T22:34:18.029316Z"
        },
        "trusted": true,
        "id": "qYNEr5pnPRIR",
        "outputId": "425173fd-37f7-493e-f792-c7058517ff9d",
        "colab": {
          "base_uri": "https://localhost:8080/",
          "height": 460
        }
      },
      "execution_count": 26,
      "outputs": [
        {
          "output_type": "execute_result",
          "data": {
            "text/plain": [
              "PassengerId                      1\n",
              "Survived                       0.0\n",
              "Pclass                         3.0\n",
              "Name           Abbing, Mr. Anthony\n",
              "Sex                           male\n",
              "Age                           24.0\n",
              "SibSp                          0.0\n",
              "Parch                          0.0\n",
              "Ticket                        1601\n",
              "Fare                          8.05\n",
              "Cabin                      B96 B98\n",
              "Embarked                         S\n",
              "Name: 0, dtype: object"
            ],
            "text/html": [
              "<div>\n",
              "<style scoped>\n",
              "    .dataframe tbody tr th:only-of-type {\n",
              "        vertical-align: middle;\n",
              "    }\n",
              "\n",
              "    .dataframe tbody tr th {\n",
              "        vertical-align: top;\n",
              "    }\n",
              "\n",
              "    .dataframe thead th {\n",
              "        text-align: right;\n",
              "    }\n",
              "</style>\n",
              "<table border=\"1\" class=\"dataframe\">\n",
              "  <thead>\n",
              "    <tr style=\"text-align: right;\">\n",
              "      <th></th>\n",
              "      <th>0</th>\n",
              "    </tr>\n",
              "  </thead>\n",
              "  <tbody>\n",
              "    <tr>\n",
              "      <th>PassengerId</th>\n",
              "      <td>1</td>\n",
              "    </tr>\n",
              "    <tr>\n",
              "      <th>Survived</th>\n",
              "      <td>0.0</td>\n",
              "    </tr>\n",
              "    <tr>\n",
              "      <th>Pclass</th>\n",
              "      <td>3.0</td>\n",
              "    </tr>\n",
              "    <tr>\n",
              "      <th>Name</th>\n",
              "      <td>Abbing, Mr. Anthony</td>\n",
              "    </tr>\n",
              "    <tr>\n",
              "      <th>Sex</th>\n",
              "      <td>male</td>\n",
              "    </tr>\n",
              "    <tr>\n",
              "      <th>Age</th>\n",
              "      <td>24.0</td>\n",
              "    </tr>\n",
              "    <tr>\n",
              "      <th>SibSp</th>\n",
              "      <td>0.0</td>\n",
              "    </tr>\n",
              "    <tr>\n",
              "      <th>Parch</th>\n",
              "      <td>0.0</td>\n",
              "    </tr>\n",
              "    <tr>\n",
              "      <th>Ticket</th>\n",
              "      <td>1601</td>\n",
              "    </tr>\n",
              "    <tr>\n",
              "      <th>Fare</th>\n",
              "      <td>8.05</td>\n",
              "    </tr>\n",
              "    <tr>\n",
              "      <th>Cabin</th>\n",
              "      <td>B96 B98</td>\n",
              "    </tr>\n",
              "    <tr>\n",
              "      <th>Embarked</th>\n",
              "      <td>S</td>\n",
              "    </tr>\n",
              "  </tbody>\n",
              "</table>\n",
              "</div><br><label><b>dtype:</b> object</label>"
            ]
          },
          "metadata": {},
          "execution_count": 26
        }
      ]
    },
    {
      "cell_type": "markdown",
      "source": [
        "BTW, it's never a good idea to use functions without understanding them. So be sure to google for anything you're not familiar with. E.g if you want to learn about `iloc` (which is a very important function indeed!) then Google will give you a link to a [great tutorial](https://www.shanelynn.ie/pandas-iloc-loc-select-rows-and-columns-dataframe/).\n",
        "\n",
        "Now that we've got the mode of each column, we can use `fillna` to replace the missing values with the mode of each column. We'll do it \"in place\" -- meaning that we'll change the dataframe itself, rather than returning a new one."
      ],
      "metadata": {
        "hidden": true,
        "id": "AGlaWv6OPRIR"
      }
    },
    {
      "cell_type": "code",
      "source": [
        "df.fillna(modes, inplace=True)"
      ],
      "metadata": {
        "hidden": true,
        "execution": {
          "iopub.status.busy": "2022-05-30T22:34:18.069123Z",
          "iopub.execute_input": "2022-05-30T22:34:18.069624Z",
          "iopub.status.idle": "2022-05-30T22:34:18.078805Z",
          "shell.execute_reply.started": "2022-05-30T22:34:18.069573Z",
          "shell.execute_reply": "2022-05-30T22:34:18.077978Z"
        },
        "trusted": true,
        "id": "js3OiK0QPRIR"
      },
      "execution_count": 30,
      "outputs": []
    },
    {
      "cell_type": "markdown",
      "source": [
        "We can now check there's no missing values left:"
      ],
      "metadata": {
        "hidden": true,
        "id": "OSo4fG1HPRIR"
      }
    },
    {
      "cell_type": "code",
      "source": [
        "df.isna().sum()"
      ],
      "metadata": {
        "hidden": true,
        "execution": {
          "iopub.status.busy": "2022-05-30T22:34:18.13936Z",
          "iopub.execute_input": "2022-05-30T22:34:18.139844Z",
          "iopub.status.idle": "2022-05-30T22:34:18.149896Z",
          "shell.execute_reply.started": "2022-05-30T22:34:18.139793Z",
          "shell.execute_reply": "2022-05-30T22:34:18.148884Z"
        },
        "trusted": true,
        "id": "z2guRuI1PRIR",
        "outputId": "a40a073a-d6a2-45bd-ed40-77fbaf12ac9f",
        "colab": {
          "base_uri": "https://localhost:8080/",
          "height": 460
        }
      },
      "execution_count": 31,
      "outputs": [
        {
          "output_type": "execute_result",
          "data": {
            "text/plain": [
              "PassengerId    0\n",
              "Survived       0\n",
              "Pclass         0\n",
              "Name           0\n",
              "Sex            0\n",
              "Age            0\n",
              "SibSp          0\n",
              "Parch          0\n",
              "Ticket         0\n",
              "Fare           0\n",
              "Cabin          0\n",
              "Embarked       0\n",
              "dtype: int64"
            ],
            "text/html": [
              "<div>\n",
              "<style scoped>\n",
              "    .dataframe tbody tr th:only-of-type {\n",
              "        vertical-align: middle;\n",
              "    }\n",
              "\n",
              "    .dataframe tbody tr th {\n",
              "        vertical-align: top;\n",
              "    }\n",
              "\n",
              "    .dataframe thead th {\n",
              "        text-align: right;\n",
              "    }\n",
              "</style>\n",
              "<table border=\"1\" class=\"dataframe\">\n",
              "  <thead>\n",
              "    <tr style=\"text-align: right;\">\n",
              "      <th></th>\n",
              "      <th>0</th>\n",
              "    </tr>\n",
              "  </thead>\n",
              "  <tbody>\n",
              "    <tr>\n",
              "      <th>PassengerId</th>\n",
              "      <td>0</td>\n",
              "    </tr>\n",
              "    <tr>\n",
              "      <th>Survived</th>\n",
              "      <td>0</td>\n",
              "    </tr>\n",
              "    <tr>\n",
              "      <th>Pclass</th>\n",
              "      <td>0</td>\n",
              "    </tr>\n",
              "    <tr>\n",
              "      <th>Name</th>\n",
              "      <td>0</td>\n",
              "    </tr>\n",
              "    <tr>\n",
              "      <th>Sex</th>\n",
              "      <td>0</td>\n",
              "    </tr>\n",
              "    <tr>\n",
              "      <th>Age</th>\n",
              "      <td>0</td>\n",
              "    </tr>\n",
              "    <tr>\n",
              "      <th>SibSp</th>\n",
              "      <td>0</td>\n",
              "    </tr>\n",
              "    <tr>\n",
              "      <th>Parch</th>\n",
              "      <td>0</td>\n",
              "    </tr>\n",
              "    <tr>\n",
              "      <th>Ticket</th>\n",
              "      <td>0</td>\n",
              "    </tr>\n",
              "    <tr>\n",
              "      <th>Fare</th>\n",
              "      <td>0</td>\n",
              "    </tr>\n",
              "    <tr>\n",
              "      <th>Cabin</th>\n",
              "      <td>0</td>\n",
              "    </tr>\n",
              "    <tr>\n",
              "      <th>Embarked</th>\n",
              "      <td>0</td>\n",
              "    </tr>\n",
              "  </tbody>\n",
              "</table>\n",
              "</div><br><label><b>dtype:</b> int64</label>"
            ]
          },
          "metadata": {},
          "execution_count": 31
        }
      ]
    },
    {
      "cell_type": "markdown",
      "source": [
        "Here's how we get a quick summary of all the numeric columns in the dataset:"
      ],
      "metadata": {
        "hidden": true,
        "id": "vfYHkEGZPRIR"
      }
    },
    {
      "cell_type": "code",
      "source": [
        "import numpy as np\n",
        "\n",
        "df.describe(include=(np.number))"
      ],
      "metadata": {
        "hidden": true,
        "execution": {
          "iopub.status.busy": "2022-05-30T22:34:18.205483Z",
          "iopub.execute_input": "2022-05-30T22:34:18.205953Z",
          "iopub.status.idle": "2022-05-30T22:34:18.240196Z",
          "shell.execute_reply.started": "2022-05-30T22:34:18.205897Z",
          "shell.execute_reply": "2022-05-30T22:34:18.239106Z"
        },
        "trusted": true,
        "id": "vrwYrfw9PRIR",
        "outputId": "9d4cdd83-5d25-4b41-869c-7172d33beb69",
        "colab": {
          "base_uri": "https://localhost:8080/",
          "height": 320
        }
      },
      "execution_count": 32,
      "outputs": [
        {
          "output_type": "execute_result",
          "data": {
            "text/plain": [
              "       PassengerId    Survived      Pclass         Age       SibSp       Parch        Fare\n",
              "count   891.000000  891.000000  891.000000  891.000000  891.000000  891.000000  891.000000\n",
              "mean    446.000000    0.383838    2.308642   28.566970    0.523008    0.381594   32.204208\n",
              "std     257.353842    0.486592    0.836071   13.199572    1.102743    0.806057   49.693429\n",
              "min       1.000000    0.000000    1.000000    0.420000    0.000000    0.000000    0.000000\n",
              "25%     223.500000    0.000000    2.000000   22.000000    0.000000    0.000000    7.910400\n",
              "50%     446.000000    0.000000    3.000000   24.000000    0.000000    0.000000   14.454200\n",
              "75%     668.500000    1.000000    3.000000   35.000000    1.000000    0.000000   31.000000\n",
              "max     891.000000    1.000000    3.000000   80.000000    8.000000    6.000000  512.329200"
            ],
            "text/html": [
              "\n",
              "  <div id=\"df-3d2f0713-bc50-42d5-93cd-0726e22c92c0\" class=\"colab-df-container\">\n",
              "    <div>\n",
              "<style scoped>\n",
              "    .dataframe tbody tr th:only-of-type {\n",
              "        vertical-align: middle;\n",
              "    }\n",
              "\n",
              "    .dataframe tbody tr th {\n",
              "        vertical-align: top;\n",
              "    }\n",
              "\n",
              "    .dataframe thead th {\n",
              "        text-align: right;\n",
              "    }\n",
              "</style>\n",
              "<table border=\"1\" class=\"dataframe\">\n",
              "  <thead>\n",
              "    <tr style=\"text-align: right;\">\n",
              "      <th></th>\n",
              "      <th>PassengerId</th>\n",
              "      <th>Survived</th>\n",
              "      <th>Pclass</th>\n",
              "      <th>Age</th>\n",
              "      <th>SibSp</th>\n",
              "      <th>Parch</th>\n",
              "      <th>Fare</th>\n",
              "    </tr>\n",
              "  </thead>\n",
              "  <tbody>\n",
              "    <tr>\n",
              "      <th>count</th>\n",
              "      <td>891.000000</td>\n",
              "      <td>891.000000</td>\n",
              "      <td>891.000000</td>\n",
              "      <td>891.000000</td>\n",
              "      <td>891.000000</td>\n",
              "      <td>891.000000</td>\n",
              "      <td>891.000000</td>\n",
              "    </tr>\n",
              "    <tr>\n",
              "      <th>mean</th>\n",
              "      <td>446.000000</td>\n",
              "      <td>0.383838</td>\n",
              "      <td>2.308642</td>\n",
              "      <td>28.566970</td>\n",
              "      <td>0.523008</td>\n",
              "      <td>0.381594</td>\n",
              "      <td>32.204208</td>\n",
              "    </tr>\n",
              "    <tr>\n",
              "      <th>std</th>\n",
              "      <td>257.353842</td>\n",
              "      <td>0.486592</td>\n",
              "      <td>0.836071</td>\n",
              "      <td>13.199572</td>\n",
              "      <td>1.102743</td>\n",
              "      <td>0.806057</td>\n",
              "      <td>49.693429</td>\n",
              "    </tr>\n",
              "    <tr>\n",
              "      <th>min</th>\n",
              "      <td>1.000000</td>\n",
              "      <td>0.000000</td>\n",
              "      <td>1.000000</td>\n",
              "      <td>0.420000</td>\n",
              "      <td>0.000000</td>\n",
              "      <td>0.000000</td>\n",
              "      <td>0.000000</td>\n",
              "    </tr>\n",
              "    <tr>\n",
              "      <th>25%</th>\n",
              "      <td>223.500000</td>\n",
              "      <td>0.000000</td>\n",
              "      <td>2.000000</td>\n",
              "      <td>22.000000</td>\n",
              "      <td>0.000000</td>\n",
              "      <td>0.000000</td>\n",
              "      <td>7.910400</td>\n",
              "    </tr>\n",
              "    <tr>\n",
              "      <th>50%</th>\n",
              "      <td>446.000000</td>\n",
              "      <td>0.000000</td>\n",
              "      <td>3.000000</td>\n",
              "      <td>24.000000</td>\n",
              "      <td>0.000000</td>\n",
              "      <td>0.000000</td>\n",
              "      <td>14.454200</td>\n",
              "    </tr>\n",
              "    <tr>\n",
              "      <th>75%</th>\n",
              "      <td>668.500000</td>\n",
              "      <td>1.000000</td>\n",
              "      <td>3.000000</td>\n",
              "      <td>35.000000</td>\n",
              "      <td>1.000000</td>\n",
              "      <td>0.000000</td>\n",
              "      <td>31.000000</td>\n",
              "    </tr>\n",
              "    <tr>\n",
              "      <th>max</th>\n",
              "      <td>891.000000</td>\n",
              "      <td>1.000000</td>\n",
              "      <td>3.000000</td>\n",
              "      <td>80.000000</td>\n",
              "      <td>8.000000</td>\n",
              "      <td>6.000000</td>\n",
              "      <td>512.329200</td>\n",
              "    </tr>\n",
              "  </tbody>\n",
              "</table>\n",
              "</div>\n",
              "    <div class=\"colab-df-buttons\">\n",
              "\n",
              "  <div class=\"colab-df-container\">\n",
              "    <button class=\"colab-df-convert\" onclick=\"convertToInteractive('df-3d2f0713-bc50-42d5-93cd-0726e22c92c0')\"\n",
              "            title=\"Convert this dataframe to an interactive table.\"\n",
              "            style=\"display:none;\">\n",
              "\n",
              "  <svg xmlns=\"http://www.w3.org/2000/svg\" height=\"24px\" viewBox=\"0 -960 960 960\">\n",
              "    <path d=\"M120-120v-720h720v720H120Zm60-500h600v-160H180v160Zm220 220h160v-160H400v160Zm0 220h160v-160H400v160ZM180-400h160v-160H180v160Zm440 0h160v-160H620v160ZM180-180h160v-160H180v160Zm440 0h160v-160H620v160Z\"/>\n",
              "  </svg>\n",
              "    </button>\n",
              "\n",
              "  <style>\n",
              "    .colab-df-container {\n",
              "      display:flex;\n",
              "      gap: 12px;\n",
              "    }\n",
              "\n",
              "    .colab-df-convert {\n",
              "      background-color: #E8F0FE;\n",
              "      border: none;\n",
              "      border-radius: 50%;\n",
              "      cursor: pointer;\n",
              "      display: none;\n",
              "      fill: #1967D2;\n",
              "      height: 32px;\n",
              "      padding: 0 0 0 0;\n",
              "      width: 32px;\n",
              "    }\n",
              "\n",
              "    .colab-df-convert:hover {\n",
              "      background-color: #E2EBFA;\n",
              "      box-shadow: 0px 1px 2px rgba(60, 64, 67, 0.3), 0px 1px 3px 1px rgba(60, 64, 67, 0.15);\n",
              "      fill: #174EA6;\n",
              "    }\n",
              "\n",
              "    .colab-df-buttons div {\n",
              "      margin-bottom: 4px;\n",
              "    }\n",
              "\n",
              "    [theme=dark] .colab-df-convert {\n",
              "      background-color: #3B4455;\n",
              "      fill: #D2E3FC;\n",
              "    }\n",
              "\n",
              "    [theme=dark] .colab-df-convert:hover {\n",
              "      background-color: #434B5C;\n",
              "      box-shadow: 0px 1px 3px 1px rgba(0, 0, 0, 0.15);\n",
              "      filter: drop-shadow(0px 1px 2px rgba(0, 0, 0, 0.3));\n",
              "      fill: #FFFFFF;\n",
              "    }\n",
              "  </style>\n",
              "\n",
              "    <script>\n",
              "      const buttonEl =\n",
              "        document.querySelector('#df-3d2f0713-bc50-42d5-93cd-0726e22c92c0 button.colab-df-convert');\n",
              "      buttonEl.style.display =\n",
              "        google.colab.kernel.accessAllowed ? 'block' : 'none';\n",
              "\n",
              "      async function convertToInteractive(key) {\n",
              "        const element = document.querySelector('#df-3d2f0713-bc50-42d5-93cd-0726e22c92c0');\n",
              "        const dataTable =\n",
              "          await google.colab.kernel.invokeFunction('convertToInteractive',\n",
              "                                                    [key], {});\n",
              "        if (!dataTable) return;\n",
              "\n",
              "        const docLinkHtml = 'Like what you see? Visit the ' +\n",
              "          '<a target=\"_blank\" href=https://colab.research.google.com/notebooks/data_table.ipynb>data table notebook</a>'\n",
              "          + ' to learn more about interactive tables.';\n",
              "        element.innerHTML = '';\n",
              "        dataTable['output_type'] = 'display_data';\n",
              "        await google.colab.output.renderOutput(dataTable, element);\n",
              "        const docLink = document.createElement('div');\n",
              "        docLink.innerHTML = docLinkHtml;\n",
              "        element.appendChild(docLink);\n",
              "      }\n",
              "    </script>\n",
              "  </div>\n",
              "\n",
              "\n",
              "<div id=\"df-63083364-9da0-4570-991e-8937ebad5028\">\n",
              "  <button class=\"colab-df-quickchart\" onclick=\"quickchart('df-63083364-9da0-4570-991e-8937ebad5028')\"\n",
              "            title=\"Suggest charts\"\n",
              "            style=\"display:none;\">\n",
              "\n",
              "<svg xmlns=\"http://www.w3.org/2000/svg\" height=\"24px\"viewBox=\"0 0 24 24\"\n",
              "     width=\"24px\">\n",
              "    <g>\n",
              "        <path d=\"M19 3H5c-1.1 0-2 .9-2 2v14c0 1.1.9 2 2 2h14c1.1 0 2-.9 2-2V5c0-1.1-.9-2-2-2zM9 17H7v-7h2v7zm4 0h-2V7h2v10zm4 0h-2v-4h2v4z\"/>\n",
              "    </g>\n",
              "</svg>\n",
              "  </button>\n",
              "\n",
              "<style>\n",
              "  .colab-df-quickchart {\n",
              "      --bg-color: #E8F0FE;\n",
              "      --fill-color: #1967D2;\n",
              "      --hover-bg-color: #E2EBFA;\n",
              "      --hover-fill-color: #174EA6;\n",
              "      --disabled-fill-color: #AAA;\n",
              "      --disabled-bg-color: #DDD;\n",
              "  }\n",
              "\n",
              "  [theme=dark] .colab-df-quickchart {\n",
              "      --bg-color: #3B4455;\n",
              "      --fill-color: #D2E3FC;\n",
              "      --hover-bg-color: #434B5C;\n",
              "      --hover-fill-color: #FFFFFF;\n",
              "      --disabled-bg-color: #3B4455;\n",
              "      --disabled-fill-color: #666;\n",
              "  }\n",
              "\n",
              "  .colab-df-quickchart {\n",
              "    background-color: var(--bg-color);\n",
              "    border: none;\n",
              "    border-radius: 50%;\n",
              "    cursor: pointer;\n",
              "    display: none;\n",
              "    fill: var(--fill-color);\n",
              "    height: 32px;\n",
              "    padding: 0;\n",
              "    width: 32px;\n",
              "  }\n",
              "\n",
              "  .colab-df-quickchart:hover {\n",
              "    background-color: var(--hover-bg-color);\n",
              "    box-shadow: 0 1px 2px rgba(60, 64, 67, 0.3), 0 1px 3px 1px rgba(60, 64, 67, 0.15);\n",
              "    fill: var(--button-hover-fill-color);\n",
              "  }\n",
              "\n",
              "  .colab-df-quickchart-complete:disabled,\n",
              "  .colab-df-quickchart-complete:disabled:hover {\n",
              "    background-color: var(--disabled-bg-color);\n",
              "    fill: var(--disabled-fill-color);\n",
              "    box-shadow: none;\n",
              "  }\n",
              "\n",
              "  .colab-df-spinner {\n",
              "    border: 2px solid var(--fill-color);\n",
              "    border-color: transparent;\n",
              "    border-bottom-color: var(--fill-color);\n",
              "    animation:\n",
              "      spin 1s steps(1) infinite;\n",
              "  }\n",
              "\n",
              "  @keyframes spin {\n",
              "    0% {\n",
              "      border-color: transparent;\n",
              "      border-bottom-color: var(--fill-color);\n",
              "      border-left-color: var(--fill-color);\n",
              "    }\n",
              "    20% {\n",
              "      border-color: transparent;\n",
              "      border-left-color: var(--fill-color);\n",
              "      border-top-color: var(--fill-color);\n",
              "    }\n",
              "    30% {\n",
              "      border-color: transparent;\n",
              "      border-left-color: var(--fill-color);\n",
              "      border-top-color: var(--fill-color);\n",
              "      border-right-color: var(--fill-color);\n",
              "    }\n",
              "    40% {\n",
              "      border-color: transparent;\n",
              "      border-right-color: var(--fill-color);\n",
              "      border-top-color: var(--fill-color);\n",
              "    }\n",
              "    60% {\n",
              "      border-color: transparent;\n",
              "      border-right-color: var(--fill-color);\n",
              "    }\n",
              "    80% {\n",
              "      border-color: transparent;\n",
              "      border-right-color: var(--fill-color);\n",
              "      border-bottom-color: var(--fill-color);\n",
              "    }\n",
              "    90% {\n",
              "      border-color: transparent;\n",
              "      border-bottom-color: var(--fill-color);\n",
              "    }\n",
              "  }\n",
              "</style>\n",
              "\n",
              "  <script>\n",
              "    async function quickchart(key) {\n",
              "      const quickchartButtonEl =\n",
              "        document.querySelector('#' + key + ' button');\n",
              "      quickchartButtonEl.disabled = true;  // To prevent multiple clicks.\n",
              "      quickchartButtonEl.classList.add('colab-df-spinner');\n",
              "      try {\n",
              "        const charts = await google.colab.kernel.invokeFunction(\n",
              "            'suggestCharts', [key], {});\n",
              "      } catch (error) {\n",
              "        console.error('Error during call to suggestCharts:', error);\n",
              "      }\n",
              "      quickchartButtonEl.classList.remove('colab-df-spinner');\n",
              "      quickchartButtonEl.classList.add('colab-df-quickchart-complete');\n",
              "    }\n",
              "    (() => {\n",
              "      let quickchartButtonEl =\n",
              "        document.querySelector('#df-63083364-9da0-4570-991e-8937ebad5028 button');\n",
              "      quickchartButtonEl.style.display =\n",
              "        google.colab.kernel.accessAllowed ? 'block' : 'none';\n",
              "    })();\n",
              "  </script>\n",
              "</div>\n",
              "\n",
              "    </div>\n",
              "  </div>\n"
            ],
            "application/vnd.google.colaboratory.intrinsic+json": {
              "type": "dataframe",
              "summary": "{\n  \"name\": \"df\",\n  \"rows\": 8,\n  \"fields\": [\n    {\n      \"column\": \"PassengerId\",\n      \"properties\": {\n        \"dtype\": \"number\",\n        \"std\": 320.8159711429855,\n        \"min\": 1.0,\n        \"max\": 891.0,\n        \"num_unique_values\": 6,\n        \"samples\": [\n          891.0,\n          446.0,\n          668.5\n        ],\n        \"semantic_type\": \"\",\n        \"description\": \"\"\n      }\n    },\n    {\n      \"column\": \"Survived\",\n      \"properties\": {\n        \"dtype\": \"number\",\n        \"std\": 314.8713661874558,\n        \"min\": 0.0,\n        \"max\": 891.0,\n        \"num_unique_values\": 5,\n        \"samples\": [\n          0.3838383838383838,\n          1.0,\n          0.4865924542648575\n        ],\n        \"semantic_type\": \"\",\n        \"description\": \"\"\n      }\n    },\n    {\n      \"column\": \"Pclass\",\n      \"properties\": {\n        \"dtype\": \"number\",\n        \"std\": 314.2523437079694,\n        \"min\": 0.836071240977049,\n        \"max\": 891.0,\n        \"num_unique_values\": 6,\n        \"samples\": [\n          891.0,\n          2.308641975308642,\n          3.0\n        ],\n        \"semantic_type\": \"\",\n        \"description\": \"\"\n      }\n    },\n    {\n      \"column\": \"Age\",\n      \"properties\": {\n        \"dtype\": \"number\",\n        \"std\": 305.6377298633617,\n        \"min\": 0.42,\n        \"max\": 891.0,\n        \"num_unique_values\": 8,\n        \"samples\": [\n          28.566969696969696,\n          24.0,\n          891.0\n        ],\n        \"semantic_type\": \"\",\n        \"description\": \"\"\n      }\n    },\n    {\n      \"column\": \"SibSp\",\n      \"properties\": {\n        \"dtype\": \"number\",\n        \"std\": 314.4908277465442,\n        \"min\": 0.0,\n        \"max\": 891.0,\n        \"num_unique_values\": 6,\n        \"samples\": [\n          891.0,\n          0.5230078563411896,\n          8.0\n        ],\n        \"semantic_type\": \"\",\n        \"description\": \"\"\n      }\n    },\n    {\n      \"column\": \"Parch\",\n      \"properties\": {\n        \"dtype\": \"number\",\n        \"std\": 314.65971717879,\n        \"min\": 0.0,\n        \"max\": 891.0,\n        \"num_unique_values\": 5,\n        \"samples\": [\n          0.38159371492704824,\n          6.0,\n          0.8060572211299483\n        ],\n        \"semantic_type\": \"\",\n        \"description\": \"\"\n      }\n    },\n    {\n      \"column\": \"Fare\",\n      \"properties\": {\n        \"dtype\": \"number\",\n        \"std\": 330.6256632228578,\n        \"min\": 0.0,\n        \"max\": 891.0,\n        \"num_unique_values\": 8,\n        \"samples\": [\n          32.204207968574636,\n          14.4542,\n          891.0\n        ],\n        \"semantic_type\": \"\",\n        \"description\": \"\"\n      }\n    }\n  ]\n}"
            }
          },
          "metadata": {},
          "execution_count": 32
        }
      ]
    },
    {
      "cell_type": "markdown",
      "source": [
        "We can see that `Fare` contains mainly values of around `0` to `30`, but there's a few really big ones. This is very common with fields contain monetary values, and it can cause problems for our model, because once that column is multiplied by a coefficient later, the few rows with really big values will dominate the result.\n",
        "\n",
        "You can see the issue most clearly visually by looking at a histogram, which shows a long tail to the right (and don't forget: if you're not entirely sure what a histogram is, Google \"[histogram tutorial](https://www.google.com/search?q=histogram+tutorial&oq=histogram+tutorial)\" and do a bit of reading before continuing on):"
      ],
      "metadata": {
        "execution": {
          "iopub.execute_input": "2022-05-13T11:02:34.328433Z",
          "iopub.status.busy": "2022-05-13T11:02:34.327999Z",
          "iopub.status.idle": "2022-05-13T11:02:34.336993Z",
          "shell.execute_reply": "2022-05-13T11:02:34.335466Z",
          "shell.execute_reply.started": "2022-05-13T11:02:34.32838Z"
        },
        "hidden": true,
        "id": "ll1gYT2mPRIR"
      }
    },
    {
      "cell_type": "code",
      "source": [
        "df['LogFare'].hist();"
      ],
      "metadata": {
        "hidden": true,
        "execution": {
          "iopub.status.busy": "2022-05-30T22:34:18.241874Z",
          "iopub.execute_input": "2022-05-30T22:34:18.242123Z",
          "iopub.status.idle": "2022-05-30T22:34:18.471439Z",
          "shell.execute_reply.started": "2022-05-30T22:34:18.242094Z",
          "shell.execute_reply": "2022-05-30T22:34:18.470441Z"
        },
        "trusted": true,
        "id": "0O2RWr2dPRIR",
        "outputId": "a74a4f06-f3f0-4270-efc8-5c07a15b1e38",
        "colab": {
          "base_uri": "https://localhost:8080/",
          "height": 430
        }
      },
      "execution_count": 36,
      "outputs": [
        {
          "output_type": "display_data",
          "data": {
            "text/plain": [
              "<Figure size 640x480 with 1 Axes>"
            ],
            "image/png": "[encoded data removed]"
          },
          "metadata": {}
        }
      ]
    },
    {
      "cell_type": "markdown",
      "source": [
        "To fix this, the most common approach is to take the logarithm, which squishes the big numbers and makes the distribution more reasonable. Note, however, that there are zeros in the `Fare` column, and `log(0)` is infinite -- to fix this, we'll simply add `1` to all values first:"
      ],
      "metadata": {
        "execution": {
          "iopub.execute_input": "2022-05-13T11:02:34.328433Z",
          "iopub.status.busy": "2022-05-13T11:02:34.327999Z",
          "iopub.status.idle": "2022-05-13T11:02:34.336993Z",
          "shell.execute_reply": "2022-05-13T11:02:34.335466Z",
          "shell.execute_reply.started": "2022-05-13T11:02:34.32838Z"
        },
        "hidden": true,
        "id": "vlTURlYDPRIS"
      }
    },
    {
      "cell_type": "code",
      "source": [
        "df['LogFare'] = np.log(df['Fare']+1)"
      ],
      "metadata": {
        "hidden": true,
        "execution": {
          "iopub.status.busy": "2022-05-30T22:34:18.473109Z",
          "iopub.execute_input": "2022-05-30T22:34:18.47382Z",
          "iopub.status.idle": "2022-05-30T22:34:18.478776Z",
          "shell.execute_reply.started": "2022-05-30T22:34:18.473778Z",
          "shell.execute_reply": "2022-05-30T22:34:18.478149Z"
        },
        "trusted": true,
        "id": "9GtJRj2_PRIS"
      },
      "execution_count": 34,
      "outputs": []
    },
    {
      "cell_type": "markdown",
      "source": [
        "The histogram now shows a more even distribution of values without the long tail:"
      ],
      "metadata": {
        "hidden": true,
        "id": "3QaBWTiuPRIS"
      }
    },
    {
      "cell_type": "code",
      "source": [
        "df['LogFare'].hist();"
      ],
      "metadata": {
        "hidden": true,
        "execution": {
          "iopub.status.busy": "2022-05-30T22:34:18.480088Z",
          "iopub.execute_input": "2022-05-30T22:34:18.480926Z",
          "iopub.status.idle": "2022-05-30T22:34:18.855605Z",
          "shell.execute_reply.started": "2022-05-30T22:34:18.480885Z",
          "shell.execute_reply": "2022-05-30T22:34:18.854915Z"
        },
        "trusted": true,
        "id": "3_XfazEIPRIS",
        "outputId": "3e73e885-caad-41ec-d49a-fa8365454207",
        "colab": {
          "base_uri": "https://localhost:8080/",
          "height": 430
        }
      },
      "execution_count": 37,
      "outputs": [
        {
          "output_type": "display_data",
          "data": {
            "text/plain": [
              "<Figure size 640x480 with 1 Axes>"
            ],
            "image/png": "[encoded data removed]"
          },
          "metadata": {}
        }
      ]
    },
    {
      "cell_type": "markdown",
      "source": [
        "It looks from the `describe()` output like `Pclass` contains just 3 values, which we can confirm by looking at the [Data Dictionary](https://www.kaggle.com/competitions/titanic/data) (which you should always study carefully for any project!) --"
      ],
      "metadata": {
        "hidden": true,
        "id": "gZA6nP0tPRIS"
      }
    },
    {
      "cell_type": "code",
      "source": [
        "pclasses = sorted(df.Pclass.unique())\n",
        "pclasses"
      ],
      "metadata": {
        "hidden": true,
        "execution": {
          "iopub.status.busy": "2022-05-30T22:34:18.857312Z",
          "iopub.execute_input": "2022-05-30T22:34:18.857676Z",
          "iopub.status.idle": "2022-05-30T22:34:18.863672Z",
          "shell.execute_reply.started": "2022-05-30T22:34:18.857643Z",
          "shell.execute_reply": "2022-05-30T22:34:18.862791Z"
        },
        "trusted": true,
        "id": "O4wF9TVRPRIS",
        "outputId": "6c2cd9db-2577-47cf-a9d4-6c96b19081ba",
        "colab": {
          "base_uri": "https://localhost:8080/"
        }
      },
      "execution_count": 38,
      "outputs": [
        {
          "output_type": "execute_result",
          "data": {
            "text/plain": [
              "[1, 2, 3]"
            ]
          },
          "metadata": {},
          "execution_count": 38
        }
      ]
    },
    {
      "cell_type": "markdown",
      "source": [
        "Here's how we get a quick summary of all the non-numeric columns in the dataset:"
      ],
      "metadata": {
        "hidden": true,
        "id": "cDrd-CaCPRIS"
      }
    },
    {
      "cell_type": "code",
      "source": [
        "df.describe(include=[object])"
      ],
      "metadata": {
        "hidden": true,
        "execution": {
          "iopub.status.busy": "2022-05-30T22:34:18.864893Z",
          "iopub.execute_input": "2022-05-30T22:34:18.865154Z",
          "iopub.status.idle": "2022-05-30T22:34:18.89758Z",
          "shell.execute_reply.started": "2022-05-30T22:34:18.865115Z",
          "shell.execute_reply": "2022-05-30T22:34:18.896706Z"
        },
        "trusted": true,
        "id": "p3O5R8m2PRIS"
      },
      "execution_count": null,
      "outputs": []
    },
    {
      "cell_type": "markdown",
      "source": [
        "Clearly we can't multiply strings like `male` or `S` by coefficients, so we need to replace those with numbers.\n",
        "\n",
        "We do that by creating new columns containing *dummy variables*. A dummy variable is a column that contains a `1` where a particular column contains a particular value, or a `0` otherwise. For instance, we could create a dummy variable for `Sex='male'`, which would be a new column containing `1` for rows where `Sex` is `'male'`, and 0 for rows where it isn't.\n",
        "\n",
        "Pandas can create these automatically using `get_dummies`, which also remove the original columns. We'll create dummy variables for `Pclass`, even although it's numeric, since the numbers `1`, `2`, and `3` correspond to first, second, and third class cabins - not to counts or measures that make sense to multiply by. We'll also create dummies for `Sex` and `Embarked` since we'll want to use those as predictors in our model. On the other hand, `Cabin`, `Name`, and `Ticket` have too many unique values for it to make sense creating dummy variables for them."
      ],
      "metadata": {
        "hidden": true,
        "id": "uObM8LAtPRIS"
      }
    },
    {
      "cell_type": "code",
      "source": [
        "df = pd.get_dummies(df, columns=[\"Sex\",\"Pclass\",\"Embarked\"])\n",
        "df.columns"
      ],
      "metadata": {
        "hidden": true,
        "execution": {
          "iopub.status.busy": "2022-05-30T22:34:18.899127Z",
          "iopub.execute_input": "2022-05-30T22:34:18.899369Z",
          "iopub.status.idle": "2022-05-30T22:34:18.914993Z",
          "shell.execute_reply.started": "2022-05-30T22:34:18.899338Z",
          "shell.execute_reply": "2022-05-30T22:34:18.914167Z"
        },
        "trusted": true,
        "id": "3SkXldahPRIS"
      },
      "execution_count": null,
      "outputs": []
    },
    {
      "cell_type": "markdown",
      "source": [
        "We can see that 5 columns have been added to the end -- one for each of the possible values of each of the three columns we requested, and that those three requested columns have been removed.\n",
        "\n",
        "Here's what the first few rows of those newly added columns look like:"
      ],
      "metadata": {
        "hidden": true,
        "id": "mlSeV6OwPRIS"
      }
    },
    {
      "cell_type": "code",
      "source": [
        "added_cols = ['Sex_male', 'Sex_female', 'Pclass_1', 'Pclass_2', 'Pclass_3', 'Embarked_C', 'Embarked_Q', 'Embarked_S']\n",
        "df[added_cols].head()"
      ],
      "metadata": {
        "hidden": true,
        "execution": {
          "iopub.status.busy": "2022-05-30T22:34:18.916186Z",
          "iopub.execute_input": "2022-05-30T22:34:18.916456Z",
          "iopub.status.idle": "2022-05-30T22:34:18.933746Z",
          "shell.execute_reply.started": "2022-05-30T22:34:18.916426Z",
          "shell.execute_reply": "2022-05-30T22:34:18.933135Z"
        },
        "trusted": true,
        "id": "11HnP1FXPRIS"
      },
      "execution_count": null,
      "outputs": []
    },
    {
      "cell_type": "markdown",
      "source": [
        "Now we can create our independent (predictors) and dependent (target) variables. They both need to be PyTorch tensors. Our dependent variable is `Survived`:"
      ],
      "metadata": {
        "hidden": true,
        "id": "BuoESjzuPRIS"
      }
    },
    {
      "cell_type": "code",
      "source": [
        "from torch import tensor\n",
        "\n",
        "t_dep = tensor(df.Survived)"
      ],
      "metadata": {
        "hidden": true,
        "execution": {
          "iopub.status.busy": "2022-05-30T22:34:18.934648Z",
          "iopub.execute_input": "2022-05-30T22:34:18.935422Z",
          "iopub.status.idle": "2022-05-30T22:34:18.944596Z",
          "shell.execute_reply.started": "2022-05-30T22:34:18.935384Z",
          "shell.execute_reply": "2022-05-30T22:34:18.943444Z"
        },
        "trusted": true,
        "id": "dHSjS2Z0PRIS"
      },
      "execution_count": null,
      "outputs": []
    },
    {
      "cell_type": "markdown",
      "source": [
        "Our independent variables are all the continuous variables of interest plus all the dummy variables we just created:"
      ],
      "metadata": {
        "hidden": true,
        "id": "B4aFh_VGPRIS"
      }
    },
    {
      "cell_type": "code",
      "source": [
        "indep_cols = ['Age', 'SibSp', 'Parch', 'LogFare'] + added_cols\n",
        "\n",
        "t_indep = tensor(df[indep_cols].values, dtype=torch.float)\n",
        "t_indep"
      ],
      "metadata": {
        "hidden": true,
        "execution": {
          "iopub.status.busy": "2022-05-30T22:34:18.94652Z",
          "iopub.execute_input": "2022-05-30T22:34:18.946772Z",
          "iopub.status.idle": "2022-05-30T22:34:18.96487Z",
          "shell.execute_reply.started": "2022-05-30T22:34:18.946741Z",
          "shell.execute_reply": "2022-05-30T22:34:18.963667Z"
        },
        "trusted": true,
        "id": "MZtiN2YAPRIS"
      },
      "execution_count": null,
      "outputs": []
    },
    {
      "cell_type": "markdown",
      "source": [
        "Here's the number of rows and columns we have for our independent variables:"
      ],
      "metadata": {
        "hidden": true,
        "id": "HRYPUYzePRIS"
      }
    },
    {
      "cell_type": "code",
      "source": [
        "t_indep.shape"
      ],
      "metadata": {
        "hidden": true,
        "execution": {
          "iopub.status.busy": "2022-05-30T22:34:18.968005Z",
          "iopub.execute_input": "2022-05-30T22:34:18.969136Z",
          "iopub.status.idle": "2022-05-30T22:34:18.98114Z",
          "shell.execute_reply.started": "2022-05-30T22:34:18.969092Z",
          "shell.execute_reply": "2022-05-30T22:34:18.980184Z"
        },
        "trusted": true,
        "id": "YJ_yV_SVPRIS"
      },
      "execution_count": null,
      "outputs": []
    },
    {
      "cell_type": "markdown",
      "source": [
        "## Setting up a linear model"
      ],
      "metadata": {
        "id": "wbsIKyG3PRIS"
      }
    },
    {
      "cell_type": "markdown",
      "source": [
        "Now that we've got a matrix of independent variables and a dependent variable vector, we can work on calculating our predictions and our loss. In this section, we're going to manually do a single step of calculating predictions and loss for every row of our data.\n",
        "\n",
        "Our first model will be a simple linear model. We'll need a coefficient for each column in `t_indep`. We'll pick random numbers in the range `(-0.5,0.5)`, and set our manual seed so that my explanations in the prose in this notebook will be consistent with what you see when you run it."
      ],
      "metadata": {
        "id": "QhKyXTb5PRIZ"
      }
    },
    {
      "cell_type": "code",
      "source": [
        "torch.manual_seed(442)\n",
        "\n",
        "n_coeff = t_indep.shape[1]\n",
        "coeffs = torch.rand(n_coeff)-0.5\n",
        "coeffs"
      ],
      "metadata": {
        "execution": {
          "iopub.status.busy": "2022-05-30T22:34:18.982492Z",
          "iopub.execute_input": "2022-05-30T22:34:18.983237Z",
          "iopub.status.idle": "2022-05-30T22:34:18.995038Z",
          "shell.execute_reply.started": "2022-05-30T22:34:18.983187Z",
          "shell.execute_reply": "2022-05-30T22:34:18.994437Z"
        },
        "trusted": true,
        "id": "ojyzvKJ8PRIZ"
      },
      "execution_count": null,
      "outputs": []
    },
    {
      "cell_type": "markdown",
      "source": [
        "Our predictions will be calculated by multiplying each row by the coefficients, and adding them up. One interesting point here is that we don't need a separate constant term (also known as a \"bias\" or \"intercept\" term), or a column of all `1`s to give the same effect has having a constant term. That's because our dummy variables already cover the entire dataset -- e.g. there's a column for \"male\" and a column for \"female\", and everyone in the dataset is in exactly one of these; therefore, we don't need a separate intercept term to cover rows that aren't otherwise part of a column.\n",
        "\n",
        "Here's what the multiplication looks like:"
      ],
      "metadata": {
        "id": "u4XaDm93PRIZ"
      }
    },
    {
      "cell_type": "code",
      "source": [
        "t_indep*coeffs"
      ],
      "metadata": {
        "execution": {
          "iopub.status.busy": "2022-05-30T22:34:18.999409Z",
          "iopub.execute_input": "2022-05-30T22:34:19.000637Z",
          "iopub.status.idle": "2022-05-30T22:34:19.009362Z",
          "shell.execute_reply.started": "2022-05-30T22:34:19.000588Z",
          "shell.execute_reply": "2022-05-30T22:34:19.00847Z"
        },
        "trusted": true,
        "id": "-YGbLLE8PRIZ"
      },
      "execution_count": null,
      "outputs": []
    },
    {
      "cell_type": "markdown",
      "source": [
        "We can see we've got a problem here. The sums of each row will be dominated by the first column, which is `Age`, since that's bigger on average than all the others.\n",
        "\n",
        "Let's make all the columns contain numbers from `0` to `1`, by dividing each column by its `max()`:"
      ],
      "metadata": {
        "id": "-GiV0FizPRIZ"
      }
    },
    {
      "cell_type": "code",
      "source": [
        "vals,indices = t_indep.max(dim=0)\n",
        "t_indep = t_indep / vals"
      ],
      "metadata": {
        "execution": {
          "iopub.status.busy": "2022-05-30T22:34:19.010954Z",
          "iopub.execute_input": "2022-05-30T22:34:19.011202Z",
          "iopub.status.idle": "2022-05-30T22:34:19.02202Z",
          "shell.execute_reply.started": "2022-05-30T22:34:19.011171Z",
          "shell.execute_reply": "2022-05-30T22:34:19.02133Z"
        },
        "trusted": true,
        "id": "FgWsHYwfPRIZ"
      },
      "execution_count": null,
      "outputs": []
    },
    {
      "cell_type": "markdown",
      "source": [
        "As we see, that removes the problem of one column dominating all the others:"
      ],
      "metadata": {
        "id": "LYVQ6Y4UPRIZ"
      }
    },
    {
      "cell_type": "code",
      "source": [
        "t_indep*coeffs"
      ],
      "metadata": {
        "execution": {
          "iopub.status.busy": "2022-05-30T22:34:19.042223Z",
          "iopub.execute_input": "2022-05-30T22:34:19.04269Z",
          "iopub.status.idle": "2022-05-30T22:34:19.050475Z",
          "shell.execute_reply.started": "2022-05-30T22:34:19.042652Z",
          "shell.execute_reply": "2022-05-30T22:34:19.049515Z"
        },
        "trusted": true,
        "id": "NLHM__GuPRIZ"
      },
      "execution_count": null,
      "outputs": []
    },
    {
      "cell_type": "markdown",
      "source": [
        "One thing you hopefully noticed is how amazingly cool this line of code is:\n",
        "\n",
        "    t_indep = t_indep / vals\n",
        "\n",
        "That is dividing a matrix by a vector -- what on earth does that mean?!? The trick here is that we're taking advantage of a technique in numpy and PyTorch (and many other languages, going all the way back to APL) called [broadcasting](https://numpy.org/doc/stable/user/basics.broadcasting.html). In short, this acts as if there's a separate copy of the vector for every row of the matrix, so it divides each row of the matrix by the vector. In practice, it doesn't actually make any copies, and does the whole thing in a highly optimized way, taking full advantage of modern CPUs (or, indeed, GPUs, if we're using them). Broadcasting is one of the most important techniques for making your code concise, maintainable, and fast, so it's well worth studying and practicing.\n",
        "\n",
        "We can now create predictions from our linear model, by adding up the rows of the product:"
      ],
      "metadata": {
        "id": "R6MrXPR5PRIZ"
      }
    },
    {
      "cell_type": "code",
      "source": [
        "preds = (t_indep*coeffs).sum(axis=1)"
      ],
      "metadata": {
        "execution": {
          "iopub.status.busy": "2022-05-30T22:34:19.096685Z",
          "iopub.execute_input": "2022-05-30T22:34:19.097604Z",
          "iopub.status.idle": "2022-05-30T22:34:19.1028Z",
          "shell.execute_reply.started": "2022-05-30T22:34:19.097545Z",
          "shell.execute_reply": "2022-05-30T22:34:19.10218Z"
        },
        "trusted": true,
        "id": "7S2-v_x7PRIZ"
      },
      "execution_count": null,
      "outputs": []
    },
    {
      "cell_type": "markdown",
      "source": [
        "Let's take a look at the first few:"
      ],
      "metadata": {
        "id": "9Pu-7d0cPRIa"
      }
    },
    {
      "cell_type": "code",
      "source": [
        "preds[:10]"
      ],
      "metadata": {
        "execution": {
          "iopub.status.busy": "2022-05-30T22:34:19.160318Z",
          "iopub.execute_input": "2022-05-30T22:34:19.160794Z",
          "iopub.status.idle": "2022-05-30T22:34:19.168117Z",
          "shell.execute_reply.started": "2022-05-30T22:34:19.160761Z",
          "shell.execute_reply": "2022-05-30T22:34:19.167355Z"
        },
        "trusted": true,
        "id": "KQ4BqHGjPRIa"
      },
      "execution_count": null,
      "outputs": []
    },
    {
      "cell_type": "markdown",
      "source": [
        "Of course, these predictions aren't going to be any use, since our coefficients are random -- they're just a starting point for our gradient descent process.\n",
        "\n",
        "To do gradient descent, we need a loss function. Taking the average error of the rows (i.e. the absolute value of the difference between the prediction and the dependent) is generally a reasonable approach:"
      ],
      "metadata": {
        "id": "O7RtkRKnPRIa"
      }
    },
    {
      "cell_type": "code",
      "source": [
        "loss = torch.abs(preds-t_dep).mean()\n",
        "loss"
      ],
      "metadata": {
        "execution": {
          "iopub.status.busy": "2022-05-30T22:34:19.235318Z",
          "iopub.execute_input": "2022-05-30T22:34:19.235623Z",
          "iopub.status.idle": "2022-05-30T22:34:19.24312Z",
          "shell.execute_reply.started": "2022-05-30T22:34:19.235589Z",
          "shell.execute_reply": "2022-05-30T22:34:19.242356Z"
        },
        "trusted": true,
        "id": "FZ7j2BkPPRIa"
      },
      "execution_count": null,
      "outputs": []
    },
    {
      "cell_type": "markdown",
      "source": [
        "Now that we've tested out a way of calculating predictions, and loss, let's pop them into functions to make life easier:"
      ],
      "metadata": {
        "id": "iZU9zityPRIa"
      }
    },
    {
      "cell_type": "code",
      "source": [
        "def calc_preds(coeffs, indeps): return (indeps*coeffs).sum(axis=1)\n",
        "def calc_loss(coeffs, indeps, deps): return torch.abs(calc_preds(coeffs, indeps)-deps).mean()"
      ],
      "metadata": {
        "execution": {
          "iopub.status.busy": "2022-05-30T22:34:19.295577Z",
          "iopub.execute_input": "2022-05-30T22:34:19.296558Z",
          "iopub.status.idle": "2022-05-30T22:34:19.301478Z",
          "shell.execute_reply.started": "2022-05-30T22:34:19.296517Z",
          "shell.execute_reply": "2022-05-30T22:34:19.300683Z"
        },
        "trusted": true,
        "id": "_tdWmABWPRIa"
      },
      "execution_count": null,
      "outputs": []
    },
    {
      "cell_type": "markdown",
      "source": [
        "## Doing a gradient descent step"
      ],
      "metadata": {
        "id": "6HMB7R3FPRIa"
      }
    },
    {
      "cell_type": "markdown",
      "source": [
        "In this section, we're going to do a single \"epoch\" of gradient descent manually. The only thing we're going to automate is calculating gradients, because let's face it that's pretty tedious and entirely pointless to do by hand! To get PyTorch to calculate gradients, we'll need to call `requires_grad_()` on our `coeffs` (if you're not sure why, review the previous notebook, [How does a neural net really work?](https://www.kaggle.com/code/jhoward/how-does-a-neural-net-really-work), before continuing):"
      ],
      "metadata": {
        "id": "-oSrmH59PRIa"
      }
    },
    {
      "cell_type": "code",
      "source": [
        "coeffs.requires_grad_()"
      ],
      "metadata": {
        "execution": {
          "iopub.status.busy": "2022-05-30T22:34:19.375387Z",
          "iopub.execute_input": "2022-05-30T22:34:19.376212Z",
          "iopub.status.idle": "2022-05-30T22:34:19.382205Z",
          "shell.execute_reply.started": "2022-05-30T22:34:19.376163Z",
          "shell.execute_reply": "2022-05-30T22:34:19.381536Z"
        },
        "trusted": true,
        "id": "Yggw7ivcPRIa"
      },
      "execution_count": null,
      "outputs": []
    },
    {
      "cell_type": "markdown",
      "source": [
        "Now when we calculate our loss, PyTorch will keep track of all the steps, so we'll be able to get the gradients afterwards:"
      ],
      "metadata": {
        "id": "XgL1gSMcPRIa"
      }
    },
    {
      "cell_type": "code",
      "source": [
        "loss = calc_loss(coeffs, t_indep, t_dep)\n",
        "loss"
      ],
      "metadata": {
        "execution": {
          "iopub.status.busy": "2022-05-30T22:34:19.437208Z",
          "iopub.execute_input": "2022-05-30T22:34:19.438026Z",
          "iopub.status.idle": "2022-05-30T22:34:19.444641Z",
          "shell.execute_reply.started": "2022-05-30T22:34:19.437985Z",
          "shell.execute_reply": "2022-05-30T22:34:19.443791Z"
        },
        "trusted": true,
        "id": "AITW284gPRIa"
      },
      "execution_count": null,
      "outputs": []
    },
    {
      "cell_type": "markdown",
      "source": [
        "Use `backward()` to ask PyTorch to calculate gradients now:"
      ],
      "metadata": {
        "id": "zD7Ym5wiPRIa"
      }
    },
    {
      "cell_type": "code",
      "source": [
        "loss.backward()"
      ],
      "metadata": {
        "execution": {
          "iopub.status.busy": "2022-05-30T22:34:19.491601Z",
          "iopub.execute_input": "2022-05-30T22:34:19.49239Z",
          "iopub.status.idle": "2022-05-30T22:34:19.496556Z",
          "shell.execute_reply.started": "2022-05-30T22:34:19.492353Z",
          "shell.execute_reply": "2022-05-30T22:34:19.495831Z"
        },
        "trusted": true,
        "id": "mEPp9KlCPRIa"
      },
      "execution_count": null,
      "outputs": []
    },
    {
      "cell_type": "markdown",
      "source": [
        "Let's see what they look like:"
      ],
      "metadata": {
        "id": "jgWvU0FGPRIa"
      }
    },
    {
      "cell_type": "code",
      "source": [
        "coeffs.grad"
      ],
      "metadata": {
        "execution": {
          "iopub.status.busy": "2022-05-30T22:34:19.549651Z",
          "iopub.execute_input": "2022-05-30T22:34:19.550501Z",
          "iopub.status.idle": "2022-05-30T22:34:19.555905Z",
          "shell.execute_reply.started": "2022-05-30T22:34:19.550456Z",
          "shell.execute_reply": "2022-05-30T22:34:19.555257Z"
        },
        "trusted": true,
        "id": "vRV2msv3PRIa"
      },
      "execution_count": null,
      "outputs": []
    },
    {
      "cell_type": "markdown",
      "source": [
        "Note that each time we call `backward`, the gradients are actually *added* to whatever is in the `.grad` attribute. Let's try running the above steps again:"
      ],
      "metadata": {
        "id": "9HKD1QiyPRIa"
      }
    },
    {
      "cell_type": "code",
      "source": [
        "loss = calc_loss(coeffs, t_indep, t_dep)\n",
        "loss.backward()\n",
        "coeffs.grad"
      ],
      "metadata": {
        "execution": {
          "iopub.status.busy": "2022-05-30T22:34:19.60283Z",
          "iopub.execute_input": "2022-05-30T22:34:19.603236Z",
          "iopub.status.idle": "2022-05-30T22:34:19.610594Z",
          "shell.execute_reply.started": "2022-05-30T22:34:19.603206Z",
          "shell.execute_reply": "2022-05-30T22:34:19.609647Z"
        },
        "trusted": true,
        "id": "VtGhcVykPRIa"
      },
      "execution_count": null,
      "outputs": []
    },
    {
      "cell_type": "markdown",
      "source": [
        "As you see, our `.grad` values are have doubled. That's because it added the gradients a second time. For this reason, after we use the gradients to do a gradient descent step, we need to set them back to zero.\n",
        "\n",
        "We can now do one gradient descent step, and check that our loss decreases:"
      ],
      "metadata": {
        "id": "BsxggVVGPRIa"
      }
    },
    {
      "cell_type": "code",
      "source": [
        "loss = calc_loss(coeffs, t_indep, t_dep)\n",
        "loss.backward()\n",
        "with torch.no_grad():\n",
        "    coeffs.sub_(coeffs.grad * 0.1)\n",
        "    coeffs.grad.zero_()\n",
        "    print(calc_loss(coeffs, t_indep, t_dep))"
      ],
      "metadata": {
        "execution": {
          "iopub.status.busy": "2022-05-30T22:34:19.665238Z",
          "iopub.execute_input": "2022-05-30T22:34:19.665739Z",
          "iopub.status.idle": "2022-05-30T22:34:19.674839Z",
          "shell.execute_reply.started": "2022-05-30T22:34:19.665705Z",
          "shell.execute_reply": "2022-05-30T22:34:19.673727Z"
        },
        "trusted": true,
        "id": "Q8rLLcUIPRIa"
      },
      "execution_count": null,
      "outputs": []
    },
    {
      "cell_type": "markdown",
      "source": [
        "Note that `a.sub_(b)` subtracts `b` from `a` in-place. In PyTorch, any method that ends in `_` changes its object in-place. Similarly, `a.zero_()` sets all elements of a tensor to zero."
      ],
      "metadata": {
        "id": "MK5FYW5ePRIb"
      }
    },
    {
      "cell_type": "markdown",
      "source": [
        "## Training the linear model"
      ],
      "metadata": {
        "id": "W0hRExvCPRIb"
      }
    },
    {
      "cell_type": "markdown",
      "source": [
        "Before we begin training our model, we'll need to ensure that we hold out a validation set for calculating our metrics (for details on this, see \"[Getting started with NLP for absolute beginners](https://www.kaggle.com/code/jhoward/getting-started-with-nlp-for-absolute-beginners#Test-and-validation-sets)\".\n",
        "\n",
        "There's lots of different ways we can do this. In the next notebook we'll be comparing our approach here to what the fastai library does, so we'll want to ensure we split the data in the same way. So let's use `RandomSplitter` to get indices that will split our data into training and validation sets:"
      ],
      "metadata": {
        "id": "DiMyAnCePRIb"
      }
    },
    {
      "cell_type": "code",
      "source": [
        "from fastai.data.transforms import RandomSplitter\n",
        "trn_split,val_split=RandomSplitter(seed=42)(df)"
      ],
      "metadata": {
        "execution": {
          "iopub.status.busy": "2022-05-30T22:35:26.57605Z",
          "iopub.execute_input": "2022-05-30T22:35:26.57635Z",
          "iopub.status.idle": "2022-05-30T22:35:27.821258Z",
          "shell.execute_reply.started": "2022-05-30T22:35:26.57632Z",
          "shell.execute_reply": "2022-05-30T22:35:27.820329Z"
        },
        "trusted": true,
        "id": "nyemrdL2PRIb"
      },
      "execution_count": null,
      "outputs": []
    },
    {
      "cell_type": "markdown",
      "source": [
        "Now we can apply those indicies to our independent and dependent variables:"
      ],
      "metadata": {
        "id": "mscgKJPePRIb"
      }
    },
    {
      "cell_type": "code",
      "source": [
        "trn_indep,val_indep = t_indep[trn_split],t_indep[val_split]\n",
        "trn_dep,val_dep = t_dep[trn_split],t_dep[val_split]\n",
        "len(trn_indep),len(val_indep)"
      ],
      "metadata": {
        "execution": {
          "iopub.status.busy": "2022-05-30T22:35:27.822671Z",
          "iopub.execute_input": "2022-05-30T22:35:27.822887Z",
          "iopub.status.idle": "2022-05-30T22:35:27.836937Z",
          "shell.execute_reply.started": "2022-05-30T22:35:27.822859Z",
          "shell.execute_reply": "2022-05-30T22:35:27.836081Z"
        },
        "trusted": true,
        "id": "kewD2YDgPRIb"
      },
      "execution_count": null,
      "outputs": []
    },
    {
      "cell_type": "markdown",
      "source": [
        "We'll create functions for the three things we did manually above: updating `coeffs`, doing one full gradient descent step, and initilising `coeffs` to random numbers:"
      ],
      "metadata": {
        "id": "siLY4LNgPRIb"
      }
    },
    {
      "cell_type": "code",
      "source": [
        "def update_coeffs(coeffs, lr):\n",
        "    coeffs.sub_(coeffs.grad * lr)\n",
        "    coeffs.grad.zero_()"
      ],
      "metadata": {
        "execution": {
          "iopub.status.busy": "2022-05-30T22:35:35.028649Z",
          "iopub.execute_input": "2022-05-30T22:35:35.029177Z",
          "iopub.status.idle": "2022-05-30T22:35:35.034346Z",
          "shell.execute_reply.started": "2022-05-30T22:35:35.029143Z",
          "shell.execute_reply": "2022-05-30T22:35:35.033261Z"
        },
        "trusted": true,
        "id": "M9omIcdoPRIb"
      },
      "execution_count": null,
      "outputs": []
    },
    {
      "cell_type": "code",
      "source": [
        "def one_epoch(coeffs, lr):\n",
        "    loss = calc_loss(coeffs, trn_indep, trn_dep)\n",
        "    loss.backward()\n",
        "    with torch.no_grad(): update_coeffs(coeffs, lr)\n",
        "    print(f\"{loss:.3f}\", end=\"; \")"
      ],
      "metadata": {
        "execution": {
          "iopub.status.busy": "2022-05-30T22:35:35.633703Z",
          "iopub.execute_input": "2022-05-30T22:35:35.633995Z",
          "iopub.status.idle": "2022-05-30T22:35:35.639103Z",
          "shell.execute_reply.started": "2022-05-30T22:35:35.633964Z",
          "shell.execute_reply": "2022-05-30T22:35:35.63814Z"
        },
        "trusted": true,
        "id": "q_WSySK1PRIb"
      },
      "execution_count": null,
      "outputs": []
    },
    {
      "cell_type": "code",
      "source": [
        "def init_coeffs(): return (torch.rand(n_coeff)-0.5).requires_grad_()"
      ],
      "metadata": {
        "execution": {
          "iopub.status.busy": "2022-05-30T22:35:36.293565Z",
          "iopub.execute_input": "2022-05-30T22:35:36.293837Z",
          "iopub.status.idle": "2022-05-30T22:35:36.297457Z",
          "shell.execute_reply.started": "2022-05-30T22:35:36.293808Z",
          "shell.execute_reply": "2022-05-30T22:35:36.296816Z"
        },
        "trusted": true,
        "id": "onHtdKuVPRIb"
      },
      "execution_count": null,
      "outputs": []
    },
    {
      "cell_type": "markdown",
      "source": [
        "We can now use these functions to train our model:"
      ],
      "metadata": {
        "id": "nOK4yLViPRIb"
      }
    },
    {
      "cell_type": "code",
      "source": [
        "def train_model(epochs=30, lr=0.01):\n",
        "    torch.manual_seed(442)\n",
        "    coeffs = init_coeffs()\n",
        "    for i in range(epochs): one_epoch(coeffs, lr=lr)\n",
        "    return coeffs"
      ],
      "metadata": {
        "execution": {
          "iopub.status.busy": "2022-05-30T22:35:38.771827Z",
          "iopub.execute_input": "2022-05-30T22:35:38.772314Z",
          "iopub.status.idle": "2022-05-30T22:35:38.777313Z",
          "shell.execute_reply.started": "2022-05-30T22:35:38.772247Z",
          "shell.execute_reply": "2022-05-30T22:35:38.776439Z"
        },
        "trusted": true,
        "id": "LEA3bt5fPRIb"
      },
      "execution_count": null,
      "outputs": []
    },
    {
      "cell_type": "markdown",
      "source": [
        "Let's try it. Our loss will print at the end of every step, so we hope we'll see it going down:"
      ],
      "metadata": {
        "id": "rUFNSO_TPRIb"
      }
    },
    {
      "cell_type": "code",
      "source": [
        "coeffs = train_model(18, lr=0.2)"
      ],
      "metadata": {
        "execution": {
          "iopub.status.busy": "2022-05-30T22:36:14.16706Z",
          "iopub.execute_input": "2022-05-30T22:36:14.16788Z",
          "iopub.status.idle": "2022-05-30T22:36:14.181652Z",
          "shell.execute_reply.started": "2022-05-30T22:36:14.167812Z",
          "shell.execute_reply": "2022-05-30T22:36:14.180496Z"
        },
        "trusted": true,
        "id": "aLxyH5oPPRIb"
      },
      "execution_count": null,
      "outputs": []
    },
    {
      "cell_type": "markdown",
      "source": [
        "It does!\n",
        "\n",
        "Let's take a look at the coefficients for each column:"
      ],
      "metadata": {
        "id": "vV3vY5-5PRIb"
      }
    },
    {
      "cell_type": "code",
      "source": [
        "def show_coeffs(): return dict(zip(indep_cols, coeffs.requires_grad_(False)))\n",
        "show_coeffs()"
      ],
      "metadata": {
        "execution": {
          "iopub.status.busy": "2022-05-30T22:36:21.97957Z",
          "iopub.execute_input": "2022-05-30T22:36:21.980389Z",
          "iopub.status.idle": "2022-05-30T22:36:21.990088Z",
          "shell.execute_reply.started": "2022-05-30T22:36:21.98035Z",
          "shell.execute_reply": "2022-05-30T22:36:21.989021Z"
        },
        "trusted": true,
        "id": "m1lEv1cjPRIb"
      },
      "execution_count": null,
      "outputs": []
    },
    {
      "cell_type": "markdown",
      "source": [
        "## Measuring accuracy"
      ],
      "metadata": {
        "id": "7qDNo4X5PRIb"
      }
    },
    {
      "cell_type": "markdown",
      "source": [
        "The Kaggle competition is not, however, scored by absolute error (which is our loss function). It's scored by *accuracy* -- the proportion of rows where we correctly predict survival. Let's see how accurate we were on the validation set. First, calculate the predictions:"
      ],
      "metadata": {
        "id": "kVp1Mm5fPRIb"
      }
    },
    {
      "cell_type": "code",
      "source": [
        "preds = calc_preds(coeffs, val_indep)"
      ],
      "metadata": {
        "execution": {
          "iopub.status.busy": "2022-05-30T22:36:30.825856Z",
          "iopub.execute_input": "2022-05-30T22:36:30.826372Z",
          "iopub.status.idle": "2022-05-30T22:36:30.831613Z",
          "shell.execute_reply.started": "2022-05-30T22:36:30.826322Z",
          "shell.execute_reply": "2022-05-30T22:36:30.830756Z"
        },
        "trusted": true,
        "id": "H1U-qiHfPRIb"
      },
      "execution_count": null,
      "outputs": []
    },
    {
      "cell_type": "markdown",
      "source": [
        "We'll assume that any passenger with a score of over `0.5` is predicted to survive. So that means we're correct for each row where `preds>0.5` is the same as the dependent variable:"
      ],
      "metadata": {
        "id": "8y1GdGmfPRIb"
      }
    },
    {
      "cell_type": "code",
      "source": [
        "results = val_dep.bool()==(preds>0.5)\n",
        "results[:16]"
      ],
      "metadata": {
        "execution": {
          "iopub.status.busy": "2022-05-30T22:36:33.618455Z",
          "iopub.execute_input": "2022-05-30T22:36:33.618899Z",
          "iopub.status.idle": "2022-05-30T22:36:33.62703Z",
          "shell.execute_reply.started": "2022-05-30T22:36:33.618867Z",
          "shell.execute_reply": "2022-05-30T22:36:33.625949Z"
        },
        "trusted": true,
        "id": "EP7JWfUkPRIb"
      },
      "execution_count": null,
      "outputs": []
    },
    {
      "cell_type": "markdown",
      "source": [
        "Let's see what our average accuracy is:"
      ],
      "metadata": {
        "id": "YhPRi_XSPRIc"
      }
    },
    {
      "cell_type": "code",
      "source": [
        "results.float().mean()"
      ],
      "metadata": {
        "execution": {
          "iopub.status.busy": "2022-05-30T22:36:35.725112Z",
          "iopub.execute_input": "2022-05-30T22:36:35.725637Z",
          "iopub.status.idle": "2022-05-30T22:36:35.732969Z",
          "shell.execute_reply.started": "2022-05-30T22:36:35.725599Z",
          "shell.execute_reply": "2022-05-30T22:36:35.732241Z"
        },
        "trusted": true,
        "id": "VfmkOeq3PRIc"
      },
      "execution_count": null,
      "outputs": []
    },
    {
      "cell_type": "markdown",
      "source": [
        "That's not a bad start at all! We'll create a function so we can calcuate the accuracy easy for other models we train:"
      ],
      "metadata": {
        "id": "yhgVXYhBPRIc"
      }
    },
    {
      "cell_type": "code",
      "source": [
        "def acc(coeffs): return (val_dep.bool()==(calc_preds(coeffs, val_indep)>0.5)).float().mean()\n",
        "acc(coeffs)"
      ],
      "metadata": {
        "execution": {
          "iopub.status.busy": "2022-05-30T22:36:40.356043Z",
          "iopub.execute_input": "2022-05-30T22:36:40.356505Z",
          "iopub.status.idle": "2022-05-30T22:36:40.365187Z",
          "shell.execute_reply.started": "2022-05-30T22:36:40.356471Z",
          "shell.execute_reply": "2022-05-30T22:36:40.364153Z"
        },
        "trusted": true,
        "id": "PWq4fqdLPRIc"
      },
      "execution_count": null,
      "outputs": []
    },
    {
      "cell_type": "markdown",
      "source": [
        "## Using sigmoid"
      ],
      "metadata": {
        "id": "DeyKkbMQPRIc"
      }
    },
    {
      "cell_type": "markdown",
      "source": [
        "Looking at our predictions, there's one obvious problem -- some of our predictions of the probability of survival are `>1`, and some are `<0`:"
      ],
      "metadata": {
        "id": "weNgxjLfPRIc"
      }
    },
    {
      "cell_type": "code",
      "source": [
        "preds[:28]"
      ],
      "metadata": {
        "execution": {
          "iopub.status.busy": "2022-05-30T22:36:42.344533Z",
          "iopub.execute_input": "2022-05-30T22:36:42.344823Z",
          "iopub.status.idle": "2022-05-30T22:36:42.352948Z",
          "shell.execute_reply.started": "2022-05-30T22:36:42.344794Z",
          "shell.execute_reply": "2022-05-30T22:36:42.351968Z"
        },
        "trusted": true,
        "id": "tu9CJR_xPRIc"
      },
      "execution_count": null,
      "outputs": []
    },
    {
      "cell_type": "markdown",
      "source": [
        "To fix this, we should pass every prediction through the *sigmoid function*, which has a minimum at zero and maximum at one, and is defined as follows:"
      ],
      "metadata": {
        "id": "QTKcdJ62PRIc"
      }
    },
    {
      "cell_type": "code",
      "source": [
        "import sympy\n",
        "sympy.plot(\"1/(1+exp(-x))\", xlim=(-5,5));"
      ],
      "metadata": {
        "execution": {
          "iopub.status.busy": "2022-05-30T22:36:44.913101Z",
          "iopub.execute_input": "2022-05-30T22:36:44.914015Z",
          "iopub.status.idle": "2022-05-30T22:36:46.311818Z",
          "shell.execute_reply.started": "2022-05-30T22:36:44.913968Z",
          "shell.execute_reply": "2022-05-30T22:36:46.311008Z"
        },
        "trusted": true,
        "id": "FQh6EwDKPRIc"
      },
      "execution_count": null,
      "outputs": []
    },
    {
      "cell_type": "markdown",
      "source": [
        "PyTorch already defines that function for us, so we can modify `calc_preds` to use it:"
      ],
      "metadata": {
        "id": "AlG1UNLZPRIc"
      }
    },
    {
      "cell_type": "code",
      "source": [
        "def calc_preds(coeffs, indeps): return torch.sigmoid((indeps*coeffs).sum(axis=1))"
      ],
      "metadata": {
        "execution": {
          "iopub.status.busy": "2022-05-30T22:36:46.313435Z",
          "iopub.execute_input": "2022-05-30T22:36:46.313644Z",
          "iopub.status.idle": "2022-05-30T22:36:46.317749Z",
          "shell.execute_reply.started": "2022-05-30T22:36:46.313618Z",
          "shell.execute_reply": "2022-05-30T22:36:46.3169Z"
        },
        "trusted": true,
        "id": "eh_qbyarPRIc"
      },
      "execution_count": null,
      "outputs": []
    },
    {
      "cell_type": "markdown",
      "source": [
        "Let's train a new model now, using this updated function to calculate predictions:"
      ],
      "metadata": {
        "id": "-HUO2bqkPRIc"
      }
    },
    {
      "cell_type": "code",
      "source": [
        "coeffs = train_model(lr=100)"
      ],
      "metadata": {
        "execution": {
          "iopub.status.busy": "2022-05-30T22:38:23.225051Z",
          "iopub.execute_input": "2022-05-30T22:38:23.22576Z",
          "iopub.status.idle": "2022-05-30T22:38:23.250206Z",
          "shell.execute_reply.started": "2022-05-30T22:38:23.225722Z",
          "shell.execute_reply": "2022-05-30T22:38:23.249321Z"
        },
        "trusted": true,
        "id": "nDt7rXcNPRIc"
      },
      "execution_count": null,
      "outputs": []
    },
    {
      "cell_type": "markdown",
      "source": [
        "The loss has improved by a lot. Let's check the accuracy:"
      ],
      "metadata": {
        "id": "-RBMwTYdPRIc"
      }
    },
    {
      "cell_type": "code",
      "source": [
        "acc(coeffs)"
      ],
      "metadata": {
        "execution": {
          "iopub.status.busy": "2022-05-30T22:38:28.518642Z",
          "iopub.execute_input": "2022-05-30T22:38:28.519132Z",
          "iopub.status.idle": "2022-05-30T22:38:28.527145Z",
          "shell.execute_reply.started": "2022-05-30T22:38:28.519078Z",
          "shell.execute_reply": "2022-05-30T22:38:28.526248Z"
        },
        "trusted": true,
        "id": "gP7uxwE2PRIc"
      },
      "execution_count": null,
      "outputs": []
    },
    {
      "cell_type": "markdown",
      "source": [
        "That's improved too! Here's the coefficients of our trained model:"
      ],
      "metadata": {
        "id": "HA0kIzrRPRIc"
      }
    },
    {
      "cell_type": "code",
      "source": [
        "show_coeffs()"
      ],
      "metadata": {
        "execution": {
          "iopub.status.busy": "2022-05-30T22:38:32.015953Z",
          "iopub.execute_input": "2022-05-30T22:38:32.01697Z",
          "iopub.status.idle": "2022-05-30T22:38:32.02724Z",
          "shell.execute_reply.started": "2022-05-30T22:38:32.016924Z",
          "shell.execute_reply": "2022-05-30T22:38:32.026125Z"
        },
        "trusted": true,
        "id": "Zy5XpCdAPRIc"
      },
      "execution_count": null,
      "outputs": []
    },
    {
      "cell_type": "markdown",
      "source": [
        "These coefficients seem reasonable -- in general, older people and males were less likely to survive, and first class passengers were more likely to survive."
      ],
      "metadata": {
        "id": "RysiiqfRPRIc"
      }
    },
    {
      "cell_type": "markdown",
      "source": [
        "## Submitting to Kaggle"
      ],
      "metadata": {
        "id": "8Gsx47CbPRIc"
      }
    },
    {
      "cell_type": "markdown",
      "source": [
        "Now that we've got a trained model, we can prepare a submission to Kaggle. To do that, first we need to read the test set:"
      ],
      "metadata": {
        "id": "ERecBi9fPRIc"
      }
    },
    {
      "cell_type": "code",
      "source": [
        "tst_df = pd.read_csv(path/'test.csv')"
      ],
      "metadata": {
        "execution": {
          "iopub.status.busy": "2022-05-30T22:38:35.172343Z",
          "iopub.execute_input": "2022-05-30T22:38:35.172909Z",
          "iopub.status.idle": "2022-05-30T22:38:35.188597Z",
          "shell.execute_reply.started": "2022-05-30T22:38:35.172873Z",
          "shell.execute_reply": "2022-05-30T22:38:35.187826Z"
        },
        "trusted": true,
        "id": "zpt4gxrPPRIc"
      },
      "execution_count": null,
      "outputs": []
    },
    {
      "cell_type": "markdown",
      "source": [
        "In this case, it turns out that the test set is missing `Fare` for one passenger. We'll just fill it with `0` to avoid problems:"
      ],
      "metadata": {
        "id": "pRpcNATqPRIc"
      }
    },
    {
      "cell_type": "code",
      "source": [
        "tst_df['Fare'] = tst_df.Fare.fillna(0)"
      ],
      "metadata": {
        "execution": {
          "iopub.status.busy": "2022-05-30T22:38:36.352687Z",
          "iopub.execute_input": "2022-05-30T22:38:36.353392Z",
          "iopub.status.idle": "2022-05-30T22:38:36.358237Z",
          "shell.execute_reply.started": "2022-05-30T22:38:36.353355Z",
          "shell.execute_reply": "2022-05-30T22:38:36.35739Z"
        },
        "trusted": true,
        "id": "VcnQ-5oaPRIc"
      },
      "execution_count": null,
      "outputs": []
    },
    {
      "cell_type": "markdown",
      "source": [
        "Now we can just copy the same steps we did to our training set and do the same exact things on our test set to preprocess the data:"
      ],
      "metadata": {
        "id": "nwTlll7qPRIc"
      }
    },
    {
      "cell_type": "code",
      "source": [
        "tst_df.fillna(modes, inplace=True)\n",
        "tst_df['LogFare'] = np.log(tst_df['Fare']+1)\n",
        "tst_df = pd.get_dummies(tst_df, columns=[\"Sex\",\"Pclass\",\"Embarked\"])\n",
        "\n",
        "tst_indep = tensor(tst_df[indep_cols].values, dtype=torch.float)\n",
        "tst_indep = tst_indep / vals"
      ],
      "metadata": {
        "execution": {
          "iopub.status.busy": "2022-05-30T22:38:38.198257Z",
          "iopub.execute_input": "2022-05-30T22:38:38.198549Z",
          "iopub.status.idle": "2022-05-30T22:38:38.220592Z",
          "shell.execute_reply.started": "2022-05-30T22:38:38.198519Z",
          "shell.execute_reply": "2022-05-30T22:38:38.219629Z"
        },
        "trusted": true,
        "id": "DxsfcD4RPRId"
      },
      "execution_count": null,
      "outputs": []
    },
    {
      "cell_type": "markdown",
      "source": [
        "Let's calculate our predictions of which passengers survived in the test set:"
      ],
      "metadata": {
        "id": "oRlPB2xyPRId"
      }
    },
    {
      "cell_type": "code",
      "source": [
        "tst_df['Survived'] = (calc_preds(tst_indep, coeffs)>0.5).int()"
      ],
      "metadata": {
        "execution": {
          "iopub.status.busy": "2022-05-30T22:38:39.206216Z",
          "iopub.execute_input": "2022-05-30T22:38:39.206547Z",
          "iopub.status.idle": "2022-05-30T22:38:39.212386Z",
          "shell.execute_reply.started": "2022-05-30T22:38:39.206512Z",
          "shell.execute_reply": "2022-05-30T22:38:39.211631Z"
        },
        "trusted": true,
        "id": "Qm4nsufYPRId"
      },
      "execution_count": null,
      "outputs": []
    },
    {
      "cell_type": "markdown",
      "source": [
        "The sample submission on the Kaggle competition site shows that we're expected to upload a CSV with just `PassengerId` and `Survived`, so let's create that and save it:"
      ],
      "metadata": {
        "id": "8__RD9QfPRId"
      }
    },
    {
      "cell_type": "code",
      "source": [
        "sub_df = tst_df[['PassengerId','Survived']]\n",
        "sub_df.to_csv('sub.csv', index=False)"
      ],
      "metadata": {
        "execution": {
          "iopub.status.busy": "2022-05-30T22:38:40.161034Z",
          "iopub.execute_input": "2022-05-30T22:38:40.161382Z",
          "iopub.status.idle": "2022-05-30T22:38:40.173242Z",
          "shell.execute_reply.started": "2022-05-30T22:38:40.161336Z",
          "shell.execute_reply": "2022-05-30T22:38:40.17258Z"
        },
        "trusted": true,
        "id": "lCXacDMkPRId"
      },
      "execution_count": null,
      "outputs": []
    },
    {
      "cell_type": "markdown",
      "source": [
        "We can check the first few rows of the file to make sure it looks reasonable:"
      ],
      "metadata": {
        "id": "t4fz5WFsPRId"
      }
    },
    {
      "cell_type": "code",
      "source": [
        "!head sub.csv"
      ],
      "metadata": {
        "execution": {
          "iopub.status.busy": "2022-05-30T22:38:42.86855Z",
          "iopub.execute_input": "2022-05-30T22:38:42.869402Z",
          "iopub.status.idle": "2022-05-30T22:38:43.638832Z",
          "shell.execute_reply.started": "2022-05-30T22:38:42.869362Z",
          "shell.execute_reply": "2022-05-30T22:38:43.637559Z"
        },
        "trusted": true,
        "id": "02Cztex9PRId"
      },
      "execution_count": null,
      "outputs": []
    },
    {
      "cell_type": "markdown",
      "source": [
        "When you click \"save version\" in Kaggle, and wait for the notebook to run, you'll see that `sub.csv` appears in the \"Data\" tab. Clicking on that file will show a *Submit* button, which allows you to submit to the competition."
      ],
      "metadata": {
        "id": "gBv5xMXqPRId"
      }
    },
    {
      "cell_type": "markdown",
      "source": [
        "## Using matrix product"
      ],
      "metadata": {
        "id": "A4QqyntxPRId"
      }
    },
    {
      "cell_type": "markdown",
      "source": [
        "We can make things quite a bit neater...\n",
        "\n",
        "Take a look at the inner-most calculation we're doing to get the predictions:"
      ],
      "metadata": {
        "id": "kDYY1cJLPRId"
      }
    },
    {
      "cell_type": "code",
      "source": [
        "(val_indep*coeffs).sum(axis=1)"
      ],
      "metadata": {
        "execution": {
          "iopub.status.busy": "2022-05-30T22:38:48.247768Z",
          "iopub.execute_input": "2022-05-30T22:38:48.248084Z",
          "iopub.status.idle": "2022-05-30T22:38:48.258935Z",
          "shell.execute_reply.started": "2022-05-30T22:38:48.248052Z",
          "shell.execute_reply": "2022-05-30T22:38:48.258184Z"
        },
        "trusted": true,
        "id": "yRGKdHbhPRId"
      },
      "execution_count": null,
      "outputs": []
    },
    {
      "cell_type": "markdown",
      "source": [
        "Multiplying elements together and then adding across rows is identical to doing a matrix-vector product! Python uses the `@` operator to indicate matrix products, and is supported by PyTorch tensors. Therefore, we can replicate the above calculate more simply like so:"
      ],
      "metadata": {
        "id": "lsITBiKLPRId"
      }
    },
    {
      "cell_type": "code",
      "source": [
        "val_indep@coeffs"
      ],
      "metadata": {
        "execution": {
          "iopub.status.busy": "2022-05-30T22:38:51.959362Z",
          "iopub.execute_input": "2022-05-30T22:38:51.959798Z",
          "iopub.status.idle": "2022-05-30T22:38:51.97614Z",
          "shell.execute_reply.started": "2022-05-30T22:38:51.959765Z",
          "shell.execute_reply": "2022-05-30T22:38:51.975461Z"
        },
        "trusted": true,
        "id": "C3fIn_3wPRId"
      },
      "execution_count": null,
      "outputs": []
    },
    {
      "cell_type": "markdown",
      "source": [
        "It also turns out that this is much faster, because matrix products in PyTorch are very highly optimised.\n",
        "\n",
        "Let's use this to replace how `calc_preds` works:"
      ],
      "metadata": {
        "id": "DcaplIrCPRId"
      }
    },
    {
      "cell_type": "code",
      "source": [
        "def calc_preds(coeffs, indeps): return torch.sigmoid(indeps@coeffs)"
      ],
      "metadata": {
        "execution": {
          "iopub.status.busy": "2022-05-30T22:38:56.321807Z",
          "iopub.execute_input": "2022-05-30T22:38:56.322255Z",
          "iopub.status.idle": "2022-05-30T22:38:56.326812Z",
          "shell.execute_reply.started": "2022-05-30T22:38:56.322213Z",
          "shell.execute_reply": "2022-05-30T22:38:56.32606Z"
        },
        "trusted": true,
        "id": "DmxUosCaPRId"
      },
      "execution_count": null,
      "outputs": []
    },
    {
      "cell_type": "markdown",
      "source": [
        "In order to do matrix-matrix products (which we'll need in the next section), we need to turn `coeffs` into a column vector (i.e. a matrix with a single column), which we can do by passing a second argument `1` to `torch.rand()`, indicating that we want our coefficients to have one column:"
      ],
      "metadata": {
        "id": "VUUTA2ZRPRId"
      }
    },
    {
      "cell_type": "code",
      "source": [
        "def init_coeffs(): return (torch.rand(n_coeff, 1)*0.1).requires_grad_()"
      ],
      "metadata": {
        "execution": {
          "iopub.status.busy": "2022-05-30T22:38:58.895467Z",
          "iopub.execute_input": "2022-05-30T22:38:58.895779Z",
          "iopub.status.idle": "2022-05-30T22:38:58.900851Z",
          "shell.execute_reply.started": "2022-05-30T22:38:58.895744Z",
          "shell.execute_reply": "2022-05-30T22:38:58.899931Z"
        },
        "trusted": true,
        "id": "X7xyL_qSPRId"
      },
      "execution_count": null,
      "outputs": []
    },
    {
      "cell_type": "markdown",
      "source": [
        "We'll also need to turn our dependent variable into a column vector, which we can do by indexing the column dimension with the special value `None`, which tells PyTorch to add a new dimension in this position:"
      ],
      "metadata": {
        "id": "2E6E7hsDPRId"
      }
    },
    {
      "cell_type": "code",
      "source": [
        "trn_dep = trn_dep[:,None]\n",
        "val_dep = val_dep[:,None]"
      ],
      "metadata": {
        "execution": {
          "iopub.status.busy": "2022-05-30T22:38:59.788799Z",
          "iopub.execute_input": "2022-05-30T22:38:59.789678Z",
          "iopub.status.idle": "2022-05-30T22:38:59.794227Z",
          "shell.execute_reply.started": "2022-05-30T22:38:59.789625Z",
          "shell.execute_reply": "2022-05-30T22:38:59.793326Z"
        },
        "trusted": true,
        "id": "DAjMZgwdPRId"
      },
      "execution_count": null,
      "outputs": []
    },
    {
      "cell_type": "markdown",
      "source": [
        "We can now train our model as before and confirm we get identical outputs...:"
      ],
      "metadata": {
        "id": "7NtTSSJsPRId"
      }
    },
    {
      "cell_type": "code",
      "source": [
        "coeffs = train_model(lr=100)"
      ],
      "metadata": {
        "execution": {
          "iopub.status.busy": "2022-05-30T22:39:38.070545Z",
          "iopub.execute_input": "2022-05-30T22:39:38.071003Z",
          "iopub.status.idle": "2022-05-30T22:39:38.094666Z",
          "shell.execute_reply.started": "2022-05-30T22:39:38.070972Z",
          "shell.execute_reply": "2022-05-30T22:39:38.093641Z"
        },
        "trusted": true,
        "id": "SrW_sFe0PRId"
      },
      "execution_count": null,
      "outputs": []
    },
    {
      "cell_type": "markdown",
      "source": [
        "...and identical accuracy:"
      ],
      "metadata": {
        "id": "HSmdFdRdPRId"
      }
    },
    {
      "cell_type": "code",
      "source": [
        "acc(coeffs)"
      ],
      "metadata": {
        "execution": {
          "iopub.status.busy": "2022-05-30T22:39:40.463301Z",
          "iopub.execute_input": "2022-05-30T22:39:40.463735Z",
          "iopub.status.idle": "2022-05-30T22:39:40.469684Z",
          "shell.execute_reply.started": "2022-05-30T22:39:40.463702Z",
          "shell.execute_reply": "2022-05-30T22:39:40.468652Z"
        },
        "trusted": true,
        "id": "tVuib8sAPRId"
      },
      "execution_count": null,
      "outputs": []
    },
    {
      "cell_type": "markdown",
      "source": [
        "## A neural network"
      ],
      "metadata": {
        "id": "LFEWOWPsPRIe"
      }
    },
    {
      "cell_type": "markdown",
      "source": [
        "We've now got what we need to implement our neural network.\n",
        "\n",
        "First, we'll need to create coefficients for each of our layers. Our first set of coefficients will take our `n_coeff` inputs, and create `n_hidden` outputs. We can choose whatever `n_hidden` we like -- a higher number gives our network more flexibility, but makes it slower and harder to train. So we need a matrix of size `n_coeff` by `n_hidden`. We'll divide these coefficients by `n_hidden` so that when we sum them up in the next layer we'll end up with similar magnitude numbers to what we started with.\n",
        "\n",
        "Then our second layer will need to take the `n_hidden` inputs and create a single output, so that means we need a `n_hidden` by `1` matrix there. The second layer will also need a constant term added."
      ],
      "metadata": {
        "id": "DmjEQx8LPRIe"
      }
    },
    {
      "cell_type": "code",
      "source": [
        "def init_coeffs(n_hidden=20):\n",
        "    layer1 = (torch.rand(n_coeff, n_hidden)-0.5)/n_hidden\n",
        "    layer2 = torch.rand(n_hidden, 1)-0.3\n",
        "    const = torch.rand(1)[0]\n",
        "    return layer1.requires_grad_(),layer2.requires_grad_(),const.requires_grad_()"
      ],
      "metadata": {
        "execution": {
          "iopub.status.busy": "2022-05-30T22:39:44.428254Z",
          "iopub.execute_input": "2022-05-30T22:39:44.428599Z",
          "iopub.status.idle": "2022-05-30T22:39:44.434009Z",
          "shell.execute_reply.started": "2022-05-30T22:39:44.428563Z",
          "shell.execute_reply": "2022-05-30T22:39:44.433164Z"
        },
        "trusted": true,
        "id": "b8ip3LFMPRIe"
      },
      "execution_count": null,
      "outputs": []
    },
    {
      "cell_type": "markdown",
      "source": [
        "Now we have our coefficients, we can create our neural net. The key steps are the two matrix products, `indeps@l1` and `res@l2` (where `res` is the output of the first layer). The first layer output is passed to `F.relu` (that's our non-linearity), and the second is passed to `torch.sigmoid` as before."
      ],
      "metadata": {
        "id": "HL2pBYN6PRIe"
      }
    },
    {
      "cell_type": "code",
      "source": [
        "import torch.nn.functional as F\n",
        "\n",
        "def calc_preds(coeffs, indeps):\n",
        "    l1,l2,const = coeffs\n",
        "    res = F.relu(indeps@l1)\n",
        "    res = res@l2 + const\n",
        "    return torch.sigmoid(res)"
      ],
      "metadata": {
        "execution": {
          "iopub.status.busy": "2022-05-30T22:39:45.302573Z",
          "iopub.execute_input": "2022-05-30T22:39:45.302903Z",
          "iopub.status.idle": "2022-05-30T22:39:45.309472Z",
          "shell.execute_reply.started": "2022-05-30T22:39:45.302864Z",
          "shell.execute_reply": "2022-05-30T22:39:45.308498Z"
        },
        "trusted": true,
        "id": "s6VFE-NnPRIe"
      },
      "execution_count": null,
      "outputs": []
    },
    {
      "cell_type": "markdown",
      "source": [
        "Finally, now that we have more than one set of coefficients, we need to add a loop to update each one:"
      ],
      "metadata": {
        "id": "jgRCN0ZlPRIe"
      }
    },
    {
      "cell_type": "code",
      "source": [
        "def update_coeffs(coeffs, lr):\n",
        "    for layer in coeffs:\n",
        "        layer.sub_(layer.grad * lr)\n",
        "        layer.grad.zero_()"
      ],
      "metadata": {
        "execution": {
          "iopub.status.busy": "2022-05-30T22:39:55.3665Z",
          "iopub.execute_input": "2022-05-30T22:39:55.366945Z",
          "iopub.status.idle": "2022-05-30T22:39:55.371578Z",
          "shell.execute_reply.started": "2022-05-30T22:39:55.366914Z",
          "shell.execute_reply": "2022-05-30T22:39:55.370699Z"
        },
        "trusted": true,
        "id": "tAtsyXzIPRIe"
      },
      "execution_count": null,
      "outputs": []
    },
    {
      "cell_type": "markdown",
      "source": [
        "That's it -- we're now ready to train our model!"
      ],
      "metadata": {
        "id": "Jhkve6n-PRIe"
      }
    },
    {
      "cell_type": "code",
      "source": [
        "coeffs = train_model(lr=1.4)"
      ],
      "metadata": {
        "execution": {
          "iopub.status.busy": "2022-05-30T22:39:58.189651Z",
          "iopub.execute_input": "2022-05-30T22:39:58.189982Z",
          "iopub.status.idle": "2022-05-30T22:39:58.227202Z",
          "shell.execute_reply.started": "2022-05-30T22:39:58.189951Z",
          "shell.execute_reply": "2022-05-30T22:39:58.226226Z"
        },
        "trusted": true,
        "id": "smsbFsYmPRIe"
      },
      "execution_count": null,
      "outputs": []
    },
    {
      "cell_type": "code",
      "source": [
        "coeffs = train_model(lr=20)"
      ],
      "metadata": {
        "execution": {
          "iopub.status.busy": "2022-05-30T22:40:16.337512Z",
          "iopub.execute_input": "2022-05-30T22:40:16.338016Z",
          "iopub.status.idle": "2022-05-30T22:40:16.368327Z",
          "shell.execute_reply.started": "2022-05-30T22:40:16.337959Z",
          "shell.execute_reply": "2022-05-30T22:40:16.367439Z"
        },
        "trusted": true,
        "id": "REBp7wM3PRIe"
      },
      "execution_count": null,
      "outputs": []
    },
    {
      "cell_type": "markdown",
      "source": [
        "It's looking good -- our loss is lower than before. Let's see if that translates to a better result on the validation set:"
      ],
      "metadata": {
        "id": "SwVfucJqPRIe"
      }
    },
    {
      "cell_type": "code",
      "source": [
        "acc(coeffs)"
      ],
      "metadata": {
        "execution": {
          "iopub.status.busy": "2022-05-30T22:40:18.644153Z",
          "iopub.execute_input": "2022-05-30T22:40:18.644458Z",
          "iopub.status.idle": "2022-05-30T22:40:18.651372Z",
          "shell.execute_reply.started": "2022-05-30T22:40:18.644427Z",
          "shell.execute_reply": "2022-05-30T22:40:18.650102Z"
        },
        "trusted": true,
        "id": "7nvi-zpKPRIe"
      },
      "execution_count": null,
      "outputs": []
    },
    {
      "cell_type": "markdown",
      "source": [
        "In this case our neural net isn't showing better results than the linear model. That's not surprising; this dataset is very small and very simple, and isn't the kind of thing we'd expect to see neural networks excel at. Furthermore, our validation set is too small to reliably see much accuracy difference. But the key thing is that we now know exactly what a real neural net looks like!"
      ],
      "metadata": {
        "id": "W1d77O6BPRIe"
      }
    },
    {
      "cell_type": "markdown",
      "source": [
        "## Deep learning"
      ],
      "metadata": {
        "id": "8rSVduj8PRIe"
      }
    },
    {
      "cell_type": "markdown",
      "source": [
        "The neural net in the previous section only uses one hidden layer, so it doesn't count as \"deep\" learning. But we can use the exact same technique to make our neural net deep, by adding more matrix multiplications.\n",
        "\n",
        "First, we'll need to create additional coefficients for each layer:"
      ],
      "metadata": {
        "id": "Sk9nZ0OzPRIe"
      }
    },
    {
      "cell_type": "code",
      "source": [
        "def init_coeffs():\n",
        "    hiddens = [10, 10]  # <-- set this to the size of each hidden layer you want\n",
        "    sizes = [n_coeff] + hiddens + [1]\n",
        "    n = len(sizes)\n",
        "    layers = [(torch.rand(sizes[i], sizes[i+1])-0.3)/sizes[i+1]*4 for i in range(n-1)]\n",
        "    consts = [(torch.rand(1)[0]-0.5)*0.1 for i in range(n-1)]\n",
        "    for l in layers+consts: l.requires_grad_()\n",
        "    return layers,consts"
      ],
      "metadata": {
        "execution": {
          "iopub.status.busy": "2022-05-30T22:40:55.25457Z",
          "iopub.execute_input": "2022-05-30T22:40:55.255291Z",
          "iopub.status.idle": "2022-05-30T22:40:55.261806Z",
          "shell.execute_reply.started": "2022-05-30T22:40:55.255242Z",
          "shell.execute_reply": "2022-05-30T22:40:55.261271Z"
        },
        "trusted": true,
        "id": "VxaN6Yy-PRIe"
      },
      "execution_count": null,
      "outputs": []
    },
    {
      "cell_type": "markdown",
      "source": [
        "You'll notice here that there's a lot of messy constants to get the random numbers in just the right ranges. When you train the model in a moment, you'll see that the tiniest changes to these initialisations can cause our model to fail to train at all! This is a key reason that deep learning failed to make much progress in the early days -- it's very finicky to get a good starting point for our coefficients. Nowadays, we have ways to deal with that, which we'll learn about in other notebooks.\n",
        "\n",
        "Our deep learning `calc_preds` looks much the same as before, but now we loop through each layer, instead of listing them separately:"
      ],
      "metadata": {
        "id": "XRZw_qoEPRIe"
      }
    },
    {
      "cell_type": "code",
      "source": [
        "import torch.nn.functional as F\n",
        "\n",
        "def calc_preds(coeffs, indeps):\n",
        "    layers,consts = coeffs\n",
        "    n = len(layers)\n",
        "    res = indeps\n",
        "    for i,l in enumerate(layers):\n",
        "        res = res@l + consts[i]\n",
        "        if i!=n-1: res = F.relu(res)\n",
        "    return torch.sigmoid(res)"
      ],
      "metadata": {
        "execution": {
          "iopub.status.busy": "2022-05-30T22:40:57.610142Z",
          "iopub.execute_input": "2022-05-30T22:40:57.610974Z",
          "iopub.status.idle": "2022-05-30T22:40:57.618154Z",
          "shell.execute_reply.started": "2022-05-30T22:40:57.610916Z",
          "shell.execute_reply": "2022-05-30T22:40:57.617329Z"
        },
        "trusted": true,
        "id": "UBHg7ORXPRIe"
      },
      "execution_count": null,
      "outputs": []
    },
    {
      "cell_type": "markdown",
      "source": [
        "We also need a minor update to `update_coeffs` since we've got `layers` and `consts` separated now:"
      ],
      "metadata": {
        "id": "g9Pyb_sSPRIe"
      }
    },
    {
      "cell_type": "code",
      "source": [
        "def update_coeffs(coeffs, lr):\n",
        "    layers,consts = coeffs\n",
        "    for layer in layers+consts:\n",
        "        layer.sub_(layer.grad * lr)\n",
        "        layer.grad.zero_()"
      ],
      "metadata": {
        "execution": {
          "iopub.status.busy": "2022-05-30T22:41:08.512494Z",
          "iopub.execute_input": "2022-05-30T22:41:08.513049Z",
          "iopub.status.idle": "2022-05-30T22:41:08.519219Z",
          "shell.execute_reply.started": "2022-05-30T22:41:08.512999Z",
          "shell.execute_reply": "2022-05-30T22:41:08.518093Z"
        },
        "trusted": true,
        "id": "4SYF59YzPRIe"
      },
      "execution_count": null,
      "outputs": []
    },
    {
      "cell_type": "markdown",
      "source": [
        "Let's train our model..."
      ],
      "metadata": {
        "id": "WxoNPpfkPRIe"
      }
    },
    {
      "cell_type": "code",
      "source": [
        "coeffs = train_model(lr=4)"
      ],
      "metadata": {
        "execution": {
          "iopub.status.busy": "2022-05-30T22:41:23.632516Z",
          "iopub.execute_input": "2022-05-30T22:41:23.633004Z",
          "iopub.status.idle": "2022-05-30T22:41:23.666981Z",
          "shell.execute_reply.started": "2022-05-30T22:41:23.632953Z",
          "shell.execute_reply": "2022-05-30T22:41:23.666048Z"
        },
        "trusted": true,
        "id": "OetDtmemPRIe"
      },
      "execution_count": null,
      "outputs": []
    },
    {
      "cell_type": "markdown",
      "source": [
        "...and check its accuracy:"
      ],
      "metadata": {
        "id": "Il9xha5uPRIe"
      }
    },
    {
      "cell_type": "code",
      "source": [
        "acc(coeffs)"
      ],
      "metadata": {
        "execution": {
          "iopub.status.busy": "2022-05-30T22:41:25.490656Z",
          "iopub.execute_input": "2022-05-30T22:41:25.491182Z",
          "iopub.status.idle": "2022-05-30T22:41:25.497888Z",
          "shell.execute_reply.started": "2022-05-30T22:41:25.491146Z",
          "shell.execute_reply": "2022-05-30T22:41:25.49695Z"
        },
        "trusted": true,
        "id": "jI2JI2S3PRIf"
      },
      "execution_count": null,
      "outputs": []
    },
    {
      "cell_type": "markdown",
      "source": [
        "## Final thoughts"
      ],
      "metadata": {
        "id": "GJSrGf6iPRIf"
      }
    },
    {
      "cell_type": "markdown",
      "source": [
        "It's actually pretty cool that we've managed to create a real deep learning model from scratch and trained it to get over 80% accuracy on this task, all in the course of a single notebook!\n",
        "\n",
        "The \"real\" deep learning models that are used in research and industry look very similar to this, and in fact if you look inside the source code of any deep learning model you'll recognise the basic steps are the same.\n",
        "\n",
        "The biggest differences in practical models to what we have above are:\n",
        "\n",
        "- How initialisation and normalisation is done to ensure the model trains correctly every time\n",
        "- Regularization (to avoid over-fitting)\n",
        "- Modifying the neural net itself to take advantage of knowledge of the problem domain\n",
        "- Doing gradient descent steps on smaller batches, rather than the whole dataset.\n",
        "\n",
        "I'll be adding notebooks about all these later, and will add links here once they're ready.\n",
        "\n",
        "If you found this notebook useful, please remember to click the little up-arrow at the top to upvote it, since I like to know when people have found my work useful, and it helps others find it too. (BTW, be sure you're looking at my [original notebook here](https://www.kaggle.com/code/jhoward/linear-model-and-neural-net-from-scratch) when you do that, and are not on your own copy of it, otherwise your upvote won't get counted!) And if you have any questions or comments, please pop them below -- I read every comment I receive!"
      ],
      "metadata": {
        "id": "seBzSI8aPRIf"
      }
    },
    {
      "cell_type": "code",
      "source": [],
      "metadata": {
        "id": "n0p0G08sPRIf"
      },
      "execution_count": null,
      "outputs": []
    }
  ]
}